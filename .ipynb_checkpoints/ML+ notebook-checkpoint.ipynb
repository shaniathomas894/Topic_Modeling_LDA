{
 "cells": [
  {
   "cell_type": "markdown",
   "id": "dca83042-c4da-454f-bab3-8a9b0dba8c68",
   "metadata": {},
   "source": [
    "## Following the workflow from https://www.machinelearningplus.com/nlp/topic-modeling-visualization-how-to-present-results-lda-models/#5.-Build-the-Topic-Model"
   ]
  },
  {
   "cell_type": "code",
   "execution_count": 1,
   "id": "253ed8c1-6436-4e3a-9b77-8894a2906de8",
   "metadata": {},
   "outputs": [],
   "source": [
    "# !pip install -U pip setuptools wheel\n",
    "# !pip install -U spacy\n",
    "# !python -m spacy download en_core_web_sm"
   ]
  },
  {
   "cell_type": "code",
   "execution_count": 4,
   "id": "6bfebbb2-06c5-4bf5-a27a-a82b32416b1c",
   "metadata": {},
   "outputs": [
    {
     "name": "stdout",
     "output_type": "stream",
     "text": [
      "Requirement already satisfied: nltk in /opt/conda/lib/python3.7/site-packages (3.7)\n",
      "Requirement already satisfied: regex>=2021.8.3 in /opt/conda/lib/python3.7/site-packages (from nltk) (2022.3.15)\n",
      "Requirement already satisfied: joblib in /opt/conda/lib/python3.7/site-packages (from nltk) (1.1.0)\n",
      "Requirement already satisfied: click in /opt/conda/lib/python3.7/site-packages (from nltk) (8.0.3)\n",
      "Requirement already satisfied: tqdm in /opt/conda/lib/python3.7/site-packages (from nltk) (4.62.3)\n",
      "Requirement already satisfied: importlib-metadata in /opt/conda/lib/python3.7/site-packages (from click->nltk) (4.9.0)\n",
      "Requirement already satisfied: zipp>=0.5 in /opt/conda/lib/python3.7/site-packages (from importlib-metadata->click->nltk) (3.6.0)\n",
      "Requirement already satisfied: typing-extensions>=3.6.4 in /opt/conda/lib/python3.7/site-packages (from importlib-metadata->click->nltk) (3.10.0.2)\n"
     ]
    }
   ],
   "source": [
    "#!pip install nltk"
   ]
  },
  {
   "cell_type": "code",
   "execution_count": 6,
   "id": "94655bfc-c641-45c5-8106-7752d63ddee1",
   "metadata": {
    "tags": []
   },
   "outputs": [
    {
     "name": "stderr",
     "output_type": "stream",
     "text": [
      "[nltk_data] Downloading package stopwords to\n",
      "[nltk_data]     /home/jupyter/nltk_data...\n",
      "[nltk_data]   Package stopwords is already up-to-date!\n"
     ]
    }
   ],
   "source": [
    "import sys\n",
    "# !{sys.executable} -m spacy download en\n",
    "import re, numpy as np, pandas as pd\n",
    "from pprint import pprint\n",
    "\n",
    "# Gensim\n",
    "import gensim, spacy, logging, warnings\n",
    "import gensim.corpora as corpora\n",
    "from gensim.utils import simple_preprocess\n",
    "from gensim.models import CoherenceModel\n",
    "import matplotlib.pyplot as plt\n",
    "from gensim.parsing.preprocessing import STOPWORDS\n",
    "\n",
    "# NLTK\n",
    "from nltk.corpus import stopwords\n",
    "import nltk\n",
    "nltk.download('stopwords')\n",
    "stop_words = stopwords.words('english')\n",
    "stop_words.extend(['work', 'job', 'www', 'com', 'https', 'antiwork', 'amp'])\n",
    "\n",
    "from nltk.stem import WordNetLemmatizer, SnowballStemmer\n",
    "from nltk.tokenize import sent_tokenize, word_tokenize, RegexpTokenizer\n",
    "\n",
    "%matplotlib inline\n",
    "warnings.filterwarnings(\"ignore\",category=DeprecationWarning)\n",
    "logging.basicConfig(format='%(asctime)s : %(levelname)s : %(message)s', level=logging.ERROR)\n"
   ]
  },
  {
   "cell_type": "markdown",
   "id": "a6b9a6a1-70d3-4a38-a9ef-43cdda75c8cd",
   "metadata": {},
   "source": [
    "Adding some personal stop words since these words contributed to creating a topic that doesn't make the most sense."
   ]
  },
  {
   "cell_type": "code",
   "execution_count": 7,
   "id": "209b6f07-d8b2-416b-a958-c4ecadf711b0",
   "metadata": {},
   "outputs": [],
   "source": [
    "my_stop_words = STOPWORDS.union(set(['work', 'job', 'www', 'com', 'https', 'antiwork', 'amp', 'delete', 'post', 'working', 'worked', 'works','worker']))"
   ]
  },
  {
   "cell_type": "code",
   "execution_count": null,
   "id": "427bc1a1-0315-458e-adbb-e57197e8f889",
   "metadata": {},
   "outputs": [],
   "source": []
  },
  {
   "cell_type": "code",
   "execution_count": 8,
   "id": "6d1586a3-79c1-42a9-87ec-c41f9705aee2",
   "metadata": {},
   "outputs": [
    {
     "name": "stdout",
     "output_type": "stream",
     "text": [
      "frozenset({'computer', 'seems', 'thereafter', 'than', 'thereupon', 'must', 'only', 'by', 'beforehand', 'themselves', 'were', 'anything', 'empty', 'seem', 'is', 'sixty', 'even', 'put', 'thus', 'although', 'side', 'found', 'herein', 'take', 'else', 'toward', 'bottom', 'either', 'not', 'serious', 'much', 'ourselves', 'cry', 'none', 'always', 'does', 'because', 'job', 'didn', 'upon', 'becomes', 'third', 'sometime', 'ie', 'four', 'seemed', 'except', 'via', 'through', 'see', 'formerly', 'somewhere', 'into', 'fifty', 'whoever', 'her', 'eg', 'make', 'should', 'few', 'do', 'un', 'ten', 'can', 'what', 'somehow', 'nowhere', 'yourself', 'full', 'something', 'to', 'hers', 'least', 'anyhow', 'myself', 'therein', 'too', 'well', 'don', 'their', 'may', 'himself', 'next', 'km', 'hasnt', 'but', 'towards', 'whereby', 'herself', 'them', 'sincere', 'whenever', 'these', 'works', 'several', 'whereafter', 'never', 'very', 'therefore', 'once', 'are', 'still', 'since', 'someone', 'had', 'throughout', 'say', 'over', 'whose', 'being', 'six', 'as', 'been', 'show', 'him', 'though', 'during', 'whom', 'forty', 'everywhere', 'regarding', 'whole', 'whether', 'there', 'various', 'three', 'its', 'it', 'such', 'before', 'ours', 'within', 'could', 'con', 'describe', 'unless', 'nobody', 'com', 'delete', 'our', 'alone', 'each', 'eleven', 'doesn', 'more', 'become', 'ltd', 'most', 'hereupon', 'worker', 'elsewhere', 'seeming', 'and', 'against', 'across', 'wherever', 'noone', 'with', 'i', 'below', 'behind', 'twenty', 'indeed', 'no', 'here', 'antiwork', 'besides', 'last', 'one', 'bill', 'have', 'whence', 'often', 'own', 'so', 'inc', 'afterwards', 'until', 'all', 'co', 'latterly', 'was', 'quite', 'thru', 'above', 'interest', 'further', 'done', 'itself', 'hereby', 'two', 'has', 'from', 'whatever', 'us', 'same', 'whither', 'namely', 'out', 'less', 'did', 'another', 'for', 'while', 'fill', 'fifteen', 'thin', 'among', 'first', 'the', 'moreover', 'find', 'under', 'everyone', 'really', 'https', 'mostly', 'anyway', 'whereupon', 'your', 'anyone', 'almost', 'de', 'kg', 'nor', 'fire', 'get', 'worked', 'due', 'will', 'when', 'any', 'up', 'however', 'or', 'anywhere', 'cant', 'became', 'thick', 'rather', 'onto', 'if', 'top', 'others', 'used', 'amp', 'five', 'keep', 'made', 'twelve', 'front', 'system', 'using', 'where', 'nevertheless', 'otherwise', 'move', 're', 'would', 'thereby', 'they', 'along', 'per', 'doing', 'in', 'you', 'then', 'his', 'around', 'former', 'beside', 'those', 'after', 'now', 'detail', 'we', 'am', 'eight', 'yourselves', 'of', 'my', 'couldnt', 'wherein', 'me', 'everything', 'hundred', 'etc', 'nine', 'part', 'hereafter', 'just', 'nothing', 'many', 'www', 'whereas', 'thence', 'working', 'latter', 'mine', 'he', 'enough', 'be', 'off', 'again', 'yet', 'between', 'please', 'work', 'amongst', 'beyond', 'call', 'also', 'give', 'becoming', 'meanwhile', 'down', 'she', 'yours', 'name', 'some', 'who', 'amoungst', 'might', 'cannot', 'mill', 'why', 'every', 'already', 'other', 'on', 'sometimes', 'both', 'together', 'this', 'perhaps', 'without', 'neither', 'hence', 'an', 'at', 'post', 'about', 'amount', 'a', 'go', 'that', 'ever', 'how', 'back', 'which'})\n"
     ]
    }
   ],
   "source": [
    "print(my_stop_words)"
   ]
  },
  {
   "cell_type": "markdown",
   "id": "265e8cbd-b28b-493b-8f59-0963d2c76153",
   "metadata": {},
   "source": [
    "## import and clean data"
   ]
  },
  {
   "cell_type": "markdown",
   "id": "07526967-bd56-461e-981c-4328fdd3eeb1",
   "metadata": {},
   "source": [
    "## This section can be skipped as the cleaned df is exported to a csv below"
   ]
  },
  {
   "cell_type": "code",
   "execution_count": 9,
   "id": "08f6f64a-c282-499a-a12c-a8fbb956bf85",
   "metadata": {},
   "outputs": [
    {
     "name": "stdout",
     "output_type": "stream",
     "text": [
      "(256279, 12)\n"
     ]
    },
    {
     "data": {
      "text/html": [
       "<div>\n",
       "<style scoped>\n",
       "    .dataframe tbody tr th:only-of-type {\n",
       "        vertical-align: middle;\n",
       "    }\n",
       "\n",
       "    .dataframe tbody tr th {\n",
       "        vertical-align: top;\n",
       "    }\n",
       "\n",
       "    .dataframe thead th {\n",
       "        text-align: right;\n",
       "    }\n",
       "</style>\n",
       "<table border=\"1\" class=\"dataframe\">\n",
       "  <thead>\n",
       "    <tr style=\"text-align: right;\">\n",
       "      <th></th>\n",
       "      <th>type</th>\n",
       "      <th>id</th>\n",
       "      <th>subreddit.id</th>\n",
       "      <th>subreddit.name</th>\n",
       "      <th>subreddit.nsfw</th>\n",
       "      <th>created_utc</th>\n",
       "      <th>permalink</th>\n",
       "      <th>domain</th>\n",
       "      <th>url</th>\n",
       "      <th>selftext</th>\n",
       "      <th>title</th>\n",
       "      <th>score</th>\n",
       "    </tr>\n",
       "  </thead>\n",
       "  <tbody>\n",
       "    <tr>\n",
       "      <th>0</th>\n",
       "      <td>post</td>\n",
       "      <td>svw6x3</td>\n",
       "      <td>2y77d</td>\n",
       "      <td>antiwork</td>\n",
       "      <td>False</td>\n",
       "      <td>1645228719</td>\n",
       "      <td>https://old.reddit.com/r/antiwork/comments/svw...</td>\n",
       "      <td>self.antiwork</td>\n",
       "      <td>NaN</td>\n",
       "      <td>I was hired at the **Neon Museum** as a tour g...</td>\n",
       "      <td>Neon Museum Las Vegas took away our tips</td>\n",
       "      <td>15</td>\n",
       "    </tr>\n",
       "    <tr>\n",
       "      <th>1</th>\n",
       "      <td>post</td>\n",
       "      <td>svw6jv</td>\n",
       "      <td>2y77d</td>\n",
       "      <td>antiwork</td>\n",
       "      <td>False</td>\n",
       "      <td>1645228687</td>\n",
       "      <td>https://old.reddit.com/r/antiwork/comments/svw...</td>\n",
       "      <td>i.redd.it</td>\n",
       "      <td>https://i.redd.it/vuoctaq0koi81.png</td>\n",
       "      <td>NaN</td>\n",
       "      <td>Working</td>\n",
       "      <td>1887</td>\n",
       "    </tr>\n",
       "    <tr>\n",
       "      <th>2</th>\n",
       "      <td>post</td>\n",
       "      <td>svw5e8</td>\n",
       "      <td>2y77d</td>\n",
       "      <td>antiwork</td>\n",
       "      <td>False</td>\n",
       "      <td>1645228588</td>\n",
       "      <td>https://old.reddit.com/r/antiwork/comments/svw...</td>\n",
       "      <td>self.antiwork</td>\n",
       "      <td>NaN</td>\n",
       "      <td>So, I'm quite new to the jobs front then most ...</td>\n",
       "      <td>Kind of feel like screaming into the cyberspace</td>\n",
       "      <td>4</td>\n",
       "    </tr>\n",
       "    <tr>\n",
       "      <th>3</th>\n",
       "      <td>post</td>\n",
       "      <td>svw498</td>\n",
       "      <td>2y77d</td>\n",
       "      <td>antiwork</td>\n",
       "      <td>False</td>\n",
       "      <td>1645228495</td>\n",
       "      <td>https://old.reddit.com/r/antiwork/comments/svw...</td>\n",
       "      <td>i.redd.it</td>\n",
       "      <td>https://i.redd.it/1w1unxjfjoi81.png</td>\n",
       "      <td>NaN</td>\n",
       "      <td>Democracy is a lie, especially in the modern w...</td>\n",
       "      <td>14060</td>\n",
       "    </tr>\n",
       "    <tr>\n",
       "      <th>4</th>\n",
       "      <td>post</td>\n",
       "      <td>svw3qt</td>\n",
       "      <td>2y77d</td>\n",
       "      <td>antiwork</td>\n",
       "      <td>False</td>\n",
       "      <td>1645228450</td>\n",
       "      <td>https://old.reddit.com/r/antiwork/comments/svw...</td>\n",
       "      <td>self.antiwork</td>\n",
       "      <td>NaN</td>\n",
       "      <td>My boss asked me today what I plan on doing wh...</td>\n",
       "      <td>Master's Degree - No Pay Raise but OT</td>\n",
       "      <td>63</td>\n",
       "    </tr>\n",
       "  </tbody>\n",
       "</table>\n",
       "</div>"
      ],
      "text/plain": [
       "   type      id subreddit.id subreddit.name  subreddit.nsfw  created_utc  \\\n",
       "0  post  svw6x3        2y77d       antiwork           False   1645228719   \n",
       "1  post  svw6jv        2y77d       antiwork           False   1645228687   \n",
       "2  post  svw5e8        2y77d       antiwork           False   1645228588   \n",
       "3  post  svw498        2y77d       antiwork           False   1645228495   \n",
       "4  post  svw3qt        2y77d       antiwork           False   1645228450   \n",
       "\n",
       "                                           permalink         domain  \\\n",
       "0  https://old.reddit.com/r/antiwork/comments/svw...  self.antiwork   \n",
       "1  https://old.reddit.com/r/antiwork/comments/svw...      i.redd.it   \n",
       "2  https://old.reddit.com/r/antiwork/comments/svw...  self.antiwork   \n",
       "3  https://old.reddit.com/r/antiwork/comments/svw...      i.redd.it   \n",
       "4  https://old.reddit.com/r/antiwork/comments/svw...  self.antiwork   \n",
       "\n",
       "                                   url  \\\n",
       "0                                  NaN   \n",
       "1  https://i.redd.it/vuoctaq0koi81.png   \n",
       "2                                  NaN   \n",
       "3  https://i.redd.it/1w1unxjfjoi81.png   \n",
       "4                                  NaN   \n",
       "\n",
       "                                            selftext  \\\n",
       "0  I was hired at the **Neon Museum** as a tour g...   \n",
       "1                                                NaN   \n",
       "2  So, I'm quite new to the jobs front then most ...   \n",
       "3                                                NaN   \n",
       "4  My boss asked me today what I plan on doing wh...   \n",
       "\n",
       "                                               title  score  \n",
       "0           Neon Museum Las Vegas took away our tips     15  \n",
       "1                                            Working   1887  \n",
       "2    Kind of feel like screaming into the cyberspace      4  \n",
       "3  Democracy is a lie, especially in the modern w...  14060  \n",
       "4              Master's Degree - No Pay Raise but OT     63  "
      ]
     },
     "execution_count": 9,
     "metadata": {},
     "output_type": "execute_result"
    }
   ],
   "source": [
    "df = pd.read_csv('./data/the-antiwork-subreddit-dataset-posts.csv')\n",
    "print(df.shape)\n",
    "df.head()"
   ]
  },
  {
   "cell_type": "code",
   "execution_count": 10,
   "id": "cdd95439-18e9-44ec-88a6-9a40253febb7",
   "metadata": {},
   "outputs": [
    {
     "data": {
      "text/plain": [
       "type                   1\n",
       "id                256279\n",
       "subreddit.id           1\n",
       "subreddit.name         1\n",
       "subreddit.nsfw         1\n",
       "created_utc       253907\n",
       "permalink         256279\n",
       "domain              5126\n",
       "url                93951\n",
       "selftext           83301\n",
       "title             238727\n",
       "score               7860\n",
       "dtype: int64"
      ]
     },
     "execution_count": 10,
     "metadata": {},
     "output_type": "execute_result"
    }
   ],
   "source": [
    "df.nunique()"
   ]
  },
  {
   "cell_type": "markdown",
   "id": "5ca02500-bfb4-4f84-9dd3-16d87a6de935",
   "metadata": {},
   "source": [
    "Because in each of the columns below, they all have the same value throughout so I'm going to drop them"
   ]
  },
  {
   "cell_type": "code",
   "execution_count": 11,
   "id": "edfabd76-9cd9-4ba2-b851-b30193f16798",
   "metadata": {},
   "outputs": [],
   "source": [
    "df.drop(columns =['type', 'subreddit.id', 'subreddit.name','subreddit.nsfw'], inplace=True)"
   ]
  },
  {
   "cell_type": "code",
   "execution_count": 12,
   "id": "0f1ca582-eb99-4c1c-bdef-0cd4d6035fcb",
   "metadata": {},
   "outputs": [
    {
     "data": {
      "text/plain": [
       "id             0.000000\n",
       "created_utc    0.000000\n",
       "permalink      0.000000\n",
       "domain         0.000000\n",
       "url            0.602429\n",
       "selftext       0.397571\n",
       "title          0.000000\n",
       "score          0.000000\n",
       "dtype: float64"
      ]
     },
     "execution_count": 12,
     "metadata": {},
     "output_type": "execute_result"
    }
   ],
   "source": [
    "df.isna().mean()"
   ]
  },
  {
   "cell_type": "markdown",
   "id": "265761c1-bd25-4ccf-8add-7147e52c4b5e",
   "metadata": {},
   "source": [
    "Nearly 40% of the selftext values are null, so I will likely combine the title with the selftext to not lose any data"
   ]
  },
  {
   "cell_type": "code",
   "execution_count": 13,
   "id": "3fd5827f-c0e8-486d-b023-e671bd1b7b11",
   "metadata": {},
   "outputs": [
    {
     "data": {
      "text/plain": [
       "id             object\n",
       "created_utc     int64\n",
       "permalink      object\n",
       "domain         object\n",
       "url            object\n",
       "selftext       object\n",
       "title          object\n",
       "score           int64\n",
       "dtype: object"
      ]
     },
     "execution_count": 13,
     "metadata": {},
     "output_type": "execute_result"
    }
   ],
   "source": [
    "df.dtypes"
   ]
  },
  {
   "cell_type": "markdown",
   "id": "78b234c4-2d73-41ff-ab41-5caaddba05bf",
   "metadata": {},
   "source": [
    "I need to get the UTC column into readable date time formatting"
   ]
  },
  {
   "cell_type": "code",
   "execution_count": 14,
   "id": "da589ede-2d05-4a83-b738-4576f9c0a723",
   "metadata": {},
   "outputs": [],
   "source": [
    "from datetime import datetime\n",
    "\n",
    "#writing a function to convert the strings into readable date time strings\n",
    "def time_utc(ts):   \n",
    "    return datetime.utcfromtimestamp(ts).strftime('%Y-%m-%d %H:%M:%S')"
   ]
  },
  {
   "cell_type": "code",
   "execution_count": 15,
   "id": "b2c7672a-516a-48d7-98e8-6cc067d816c1",
   "metadata": {},
   "outputs": [],
   "source": [
    "df['created_utc']=df['created_utc'].map(time_utc)"
   ]
  },
  {
   "cell_type": "code",
   "execution_count": 16,
   "id": "c8a69e86-53de-4020-8ec0-394f6c78652f",
   "metadata": {},
   "outputs": [
    {
     "data": {
      "text/html": [
       "<div>\n",
       "<style scoped>\n",
       "    .dataframe tbody tr th:only-of-type {\n",
       "        vertical-align: middle;\n",
       "    }\n",
       "\n",
       "    .dataframe tbody tr th {\n",
       "        vertical-align: top;\n",
       "    }\n",
       "\n",
       "    .dataframe thead th {\n",
       "        text-align: right;\n",
       "    }\n",
       "</style>\n",
       "<table border=\"1\" class=\"dataframe\">\n",
       "  <thead>\n",
       "    <tr style=\"text-align: right;\">\n",
       "      <th></th>\n",
       "      <th>id</th>\n",
       "      <th>created_utc</th>\n",
       "      <th>permalink</th>\n",
       "      <th>domain</th>\n",
       "      <th>url</th>\n",
       "      <th>selftext</th>\n",
       "      <th>title</th>\n",
       "      <th>score</th>\n",
       "    </tr>\n",
       "  </thead>\n",
       "  <tbody>\n",
       "    <tr>\n",
       "      <th>0</th>\n",
       "      <td>svw6x3</td>\n",
       "      <td>2022-02-18 23:58:39</td>\n",
       "      <td>https://old.reddit.com/r/antiwork/comments/svw...</td>\n",
       "      <td>self.antiwork</td>\n",
       "      <td>NaN</td>\n",
       "      <td>I was hired at the **Neon Museum** as a tour g...</td>\n",
       "      <td>Neon Museum Las Vegas took away our tips</td>\n",
       "      <td>15</td>\n",
       "    </tr>\n",
       "  </tbody>\n",
       "</table>\n",
       "</div>"
      ],
      "text/plain": [
       "       id          created_utc  \\\n",
       "0  svw6x3  2022-02-18 23:58:39   \n",
       "\n",
       "                                           permalink         domain  url  \\\n",
       "0  https://old.reddit.com/r/antiwork/comments/svw...  self.antiwork  NaN   \n",
       "\n",
       "                                            selftext  \\\n",
       "0  I was hired at the **Neon Museum** as a tour g...   \n",
       "\n",
       "                                      title  score  \n",
       "0  Neon Museum Las Vegas took away our tips     15  "
      ]
     },
     "execution_count": 16,
     "metadata": {},
     "output_type": "execute_result"
    }
   ],
   "source": [
    "df.head(1)"
   ]
  },
  {
   "cell_type": "code",
   "execution_count": 17,
   "id": "bb922252-07f1-4282-8a24-99f7979ee5a7",
   "metadata": {},
   "outputs": [
    {
     "data": {
      "text/plain": [
       "id             object\n",
       "created_utc    object\n",
       "permalink      object\n",
       "domain         object\n",
       "url            object\n",
       "selftext       object\n",
       "title          object\n",
       "score           int64\n",
       "dtype: object"
      ]
     },
     "execution_count": 17,
     "metadata": {},
     "output_type": "execute_result"
    }
   ],
   "source": [
    "df.dtypes"
   ]
  },
  {
   "cell_type": "markdown",
   "id": "7cc01bd6-4c62-4434-a90d-a3630a77e44a",
   "metadata": {},
   "source": [
    "Can see that now the UTC is readable, but it still isn't in date time format for pandas"
   ]
  },
  {
   "cell_type": "code",
   "execution_count": 18,
   "id": "76a98301-563f-408f-8829-806b1ab35c02",
   "metadata": {},
   "outputs": [],
   "source": [
    "df['created_utc']=pd.to_datetime(df['created_utc'])"
   ]
  },
  {
   "cell_type": "code",
   "execution_count": 19,
   "id": "7634dfd3-1e97-40c7-afe2-7042c676da60",
   "metadata": {},
   "outputs": [
    {
     "data": {
      "text/plain": [
       "id                     object\n",
       "created_utc    datetime64[ns]\n",
       "permalink              object\n",
       "domain                 object\n",
       "url                    object\n",
       "selftext               object\n",
       "title                  object\n",
       "score                   int64\n",
       "dtype: object"
      ]
     },
     "execution_count": 19,
     "metadata": {},
     "output_type": "execute_result"
    }
   ],
   "source": [
    "df.dtypes"
   ]
  },
  {
   "cell_type": "code",
   "execution_count": 20,
   "id": "3b0ca852-b49d-4d6b-99f9-cf7d37f1e437",
   "metadata": {},
   "outputs": [],
   "source": [
    "# Combining the title and text column so there aren't nulls in the self text\n",
    "df['title_w_text']=df['title'] + ' ' + df['selftext'].fillna('')"
   ]
  },
  {
   "cell_type": "code",
   "execution_count": 21,
   "id": "4f97e0fa-76c3-425a-b43e-95a141785c0a",
   "metadata": {},
   "outputs": [
    {
     "data": {
      "text/plain": [
       "Index(['id', 'created_utc', 'permalink', 'domain', 'url', 'selftext', 'title',\n",
       "       'score', 'title_w_text'],\n",
       "      dtype='object')"
      ]
     },
     "execution_count": 21,
     "metadata": {},
     "output_type": "execute_result"
    }
   ],
   "source": [
    "df.columns"
   ]
  },
  {
   "cell_type": "markdown",
   "id": "8034462b-66c2-44a0-93b6-645fa2e70ab1",
   "metadata": {},
   "source": [
    "## Saving this cleaned df for later efficiency"
   ]
  },
  {
   "cell_type": "code",
   "execution_count": 22,
   "id": "997af46c-6f41-467e-bbcb-4f4ab6933bcf",
   "metadata": {},
   "outputs": [],
   "source": [
    "\n",
    "df.to_csv('./data/cleaned_df_posts.csv')"
   ]
  },
  {
   "cell_type": "markdown",
   "id": "b9704f3f-4530-4574-b441-15a1deea572e",
   "metadata": {},
   "source": [
    "# Preprocessing"
   ]
  },
  {
   "cell_type": "code",
   "execution_count": 23,
   "id": "734ea898-55c3-445a-bad2-344175ebc5a2",
   "metadata": {},
   "outputs": [],
   "source": [
    "# df = pd.read_csv('./data/cleaned_df_posts.csv')\n",
    "# df.head()"
   ]
  },
  {
   "cell_type": "code",
   "execution_count": 24,
   "id": "9d06bd0b-5709-4b2e-8a3c-c08e44acfdbf",
   "metadata": {},
   "outputs": [
    {
     "data": {
      "text/plain": [
       "id                      object\n",
       "created_utc     datetime64[ns]\n",
       "permalink               object\n",
       "domain                  object\n",
       "url                     object\n",
       "selftext                object\n",
       "title                   object\n",
       "score                    int64\n",
       "title_w_text            object\n",
       "dtype: object"
      ]
     },
     "execution_count": 24,
     "metadata": {},
     "output_type": "execute_result"
    }
   ],
   "source": [
    "df.dtypes"
   ]
  },
  {
   "cell_type": "markdown",
   "id": "eb455bbe-8212-4b19-8b51-c24946a7e967",
   "metadata": {},
   "source": [
    "### Tokenizing"
   ]
  },
  {
   "cell_type": "code",
   "execution_count": null,
   "id": "4c1806e3-c040-4fad-9f49-8c5a2cbaaa1c",
   "metadata": {
    "tags": []
   },
   "outputs": [],
   "source": [
    "# def sent_to_words(sentences):\n",
    "#     for sent in sentences:\n",
    "#         #print(sent)\n",
    "#         sent = re.sub('\\s+', ' ', sent)  # remove newline chars\n",
    "#         sent = re.sub(\"\\'\", \"\", sent)  # remove single quotes\n",
    "#         tokenizer = RegexpTokenizer('\\w+') #tokenize at word boundaries\n",
    "#         sent = tokenizer.tokenize(sent.lower())\n",
    "#         sent = gensim.utils.simple_preprocess(str(sent), deacc=True)\n",
    "#         yield(sent)\n",
    "\n",
    "# data = df['title_w_text'].values.tolist()\n",
    "\n",
    "# #this is showing a single list with every document in it\n",
    "\n",
    "# data;\n",
    "\n",
    "# data_words = list(sent_to_words(data))\n",
    "\n",
    "# data_words[:5]\n"
   ]
  },
  {
   "cell_type": "markdown",
   "id": "562c9ecf-a252-43a3-9a12-0f55e8203177",
   "metadata": {
    "tags": []
   },
   "source": [
    "### Stem and Lem"
   ]
  },
  {
   "cell_type": "code",
   "execution_count": 31,
   "id": "cd53159c-5338-45c0-a540-60c60dc65f76",
   "metadata": {},
   "outputs": [],
   "source": [
    "stemmer = SnowballStemmer('english')"
   ]
  },
  {
   "cell_type": "code",
   "execution_count": 33,
   "id": "48e29bc4-65dc-4ba5-89d2-7d10f599e203",
   "metadata": {},
   "outputs": [],
   "source": [
    "def lemmatize_stemming(text):\n",
    "    return stemmer.stem(WordNetLemmatizer().lemmatize(text, pos='v'))\n",
    "def preprocess(text):\n",
    "    result = []\n",
    "    text = re.sub('\\s+', ' ', text)  # remove newline chars\n",
    "    text = re.sub(\"\\'\", \"\", text)  # remove single quotes\n",
    "    #tokenizer = RegexpTokenizer('\\w+') #tokenize at word boundaries\n",
    "    text = text.lower()\n",
    "    for token in gensim.utils.simple_preprocess(text, deacc=True):\n",
    "        if token not in my_stop_words and len(token) >= 3:\n",
    "           # print(token)\n",
    "            result.append(lemmatize_stemming(token))\n",
    "    return result"
   ]
  },
  {
   "cell_type": "markdown",
   "id": "acfb93bd-083b-4614-a845-5636c83be106",
   "metadata": {
    "tags": []
   },
   "source": [
    "Test case to ensure preprocessing worked properly. I added a custom stop word to this test case to ensure my custom stop words work properly"
   ]
  },
  {
   "cell_type": "code",
   "execution_count": 34,
   "id": "891a83f0-5fde-4921-b95d-89301124e308",
   "metadata": {},
   "outputs": [
    {
     "data": {
      "text/plain": [
       "\"www.Democracy ''is a lie, especially in the modern workplace work\""
      ]
     },
     "execution_count": 34,
     "metadata": {},
     "output_type": "execute_result"
    }
   ],
   "source": [
    "test = \"www.Democracy ''is a lie, especially in the modern workplace work\"\n",
    "test"
   ]
  },
  {
   "cell_type": "code",
   "execution_count": 35,
   "id": "862235ec-a31e-4a82-8580-a263ead3a1a1",
   "metadata": {},
   "outputs": [
    {
     "name": "stdout",
     "output_type": "stream",
     "text": [
      "['democraci', 'lie', 'especi', 'modern', 'workplac']\n"
     ]
    }
   ],
   "source": [
    "# print('original document: ')\n",
    "# print()\n",
    "# words = []\n",
    "# for word in test.split(' '):\n",
    "#     words.append(word)\n",
    "# print(words)\n",
    "# print()\n",
    "# print('preprocessed document: ')\n",
    "print(preprocess(test))"
   ]
  },
  {
   "cell_type": "markdown",
   "id": "fab70b11-630d-4df4-959d-aebdf6721ce8",
   "metadata": {},
   "source": [
    "#### It works! Applying the preprocessing function to the df"
   ]
  },
  {
   "cell_type": "code",
   "execution_count": null,
   "id": "aa63ed5e-68cb-4f39-88ea-cba22011e156",
   "metadata": {},
   "outputs": [],
   "source": [
    "preprocessed = df['title_w_text'].map(preprocess)\n",
    "preprocessed"
   ]
  },
  {
   "cell_type": "code",
   "execution_count": null,
   "id": "86fff6e6-b96a-458b-86d3-470fa94e44cf",
   "metadata": {},
   "outputs": [],
   "source": [
    "df['preprocessed'] = preprocessed\n",
    "df.head()"
   ]
  },
  {
   "cell_type": "code",
   "execution_count": null,
   "id": "8509b713-da7a-49db-90f6-ec409c8dd682",
   "metadata": {},
   "outputs": [],
   "source": []
  },
  {
   "cell_type": "markdown",
   "id": "fe66bddd-64e6-44c1-9be8-dbbb0d9fcd5e",
   "metadata": {},
   "source": [
    "# Running LDA on the tokenized, stemmed, and lemmed words"
   ]
  },
  {
   "cell_type": "code",
   "execution_count": null,
   "id": "5f356ae3-7e4c-471d-9a96-e8455b007cfa",
   "metadata": {},
   "outputs": [],
   "source": [
    "# Create Dictionary\n",
    "id2word = corpora.Dictionary(preprocessed)\n",
    "\n",
    "# Create Corpus: Term Document Frequency\n",
    "corpus = [id2word.doc2bow(text) for text in preprocessed]\n",
    "\n",
    "# Build LDA model\n",
    "lda_model = gensim.models.LdaMulticore(corpus=corpus,\n",
    "                                           id2word=id2word,\n",
    "                                           num_topics=5,\n",
    "                                           workers=3,\n",
    "                                           random_state=42,\n",
    "                                           chunksize=256,\n",
    "                                           passes=10,\n",
    "                                           alpha='symmetric',\n",
    "                                           iterations=100,\n",
    "                                           per_word_topics=True)\n",
    "\n",
    "pprint(lda_model.print_topics())"
   ]
  },
  {
   "cell_type": "code",
   "execution_count": 38,
   "id": "d36a141a-6350-4cbe-9969-e2cf1810ca83",
   "metadata": {
    "tags": []
   },
   "outputs": [],
   "source": [
    "# def format_topics_sentences(ldamodel=None, corpus=corpus, texts=data):\n",
    "#     # Init output\n",
    "#     sent_topics_df = pd.DataFrame()\n",
    "\n",
    "#     # Get main topic in each document\n",
    "#     for i, row_list in enumerate(ldamodel[corpus]):\n",
    "#         row = row_list[0] if ldamodel.per_word_topics else row_list            \n",
    "#         #print(row)\n",
    "#         row = sorted(row, key=lambda x: (x[1]), reverse=True)\n",
    "#         # Get the Dominant topic, Perc Contribution and Keywords for each document\n",
    "#         for j, (topic_num, prop_topic) in enumerate(row):\n",
    "#             #print('for 2')\n",
    "#             if j == 0:  # => dominant topic\n",
    "#                 wp = ldamodel.show_topic(topic_num)\n",
    "#                 topic_keywords = \", \".join([word for word, prop in wp])\n",
    "#                 sent_topics_df = sent_topics_df.append(pd.Series([int(topic_num), round(prop_topic,4), topic_keywords]), ignore_index=True)\n",
    "#             else:\n",
    "#                 break\n",
    "#     sent_topics_df.columns = ['Dominant_Topic', 'Perc_Contribution', 'Topic_Keywords']\n",
    "\n",
    "#     # Add original text to the end of the output\n",
    "#     contents = pd.Series(texts)\n",
    "#     sent_topics_df = pd.concat([sent_topics_df, contents], axis=1)\n",
    "#     return(sent_topics_df)"
   ]
  },
  {
   "cell_type": "code",
   "execution_count": null,
   "id": "4ac63f0c-e256-4087-a4c3-66abf5b6545e",
   "metadata": {
    "tags": []
   },
   "outputs": [],
   "source": [
    "#df_topic_sents_keywords = format_topics_sentences(ldamodel=lda_model, corpus=corpus[:10], texts=preprocessed)"
   ]
  },
  {
   "cell_type": "code",
   "execution_count": null,
   "id": "4eca9880-15a2-453f-aca9-d0d3746bc569",
   "metadata": {},
   "outputs": [],
   "source": [
    "#df_topic_sents_keywords.head()"
   ]
  },
  {
   "cell_type": "code",
   "execution_count": null,
   "id": "502a40a8-9c18-417f-8922-b1b13c388ac7",
   "metadata": {},
   "outputs": [],
   "source": [
    "# batch_size = 100\n",
    "# row_count = df.shape[0]\n",
    "# for epoch in range(100):\n",
    "#     for batch_idx in range(0, row, batch_size):"
   ]
  },
  {
   "cell_type": "code",
   "execution_count": 49,
   "id": "9b9c67d5-632a-46a6-a155-6851c8444edc",
   "metadata": {},
   "outputs": [],
   "source": [
    "# lst2 = []\n",
    "# for i in range(0,3000, 1000):\n",
    "#     test=format_topics_sentences(ldamodel=lda_model, corpus=corpus[i:i+1000], texts=preprocessed)\n",
    "#     lst2.append(test)\n",
    "#     print(i)\n",
    "# test_df = pd.concat(lst2)"
   ]
  },
  {
   "cell_type": "code",
   "execution_count": 52,
   "id": "b32bda90-e4b7-488d-9203-77b005e60a6f",
   "metadata": {},
   "outputs": [
    {
     "data": {
      "text/plain": [
       "1000    NaN\n",
       "1000    NaN\n",
       "1000    NaN\n",
       "Name: Topic_Keywords, dtype: object"
      ]
     },
     "execution_count": 52,
     "metadata": {},
     "output_type": "execute_result"
    }
   ],
   "source": [
    "# test_df['Topic_Keywords'][1000]"
   ]
  },
  {
   "cell_type": "code",
   "execution_count": null,
   "id": "f9720827-64bb-4a73-87fd-7cc11fe7937d",
   "metadata": {},
   "outputs": [],
   "source": [
    "# test_df[1000]"
   ]
  },
  {
   "cell_type": "code",
   "execution_count": null,
   "id": "c458f48a-8205-4f0d-955d-3cdc1ba641e1",
   "metadata": {},
   "outputs": [],
   "source": []
  },
  {
   "cell_type": "code",
   "execution_count": null,
   "id": "01373478-e746-450d-84b9-a96a2e85ac03",
   "metadata": {},
   "outputs": [],
   "source": []
  },
  {
   "cell_type": "code",
   "execution_count": null,
   "id": "a25b4b8a-7810-4621-9172-5e3a1bc34179",
   "metadata": {},
   "outputs": [],
   "source": []
  },
  {
   "cell_type": "code",
   "execution_count": null,
   "id": "a5b5f852-a681-4871-aa70-071c9d145fea",
   "metadata": {},
   "outputs": [],
   "source": []
  },
  {
   "cell_type": "code",
   "execution_count": null,
   "id": "0343dc26-cc12-456f-bfc5-b9a3a898aeca",
   "metadata": {},
   "outputs": [],
   "source": []
  },
  {
   "cell_type": "code",
   "execution_count": null,
   "id": "8a05572a-e438-4a66-8012-18808c4ebb87",
   "metadata": {},
   "outputs": [],
   "source": []
  },
  {
   "cell_type": "code",
   "execution_count": null,
   "id": "6123caa6-f579-4684-b0c2-b02228e5da44",
   "metadata": {},
   "outputs": [],
   "source": []
  },
  {
   "cell_type": "code",
   "execution_count": null,
   "id": "0af6405e-154d-4ec2-861d-555cf747a29f",
   "metadata": {},
   "outputs": [],
   "source": []
  },
  {
   "cell_type": "code",
   "execution_count": null,
   "id": "134bf8ee-00c6-42f3-a20a-b2af8e46f03b",
   "metadata": {},
   "outputs": [],
   "source": [
    "!pip install pyLDAvis"
   ]
  },
  {
   "cell_type": "code",
   "execution_count": 33,
   "id": "e6c5c3c4-7b77-4b0a-9a4b-1824cd301c11",
   "metadata": {
    "tags": []
   },
   "outputs": [],
   "source": [
    "%matplotlib inline\n",
    "import pyLDAvis\n",
    "import pyLDAvis.gensim_models"
   ]
  },
  {
   "cell_type": "code",
   "execution_count": 34,
   "id": "0a05019c-5cad-476e-912e-029d9cef246d",
   "metadata": {
    "tags": []
   },
   "outputs": [
    {
     "name": "stderr",
     "output_type": "stream",
     "text": [
      "/opt/conda/lib/python3.7/site-packages/pyLDAvis/_prepare.py:247: FutureWarning: In a future version of pandas all arguments of DataFrame.drop except for the argument 'labels' will be keyword-only\n",
      "  by='saliency', ascending=False).head(R).drop('saliency', 1)\n"
     ]
    },
    {
     "data": {
      "text/html": [
       "\n",
       "<link rel=\"stylesheet\" type=\"text/css\" href=\"https://cdn.jsdelivr.net/gh/bmabey/pyLDAvis@3.3.1/pyLDAvis/js/ldavis.v1.0.0.css\">\n",
       "\n",
       "\n",
       "<div id=\"ldavis_el208251398941931758881209862261\"></div>\n",
       "<script type=\"text/javascript\">\n",
       "\n",
       "var ldavis_el208251398941931758881209862261_data = {\"mdsDat\": {\"x\": [-0.16416600674706197, -0.07741000412879952, -0.1290855222934586, -0.028418085591723267, 0.39907961876104303], \"y\": [-0.10199710462466852, -0.11157509175737132, -0.046440714151855404, 0.3161237156466115, -0.05611080511271593], \"topics\": [1, 2, 3, 4, 5], \"cluster\": [1, 1, 1, 1, 1], \"Freq\": [32.66745688439753, 24.850702457848016, 22.823409334470515, 12.875689569598253, 6.782741753685692]}, \"tinfo\": {\"Term\": [\"delet\", \"job\", \"day\", \"work\", \"pay\", \"amp\", \"life\", \"wage\", \"https\", \"compani\", \"week\", \"live\", \"worker\", \"hour\", \"peopl\", \"year\", \"com\", \"money\", \"like\", \"post\", \"tell\", \"boss\", \"remov\", \"www\", \"think\", \"food\", \"time\", \"manag\", \"interview\", \"feel\", \"shift\", \"minut\", \"night\", \"weekend\", \"schedul\", \"morn\", \"lunch\", \"monday\", \"clock\", \"friday\", \"yesterday\", \"tomorrow\", \"sunday\", \"saturday\", \"christma\", \"girl\", \"yell\", \"mask\", \"chat\", \"appoint\", \"quarantin\", \"bathroom\", \"wednesday\", \"ladi\", \"rude\", \"boyfriend\", \"row\", \"thursday\", \"tuesday\", \"asleep\", \"holiday\", \"sick\", \"day\", \"walk\", \"week\", \"boss\", \"cowork\", \"vacat\", \"hour\", \"home\", \"tell\", \"call\", \"sleep\", \"break\", \"late\", \"come\", \"fuck\", \"today\", \"say\", \"get\", \"work\", \"offic\", \"time\", \"manag\", \"leav\", \"go\", \"shit\", \"like\", \"job\", \"ask\", \"know\", \"take\", \"feel\", \"want\", \"start\", \"month\", \"need\", \"year\", \"life\", \"societi\", \"human\", \"passion\", \"hobbi\", \"escap\", \"trap\", \"creativ\", \"race\", \"boomer\", \"concept\", \"planet\", \"meaningless\", \"aliv\", \"earth\", \"meaning\", \"shelter\", \"cope\", \"brainwash\", \"hustl\", \"mindset\", \"leisur\", \"wealthi\", \"endless\", \"be\", \"joy\", \"philosophi\", \"psycholog\", \"miseri\", \"belief\", \"soul\", \"lifestyl\", \"truli\", \"cultur\", \"world\", \"energi\", \"depress\", \"self\", \"natur\", \"anim\", \"bear\", \"realiti\", \"exist\", \"peopl\", \"freedom\", \"surviv\", \"enjoy\", \"hate\", \"live\", \"dream\", \"believ\", \"like\", \"feel\", \"way\", \"idea\", \"work\", \"love\", \"thing\", \"want\", \"think\", \"social\", \"hard\", \"die\", \"mental\", \"mean\", \"know\", \"money\", \"good\", \"need\", \"time\", \"lot\", \"better\", \"job\", \"make\", \"actual\", \"fuck\", \"tri\", \"go\", \"interview\", \"appli\", \"degre\", \"salari\", \"project\", \"graduat\", \"applic\", \"role\", \"review\", \"teacher\", \"resum\", \"engin\", \"internship\", \"softwar\", \"recruit\", \"entri\", \"freelanc\", \"agenc\", \"qualifi\", \"burnout\", \"offer\", \"artist\", \"grad\", \"bachelor\", \"certif\", \"consult\", \"negoti\", \"startup\", \"furlough\", \"assess\", \"tech\", \"feedback\", \"contract\", \"perform\", \"promot\", \"letter\", \"posit\", \"experi\", \"compani\", \"colleg\", \"hire\", \"job\", \"field\", \"employ\", \"year\", \"new\", \"team\", \"current\", \"month\", \"unemploy\", \"pay\", \"meet\", \"ask\", \"quit\", \"requir\", \"look\", \"get\", \"start\", \"time\", \"work\", \"manag\", \"employe\", \"want\", \"know\", \"good\", \"tell\", \"like\", \"go\", \"hour\", \"buy\", \"rent\", \"tax\", \"tip\", \"wag\", \"price\", \"loan\", \"properti\", \"billion\", \"prison\", \"mcdonald\", \"minim\", \"purchas\", \"cat\", \"feder\", \"shortag\", \"theft\", \"electr\", \"garden\", \"donat\", \"wood\", \"winter\", \"instant\", \"consumpt\", \"rob\", \"religion\", \"dispos\", \"uber\", \"expert\", \"oil\", \"wage\", \"debt\", \"minimum\", \"dollar\", \"profit\", \"cost\", \"food\", \"million\", \"govern\", \"expens\", \"cheap\", \"labor\", \"stock\", \"worker\", \"hous\", \"sell\", \"afford\", \"incom\", \"pay\", \"law\", \"fund\", \"money\", \"busi\", \"car\", \"live\", \"state\", \"employe\", \"product\", \"american\", \"year\", \"hour\", \"compani\", \"employ\", \"peopl\", \"delet\", \"https\", \"com\", \"remov\", \"www\", \"articl\", \"org\", \"ubi\", \"song\", \"meme\", \"png\", \"preview\", \"poll\", \"redd\", \"width\", \"webp\", \"wiki\", \"socialist\", \"communist\", \"communism\", \"wikipedia\", \"anarchist\", \"bootlick\", \"propaganda\", \"http\", \"podcast\", \"bezo\", \"twitter\", \"youtu\", \"enslav\", \"amp\", \"thread\", \"youtub\", \"antiwork\", \"union\", \"link\", \"reddit\", \"strike\", \"comment\", \"auto\", \"post\", \"news\", \"anti\", \"sub\", \"capit\", \"video\", \"watch\", \"subreddit\", \"worker\", \"think\", \"american\", \"capitalist\", \"new\", \"guy\"], \"Freq\": [59900.0, 158342.0, 86602.0, 255086.0, 62300.0, 22178.0, 34283.0, 19951.0, 14698.0, 44242.0, 54736.0, 33928.0, 27827.0, 72436.0, 64176.0, 60917.0, 10290.0, 31383.0, 77921.0, 17192.0, 40507.0, 34159.0, 8380.0, 8251.0, 46865.0, 12969.0, 93531.0, 35046.0, 13906.0, 41943.0, 13611.7160671161, 10628.649841760698, 8733.846868598028, 8298.617025743824, 8199.638536566634, 8050.657199397543, 5214.427962163751, 5178.598875938129, 4691.31803875645, 4621.299072774208, 3614.4446235984715, 4591.109596340713, 3506.659669233296, 2666.4599668319306, 2252.678941638547, 2246.857267430726, 2012.7929357231242, 2019.643383556969, 1565.856288267087, 1221.8731508368894, 1221.9496899651733, 2071.4013826543714, 1119.3975207317585, 1117.3229734890883, 1093.8116730950724, 1094.0495162818381, 1078.0838614948423, 1065.7620019327649, 1059.9444014554158, 1005.6537954601984, 4465.6120618849545, 14599.492923129379, 80022.60153284777, 7547.770840870752, 46512.360405912375, 29396.07167301998, 9542.424708259303, 5657.719090893516, 55630.973624465536, 21294.825635170386, 30775.737640036063, 11977.213816717647, 7452.641713625357, 12564.119299402091, 6448.5210509599565, 22128.170502643552, 28464.092389912534, 13833.889806304822, 23210.524338741383, 39314.863325729704, 122469.05302965031, 16029.065222061576, 52192.965714595426, 23353.952241186016, 20263.07630571873, 29068.684130121437, 13531.77318034112, 27634.329898343327, 38924.216389156856, 14900.936443473616, 18222.55097976426, 13042.965634324233, 16456.859566713436, 18254.81993892157, 14222.755582569924, 14371.015556081657, 14430.809145216263, 15205.637694739617, 34282.0954652029, 9409.394525652187, 7595.750089991528, 2719.1500732729314, 2531.613555042025, 2337.6931841513974, 1486.4742514728296, 1490.8564159031375, 1406.4828851389138, 1401.2051219616837, 1305.0636572766318, 1185.4637986899686, 1124.5595081789627, 1116.7717085349466, 1020.1746970824291, 1010.2807981759547, 931.4939728237258, 925.2536257391039, 866.2037633760864, 854.8250466109773, 801.330006153859, 805.3251584559723, 796.7902120532284, 798.0244315134862, 781.7091348840383, 783.0608763518109, 772.7402748217031, 671.7826128560748, 671.4439325474004, 646.5519131829228, 2344.220304004863, 1412.7558904690316, 1946.2886411280654, 3697.825913965511, 9971.485362518637, 2670.852580667427, 6362.394523760537, 3916.068096021884, 2350.5769811902296, 1352.9201443772638, 1662.9955249081158, 2126.355479631849, 4270.245338137425, 43465.098265450026, 2527.2323441371327, 3683.993597519172, 7101.951220177437, 11316.898282105523, 21835.245727072626, 3881.357387068114, 4478.341294624131, 39733.85033213039, 23486.68309365142, 14558.029384004725, 6489.512811061213, 100737.09961785357, 7715.760798841784, 17904.598465822368, 27318.230458422993, 22619.238138160472, 4946.610474951833, 8144.798606218743, 5138.863606652689, 5964.329605706861, 7836.217757586701, 15947.1805144208, 12354.900328745729, 10768.060494995232, 13669.974930173641, 20979.643557247655, 7449.826851200383, 7793.622346968519, 22886.549453265197, 8858.869952081097, 7515.129516073768, 9438.908044326374, 7995.851261570943, 8381.043109746715, 13905.068131420816, 9570.506408577363, 8687.50956196374, 7888.531005209583, 6848.1912138308935, 5380.910827386782, 4574.551114117297, 4145.03760123233, 3691.8778526412925, 3593.248314531251, 3529.7577578743158, 3148.207093729896, 2742.5254729763706, 2473.0256863813684, 2237.6299780287018, 2145.143522040733, 2087.0733448405954, 2077.763813567393, 2002.8056886267677, 1712.5469740353751, 10084.375370396176, 1562.9055963735286, 1142.68223906171, 1062.4868733433248, 933.3909625755838, 890.9155967050135, 848.4055297219179, 844.7083834303378, 837.7528902464135, 783.4471269518841, 3448.4109063431415, 1155.9553598690377, 4791.1364112021265, 4404.422396661506, 4290.2489494847505, 2707.3144620846465, 13794.889800340983, 11514.944825936505, 33900.8107286884, 9818.377878419898, 10009.579475893286, 96531.61700038484, 4144.90842989864, 14752.811274922258, 34128.16628778945, 17277.959345923475, 5564.079281511402, 8160.5299287098005, 17645.324370415103, 7766.890141338729, 24950.20236705018, 7845.645246686465, 13304.775227853399, 11924.725337722834, 6387.630166753852, 10509.95594457196, 18424.659251331886, 11883.230250914297, 20295.354411090488, 31818.362155462848, 11691.922689160388, 9763.065399726822, 13502.49319070978, 11863.804633802949, 9307.660697143136, 9697.561083871098, 10552.63590469903, 9486.997798149814, 8891.005643190902, 9712.470694952299, 6393.021486942442, 5345.629165745544, 3501.0159147906893, 5105.925294730858, 2797.54172742066, 2849.656763502942, 2125.944134873699, 2021.851159436816, 1901.844465190929, 1356.9895861098903, 1354.7057522436378, 1161.4933577544577, 1170.8074130077139, 1126.4231502398268, 1088.8450606931665, 1072.2407943125754, 1067.0764470382467, 1018.673768022535, 993.6038404629556, 970.5064383893416, 892.608510008259, 840.4437609233725, 814.0360286738188, 708.6899150395967, 720.0414623362595, 699.1915202673647, 679.115124870058, 678.113701205163, 641.231778960819, 19785.52307518349, 4810.113044030857, 9927.068820343418, 4918.789496552627, 5892.0171814758605, 5873.295449960716, 10813.857883038054, 4159.8580771984825, 4578.677958353787, 4036.1266748294775, 1642.7437539101957, 8538.204368558376, 2378.2490478207055, 18158.458122986758, 6746.071003896225, 5058.77291316948, 4572.368544626913, 5507.893394332354, 27903.101838119273, 3231.3382527246877, 1937.796167611376, 14566.689855957587, 8333.940619201927, 4927.293940049175, 12092.4936015144, 5398.014936987353, 8340.093421531776, 5075.676075118527, 3811.820371970663, 9135.187252331072, 7914.313967032921, 6752.196139859407, 5453.310617151823, 5547.975537083514, 59899.04787956075, 14697.02316422539, 10289.313159065878, 8379.646111753831, 8250.284860804113, 3204.3905849032644, 2371.9585761251756, 2222.0634751893745, 1814.1001531291129, 1814.564577967199, 1666.5650434691681, 1275.6538815749172, 1261.5057755169398, 1245.5067367335662, 1224.6372880763092, 1216.8620433297447, 1198.7188946956717, 1168.1185159761883, 1148.0256678887542, 1144.220090867227, 1081.11296641286, 1041.3136836750043, 1058.4521183346128, 1018.8035882375312, 995.2536444164363, 984.9023968414173, 943.8059387047209, 884.3203260061281, 854.630318866149, 889.9030534938205, 16815.64261069871, 2678.1565134624657, 2766.4149300308636, 6130.802409139929, 4216.978050332457, 1632.7017191584794, 3570.1132382352653, 3152.148321034823, 3587.264295256682, 1451.784886848187, 7233.420106378591, 2261.1587034059453, 3917.595928116848, 4009.9726179482755, 4186.890764114116, 2614.6306389019173, 2765.831438583966, 2026.5312491793088, 4513.2985341085905, 4820.10468710663, 2070.8954676225394, 1850.5305014748049, 2163.2760612772067, 1883.1300280753526], \"Total\": [59900.0, 158342.0, 86602.0, 255086.0, 62300.0, 22178.0, 34283.0, 19951.0, 14698.0, 44242.0, 54736.0, 33928.0, 27827.0, 72436.0, 64176.0, 60917.0, 10290.0, 31383.0, 77921.0, 17192.0, 40507.0, 34159.0, 8380.0, 8251.0, 46865.0, 12969.0, 93531.0, 35046.0, 13906.0, 41943.0, 13612.737059685247, 10629.670728238214, 8734.867976487167, 8299.632276104394, 8200.653251709966, 8051.674072318969, 5215.443074191557, 5179.616672134252, 4692.336330136085, 4622.324550294684, 3615.47222244662, 4592.433020598366, 3507.6753346879063, 2667.4685059423978, 2253.698820627117, 2247.887138505924, 2013.805019825537, 2020.6611424540463, 1566.9146978081199, 1222.8840948811721, 1222.9900605665107, 2073.2335815310707, 1120.4052468683844, 1118.3405716727032, 1094.8263858702985, 1095.0737397162968, 1079.1124108115841, 1066.7801198011373, 1060.9582866604171, 1006.669792606221, 4518.418841533271, 15070.014480830243, 86602.32058139099, 7900.406787196918, 54736.57984716279, 34159.256035031256, 10564.769523773377, 6172.35817950627, 72436.69676548961, 26023.31833360134, 40507.2874110346, 14495.39656915786, 8639.2315715569, 15669.01381293493, 7425.06461664949, 30360.72223964426, 41126.186359114705, 17991.968299875854, 32862.70091484834, 63223.03138185961, 255086.30649837738, 21906.10090888527, 93531.84394910808, 35046.561341999644, 29640.950998668228, 49258.629480679825, 20177.915934038196, 77921.34957777084, 158342.91545484492, 28211.070891485408, 46034.06937925159, 22534.540409967787, 41943.81876472104, 59076.07669276074, 30633.36626950264, 32743.79990753935, 41076.50430722083, 60917.78454107978, 34283.249793809926, 9410.541773205581, 7596.900717429625, 2720.32140764432, 2532.7612689945017, 2338.84228201595, 1487.663343087973, 1492.0688144738872, 1407.6345400330065, 1402.3578144560838, 1306.2113570560734, 1186.6162383440728, 1125.7093903466318, 1117.9162360621465, 1021.333858995007, 1011.4291419885063, 932.6486088970195, 926.4007754957095, 867.3508132924412, 855.9713628455829, 802.4769807823454, 806.4836798674211, 797.9410671370094, 799.1771596708267, 782.8544888591917, 784.2091879979132, 773.9190652246537, 672.9308182124308, 672.5993313545282, 647.6977676675687, 2348.783142763882, 1434.228377348981, 2009.7063377518332, 3918.2135710674497, 11122.392087847742, 2822.102928460587, 7208.243606794186, 4306.935124300755, 2533.7253568973597, 1401.3550966907114, 1749.5784875634904, 2280.246553347267, 4876.010281121274, 64176.147839765035, 2798.250900856965, 4254.0275503081375, 9013.410680398201, 15763.52296819252, 33928.82814643959, 4672.2536714697035, 5641.114370268189, 77921.34957777084, 41943.81876472104, 23738.010370556418, 8988.09919906726, 255086.30649837738, 11259.053151163143, 31912.13890248686, 59076.07669276074, 46865.93102752806, 6628.110959087502, 13336.40174873397, 7280.162771127247, 9340.146052692986, 14350.13290488073, 46034.06937925159, 31383.07291617728, 25676.180531744572, 41076.50430722083, 93531.84394910808, 14441.666112838928, 15856.404885011216, 158342.91545484492, 23790.700872227102, 17850.480683702375, 41126.186359114705, 23694.542760906057, 49258.629480679825, 13906.03268581398, 9571.475450360893, 8688.489098547667, 7889.504735050654, 6849.171819251753, 5381.885478308066, 4575.517251856975, 4146.0129136569285, 3692.851946992809, 3594.2260588854906, 3530.725122577056, 3149.188284614315, 2743.4938023430586, 2473.9958219909076, 2238.593532766343, 2146.112985589968, 2088.0549970615075, 2078.74194388224, 2003.7780032026085, 1713.5283781326868, 10090.551856640077, 1563.9212110131634, 1143.6546516009248, 1063.451571273923, 934.3639515940358, 891.8850568845421, 849.370354664157, 845.6930238809122, 838.7337667991399, 784.4247276021114, 3454.3664422117345, 1158.6005747512709, 4924.3684456050705, 4592.958950010905, 4474.423776859917, 2800.2878722785904, 15899.110324975949, 13643.278543488508, 44242.56776359797, 11574.482060288708, 11861.81922680211, 158342.91545484492, 4725.73160451414, 21451.09997568618, 60917.78454107978, 28308.673663435155, 7104.815192988885, 11711.785886044654, 32743.79990753935, 11023.45263046469, 62300.74318633675, 12034.718949487487, 28211.070891485408, 23732.273150113855, 9209.507037580881, 22770.897667577927, 63223.03138185961, 30633.36626950264, 93531.84394910808, 255086.30649837738, 35046.561341999644, 23816.608562032005, 59076.07669276074, 46034.06937925159, 25676.180531744572, 40507.2874110346, 77921.34957777084, 49258.629480679825, 72436.69676548961, 9713.489167551443, 6394.042518421696, 5346.639386848841, 3502.043323592641, 5107.779274349458, 2798.5591545572447, 2850.8629155939866, 2126.9710276228398, 2022.8626206270765, 1902.876018895109, 1358.0066212187264, 1355.7525961481372, 1162.5131056464681, 1171.8467620427923, 1127.434061005579, 1089.850530383191, 1073.2531123001136, 1068.094547807978, 1019.7002637846969, 994.6158162163083, 971.546439371495, 893.6536192800836, 841.508986487405, 815.0695414959417, 709.7166895492877, 721.0985106164167, 700.2253689703833, 680.1354289848505, 679.1701649578225, 642.2496517008258, 19951.93432414538, 4856.069070248076, 10742.569376220861, 5286.602011277828, 6408.548826806272, 6556.964726869861, 12969.789735685026, 4699.26328077417, 5266.847517847357, 4703.377385582245, 1738.6858313499554, 11220.781483520379, 2654.5865609048387, 27827.001306288166, 9078.34885734025, 6629.172753372323, 5894.498286858877, 7524.426720316139, 62300.74318633675, 4106.366775357963, 2158.7317379458973, 31383.07291617728, 17692.501317151087, 8136.478034541925, 33928.82814643959, 9735.41430265265, 23816.608562032005, 10216.959972065433, 5883.488245348, 60917.78454107978, 72436.69676548961, 44242.56776359797, 21451.09997568618, 64176.147839765035, 59900.09194998472, 14698.069312101044, 10290.360382288905, 8380.696486795809, 8251.33082878937, 3205.451451117959, 2373.008399273574, 2223.138294338869, 1815.154898868744, 1815.6243244092018, 1667.6052019424346, 1276.6959120282154, 1262.550081405593, 1246.5468131124294, 1225.6776151345648, 1217.9019826996512, 1199.7629725755196, 1169.1810092053347, 1149.0783995297697, 1145.2719163546767, 1082.1613453530374, 1042.3700358260742, 1059.544991332966, 1019.8657757379079, 996.3085489790155, 985.9731214319055, 944.8592775399574, 885.3697826257905, 855.6741217364936, 891.0045457848863, 22178.92398407823, 2973.2782274185597, 3101.5082764499375, 7941.025094387794, 5641.636883255413, 1810.2090402759175, 4761.758656360468, 4266.027113430544, 5294.648769008118, 1625.8913342749825, 17192.180036109534, 3238.298264414175, 7760.564583297476, 8620.340803573483, 9628.921233542496, 4926.531823815433, 7371.434618895319, 3764.5002739601214, 27827.001306288166, 46865.93102752806, 5883.488245348, 4937.828782679675, 28308.673663435155, 13333.121666081282], \"Category\": [\"Default\", \"Default\", \"Default\", \"Default\", \"Default\", \"Default\", \"Default\", \"Default\", \"Default\", \"Default\", \"Default\", \"Default\", \"Default\", \"Default\", \"Default\", \"Default\", \"Default\", \"Default\", \"Default\", \"Default\", \"Default\", \"Default\", \"Default\", \"Default\", \"Default\", \"Default\", \"Default\", \"Default\", \"Default\", \"Default\", \"Topic1\", \"Topic1\", \"Topic1\", \"Topic1\", \"Topic1\", \"Topic1\", \"Topic1\", \"Topic1\", \"Topic1\", \"Topic1\", \"Topic1\", \"Topic1\", \"Topic1\", \"Topic1\", \"Topic1\", \"Topic1\", \"Topic1\", \"Topic1\", \"Topic1\", \"Topic1\", \"Topic1\", \"Topic1\", \"Topic1\", \"Topic1\", \"Topic1\", \"Topic1\", \"Topic1\", \"Topic1\", \"Topic1\", \"Topic1\", \"Topic1\", \"Topic1\", \"Topic1\", \"Topic1\", \"Topic1\", \"Topic1\", \"Topic1\", \"Topic1\", \"Topic1\", \"Topic1\", \"Topic1\", \"Topic1\", \"Topic1\", \"Topic1\", \"Topic1\", \"Topic1\", \"Topic1\", \"Topic1\", \"Topic1\", \"Topic1\", \"Topic1\", \"Topic1\", \"Topic1\", \"Topic1\", \"Topic1\", \"Topic1\", \"Topic1\", \"Topic1\", \"Topic1\", \"Topic1\", \"Topic1\", \"Topic1\", \"Topic1\", \"Topic1\", \"Topic1\", \"Topic1\", \"Topic1\", \"Topic1\", \"Topic2\", \"Topic2\", \"Topic2\", \"Topic2\", \"Topic2\", \"Topic2\", \"Topic2\", \"Topic2\", \"Topic2\", \"Topic2\", \"Topic2\", \"Topic2\", \"Topic2\", \"Topic2\", \"Topic2\", \"Topic2\", \"Topic2\", \"Topic2\", \"Topic2\", \"Topic2\", \"Topic2\", \"Topic2\", \"Topic2\", \"Topic2\", \"Topic2\", \"Topic2\", \"Topic2\", \"Topic2\", \"Topic2\", \"Topic2\", \"Topic2\", \"Topic2\", \"Topic2\", \"Topic2\", \"Topic2\", \"Topic2\", \"Topic2\", \"Topic2\", \"Topic2\", \"Topic2\", \"Topic2\", \"Topic2\", \"Topic2\", \"Topic2\", \"Topic2\", \"Topic2\", \"Topic2\", \"Topic2\", \"Topic2\", \"Topic2\", \"Topic2\", \"Topic2\", \"Topic2\", \"Topic2\", \"Topic2\", \"Topic2\", \"Topic2\", \"Topic2\", \"Topic2\", \"Topic2\", \"Topic2\", \"Topic2\", \"Topic2\", \"Topic2\", \"Topic2\", \"Topic2\", \"Topic2\", \"Topic2\", \"Topic2\", \"Topic2\", \"Topic2\", \"Topic2\", \"Topic2\", \"Topic2\", \"Topic2\", \"Topic2\", \"Topic2\", \"Topic2\", \"Topic3\", \"Topic3\", \"Topic3\", \"Topic3\", \"Topic3\", \"Topic3\", \"Topic3\", \"Topic3\", \"Topic3\", \"Topic3\", \"Topic3\", \"Topic3\", \"Topic3\", \"Topic3\", \"Topic3\", \"Topic3\", \"Topic3\", \"Topic3\", \"Topic3\", \"Topic3\", \"Topic3\", \"Topic3\", \"Topic3\", \"Topic3\", \"Topic3\", \"Topic3\", \"Topic3\", \"Topic3\", \"Topic3\", \"Topic3\", \"Topic3\", \"Topic3\", \"Topic3\", \"Topic3\", \"Topic3\", \"Topic3\", \"Topic3\", \"Topic3\", \"Topic3\", \"Topic3\", \"Topic3\", \"Topic3\", \"Topic3\", \"Topic3\", \"Topic3\", \"Topic3\", \"Topic3\", \"Topic3\", \"Topic3\", \"Topic3\", \"Topic3\", \"Topic3\", \"Topic3\", \"Topic3\", \"Topic3\", \"Topic3\", \"Topic3\", \"Topic3\", \"Topic3\", \"Topic3\", \"Topic3\", \"Topic3\", \"Topic3\", \"Topic3\", \"Topic3\", \"Topic3\", \"Topic3\", \"Topic3\", \"Topic3\", \"Topic4\", \"Topic4\", \"Topic4\", \"Topic4\", \"Topic4\", \"Topic4\", \"Topic4\", \"Topic4\", \"Topic4\", \"Topic4\", \"Topic4\", \"Topic4\", \"Topic4\", \"Topic4\", \"Topic4\", \"Topic4\", \"Topic4\", \"Topic4\", \"Topic4\", \"Topic4\", \"Topic4\", \"Topic4\", \"Topic4\", \"Topic4\", \"Topic4\", \"Topic4\", \"Topic4\", \"Topic4\", \"Topic4\", \"Topic4\", \"Topic4\", \"Topic4\", \"Topic4\", \"Topic4\", \"Topic4\", \"Topic4\", \"Topic4\", \"Topic4\", \"Topic4\", \"Topic4\", \"Topic4\", \"Topic4\", \"Topic4\", \"Topic4\", \"Topic4\", \"Topic4\", \"Topic4\", \"Topic4\", \"Topic4\", \"Topic4\", \"Topic4\", \"Topic4\", \"Topic4\", \"Topic4\", \"Topic4\", \"Topic4\", \"Topic4\", \"Topic4\", \"Topic4\", \"Topic4\", \"Topic4\", \"Topic4\", \"Topic4\", \"Topic4\", \"Topic5\", \"Topic5\", \"Topic5\", \"Topic5\", \"Topic5\", \"Topic5\", \"Topic5\", \"Topic5\", \"Topic5\", \"Topic5\", \"Topic5\", \"Topic5\", \"Topic5\", \"Topic5\", \"Topic5\", \"Topic5\", \"Topic5\", \"Topic5\", \"Topic5\", \"Topic5\", \"Topic5\", \"Topic5\", \"Topic5\", \"Topic5\", \"Topic5\", \"Topic5\", \"Topic5\", \"Topic5\", \"Topic5\", \"Topic5\", \"Topic5\", \"Topic5\", \"Topic5\", \"Topic5\", \"Topic5\", \"Topic5\", \"Topic5\", \"Topic5\", \"Topic5\", \"Topic5\", \"Topic5\", \"Topic5\", \"Topic5\", \"Topic5\", \"Topic5\", \"Topic5\", \"Topic5\", \"Topic5\", \"Topic5\", \"Topic5\", \"Topic5\", \"Topic5\", \"Topic5\", \"Topic5\"], \"logprob\": [30.0, 29.0, 28.0, 27.0, 26.0, 25.0, 24.0, 23.0, 22.0, 21.0, 20.0, 19.0, 18.0, 17.0, 16.0, 15.0, 14.0, 13.0, 12.0, 11.0, 10.0, 9.0, 8.0, 7.0, 6.0, 5.0, 4.0, 3.0, 2.0, 1.0, -5.287, -5.5344, -5.7308, -5.7819, -5.7939, -5.8122, -6.2465, -6.2534, -6.3522, -6.3673, -6.613, -6.3738, -6.6433, -6.9172, -7.0858, -7.0884, -7.1984, -7.195, -7.4495, -7.6976, -7.6975, -7.1697, -7.7852, -7.787, -7.8083, -7.8081, -7.8228, -7.8343, -7.8397, -7.8923, -6.4015, -5.217, -3.5156, -5.8767, -4.0582, -4.5171, -5.6422, -6.1649, -3.8792, -4.8395, -4.4712, -5.415, -5.8894, -5.3671, -6.0341, -4.8011, -4.5493, -5.2708, -4.7534, -4.2264, -3.0901, -5.1236, -3.943, -4.7472, -4.8892, -4.5283, -5.2929, -4.5789, -4.2363, -5.1965, -4.9953, -5.3297, -5.0972, -4.9935, -5.2431, -5.2327, -5.2286, -5.1763, -4.0898, -5.3828, -5.5969, -6.6241, -6.6956, -6.7753, -7.2281, -7.2251, -7.2834, -7.2871, -7.3582, -7.4543, -7.5071, -7.514, -7.6045, -7.6142, -7.6954, -7.7022, -7.7681, -7.7813, -7.8459, -7.841, -7.8516, -7.8501, -7.8707, -7.869, -7.8823, -8.0223, -8.0228, -8.0606, -6.7725, -7.2789, -6.9585, -6.3167, -5.3247, -6.6421, -5.7741, -6.2594, -6.7698, -7.3222, -7.1158, -6.8701, -6.1728, -3.8525, -6.6973, -6.3205, -5.6641, -5.1982, -4.5409, -6.2683, -6.1252, -3.9423, -4.468, -4.9463, -5.7543, -3.0119, -5.5812, -4.7394, -4.3169, -4.5057, -6.0258, -5.5271, -5.9876, -5.8387, -5.5657, -4.8552, -5.1104, -5.2479, -5.0093, -4.5809, -5.6163, -5.5712, -4.4939, -5.443, -5.6075, -5.3796, -5.5455, -5.4985, -4.9071, -5.2807, -5.3775, -5.474, -5.6154, -5.8565, -6.0189, -6.1175, -6.2332, -6.2603, -6.2781, -6.3925, -6.5305, -6.6339, -6.7339, -6.7762, -6.8036, -6.8081, -6.8448, -7.0014, -5.2284, -7.0928, -7.406, -7.4788, -7.6083, -7.6549, -7.7038, -7.7081, -7.7164, -7.7834, -6.3015, -7.3944, -5.9726, -6.0568, -6.083, -6.5434, -4.9151, -5.0957, -4.0159, -5.2551, -5.2358, -2.9695, -6.1175, -4.8479, -4.0092, -4.6899, -5.823, -5.4401, -4.6689, -5.4895, -4.3225, -5.4794, -4.9512, -5.0607, -5.685, -5.187, -4.6257, -5.0642, -4.529, -4.0793, -5.0805, -5.2608, -4.9365, -5.0659, -5.3085, -5.2675, -5.183, -5.2894, -5.3543, -4.6935, -5.1117, -5.2906, -5.7139, -5.3365, -5.9382, -5.9197, -6.2127, -6.2629, -6.3241, -6.6616, -6.6633, -6.8172, -6.8092, -6.8479, -6.8818, -6.8972, -6.902, -6.9484, -6.9733, -6.9969, -7.0805, -7.1407, -7.1727, -7.3113, -7.2954, -7.3247, -7.3539, -7.3554, -7.4113, -3.982, -5.3962, -4.6717, -5.3739, -5.1933, -5.1965, -4.5861, -5.5414, -5.4455, -5.5716, -6.4705, -4.8224, -6.1006, -4.0678, -5.058, -5.3458, -5.4469, -5.2607, -3.6382, -5.794, -6.3054, -4.2882, -4.8466, -5.3721, -4.4743, -5.2809, -4.8458, -5.3425, -5.6288, -4.7548, -4.8982, -5.0571, -5.2707, -5.2535, -2.2333, -3.6383, -3.9949, -4.2002, -4.2157, -5.1614, -5.4622, -5.5275, -5.7304, -5.7301, -5.8152, -6.0825, -6.0937, -6.1064, -6.1233, -6.1297, -6.1447, -6.1706, -6.1879, -6.1912, -6.248, -6.2855, -6.2692, -6.3073, -6.3307, -6.3412, -6.3838, -6.4489, -6.483, -6.4426, -3.5036, -5.3408, -5.3084, -4.5126, -4.8868, -5.8357, -5.0534, -5.1779, -5.0486, -5.9532, -4.3472, -5.5101, -4.9605, -4.9372, -4.894, -5.3648, -5.3086, -5.6196, -4.8189, -4.7532, -5.598, -5.7105, -5.5543, -5.693], \"loglift\": [30.0, 29.0, 28.0, 27.0, 26.0, 25.0, 24.0, 23.0, 22.0, 21.0, 20.0, 19.0, 18.0, 17.0, 16.0, 15.0, 14.0, 13.0, 12.0, 11.0, 10.0, 9.0, 8.0, 7.0, 6.0, 5.0, 4.0, 3.0, 2.0, 1.0, 1.1187, 1.1187, 1.1187, 1.1187, 1.1187, 1.1187, 1.1186, 1.1186, 1.1186, 1.1186, 1.1185, 1.1185, 1.1185, 1.1184, 1.1183, 1.1183, 1.1183, 1.1183, 1.1181, 1.118, 1.1179, 1.1179, 1.1179, 1.1179, 1.1179, 1.1179, 1.1178, 1.1178, 1.1178, 1.1178, 1.107, 1.0871, 1.0398, 1.0731, 0.956, 0.9686, 1.017, 1.0317, 0.8548, 0.9183, 0.844, 0.928, 0.971, 0.898, 0.9778, 0.8025, 0.7508, 0.856, 0.7711, 0.6437, 0.385, 0.8064, 0.5354, 0.7129, 0.7384, 0.5914, 0.7192, 0.0821, -0.2844, 0.4805, 0.1921, 0.572, 0.1832, -0.0556, 0.3515, 0.2953, 0.0727, -0.2691, 1.3923, 1.3922, 1.3921, 1.3919, 1.3918, 1.3918, 1.3915, 1.3915, 1.3915, 1.3915, 1.3914, 1.3913, 1.3913, 1.3913, 1.3911, 1.3911, 1.391, 1.391, 1.391, 1.3909, 1.3909, 1.3908, 1.3908, 1.3908, 1.3908, 1.3908, 1.3908, 1.3906, 1.3906, 1.3905, 1.3903, 1.3772, 1.3602, 1.3344, 1.2831, 1.3372, 1.2675, 1.2971, 1.3173, 1.3571, 1.3415, 1.3224, 1.2596, 1.0026, 1.2904, 1.2484, 1.1539, 1.0609, 0.9515, 1.2068, 1.1615, 0.7188, 0.8124, 0.9033, 1.0666, 0.4632, 1.0144, 0.8144, 0.621, 0.6638, 1.0997, 0.8992, 1.044, 0.9438, 0.7873, 0.3322, 0.4601, 0.5233, 0.292, -0.1025, 0.7304, 0.682, -0.5419, 0.4044, 0.5272, -0.0795, 0.306, -0.3788, 1.4773, 1.4773, 1.4773, 1.4773, 1.4772, 1.4772, 1.4772, 1.4771, 1.4771, 1.4771, 1.4771, 1.4771, 1.477, 1.477, 1.477, 1.4769, 1.4769, 1.4769, 1.4769, 1.4768, 1.4768, 1.4767, 1.4765, 1.4765, 1.4763, 1.4763, 1.4762, 1.4762, 1.4762, 1.4761, 1.4757, 1.4751, 1.45, 1.4355, 1.4354, 1.4436, 1.3354, 1.3078, 1.2111, 1.3128, 1.3076, 0.9825, 1.3462, 1.103, 0.898, 0.9836, 1.2329, 1.1161, 0.8591, 1.1272, 0.5623, 1.0495, 0.7258, 0.7892, 1.1115, 0.7042, 0.2444, 0.5304, -0.0505, -0.6042, 0.3796, 0.5856, 0.0014, 0.1215, 0.4627, 0.0478, -0.5219, -0.1698, -0.6203, 2.0497, 2.0497, 2.0496, 2.0495, 2.0495, 2.0495, 2.0494, 2.0493, 2.0493, 2.0493, 2.0491, 2.0491, 2.049, 2.0489, 2.0489, 2.0489, 2.0489, 2.0489, 2.0488, 2.0488, 2.0488, 2.0487, 2.0486, 2.0486, 2.0484, 2.0484, 2.0484, 2.0483, 2.0483, 2.0482, 2.0415, 2.0403, 1.9709, 1.9777, 1.9658, 1.9397, 1.868, 1.9279, 1.9098, 1.8968, 1.9931, 1.7766, 1.9399, 1.623, 1.7529, 1.7795, 1.7958, 1.7379, 1.2466, 1.8102, 1.9419, 1.2823, 1.297, 1.5483, 1.0181, 1.4601, 1.0005, 1.3502, 1.6158, 0.1524, -0.1642, 0.17, 0.6803, -0.3984, 2.6908, 2.6907, 2.6907, 2.6907, 2.6907, 2.6905, 2.6903, 2.6903, 2.6902, 2.6902, 2.6902, 2.69, 2.69, 2.69, 2.6899, 2.6899, 2.6899, 2.6899, 2.6899, 2.6899, 2.6898, 2.6898, 2.6898, 2.6897, 2.6897, 2.6897, 2.6897, 2.6896, 2.6896, 2.6896, 2.414, 2.5863, 2.5765, 2.4321, 2.3997, 2.5876, 2.4028, 2.3882, 2.3015, 2.5775, 1.825, 2.3316, 2.0072, 1.9254, 1.858, 2.0573, 1.7105, 2.0715, 0.8718, 0.4163, 1.6466, 1.7093, 0.1192, 0.7335]}, \"token.table\": {\"Topic\": [1, 2, 3, 4, 1, 2, 3, 4, 3, 2, 4, 5, 1, 3, 4, 5, 5, 1, 2, 2, 5, 2, 5, 3, 3, 1, 5, 3, 1, 2, 3, 1, 3, 1, 4, 5, 3, 1, 4, 2, 2, 4, 2, 1, 2, 3, 4, 1, 2, 3, 4, 5, 4, 2, 5, 1, 2, 3, 1, 2, 1, 2, 4, 3, 1, 2, 3, 4, 4, 1, 2, 3, 4, 5, 2, 4, 5, 2, 4, 5, 1, 4, 4, 3, 1, 3, 4, 1, 1, 1, 3, 4, 5, 1, 2, 3, 4, 1, 2, 3, 5, 5, 5, 1, 3, 4, 2, 3, 4, 1, 3, 2, 3, 4, 1, 3, 2, 2, 3, 1, 2, 3, 4, 1, 2, 3, 3, 4, 3, 5, 1, 2, 1, 2, 4, 4, 3, 4, 4, 2, 3, 5, 2, 4, 1, 2, 3, 4, 1, 3, 4, 2, 1, 2, 3, 1, 2, 3, 5, 3, 2, 2, 3, 4, 3, 4, 1, 2, 3, 4, 4, 2, 3, 1, 2, 3, 2, 3, 1, 2, 4, 2, 5, 3, 1, 1, 2, 3, 4, 5, 3, 4, 5, 3, 4, 1, 2, 3, 4, 1, 1, 2, 3, 4, 1, 2, 3, 4, 5, 2, 4, 3, 3, 1, 2, 3, 5, 1, 2, 3, 1, 2, 3, 1, 3, 2, 1, 3, 4, 1, 2, 3, 4, 1, 3, 4, 1, 2, 4, 5, 5, 2, 2, 1, 2, 3, 5, 2, 3, 4, 4, 3, 3, 1, 2, 3, 2, 1, 2, 3, 2, 4, 5, 1, 1, 2, 3, 1, 3, 4, 1, 2, 3, 4, 2, 1, 3, 2, 2, 4, 1, 2, 3, 3, 5, 2, 3, 4, 3, 4, 1, 2, 3, 1, 2, 3, 4, 1, 2, 3, 5, 1, 1, 2, 3, 4, 1, 3, 1, 4, 1, 2, 3, 4, 2, 2, 1, 2, 3, 5, 1, 2, 3, 4, 5, 2, 4, 3, 4, 1, 2, 1, 1, 2, 3, 4, 1, 3, 4, 1, 1, 2, 3, 1, 2, 3, 4, 5, 3, 1, 2, 3, 4, 5, 1, 3, 4, 5, 1, 1, 3, 1, 2, 3, 4, 5, 2, 1, 3, 4, 1, 2, 3, 4, 1, 2, 3, 2, 2, 5, 5, 5, 1, 3, 1, 2, 3, 5, 5, 4, 4, 1, 2, 3, 4, 2, 3, 4, 3, 1, 2, 3, 5, 4, 2, 4, 3, 1, 1, 3, 2, 2, 3, 4, 3, 5, 1, 2, 3, 5, 4, 5, 4, 1, 2, 3, 4, 3, 3, 4, 3, 1, 1, 3, 1, 1, 2, 3, 4, 1, 2, 3, 1, 2, 3, 4, 2, 1, 1, 2, 3, 4, 4, 1, 2, 1, 2, 2, 3, 4, 5, 5, 2, 3, 5, 2, 3, 1, 2, 3, 4, 3, 1, 2, 3, 4, 5, 1, 4, 4, 5, 2, 3, 5, 2, 3, 5, 1, 2, 4, 1, 2, 3, 4, 4, 3, 1, 3, 1, 3, 1, 2, 3, 4, 1, 2, 3, 1, 2, 3, 5, 3, 5, 1, 1, 2, 3, 4, 4, 1, 2, 3, 4, 5, 1, 2, 1, 2, 3, 4, 2, 3, 1, 5, 4, 5, 1, 2, 3, 4, 1, 3, 4, 5, 1, 3, 4, 1, 2, 3, 5, 3, 4, 3, 4, 1, 2, 4, 1, 2, 3, 1, 2, 5, 1, 2, 3, 4, 2, 5, 1, 1, 3, 1, 5, 5, 5, 4, 4, 1, 2, 3, 4, 5, 1, 2, 3, 4, 5, 2, 4, 5, 5, 1, 2, 3, 4, 1, 1, 5, 2, 5], \"Freq\": [0.2727657639183596, 0.4209970663065254, 0.27623905974151386, 0.029971181699799215, 0.07142253326946796, 0.1499703548936097, 0.0028840452864155705, 0.7756385323230582, 0.9996430803330719, 0.999180407232143, 0.6479149513070074, 0.3520020630002131, 0.0801661974799313, 0.16127923981198777, 0.00036070280080958966, 0.7581972873017575, 0.9986856530992005, 0.034252560334887, 0.9654940444396274, 0.4950670738916173, 0.5048601758218003, 0.2278043424492494, 0.7720665691300984, 0.9999503263249895, 0.9998869522660492, 0.9992770411481572, 0.9995471929180356, 0.9994109607270006, 0.5281968932451048, 0.00017723538462019486, 0.47162335847433856, 0.999334645172488, 0.998183729359901, 0.0701153869245726, 0.03690283522345926, 0.8930486124077142, 0.9986350377270268, 0.9989226580396111, 0.00048233831870575137, 0.998908495932064, 0.9505146592856992, 0.04915469675199647, 0.9989226955805616, 0.09572576703037619, 0.7938147865963419, 0.10990736214598748, 0.0003545398778902822, 0.14833122747914346, 0.49153638901889624, 0.316528244352815, 0.04357860467180617, 0.9990905761732112, 0.9995735644040874, 0.9990317631904733, 0.9985418350843013, 0.8605573836225705, 0.0002634717802627274, 0.1391716492632229, 0.9990194818144621, 0.9984425986904727, 0.8018373172680651, 0.11698247393762841, 0.08117932724967994, 0.999691643196909, 0.22071497579680824, 0.08534689204947002, 0.2229192994987482, 0.47104701876839944, 0.9998466907693254, 0.8262623200998652, 0.03773611831799502, 0.061260828274916954, 0.013935458684159036, 0.06077791634031738, 0.5638222463683672, 0.0013500993189885383, 0.43483583450807767, 0.6249710420954047, 0.0002025181601086859, 0.3748611143611776, 0.3942737860756244, 0.6055445586018084, 0.9992774123117291, 0.9985402352137955, 0.9994162427543762, 0.05463896828689277, 0.9449665778459455, 0.9996899227968169, 0.9997152100697679, 0.038187453891908744, 0.848245299345611, 0.11343920126714069, 0.9998678003259005, 0.7288364165166604, 0.17792725605671547, 0.09245498107204744, 0.0007904950287599354, 0.13825279672652027, 0.09802349931839346, 0.0859358231018671, 0.6774764779481259, 0.9988894197644127, 0.9990615091796947, 0.08112096972257944, 0.7662529937490014, 0.15261320355721827, 0.9990726178810728, 0.9990076558882669, 0.9986877911129168, 0.0270085395658606, 0.9729166395491589, 0.998487937906831, 0.10416404974715306, 0.8956888201537773, 0.9031905503028826, 0.09673661102594279, 0.9992836694504174, 0.9437974558881801, 0.05614803685651693, 0.07249107935038653, 0.2174732380511596, 0.6968194329546578, 0.013319915640353707, 0.9240283570091221, 0.07548296576944918, 0.00048497545698590567, 0.00926675451873281, 0.9905130941134405, 0.9999437072956967, 0.9999817704789897, 0.11722689272093116, 0.8826005816456379, 0.2821365489444905, 0.7058908106259673, 0.011812922691930955, 0.998250036310188, 0.06942077334686524, 0.9304653517526706, 0.9993808501672022, 0.8306483921664282, 0.007277002147296717, 0.1618062830398917, 0.998694002961657, 0.9989752332223545, 0.011001766821631292, 0.04699059727205229, 0.6877502793200273, 0.25420607829811626, 0.23987462300184748, 0.4099240231694446, 0.3501758018266074, 0.9985270353931142, 0.053151852998438526, 0.946457329058862, 0.9996226695557963, 0.19082676480508626, 0.7879370253754201, 0.02119064655684388, 0.9988725694053543, 0.999481394690102, 0.9996398722468691, 0.8757159550160101, 0.02543062726510193, 0.0986462235041454, 0.1418129878424438, 0.8581067750106495, 0.02851220832001975, 0.1274620315385973, 0.8440053439717929, 0.9982770666053989, 0.9987280311503983, 0.001726220445237878, 0.9977554173474934, 0.39235817063566913, 0.5599633197861069, 0.04768283048376607, 0.12273231925528084, 0.8771128677812743, 0.13662519101019244, 0.0296072648690259, 0.8337837559730367, 0.9030641245308295, 0.09648884591346417, 0.9994947465162594, 0.999713444982006, 0.6921137727542196, 0.2295131359270334, 0.008413131161219785, 0.04860650055282761, 0.02137324361477512, 0.10191169015254165, 0.8977493432528441, 0.0004632349552388256, 0.9991251493284453, 0.9993132650744859, 0.621846171255884, 0.05695709176376544, 0.29142860753884425, 0.02976763307398127, 0.9996053456195697, 0.5901301011917397, 0.17014277677553308, 0.19259569541456656, 0.04713894853511368, 0.21775045525511885, 0.41937701702506164, 0.3625149771981124, 0.0003505194235907833, 3.8946602621198144e-05, 0.1304385588669534, 0.869400525548442, 0.9994275792958929, 0.9998354706149666, 0.5112081154512768, 0.2195284850243379, 0.12802703243476077, 0.14122724198866698, 0.25066731364157896, 0.6107344509753696, 0.13856811116052584, 0.27087853448851273, 0.7179232727884072, 0.011165016878215046, 0.156131194093344, 0.8438840458284954, 0.9996994312082149, 0.9883988529236295, 0.011065817878679237, 0.0006639490727207543, 0.8183045577436553, 0.0910721672623838, 0.0015370829917701907, 0.08907395937308255, 0.767994711024755, 0.12274165439630955, 0.10925401562168414, 0.15773793478339004, 0.09902681799599697, 0.7430866676318082, 0.9986866026791033, 0.9999272481250198, 0.9998814361983752, 0.9988651923560226, 0.04717348914484618, 0.7220659069576691, 0.15142244982579164, 0.07943837558825513, 0.22739273882224909, 0.040534649527052, 0.7320159003114833, 0.9982068088260071, 0.9998200096742931, 0.9999257382865903, 0.24582091272091086, 0.1445407262728262, 0.6096388949433503, 0.9984580797873585, 0.3958589854368479, 0.34641734296007315, 0.25772216447471674, 0.09936919292453619, 0.760909568779991, 0.1396515922087428, 0.9988012849514186, 0.8685446299738826, 0.11057142831579433, 0.020875239207001368, 0.045295515519016415, 0.16778822684194789, 0.7868269389351722, 0.6836150432862435, 0.07533496479584373, 0.24057932555269218, 0.00047231952850058766, 0.9981603101160522, 0.03285376511134897, 0.9666863277871921, 0.9999635450601257, 0.9851987468075207, 0.014642019591619204, 0.3546396481803665, 0.5099244329738251, 0.13543143255581558, 0.09777876259695462, 0.9021057588747282, 0.6435530253434736, 2.9473461201899412e-05, 0.3563930928533677, 0.00035077098745438863, 0.9996973142450075, 0.2762736933712265, 0.2621767524123704, 0.4615540482167525, 0.22365840442249707, 0.5158684560209298, 0.2562723698971089, 0.004154645283390038, 0.15249950212932614, 0.6853151767209554, 0.10214002763466806, 0.06004057276611792, 0.9997233074599745, 0.27603222096185553, 0.3723723839654451, 0.20209576951189298, 0.1495121988672636, 0.6663706539452323, 0.33361332901976776, 0.9996728088445135, 0.9992587508757336, 0.1888484251653364, 0.5460576603673712, 0.1267584078877295, 0.13832624500117816, 0.9985870073056264, 0.9993698281699388, 0.31974157569868894, 0.028251594526391435, 0.6519470901590212, 0.9996561378910778, 0.358559703574914, 0.6385339122486674, 0.0027836823806950623, 0.8852451440674909, 0.11469882996451383, 0.9981594727104751, 0.9994448868102666, 0.07586639391913423, 0.9240806042150252, 0.9999369003748694, 0.997622163329679, 0.9998809425149993, 0.029793130917974198, 0.39368356416210826, 0.11238542539860427, 0.46416742040869535, 0.43889224954282224, 0.5388806445747059, 0.022202676599932625, 0.9999162817181975, 0.036310170614804675, 0.9278827295152804, 0.03591549484725245, 0.3513200610272763, 0.33279365492639923, 0.20179419207643914, 0.08754396365145074, 0.026535851051190575, 0.9983866229182217, 0.27450950519230427, 0.0005298729349999439, 0.6103429713952687, 0.03822150104466262, 0.07640767722699192, 0.13216818373505426, 0.08368592942102736, 0.08584755859426423, 0.6982062229555086, 0.999900630840729, 0.0004955130374469812, 0.9993506939230716, 0.7317139671121721, 0.00018259753374812456, 0.2680988289256839, 0.9980542586554677, 0.9995750544861608, 0.9995142457650016, 0.15163543028282578, 0.4004767635817194, 0.4478758771230748, 0.13977155535100502, 0.6772765499812077, 0.09650002701101161, 0.08644956400082228, 0.019595211056651466, 0.021337007595020486, 0.9588589943721452, 0.9988124530510346, 0.9986379435137949, 0.9996370832006702, 0.9990130345232006, 0.9995643092391389, 0.13233444872036781, 0.8676586122136283, 0.12395170336305004, 0.180779865815279, 0.27454342556245714, 0.42071453328246877, 0.9994549116812712, 0.9998001991287787, 0.9995396342765318, 0.015366606155770355, 0.33708657070365033, 0.15072976738781113, 0.49682097354579824, 0.04369163871059077, 0.03682580977035508, 0.9193969117242887, 0.9998289108110182, 0.016538442420832137, 0.024360678700955447, 0.9587826754779712, 0.9991510885466457, 0.9995434692761542, 0.9986167698264979, 0.9986984184185805, 0.9996117318378758, 0.9991904590246203, 0.49750817906557576, 0.5024803112862701, 0.9988388036905033, 0.9323553178401511, 0.0179805117739634, 0.04911749557765612, 0.9997348635392467, 0.9995613376836895, 0.09429289311003888, 0.1222237500891818, 0.03360103095235239, 0.7497230031243626, 0.9984766150529453, 0.9999168939244004, 0.9998369547248565, 0.10119977064970181, 0.04223896006731117, 0.6936310460410893, 0.16298375079957342, 0.9997946250269047, 0.9997692983620686, 0.998990175150393, 0.9997556897004368, 0.9989691427876847, 0.9992451900310737, 0.9999360244948695, 0.9994494758085705, 0.706302262256009, 0.04947858680919696, 0.21014706058075905, 0.03408119140608893, 0.9999203415033029, 0.9092312484358063, 0.09055163097292249, 0.01010684175727906, 0.13531100083998981, 0.09141412096882255, 0.7631419768667875, 0.9982323365077774, 0.9999458551441921, 0.6706341747203348, 0.31465092930087246, 0.01348008391397658, 0.0012389783009169651, 0.9992195898800068, 0.9687449218161406, 0.03118776034341983, 0.8626924672950831, 0.1372807280574223, 0.7463665032972016, 0.02911840208941983, 0.0028665784440361493, 0.22163177548890017, 0.9989898833490826, 0.9998361653087847, 0.9995974843683826, 0.999363746383593, 0.9979635656111472, 0.001703009497629944, 0.4642976509623708, 0.13504882106667568, 0.38791035550768843, 0.012731215909113733, 0.9991805254846116, 0.11555748579631236, 0.022289755038044253, 0.2772352481459974, 0.5544704962919949, 0.03030174071992191, 0.10397099272058509, 0.8958080459766353, 0.2608984824536139, 0.7388607517464431, 0.4975441340117359, 0.037121502187865585, 0.4651788242916906, 0.4614158251004023, 0.00026563950782982287, 0.538451282371051, 0.9998074694424459, 0.8660028541030845, 0.1337555982585926, 0.5788003554858674, 0.13304021051496057, 0.2309343747564559, 0.05720107783648571, 0.9998804133208583, 0.9996588809759309, 0.21675440643687538, 0.7831308554641393, 0.0014474434266442907, 0.9981569870139029, 0.759764525521309, 0.0008146682266117494, 0.2394137109600226, 0.9988324168029403, 0.3143004619855919, 0.5610717618995038, 0.12462342346128605, 0.26279217610690037, 0.4826320421696963, 0.1517093514225448, 0.10284656453680252, 0.09888075636138996, 0.9006893385571507, 0.9992687154675486, 0.5580238536556481, 0.2243086323778188, 0.2169849234560454, 0.0006842589357569306, 0.9997020814718046, 0.7688986424067596, 0.028790624314493387, 0.10815937242471839, 0.014006249666510295, 0.08014687309169781, 0.9996879604793497, 0.9988819089374613, 0.43790674100365007, 0.33746167126688376, 0.22355358588052568, 0.001055095270344184, 0.968300673309764, 0.03134786352441682, 0.9990967725381236, 0.9984528694646342, 0.9983305839742165, 0.9994879786193385, 0.011158028625267017, 0.09588647363339217, 0.704588685629666, 0.18832575143133598, 0.0003545070413758947, 0.0017725352068794734, 0.2504592247320696, 0.7474780967410739, 0.916667477073177, 0.058972598383640225, 0.024301894938313282, 0.11001654295216533, 0.20724518515527823, 0.15183094857605103, 0.5307993723614619, 0.00019577979906490047, 0.9996516540253817, 0.008319995309883843, 0.9916832963937452, 0.9553938427869291, 0.03379572814309884, 0.010758939671023976, 0.30900833335530203, 0.4624206875157568, 0.2285527535997419, 0.3999221525269102, 0.22478663729209303, 0.3752322503017075, 0.21092753444115359, 0.6132780200507917, 0.16871675163507494, 0.007077256997426364, 0.9988206307761726, 0.9992593963122945, 0.9987457691113888, 0.8497425328705643, 0.15024687371705198, 0.999923818780958, 0.9994471505996375, 0.9993640639084888, 0.9989268279096972, 0.9992685988553259, 0.9994375571260922, 0.4801080923596306, 0.39491339767640876, 0.12473425342493795, 0.00023129426588947575, 1.176072538421063e-05, 0.12020698756513583, 0.06328385802756478, 0.0017968159576253486, 0.6525316831712217, 0.16218060833526396, 0.8964798148857074, 0.00836151065934919, 0.09503351362292575, 0.9998387134370219, 0.24961511838543415, 0.040201724643293975, 0.5602304853517096, 0.1499562084999961, 0.9996002493699182, 0.9995927994032205, 0.9992121746826637, 0.10768954012990886, 0.8918241556866104], \"Term\": [\"actual\", \"actual\", \"actual\", \"actual\", \"afford\", \"afford\", \"afford\", \"afford\", \"agenc\", \"aliv\", \"american\", \"american\", \"amp\", \"amp\", \"amp\", \"amp\", \"anarchist\", \"anim\", \"anim\", \"anti\", \"anti\", \"antiwork\", \"antiwork\", \"appli\", \"applic\", \"appoint\", \"articl\", \"artist\", \"ask\", \"ask\", \"ask\", \"asleep\", \"assess\", \"auto\", \"auto\", \"auto\", \"bachelor\", \"bathroom\", \"bathroom\", \"be\", \"bear\", \"bear\", \"belief\", \"believ\", \"believ\", \"believ\", \"believ\", \"better\", \"better\", \"better\", \"better\", \"bezo\", \"billion\", \"boomer\", \"bootlick\", \"boss\", \"boss\", \"boss\", \"boyfriend\", \"brainwash\", \"break\", \"break\", \"break\", \"burnout\", \"busi\", \"busi\", \"busi\", \"busi\", \"buy\", \"call\", \"call\", \"call\", \"call\", \"call\", \"capit\", \"capit\", \"capit\", \"capitalist\", \"capitalist\", \"capitalist\", \"car\", \"car\", \"cat\", \"certif\", \"chat\", \"cheap\", \"cheap\", \"christma\", \"clock\", \"colleg\", \"colleg\", \"colleg\", \"com\", \"come\", \"come\", \"come\", \"come\", \"comment\", \"comment\", \"comment\", \"comment\", \"communism\", \"communist\", \"compani\", \"compani\", \"compani\", \"concept\", \"consult\", \"consumpt\", \"contract\", \"contract\", \"cope\", \"cost\", \"cost\", \"cowork\", \"cowork\", \"creativ\", \"cultur\", \"cultur\", \"current\", \"current\", \"current\", \"current\", \"day\", \"day\", \"day\", \"debt\", \"debt\", \"degre\", \"delet\", \"depress\", \"depress\", \"die\", \"die\", \"die\", \"dispos\", \"dollar\", \"dollar\", \"donat\", \"dream\", \"dream\", \"dream\", \"earth\", \"electr\", \"employ\", \"employ\", \"employ\", \"employ\", \"employe\", \"employe\", \"employe\", \"endless\", \"energi\", \"energi\", \"engin\", \"enjoy\", \"enjoy\", \"enjoy\", \"enslav\", \"entri\", \"escap\", \"exist\", \"exist\", \"exist\", \"expens\", \"expens\", \"experi\", \"experi\", \"experi\", \"expert\", \"feder\", \"feedback\", \"feedback\", \"feel\", \"feel\", \"feel\", \"field\", \"field\", \"food\", \"food\", \"food\", \"freedom\", \"freedom\", \"freelanc\", \"friday\", \"fuck\", \"fuck\", \"fuck\", \"fuck\", \"fuck\", \"fund\", \"fund\", \"fund\", \"furlough\", \"garden\", \"get\", \"get\", \"get\", \"get\", \"girl\", \"go\", \"go\", \"go\", \"go\", \"good\", \"good\", \"good\", \"good\", \"good\", \"govern\", \"govern\", \"grad\", \"graduat\", \"guy\", \"guy\", \"guy\", \"guy\", \"hard\", \"hard\", \"hard\", \"hate\", \"hate\", \"hate\", \"hire\", \"hire\", \"hobbi\", \"holiday\", \"holiday\", \"holiday\", \"home\", \"home\", \"home\", \"home\", \"hour\", \"hour\", \"hour\", \"hous\", \"hous\", \"hous\", \"http\", \"https\", \"human\", \"hustl\", \"idea\", \"idea\", \"idea\", \"idea\", \"incom\", \"incom\", \"incom\", \"instant\", \"internship\", \"interview\", \"job\", \"job\", \"job\", \"joy\", \"know\", \"know\", \"know\", \"labor\", \"labor\", \"labor\", \"ladi\", \"late\", \"late\", \"late\", \"law\", \"law\", \"law\", \"leav\", \"leav\", \"leav\", \"leav\", \"leisur\", \"letter\", \"letter\", \"life\", \"lifestyl\", \"lifestyl\", \"like\", \"like\", \"like\", \"link\", \"link\", \"live\", \"live\", \"live\", \"loan\", \"loan\", \"look\", \"look\", \"look\", \"lot\", \"lot\", \"lot\", \"lot\", \"love\", \"love\", \"love\", \"love\", \"lunch\", \"make\", \"make\", \"make\", \"make\", \"manag\", \"manag\", \"mask\", \"mcdonald\", \"mean\", \"mean\", \"mean\", \"mean\", \"meaning\", \"meaningless\", \"meet\", \"meet\", \"meet\", \"meme\", \"mental\", \"mental\", \"mental\", \"million\", \"million\", \"mindset\", \"minim\", \"minimum\", \"minimum\", \"minut\", \"miseri\", \"monday\", \"money\", \"money\", \"money\", \"money\", \"month\", \"month\", \"month\", \"morn\", \"natur\", \"natur\", \"natur\", \"need\", \"need\", \"need\", \"need\", \"need\", \"negoti\", \"new\", \"new\", \"new\", \"new\", \"new\", \"news\", \"news\", \"news\", \"news\", \"night\", \"offer\", \"offer\", \"offic\", \"offic\", \"offic\", \"oil\", \"org\", \"passion\", \"pay\", \"pay\", \"pay\", \"peopl\", \"peopl\", \"peopl\", \"peopl\", \"perform\", \"perform\", \"perform\", \"philosophi\", \"planet\", \"png\", \"podcast\", \"poll\", \"posit\", \"posit\", \"post\", \"post\", \"post\", \"post\", \"preview\", \"price\", \"prison\", \"product\", \"product\", \"product\", \"product\", \"profit\", \"profit\", \"profit\", \"project\", \"promot\", \"promot\", \"promot\", \"propaganda\", \"properti\", \"psycholog\", \"purchas\", \"qualifi\", \"quarantin\", \"quit\", \"quit\", \"race\", \"realiti\", \"realiti\", \"realiti\", \"recruit\", \"redd\", \"reddit\", \"reddit\", \"reddit\", \"reddit\", \"religion\", \"remov\", \"rent\", \"requir\", \"requir\", \"requir\", \"requir\", \"resum\", \"review\", \"rob\", \"role\", \"row\", \"rude\", \"salari\", \"saturday\", \"say\", \"say\", \"say\", \"say\", \"schedul\", \"self\", \"self\", \"sell\", \"sell\", \"sell\", \"sell\", \"shelter\", \"shift\", \"shit\", \"shit\", \"shit\", \"shit\", \"shortag\", \"sick\", \"sick\", \"sleep\", \"sleep\", \"social\", \"social\", \"social\", \"social\", \"socialist\", \"societi\", \"softwar\", \"song\", \"soul\", \"soul\", \"start\", \"start\", \"start\", \"start\", \"startup\", \"state\", \"state\", \"state\", \"state\", \"state\", \"stock\", \"stock\", \"strike\", \"strike\", \"sub\", \"sub\", \"sub\", \"subreddit\", \"subreddit\", \"subreddit\", \"sunday\", \"surviv\", \"surviv\", \"take\", \"take\", \"take\", \"take\", \"tax\", \"teacher\", \"team\", \"team\", \"tech\", \"tech\", \"tell\", \"tell\", \"tell\", \"theft\", \"thing\", \"thing\", \"thing\", \"think\", \"think\", \"think\", \"think\", \"thread\", \"thread\", \"thursday\", \"time\", \"time\", \"time\", \"time\", \"tip\", \"today\", \"today\", \"today\", \"today\", \"today\", \"tomorrow\", \"trap\", \"tri\", \"tri\", \"tri\", \"tri\", \"truli\", \"truli\", \"tuesday\", \"twitter\", \"uber\", \"ubi\", \"unemploy\", \"unemploy\", \"unemploy\", \"unemploy\", \"union\", \"union\", \"union\", \"union\", \"vacat\", \"vacat\", \"vacat\", \"video\", \"video\", \"video\", \"video\", \"wag\", \"wag\", \"wage\", \"wage\", \"walk\", \"walk\", \"walk\", \"want\", \"want\", \"want\", \"watch\", \"watch\", \"watch\", \"way\", \"way\", \"way\", \"way\", \"wealthi\", \"webp\", \"wednesday\", \"week\", \"week\", \"weekend\", \"width\", \"wiki\", \"wikipedia\", \"winter\", \"wood\", \"work\", \"work\", \"work\", \"work\", \"work\", \"worker\", \"worker\", \"worker\", \"worker\", \"worker\", \"world\", \"world\", \"world\", \"www\", \"year\", \"year\", \"year\", \"year\", \"yell\", \"yesterday\", \"youtu\", \"youtub\", \"youtub\"]}, \"R\": 30, \"lambda.step\": 0.01, \"plot.opts\": {\"xlab\": \"PC1\", \"ylab\": \"PC2\"}, \"topic.order\": [3, 4, 1, 5, 2]};\n",
       "\n",
       "function LDAvis_load_lib(url, callback){\n",
       "  var s = document.createElement('script');\n",
       "  s.src = url;\n",
       "  s.async = true;\n",
       "  s.onreadystatechange = s.onload = callback;\n",
       "  s.onerror = function(){console.warn(\"failed to load library \" + url);};\n",
       "  document.getElementsByTagName(\"head\")[0].appendChild(s);\n",
       "}\n",
       "\n",
       "if(typeof(LDAvis) !== \"undefined\"){\n",
       "   // already loaded: just create the visualization\n",
       "   !function(LDAvis){\n",
       "       new LDAvis(\"#\" + \"ldavis_el208251398941931758881209862261\", ldavis_el208251398941931758881209862261_data);\n",
       "   }(LDAvis);\n",
       "}else if(typeof define === \"function\" && define.amd){\n",
       "   // require.js is available: use it to load d3/LDAvis\n",
       "   require.config({paths: {d3: \"https://d3js.org/d3.v5\"}});\n",
       "   require([\"d3\"], function(d3){\n",
       "      window.d3 = d3;\n",
       "      LDAvis_load_lib(\"https://cdn.jsdelivr.net/gh/bmabey/pyLDAvis@3.3.1/pyLDAvis/js/ldavis.v3.0.0.js\", function(){\n",
       "        new LDAvis(\"#\" + \"ldavis_el208251398941931758881209862261\", ldavis_el208251398941931758881209862261_data);\n",
       "      });\n",
       "    });\n",
       "}else{\n",
       "    // require.js not available: dynamically load d3 & LDAvis\n",
       "    LDAvis_load_lib(\"https://d3js.org/d3.v5.js\", function(){\n",
       "         LDAvis_load_lib(\"https://cdn.jsdelivr.net/gh/bmabey/pyLDAvis@3.3.1/pyLDAvis/js/ldavis.v3.0.0.js\", function(){\n",
       "                 new LDAvis(\"#\" + \"ldavis_el208251398941931758881209862261\", ldavis_el208251398941931758881209862261_data);\n",
       "            })\n",
       "         });\n",
       "}\n",
       "</script>"
      ],
      "text/plain": [
       "<IPython.core.display.HTML object>"
      ]
     },
     "execution_count": 34,
     "metadata": {},
     "output_type": "execute_result"
    }
   ],
   "source": [
    "pyLDAvis.enable_notebook()\n",
    "vis = pyLDAvis.gensim_models.prepare(topic_model=lda_model, corpus=corpus, dictionary=id2word)\n",
    "\n",
    "pyLDAvis.display(vis)"
   ]
  },
  {
   "cell_type": "code",
   "execution_count": 179,
   "id": "cf614d1b-c982-4500-8c9c-469d2e50ef92",
   "metadata": {},
   "outputs": [],
   "source": [
    "df['year'] = df['created_utc'].dt.year"
   ]
  },
  {
   "cell_type": "code",
   "execution_count": 181,
   "id": "23659bb5-c356-4ebf-aea8-9cdfe7011165",
   "metadata": {},
   "outputs": [],
   "source": [
    "df['month'] = df['created_utc'].dt.month"
   ]
  },
  {
   "cell_type": "code",
   "execution_count": 183,
   "id": "1019cbcf-3c5d-4f08-9637-e6b11ab4f5ec",
   "metadata": {},
   "outputs": [
    {
     "data": {
      "text/html": [
       "<div>\n",
       "<style scoped>\n",
       "    .dataframe tbody tr th:only-of-type {\n",
       "        vertical-align: middle;\n",
       "    }\n",
       "\n",
       "    .dataframe tbody tr th {\n",
       "        vertical-align: top;\n",
       "    }\n",
       "\n",
       "    .dataframe thead th {\n",
       "        text-align: right;\n",
       "    }\n",
       "</style>\n",
       "<table border=\"1\" class=\"dataframe\">\n",
       "  <thead>\n",
       "    <tr style=\"text-align: right;\">\n",
       "      <th></th>\n",
       "      <th>id</th>\n",
       "      <th>created_utc</th>\n",
       "      <th>permalink</th>\n",
       "      <th>domain</th>\n",
       "      <th>url</th>\n",
       "      <th>selftext</th>\n",
       "      <th>title</th>\n",
       "      <th>score</th>\n",
       "      <th>title_w_text</th>\n",
       "      <th>year</th>\n",
       "      <th>month</th>\n",
       "    </tr>\n",
       "  </thead>\n",
       "  <tbody>\n",
       "    <tr>\n",
       "      <th>0</th>\n",
       "      <td>svw6x3</td>\n",
       "      <td>2022-02-18 23:58:39</td>\n",
       "      <td>https://old.reddit.com/r/antiwork/comments/svw...</td>\n",
       "      <td>self.antiwork</td>\n",
       "      <td>NaN</td>\n",
       "      <td>I was hired at the **Neon Museum** as a tour g...</td>\n",
       "      <td>Neon Museum Las Vegas took away our tips</td>\n",
       "      <td>15</td>\n",
       "      <td>Neon Museum Las Vegas took away our tips I was...</td>\n",
       "      <td>2022</td>\n",
       "      <td>2</td>\n",
       "    </tr>\n",
       "    <tr>\n",
       "      <th>1</th>\n",
       "      <td>svw6jv</td>\n",
       "      <td>2022-02-18 23:58:07</td>\n",
       "      <td>https://old.reddit.com/r/antiwork/comments/svw...</td>\n",
       "      <td>i.redd.it</td>\n",
       "      <td>https://i.redd.it/vuoctaq0koi81.png</td>\n",
       "      <td>NaN</td>\n",
       "      <td>Working</td>\n",
       "      <td>1887</td>\n",
       "      <td>Working</td>\n",
       "      <td>2022</td>\n",
       "      <td>2</td>\n",
       "    </tr>\n",
       "    <tr>\n",
       "      <th>2</th>\n",
       "      <td>svw5e8</td>\n",
       "      <td>2022-02-18 23:56:28</td>\n",
       "      <td>https://old.reddit.com/r/antiwork/comments/svw...</td>\n",
       "      <td>self.antiwork</td>\n",
       "      <td>NaN</td>\n",
       "      <td>So, I'm quite new to the jobs front then most ...</td>\n",
       "      <td>Kind of feel like screaming into the cyberspace</td>\n",
       "      <td>4</td>\n",
       "      <td>Kind of feel like screaming into the cyberspac...</td>\n",
       "      <td>2022</td>\n",
       "      <td>2</td>\n",
       "    </tr>\n",
       "    <tr>\n",
       "      <th>3</th>\n",
       "      <td>svw498</td>\n",
       "      <td>2022-02-18 23:54:55</td>\n",
       "      <td>https://old.reddit.com/r/antiwork/comments/svw...</td>\n",
       "      <td>i.redd.it</td>\n",
       "      <td>https://i.redd.it/1w1unxjfjoi81.png</td>\n",
       "      <td>NaN</td>\n",
       "      <td>Democracy is a lie, especially in the modern w...</td>\n",
       "      <td>14060</td>\n",
       "      <td>Democracy is a lie, especially in the modern w...</td>\n",
       "      <td>2022</td>\n",
       "      <td>2</td>\n",
       "    </tr>\n",
       "    <tr>\n",
       "      <th>4</th>\n",
       "      <td>svw3qt</td>\n",
       "      <td>2022-02-18 23:54:10</td>\n",
       "      <td>https://old.reddit.com/r/antiwork/comments/svw...</td>\n",
       "      <td>self.antiwork</td>\n",
       "      <td>NaN</td>\n",
       "      <td>My boss asked me today what I plan on doing wh...</td>\n",
       "      <td>Master's Degree - No Pay Raise but OT</td>\n",
       "      <td>63</td>\n",
       "      <td>Master's Degree - No Pay Raise but OT My boss ...</td>\n",
       "      <td>2022</td>\n",
       "      <td>2</td>\n",
       "    </tr>\n",
       "    <tr>\n",
       "      <th>...</th>\n",
       "      <td>...</td>\n",
       "      <td>...</td>\n",
       "      <td>...</td>\n",
       "      <td>...</td>\n",
       "      <td>...</td>\n",
       "      <td>...</td>\n",
       "      <td>...</td>\n",
       "      <td>...</td>\n",
       "      <td>...</td>\n",
       "      <td>...</td>\n",
       "      <td>...</td>\n",
       "    </tr>\n",
       "    <tr>\n",
       "      <th>256274</th>\n",
       "      <td>1kchry</td>\n",
       "      <td>2013-08-14 13:34:59</td>\n",
       "      <td>https://old.reddit.com/r/antiwork/comments/1kc...</td>\n",
       "      <td>theanarchistlibrary.org</td>\n",
       "      <td>http://theanarchistlibrary.org/library/Bob_Bla...</td>\n",
       "      <td>NaN</td>\n",
       "      <td>The Abolition of Work (Bob Black)</td>\n",
       "      <td>16</td>\n",
       "      <td>The Abolition of Work (Bob Black)</td>\n",
       "      <td>2013</td>\n",
       "      <td>8</td>\n",
       "    </tr>\n",
       "    <tr>\n",
       "      <th>256275</th>\n",
       "      <td>1kche2</td>\n",
       "      <td>2013-08-14 13:28:34</td>\n",
       "      <td>https://old.reddit.com/r/antiwork/comments/1kc...</td>\n",
       "      <td>4hourworkday.org</td>\n",
       "      <td>http://www.4hourworkday.org/</td>\n",
       "      <td>NaN</td>\n",
       "      <td>Global Campaign for the 4 Hour Work-day</td>\n",
       "      <td>21</td>\n",
       "      <td>Global Campaign for the 4 Hour Work-day</td>\n",
       "      <td>2013</td>\n",
       "      <td>8</td>\n",
       "    </tr>\n",
       "    <tr>\n",
       "      <th>256276</th>\n",
       "      <td>1kch2k</td>\n",
       "      <td>2013-08-14 13:22:45</td>\n",
       "      <td>https://old.reddit.com/r/antiwork/comments/1kc...</td>\n",
       "      <td>jacobinmag.com</td>\n",
       "      <td>http://jacobinmag.com/2012/04/the-politics-of-...</td>\n",
       "      <td>NaN</td>\n",
       "      <td>The Politics of Getting a Life</td>\n",
       "      <td>8</td>\n",
       "      <td>The Politics of Getting a Life</td>\n",
       "      <td>2013</td>\n",
       "      <td>8</td>\n",
       "    </tr>\n",
       "    <tr>\n",
       "      <th>256277</th>\n",
       "      <td>1kcgwh</td>\n",
       "      <td>2013-08-14 13:20:06</td>\n",
       "      <td>https://old.reddit.com/r/antiwork/comments/1kc...</td>\n",
       "      <td>jacobinmag.com</td>\n",
       "      <td>http://jacobinmag.com/2012/05/new-works-and-an...</td>\n",
       "      <td>NaN</td>\n",
       "      <td>New Works and Anti-Works</td>\n",
       "      <td>5</td>\n",
       "      <td>New Works and Anti-Works</td>\n",
       "      <td>2013</td>\n",
       "      <td>8</td>\n",
       "    </tr>\n",
       "    <tr>\n",
       "      <th>256278</th>\n",
       "      <td>1kcgpv</td>\n",
       "      <td>2013-08-14 13:17:24</td>\n",
       "      <td>https://old.reddit.com/r/antiwork/comments/1kc...</td>\n",
       "      <td>idletheory.info</td>\n",
       "      <td>http://idletheory.info/</td>\n",
       "      <td>NaN</td>\n",
       "      <td>Idle Theory - \"Applied to the theory of evolut...</td>\n",
       "      <td>9</td>\n",
       "      <td>Idle Theory - \"Applied to the theory of evolut...</td>\n",
       "      <td>2013</td>\n",
       "      <td>8</td>\n",
       "    </tr>\n",
       "  </tbody>\n",
       "</table>\n",
       "<p>256279 rows × 11 columns</p>\n",
       "</div>"
      ],
      "text/plain": [
       "            id         created_utc  \\\n",
       "0       svw6x3 2022-02-18 23:58:39   \n",
       "1       svw6jv 2022-02-18 23:58:07   \n",
       "2       svw5e8 2022-02-18 23:56:28   \n",
       "3       svw498 2022-02-18 23:54:55   \n",
       "4       svw3qt 2022-02-18 23:54:10   \n",
       "...        ...                 ...   \n",
       "256274  1kchry 2013-08-14 13:34:59   \n",
       "256275  1kche2 2013-08-14 13:28:34   \n",
       "256276  1kch2k 2013-08-14 13:22:45   \n",
       "256277  1kcgwh 2013-08-14 13:20:06   \n",
       "256278  1kcgpv 2013-08-14 13:17:24   \n",
       "\n",
       "                                                permalink  \\\n",
       "0       https://old.reddit.com/r/antiwork/comments/svw...   \n",
       "1       https://old.reddit.com/r/antiwork/comments/svw...   \n",
       "2       https://old.reddit.com/r/antiwork/comments/svw...   \n",
       "3       https://old.reddit.com/r/antiwork/comments/svw...   \n",
       "4       https://old.reddit.com/r/antiwork/comments/svw...   \n",
       "...                                                   ...   \n",
       "256274  https://old.reddit.com/r/antiwork/comments/1kc...   \n",
       "256275  https://old.reddit.com/r/antiwork/comments/1kc...   \n",
       "256276  https://old.reddit.com/r/antiwork/comments/1kc...   \n",
       "256277  https://old.reddit.com/r/antiwork/comments/1kc...   \n",
       "256278  https://old.reddit.com/r/antiwork/comments/1kc...   \n",
       "\n",
       "                         domain  \\\n",
       "0                 self.antiwork   \n",
       "1                     i.redd.it   \n",
       "2                 self.antiwork   \n",
       "3                     i.redd.it   \n",
       "4                 self.antiwork   \n",
       "...                         ...   \n",
       "256274  theanarchistlibrary.org   \n",
       "256275         4hourworkday.org   \n",
       "256276           jacobinmag.com   \n",
       "256277           jacobinmag.com   \n",
       "256278          idletheory.info   \n",
       "\n",
       "                                                      url  \\\n",
       "0                                                     NaN   \n",
       "1                     https://i.redd.it/vuoctaq0koi81.png   \n",
       "2                                                     NaN   \n",
       "3                     https://i.redd.it/1w1unxjfjoi81.png   \n",
       "4                                                     NaN   \n",
       "...                                                   ...   \n",
       "256274  http://theanarchistlibrary.org/library/Bob_Bla...   \n",
       "256275                       http://www.4hourworkday.org/   \n",
       "256276  http://jacobinmag.com/2012/04/the-politics-of-...   \n",
       "256277  http://jacobinmag.com/2012/05/new-works-and-an...   \n",
       "256278                            http://idletheory.info/   \n",
       "\n",
       "                                                 selftext  \\\n",
       "0       I was hired at the **Neon Museum** as a tour g...   \n",
       "1                                                     NaN   \n",
       "2       So, I'm quite new to the jobs front then most ...   \n",
       "3                                                     NaN   \n",
       "4       My boss asked me today what I plan on doing wh...   \n",
       "...                                                   ...   \n",
       "256274                                                NaN   \n",
       "256275                                                NaN   \n",
       "256276                                                NaN   \n",
       "256277                                                NaN   \n",
       "256278                                                NaN   \n",
       "\n",
       "                                                    title  score  \\\n",
       "0                Neon Museum Las Vegas took away our tips     15   \n",
       "1                                                 Working   1887   \n",
       "2         Kind of feel like screaming into the cyberspace      4   \n",
       "3       Democracy is a lie, especially in the modern w...  14060   \n",
       "4                   Master's Degree - No Pay Raise but OT     63   \n",
       "...                                                   ...    ...   \n",
       "256274                  The Abolition of Work (Bob Black)     16   \n",
       "256275            Global Campaign for the 4 Hour Work-day     21   \n",
       "256276                     The Politics of Getting a Life      8   \n",
       "256277                           New Works and Anti-Works      5   \n",
       "256278  Idle Theory - \"Applied to the theory of evolut...      9   \n",
       "\n",
       "                                             title_w_text  year  month  \n",
       "0       Neon Museum Las Vegas took away our tips I was...  2022      2  \n",
       "1                                                Working   2022      2  \n",
       "2       Kind of feel like screaming into the cyberspac...  2022      2  \n",
       "3       Democracy is a lie, especially in the modern w...  2022      2  \n",
       "4       Master's Degree - No Pay Raise but OT My boss ...  2022      2  \n",
       "...                                                   ...   ...    ...  \n",
       "256274                 The Abolition of Work (Bob Black)   2013      8  \n",
       "256275           Global Campaign for the 4 Hour Work-day   2013      8  \n",
       "256276                    The Politics of Getting a Life   2013      8  \n",
       "256277                          New Works and Anti-Works   2013      8  \n",
       "256278  Idle Theory - \"Applied to the theory of evolut...  2013      8  \n",
       "\n",
       "[256279 rows x 11 columns]"
      ]
     },
     "execution_count": 183,
     "metadata": {},
     "output_type": "execute_result"
    }
   ],
   "source": [
    "df"
   ]
  },
  {
   "cell_type": "code",
   "execution_count": null,
   "id": "2673f814-fb5f-4026-897a-e5bd8d44379a",
   "metadata": {},
   "outputs": [],
   "source": []
  }
 ],
 "metadata": {
  "environment": {
   "kernel": "python3",
   "name": "tf2-gpu.2-7.m87",
   "type": "gcloud",
   "uri": "gcr.io/deeplearning-platform-release/tf2-gpu.2-7:m87"
  },
  "kernelspec": {
   "display_name": "Python 3",
   "language": "python",
   "name": "python3"
  },
  "language_info": {
   "codemirror_mode": {
    "name": "ipython",
    "version": 3
   },
   "file_extension": ".py",
   "mimetype": "text/x-python",
   "name": "python",
   "nbconvert_exporter": "python",
   "pygments_lexer": "ipython3",
   "version": "3.7.12"
  }
 },
 "nbformat": 4,
 "nbformat_minor": 5
}
