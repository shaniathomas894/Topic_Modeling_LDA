{
 "cells": [
  {
   "cell_type": "markdown",
   "id": "f1224851-2645-4e7a-bd47-078fcab75fa9",
   "metadata": {},
   "source": [
    "# Using Latent Dirichlet Allocation (LDA) to Topic Model"
   ]
  },
  {
   "cell_type": "markdown",
   "id": "6c23d3e4-da4f-4865-923a-51550735e860",
   "metadata": {},
   "source": [
    "This notebook contains the entire project from data cleaning to final results. The reason everything is in one notebook is because when reading in a cleaned data frame, then preprocessing, then attempting to train the model, the model throws errors about the data types. For ease of navigating the notebook, below is a table of contents.\n",
    "\n",
    "I: [Cleaning](#I:-Initial-cleaning)\n",
    "\n",
    "II: [EDA](#II:-EDA)\n",
    "\n",
    "III : [Preprocessing](#III:-Preprocessing)\n",
    "\n",
    "III: [Modeling](#IV:-Modeling)\n",
    "\n",
    "IV: [Sentiment Analysis](#V:-Performing-Sentiment-Analysis-on-the-Years-2019-2021)\n",
    "\n",
    "V: [Conclusions and Recommendations](#Conclusions-and-Recommendations)\n",
    "\n",
    "Click [here](#end) to go to the bottom of the notebook"
   ]
  },
  {
   "cell_type": "markdown",
   "id": "209b9a5a-c008-4b8c-9547-72986e2fcd2e",
   "metadata": {
    "tags": []
   },
   "source": [
    "\n",
    "## I: Initial cleaning"
   ]
  },
  {
   "cell_type": "code",
   "execution_count": 1,
   "id": "7c419d9a-efec-4196-83d3-f226418dcb05",
   "metadata": {},
   "outputs": [],
   "source": [
    "import pandas as pd\n",
    "import matplotlib.pyplot as plt\n",
    "import numpy as np\n",
    "import seaborn as sns"
   ]
  },
  {
   "cell_type": "code",
   "execution_count": 2,
   "id": "e6c3fde7-7d06-403e-a5f4-f216779cdbfd",
   "metadata": {},
   "outputs": [
    {
     "name": "stdout",
     "output_type": "stream",
     "text": [
      "(256279, 12)\n"
     ]
    },
    {
     "data": {
      "text/html": [
       "<div>\n",
       "<style scoped>\n",
       "    .dataframe tbody tr th:only-of-type {\n",
       "        vertical-align: middle;\n",
       "    }\n",
       "\n",
       "    .dataframe tbody tr th {\n",
       "        vertical-align: top;\n",
       "    }\n",
       "\n",
       "    .dataframe thead th {\n",
       "        text-align: right;\n",
       "    }\n",
       "</style>\n",
       "<table border=\"1\" class=\"dataframe\">\n",
       "  <thead>\n",
       "    <tr style=\"text-align: right;\">\n",
       "      <th></th>\n",
       "      <th>type</th>\n",
       "      <th>id</th>\n",
       "      <th>subreddit.id</th>\n",
       "      <th>subreddit.name</th>\n",
       "      <th>subreddit.nsfw</th>\n",
       "      <th>created_utc</th>\n",
       "      <th>permalink</th>\n",
       "      <th>domain</th>\n",
       "      <th>url</th>\n",
       "      <th>selftext</th>\n",
       "      <th>title</th>\n",
       "      <th>score</th>\n",
       "    </tr>\n",
       "  </thead>\n",
       "  <tbody>\n",
       "    <tr>\n",
       "      <th>0</th>\n",
       "      <td>post</td>\n",
       "      <td>svw6x3</td>\n",
       "      <td>2y77d</td>\n",
       "      <td>antiwork</td>\n",
       "      <td>False</td>\n",
       "      <td>1645228719</td>\n",
       "      <td>https://old.reddit.com/r/antiwork/comments/svw...</td>\n",
       "      <td>self.antiwork</td>\n",
       "      <td>NaN</td>\n",
       "      <td>I was hired at the **Neon Museum** as a tour g...</td>\n",
       "      <td>Neon Museum Las Vegas took away our tips</td>\n",
       "      <td>15</td>\n",
       "    </tr>\n",
       "    <tr>\n",
       "      <th>1</th>\n",
       "      <td>post</td>\n",
       "      <td>svw6jv</td>\n",
       "      <td>2y77d</td>\n",
       "      <td>antiwork</td>\n",
       "      <td>False</td>\n",
       "      <td>1645228687</td>\n",
       "      <td>https://old.reddit.com/r/antiwork/comments/svw...</td>\n",
       "      <td>i.redd.it</td>\n",
       "      <td>https://i.redd.it/vuoctaq0koi81.png</td>\n",
       "      <td>NaN</td>\n",
       "      <td>Working</td>\n",
       "      <td>1887</td>\n",
       "    </tr>\n",
       "    <tr>\n",
       "      <th>2</th>\n",
       "      <td>post</td>\n",
       "      <td>svw5e8</td>\n",
       "      <td>2y77d</td>\n",
       "      <td>antiwork</td>\n",
       "      <td>False</td>\n",
       "      <td>1645228588</td>\n",
       "      <td>https://old.reddit.com/r/antiwork/comments/svw...</td>\n",
       "      <td>self.antiwork</td>\n",
       "      <td>NaN</td>\n",
       "      <td>So, I'm quite new to the jobs front then most ...</td>\n",
       "      <td>Kind of feel like screaming into the cyberspace</td>\n",
       "      <td>4</td>\n",
       "    </tr>\n",
       "    <tr>\n",
       "      <th>3</th>\n",
       "      <td>post</td>\n",
       "      <td>svw498</td>\n",
       "      <td>2y77d</td>\n",
       "      <td>antiwork</td>\n",
       "      <td>False</td>\n",
       "      <td>1645228495</td>\n",
       "      <td>https://old.reddit.com/r/antiwork/comments/svw...</td>\n",
       "      <td>i.redd.it</td>\n",
       "      <td>https://i.redd.it/1w1unxjfjoi81.png</td>\n",
       "      <td>NaN</td>\n",
       "      <td>Democracy is a lie, especially in the modern w...</td>\n",
       "      <td>14060</td>\n",
       "    </tr>\n",
       "    <tr>\n",
       "      <th>4</th>\n",
       "      <td>post</td>\n",
       "      <td>svw3qt</td>\n",
       "      <td>2y77d</td>\n",
       "      <td>antiwork</td>\n",
       "      <td>False</td>\n",
       "      <td>1645228450</td>\n",
       "      <td>https://old.reddit.com/r/antiwork/comments/svw...</td>\n",
       "      <td>self.antiwork</td>\n",
       "      <td>NaN</td>\n",
       "      <td>My boss asked me today what I plan on doing wh...</td>\n",
       "      <td>Master's Degree - No Pay Raise but OT</td>\n",
       "      <td>63</td>\n",
       "    </tr>\n",
       "  </tbody>\n",
       "</table>\n",
       "</div>"
      ],
      "text/plain": [
       "   type      id subreddit.id subreddit.name  subreddit.nsfw  created_utc  \\\n",
       "0  post  svw6x3        2y77d       antiwork           False   1645228719   \n",
       "1  post  svw6jv        2y77d       antiwork           False   1645228687   \n",
       "2  post  svw5e8        2y77d       antiwork           False   1645228588   \n",
       "3  post  svw498        2y77d       antiwork           False   1645228495   \n",
       "4  post  svw3qt        2y77d       antiwork           False   1645228450   \n",
       "\n",
       "                                           permalink         domain  \\\n",
       "0  https://old.reddit.com/r/antiwork/comments/svw...  self.antiwork   \n",
       "1  https://old.reddit.com/r/antiwork/comments/svw...      i.redd.it   \n",
       "2  https://old.reddit.com/r/antiwork/comments/svw...  self.antiwork   \n",
       "3  https://old.reddit.com/r/antiwork/comments/svw...      i.redd.it   \n",
       "4  https://old.reddit.com/r/antiwork/comments/svw...  self.antiwork   \n",
       "\n",
       "                                   url  \\\n",
       "0                                  NaN   \n",
       "1  https://i.redd.it/vuoctaq0koi81.png   \n",
       "2                                  NaN   \n",
       "3  https://i.redd.it/1w1unxjfjoi81.png   \n",
       "4                                  NaN   \n",
       "\n",
       "                                            selftext  \\\n",
       "0  I was hired at the **Neon Museum** as a tour g...   \n",
       "1                                                NaN   \n",
       "2  So, I'm quite new to the jobs front then most ...   \n",
       "3                                                NaN   \n",
       "4  My boss asked me today what I plan on doing wh...   \n",
       "\n",
       "                                               title  score  \n",
       "0           Neon Museum Las Vegas took away our tips     15  \n",
       "1                                            Working   1887  \n",
       "2    Kind of feel like screaming into the cyberspace      4  \n",
       "3  Democracy is a lie, especially in the modern w...  14060  \n",
       "4              Master's Degree - No Pay Raise but OT     63  "
      ]
     },
     "execution_count": 2,
     "metadata": {},
     "output_type": "execute_result"
    }
   ],
   "source": [
    "df = pd.read_csv('./data/the-antiwork-subreddit-dataset-posts.csv')\n",
    "print(df.shape)\n",
    "df.head()"
   ]
  },
  {
   "cell_type": "code",
   "execution_count": 3,
   "id": "f1a94269-d2eb-4e99-9491-22338e3a45b3",
   "metadata": {},
   "outputs": [
    {
     "data": {
      "text/plain": [
       "type                   1\n",
       "id                256279\n",
       "subreddit.id           1\n",
       "subreddit.name         1\n",
       "subreddit.nsfw         1\n",
       "created_utc       253907\n",
       "permalink         256279\n",
       "domain              5126\n",
       "url                93951\n",
       "selftext           83301\n",
       "title             238727\n",
       "score               7860\n",
       "dtype: int64"
      ]
     },
     "execution_count": 3,
     "metadata": {},
     "output_type": "execute_result"
    }
   ],
   "source": [
    "df.nunique()"
   ]
  },
  {
   "cell_type": "markdown",
   "id": "4e6cbb92-3177-4426-bb01-8802d181c2b0",
   "metadata": {},
   "source": [
    "Because in each of the columns below, they all have the same value throughout so I'm going to drop them"
   ]
  },
  {
   "cell_type": "code",
   "execution_count": 4,
   "id": "8d30e716-0979-4c24-b8a7-3bff697bb9eb",
   "metadata": {},
   "outputs": [],
   "source": [
    "df.drop(columns =['type', 'subreddit.id', 'subreddit.name','subreddit.nsfw'], inplace=True)"
   ]
  },
  {
   "cell_type": "code",
   "execution_count": 5,
   "id": "b47228ba-db1d-457d-b9fc-c43a7db7268e",
   "metadata": {},
   "outputs": [
    {
     "data": {
      "text/plain": [
       "id             0.000000\n",
       "created_utc    0.000000\n",
       "permalink      0.000000\n",
       "domain         0.000000\n",
       "url            0.602429\n",
       "selftext       0.397571\n",
       "title          0.000000\n",
       "score          0.000000\n",
       "dtype: float64"
      ]
     },
     "execution_count": 5,
     "metadata": {},
     "output_type": "execute_result"
    }
   ],
   "source": [
    "df.isna().mean()"
   ]
  },
  {
   "cell_type": "markdown",
   "id": "59f295bc-1bbe-474e-a957-46f34dd7a733",
   "metadata": {},
   "source": [
    "Nearly 40% of the selftext values are null, so I will likely combine the title with the selftext to not lose any data"
   ]
  },
  {
   "cell_type": "code",
   "execution_count": 6,
   "id": "44e22098-110e-463a-ad85-fa307f3d9bc9",
   "metadata": {},
   "outputs": [],
   "source": [
    "# Combining the title and text column so there aren't nulls in the self text\n",
    "df['title_w_text']=df['title'] + ' ' + df['selftext'].fillna('')"
   ]
  },
  {
   "cell_type": "code",
   "execution_count": 7,
   "id": "4d2d7cfe-f8b8-4c8b-bc2a-94b10b57f949",
   "metadata": {},
   "outputs": [
    {
     "data": {
      "text/plain": [
       "id              object\n",
       "created_utc      int64\n",
       "permalink       object\n",
       "domain          object\n",
       "url             object\n",
       "selftext        object\n",
       "title           object\n",
       "score            int64\n",
       "title_w_text    object\n",
       "dtype: object"
      ]
     },
     "execution_count": 7,
     "metadata": {},
     "output_type": "execute_result"
    }
   ],
   "source": [
    "df.dtypes"
   ]
  },
  {
   "cell_type": "markdown",
   "id": "ce30e093-b7bc-4518-848b-b1d3670aa546",
   "metadata": {},
   "source": [
    "I need to get the UTC column into readable date time formatting"
   ]
  },
  {
   "cell_type": "code",
   "execution_count": 8,
   "id": "1560ff97-7344-4ae5-8559-b274bc93edf4",
   "metadata": {},
   "outputs": [],
   "source": [
    "from datetime import datetime\n",
    "\n",
    "#writing a function to convert the strings into readable date time strings\n",
    "def time_utc(ts):   \n",
    "    return datetime.utcfromtimestamp(ts).strftime('%Y-%m-%d %H:%M:%S')"
   ]
  },
  {
   "cell_type": "code",
   "execution_count": 9,
   "id": "3a93c3b3-8782-4af0-85de-3a0970f75842",
   "metadata": {},
   "outputs": [],
   "source": [
    "df['created_utc']=df['created_utc'].map(time_utc)"
   ]
  },
  {
   "cell_type": "code",
   "execution_count": 10,
   "id": "0de6a397-97ae-489f-aece-406a8060cb59",
   "metadata": {},
   "outputs": [
    {
     "data": {
      "text/html": [
       "<div>\n",
       "<style scoped>\n",
       "    .dataframe tbody tr th:only-of-type {\n",
       "        vertical-align: middle;\n",
       "    }\n",
       "\n",
       "    .dataframe tbody tr th {\n",
       "        vertical-align: top;\n",
       "    }\n",
       "\n",
       "    .dataframe thead th {\n",
       "        text-align: right;\n",
       "    }\n",
       "</style>\n",
       "<table border=\"1\" class=\"dataframe\">\n",
       "  <thead>\n",
       "    <tr style=\"text-align: right;\">\n",
       "      <th></th>\n",
       "      <th>id</th>\n",
       "      <th>created_utc</th>\n",
       "      <th>permalink</th>\n",
       "      <th>domain</th>\n",
       "      <th>url</th>\n",
       "      <th>selftext</th>\n",
       "      <th>title</th>\n",
       "      <th>score</th>\n",
       "      <th>title_w_text</th>\n",
       "    </tr>\n",
       "  </thead>\n",
       "  <tbody>\n",
       "    <tr>\n",
       "      <th>0</th>\n",
       "      <td>svw6x3</td>\n",
       "      <td>2022-02-18 23:58:39</td>\n",
       "      <td>https://old.reddit.com/r/antiwork/comments/svw...</td>\n",
       "      <td>self.antiwork</td>\n",
       "      <td>NaN</td>\n",
       "      <td>I was hired at the **Neon Museum** as a tour g...</td>\n",
       "      <td>Neon Museum Las Vegas took away our tips</td>\n",
       "      <td>15</td>\n",
       "      <td>Neon Museum Las Vegas took away our tips I was...</td>\n",
       "    </tr>\n",
       "  </tbody>\n",
       "</table>\n",
       "</div>"
      ],
      "text/plain": [
       "       id          created_utc  \\\n",
       "0  svw6x3  2022-02-18 23:58:39   \n",
       "\n",
       "                                           permalink         domain  url  \\\n",
       "0  https://old.reddit.com/r/antiwork/comments/svw...  self.antiwork  NaN   \n",
       "\n",
       "                                            selftext  \\\n",
       "0  I was hired at the **Neon Museum** as a tour g...   \n",
       "\n",
       "                                      title  score  \\\n",
       "0  Neon Museum Las Vegas took away our tips     15   \n",
       "\n",
       "                                        title_w_text  \n",
       "0  Neon Museum Las Vegas took away our tips I was...  "
      ]
     },
     "execution_count": 10,
     "metadata": {},
     "output_type": "execute_result"
    }
   ],
   "source": [
    "df.head(1)"
   ]
  },
  {
   "cell_type": "code",
   "execution_count": 11,
   "id": "13bebb25-6d4a-4488-8b94-8ccc84e8790d",
   "metadata": {},
   "outputs": [
    {
     "data": {
      "text/plain": [
       "id              object\n",
       "created_utc     object\n",
       "permalink       object\n",
       "domain          object\n",
       "url             object\n",
       "selftext        object\n",
       "title           object\n",
       "score            int64\n",
       "title_w_text    object\n",
       "dtype: object"
      ]
     },
     "execution_count": 11,
     "metadata": {},
     "output_type": "execute_result"
    }
   ],
   "source": [
    "df.dtypes"
   ]
  },
  {
   "cell_type": "code",
   "execution_count": 12,
   "id": "d8ccb751-9d60-4cb3-88aa-b95ac2c45d33",
   "metadata": {},
   "outputs": [
    {
     "data": {
      "text/html": [
       "<div>\n",
       "<style scoped>\n",
       "    .dataframe tbody tr th:only-of-type {\n",
       "        vertical-align: middle;\n",
       "    }\n",
       "\n",
       "    .dataframe tbody tr th {\n",
       "        vertical-align: top;\n",
       "    }\n",
       "\n",
       "    .dataframe thead th {\n",
       "        text-align: right;\n",
       "    }\n",
       "</style>\n",
       "<table border=\"1\" class=\"dataframe\">\n",
       "  <thead>\n",
       "    <tr style=\"text-align: right;\">\n",
       "      <th></th>\n",
       "      <th>id</th>\n",
       "      <th>created_utc</th>\n",
       "      <th>permalink</th>\n",
       "      <th>domain</th>\n",
       "      <th>url</th>\n",
       "      <th>selftext</th>\n",
       "      <th>title</th>\n",
       "      <th>score</th>\n",
       "      <th>title_w_text</th>\n",
       "    </tr>\n",
       "  </thead>\n",
       "  <tbody>\n",
       "    <tr>\n",
       "      <th>0</th>\n",
       "      <td>svw6x3</td>\n",
       "      <td>2022-02-18 23:58:39</td>\n",
       "      <td>https://old.reddit.com/r/antiwork/comments/svw...</td>\n",
       "      <td>self.antiwork</td>\n",
       "      <td>NaN</td>\n",
       "      <td>I was hired at the **Neon Museum** as a tour g...</td>\n",
       "      <td>Neon Museum Las Vegas took away our tips</td>\n",
       "      <td>15</td>\n",
       "      <td>Neon Museum Las Vegas took away our tips I was...</td>\n",
       "    </tr>\n",
       "    <tr>\n",
       "      <th>1</th>\n",
       "      <td>svw6jv</td>\n",
       "      <td>2022-02-18 23:58:07</td>\n",
       "      <td>https://old.reddit.com/r/antiwork/comments/svw...</td>\n",
       "      <td>i.redd.it</td>\n",
       "      <td>https://i.redd.it/vuoctaq0koi81.png</td>\n",
       "      <td>NaN</td>\n",
       "      <td>Working</td>\n",
       "      <td>1887</td>\n",
       "      <td>Working</td>\n",
       "    </tr>\n",
       "    <tr>\n",
       "      <th>2</th>\n",
       "      <td>svw5e8</td>\n",
       "      <td>2022-02-18 23:56:28</td>\n",
       "      <td>https://old.reddit.com/r/antiwork/comments/svw...</td>\n",
       "      <td>self.antiwork</td>\n",
       "      <td>NaN</td>\n",
       "      <td>So, I'm quite new to the jobs front then most ...</td>\n",
       "      <td>Kind of feel like screaming into the cyberspace</td>\n",
       "      <td>4</td>\n",
       "      <td>Kind of feel like screaming into the cyberspac...</td>\n",
       "    </tr>\n",
       "    <tr>\n",
       "      <th>3</th>\n",
       "      <td>svw498</td>\n",
       "      <td>2022-02-18 23:54:55</td>\n",
       "      <td>https://old.reddit.com/r/antiwork/comments/svw...</td>\n",
       "      <td>i.redd.it</td>\n",
       "      <td>https://i.redd.it/1w1unxjfjoi81.png</td>\n",
       "      <td>NaN</td>\n",
       "      <td>Democracy is a lie, especially in the modern w...</td>\n",
       "      <td>14060</td>\n",
       "      <td>Democracy is a lie, especially in the modern w...</td>\n",
       "    </tr>\n",
       "    <tr>\n",
       "      <th>4</th>\n",
       "      <td>svw3qt</td>\n",
       "      <td>2022-02-18 23:54:10</td>\n",
       "      <td>https://old.reddit.com/r/antiwork/comments/svw...</td>\n",
       "      <td>self.antiwork</td>\n",
       "      <td>NaN</td>\n",
       "      <td>My boss asked me today what I plan on doing wh...</td>\n",
       "      <td>Master's Degree - No Pay Raise but OT</td>\n",
       "      <td>63</td>\n",
       "      <td>Master's Degree - No Pay Raise but OT My boss ...</td>\n",
       "    </tr>\n",
       "  </tbody>\n",
       "</table>\n",
       "</div>"
      ],
      "text/plain": [
       "       id          created_utc  \\\n",
       "0  svw6x3  2022-02-18 23:58:39   \n",
       "1  svw6jv  2022-02-18 23:58:07   \n",
       "2  svw5e8  2022-02-18 23:56:28   \n",
       "3  svw498  2022-02-18 23:54:55   \n",
       "4  svw3qt  2022-02-18 23:54:10   \n",
       "\n",
       "                                           permalink         domain  \\\n",
       "0  https://old.reddit.com/r/antiwork/comments/svw...  self.antiwork   \n",
       "1  https://old.reddit.com/r/antiwork/comments/svw...      i.redd.it   \n",
       "2  https://old.reddit.com/r/antiwork/comments/svw...  self.antiwork   \n",
       "3  https://old.reddit.com/r/antiwork/comments/svw...      i.redd.it   \n",
       "4  https://old.reddit.com/r/antiwork/comments/svw...  self.antiwork   \n",
       "\n",
       "                                   url  \\\n",
       "0                                  NaN   \n",
       "1  https://i.redd.it/vuoctaq0koi81.png   \n",
       "2                                  NaN   \n",
       "3  https://i.redd.it/1w1unxjfjoi81.png   \n",
       "4                                  NaN   \n",
       "\n",
       "                                            selftext  \\\n",
       "0  I was hired at the **Neon Museum** as a tour g...   \n",
       "1                                                NaN   \n",
       "2  So, I'm quite new to the jobs front then most ...   \n",
       "3                                                NaN   \n",
       "4  My boss asked me today what I plan on doing wh...   \n",
       "\n",
       "                                               title  score  \\\n",
       "0           Neon Museum Las Vegas took away our tips     15   \n",
       "1                                            Working   1887   \n",
       "2    Kind of feel like screaming into the cyberspace      4   \n",
       "3  Democracy is a lie, especially in the modern w...  14060   \n",
       "4              Master's Degree - No Pay Raise but OT     63   \n",
       "\n",
       "                                        title_w_text  \n",
       "0  Neon Museum Las Vegas took away our tips I was...  \n",
       "1                                           Working   \n",
       "2  Kind of feel like screaming into the cyberspac...  \n",
       "3  Democracy is a lie, especially in the modern w...  \n",
       "4  Master's Degree - No Pay Raise but OT My boss ...  "
      ]
     },
     "execution_count": 12,
     "metadata": {},
     "output_type": "execute_result"
    }
   ],
   "source": [
    "df.head()"
   ]
  },
  {
   "cell_type": "markdown",
   "id": "a337f426-3d36-410d-85db-c72ff5ccc878",
   "metadata": {},
   "source": [
    "Can see that now the UTC is readable, but it still isn't in date time format for pandas"
   ]
  },
  {
   "cell_type": "code",
   "execution_count": 13,
   "id": "ec986935-b7e5-433e-8f79-b44681cf56a1",
   "metadata": {},
   "outputs": [],
   "source": [
    "df['created_utc']=pd.to_datetime(df['created_utc'])"
   ]
  },
  {
   "cell_type": "code",
   "execution_count": 14,
   "id": "50386f7c-ffa1-4ff4-bfde-e04b624f6ddf",
   "metadata": {},
   "outputs": [
    {
     "data": {
      "text/plain": [
       "id                      object\n",
       "created_utc     datetime64[ns]\n",
       "permalink               object\n",
       "domain                  object\n",
       "url                     object\n",
       "selftext                object\n",
       "title                   object\n",
       "score                    int64\n",
       "title_w_text            object\n",
       "dtype: object"
      ]
     },
     "execution_count": 14,
     "metadata": {},
     "output_type": "execute_result"
    }
   ],
   "source": [
    "df.dtypes"
   ]
  },
  {
   "cell_type": "code",
   "execution_count": 15,
   "id": "1e058dde-abb9-485d-b56d-2602f0e9d010",
   "metadata": {},
   "outputs": [
    {
     "data": {
      "text/html": [
       "<div>\n",
       "<style scoped>\n",
       "    .dataframe tbody tr th:only-of-type {\n",
       "        vertical-align: middle;\n",
       "    }\n",
       "\n",
       "    .dataframe tbody tr th {\n",
       "        vertical-align: top;\n",
       "    }\n",
       "\n",
       "    .dataframe thead th {\n",
       "        text-align: right;\n",
       "    }\n",
       "</style>\n",
       "<table border=\"1\" class=\"dataframe\">\n",
       "  <thead>\n",
       "    <tr style=\"text-align: right;\">\n",
       "      <th></th>\n",
       "      <th>id</th>\n",
       "      <th>created_utc</th>\n",
       "      <th>permalink</th>\n",
       "      <th>domain</th>\n",
       "      <th>url</th>\n",
       "      <th>selftext</th>\n",
       "      <th>title</th>\n",
       "      <th>score</th>\n",
       "      <th>title_w_text</th>\n",
       "      <th>year</th>\n",
       "      <th>month</th>\n",
       "    </tr>\n",
       "  </thead>\n",
       "  <tbody>\n",
       "    <tr>\n",
       "      <th>0</th>\n",
       "      <td>svw6x3</td>\n",
       "      <td>2022-02-18 23:58:39</td>\n",
       "      <td>https://old.reddit.com/r/antiwork/comments/svw...</td>\n",
       "      <td>self.antiwork</td>\n",
       "      <td>NaN</td>\n",
       "      <td>I was hired at the **Neon Museum** as a tour g...</td>\n",
       "      <td>Neon Museum Las Vegas took away our tips</td>\n",
       "      <td>15</td>\n",
       "      <td>Neon Museum Las Vegas took away our tips I was...</td>\n",
       "      <td>2022</td>\n",
       "      <td>2</td>\n",
       "    </tr>\n",
       "    <tr>\n",
       "      <th>1</th>\n",
       "      <td>svw6jv</td>\n",
       "      <td>2022-02-18 23:58:07</td>\n",
       "      <td>https://old.reddit.com/r/antiwork/comments/svw...</td>\n",
       "      <td>i.redd.it</td>\n",
       "      <td>https://i.redd.it/vuoctaq0koi81.png</td>\n",
       "      <td>NaN</td>\n",
       "      <td>Working</td>\n",
       "      <td>1887</td>\n",
       "      <td>Working</td>\n",
       "      <td>2022</td>\n",
       "      <td>2</td>\n",
       "    </tr>\n",
       "    <tr>\n",
       "      <th>2</th>\n",
       "      <td>svw5e8</td>\n",
       "      <td>2022-02-18 23:56:28</td>\n",
       "      <td>https://old.reddit.com/r/antiwork/comments/svw...</td>\n",
       "      <td>self.antiwork</td>\n",
       "      <td>NaN</td>\n",
       "      <td>So, I'm quite new to the jobs front then most ...</td>\n",
       "      <td>Kind of feel like screaming into the cyberspace</td>\n",
       "      <td>4</td>\n",
       "      <td>Kind of feel like screaming into the cyberspac...</td>\n",
       "      <td>2022</td>\n",
       "      <td>2</td>\n",
       "    </tr>\n",
       "    <tr>\n",
       "      <th>3</th>\n",
       "      <td>svw498</td>\n",
       "      <td>2022-02-18 23:54:55</td>\n",
       "      <td>https://old.reddit.com/r/antiwork/comments/svw...</td>\n",
       "      <td>i.redd.it</td>\n",
       "      <td>https://i.redd.it/1w1unxjfjoi81.png</td>\n",
       "      <td>NaN</td>\n",
       "      <td>Democracy is a lie, especially in the modern w...</td>\n",
       "      <td>14060</td>\n",
       "      <td>Democracy is a lie, especially in the modern w...</td>\n",
       "      <td>2022</td>\n",
       "      <td>2</td>\n",
       "    </tr>\n",
       "    <tr>\n",
       "      <th>4</th>\n",
       "      <td>svw3qt</td>\n",
       "      <td>2022-02-18 23:54:10</td>\n",
       "      <td>https://old.reddit.com/r/antiwork/comments/svw...</td>\n",
       "      <td>self.antiwork</td>\n",
       "      <td>NaN</td>\n",
       "      <td>My boss asked me today what I plan on doing wh...</td>\n",
       "      <td>Master's Degree - No Pay Raise but OT</td>\n",
       "      <td>63</td>\n",
       "      <td>Master's Degree - No Pay Raise but OT My boss ...</td>\n",
       "      <td>2022</td>\n",
       "      <td>2</td>\n",
       "    </tr>\n",
       "  </tbody>\n",
       "</table>\n",
       "</div>"
      ],
      "text/plain": [
       "       id         created_utc  \\\n",
       "0  svw6x3 2022-02-18 23:58:39   \n",
       "1  svw6jv 2022-02-18 23:58:07   \n",
       "2  svw5e8 2022-02-18 23:56:28   \n",
       "3  svw498 2022-02-18 23:54:55   \n",
       "4  svw3qt 2022-02-18 23:54:10   \n",
       "\n",
       "                                           permalink         domain  \\\n",
       "0  https://old.reddit.com/r/antiwork/comments/svw...  self.antiwork   \n",
       "1  https://old.reddit.com/r/antiwork/comments/svw...      i.redd.it   \n",
       "2  https://old.reddit.com/r/antiwork/comments/svw...  self.antiwork   \n",
       "3  https://old.reddit.com/r/antiwork/comments/svw...      i.redd.it   \n",
       "4  https://old.reddit.com/r/antiwork/comments/svw...  self.antiwork   \n",
       "\n",
       "                                   url  \\\n",
       "0                                  NaN   \n",
       "1  https://i.redd.it/vuoctaq0koi81.png   \n",
       "2                                  NaN   \n",
       "3  https://i.redd.it/1w1unxjfjoi81.png   \n",
       "4                                  NaN   \n",
       "\n",
       "                                            selftext  \\\n",
       "0  I was hired at the **Neon Museum** as a tour g...   \n",
       "1                                                NaN   \n",
       "2  So, I'm quite new to the jobs front then most ...   \n",
       "3                                                NaN   \n",
       "4  My boss asked me today what I plan on doing wh...   \n",
       "\n",
       "                                               title  score  \\\n",
       "0           Neon Museum Las Vegas took away our tips     15   \n",
       "1                                            Working   1887   \n",
       "2    Kind of feel like screaming into the cyberspace      4   \n",
       "3  Democracy is a lie, especially in the modern w...  14060   \n",
       "4              Master's Degree - No Pay Raise but OT     63   \n",
       "\n",
       "                                        title_w_text  year  month  \n",
       "0  Neon Museum Las Vegas took away our tips I was...  2022      2  \n",
       "1                                           Working   2022      2  \n",
       "2  Kind of feel like screaming into the cyberspac...  2022      2  \n",
       "3  Democracy is a lie, especially in the modern w...  2022      2  \n",
       "4  Master's Degree - No Pay Raise but OT My boss ...  2022      2  "
      ]
     },
     "execution_count": 15,
     "metadata": {},
     "output_type": "execute_result"
    }
   ],
   "source": [
    "df['year'] = df['created_utc'].dt.year\n",
    "\n",
    "df['month'] = df['created_utc'].dt.month\n",
    "\n",
    "df.head()"
   ]
  },
  {
   "cell_type": "code",
   "execution_count": 16,
   "id": "e722dcc9-16cd-461f-9453-3e3c32198b81",
   "metadata": {},
   "outputs": [],
   "source": [
    "#dont need these columns\n",
    "df.drop(columns=['domain', 'title', 'selftext'], inplace=True)"
   ]
  },
  {
   "cell_type": "code",
   "execution_count": 17,
   "id": "25d42b24-b82a-400b-8c6c-fe20325f7f20",
   "metadata": {},
   "outputs": [
    {
     "data": {
      "text/html": [
       "<div>\n",
       "<style scoped>\n",
       "    .dataframe tbody tr th:only-of-type {\n",
       "        vertical-align: middle;\n",
       "    }\n",
       "\n",
       "    .dataframe tbody tr th {\n",
       "        vertical-align: top;\n",
       "    }\n",
       "\n",
       "    .dataframe thead th {\n",
       "        text-align: right;\n",
       "    }\n",
       "</style>\n",
       "<table border=\"1\" class=\"dataframe\">\n",
       "  <thead>\n",
       "    <tr style=\"text-align: right;\">\n",
       "      <th></th>\n",
       "      <th>id</th>\n",
       "      <th>created_utc</th>\n",
       "      <th>permalink</th>\n",
       "      <th>url</th>\n",
       "      <th>score</th>\n",
       "      <th>title_w_text</th>\n",
       "      <th>year</th>\n",
       "      <th>month</th>\n",
       "      <th>length</th>\n",
       "    </tr>\n",
       "  </thead>\n",
       "  <tbody>\n",
       "    <tr>\n",
       "      <th>0</th>\n",
       "      <td>svw6x3</td>\n",
       "      <td>2022-02-18 23:58:39</td>\n",
       "      <td>https://old.reddit.com/r/antiwork/comments/svw...</td>\n",
       "      <td>NaN</td>\n",
       "      <td>15</td>\n",
       "      <td>Neon Museum Las Vegas took away our tips I was...</td>\n",
       "      <td>2022</td>\n",
       "      <td>2</td>\n",
       "      <td>1891</td>\n",
       "    </tr>\n",
       "    <tr>\n",
       "      <th>1</th>\n",
       "      <td>svw6jv</td>\n",
       "      <td>2022-02-18 23:58:07</td>\n",
       "      <td>https://old.reddit.com/r/antiwork/comments/svw...</td>\n",
       "      <td>https://i.redd.it/vuoctaq0koi81.png</td>\n",
       "      <td>1887</td>\n",
       "      <td>Working</td>\n",
       "      <td>2022</td>\n",
       "      <td>2</td>\n",
       "      <td>8</td>\n",
       "    </tr>\n",
       "    <tr>\n",
       "      <th>2</th>\n",
       "      <td>svw5e8</td>\n",
       "      <td>2022-02-18 23:56:28</td>\n",
       "      <td>https://old.reddit.com/r/antiwork/comments/svw...</td>\n",
       "      <td>NaN</td>\n",
       "      <td>4</td>\n",
       "      <td>Kind of feel like screaming into the cyberspac...</td>\n",
       "      <td>2022</td>\n",
       "      <td>2</td>\n",
       "      <td>3106</td>\n",
       "    </tr>\n",
       "    <tr>\n",
       "      <th>3</th>\n",
       "      <td>svw498</td>\n",
       "      <td>2022-02-18 23:54:55</td>\n",
       "      <td>https://old.reddit.com/r/antiwork/comments/svw...</td>\n",
       "      <td>https://i.redd.it/1w1unxjfjoi81.png</td>\n",
       "      <td>14060</td>\n",
       "      <td>Democracy is a lie, especially in the modern w...</td>\n",
       "      <td>2022</td>\n",
       "      <td>2</td>\n",
       "      <td>55</td>\n",
       "    </tr>\n",
       "    <tr>\n",
       "      <th>4</th>\n",
       "      <td>svw3qt</td>\n",
       "      <td>2022-02-18 23:54:10</td>\n",
       "      <td>https://old.reddit.com/r/antiwork/comments/svw...</td>\n",
       "      <td>NaN</td>\n",
       "      <td>63</td>\n",
       "      <td>Master's Degree - No Pay Raise but OT My boss ...</td>\n",
       "      <td>2022</td>\n",
       "      <td>2</td>\n",
       "      <td>339</td>\n",
       "    </tr>\n",
       "  </tbody>\n",
       "</table>\n",
       "</div>"
      ],
      "text/plain": [
       "       id         created_utc  \\\n",
       "0  svw6x3 2022-02-18 23:58:39   \n",
       "1  svw6jv 2022-02-18 23:58:07   \n",
       "2  svw5e8 2022-02-18 23:56:28   \n",
       "3  svw498 2022-02-18 23:54:55   \n",
       "4  svw3qt 2022-02-18 23:54:10   \n",
       "\n",
       "                                           permalink  \\\n",
       "0  https://old.reddit.com/r/antiwork/comments/svw...   \n",
       "1  https://old.reddit.com/r/antiwork/comments/svw...   \n",
       "2  https://old.reddit.com/r/antiwork/comments/svw...   \n",
       "3  https://old.reddit.com/r/antiwork/comments/svw...   \n",
       "4  https://old.reddit.com/r/antiwork/comments/svw...   \n",
       "\n",
       "                                   url  score  \\\n",
       "0                                  NaN     15   \n",
       "1  https://i.redd.it/vuoctaq0koi81.png   1887   \n",
       "2                                  NaN      4   \n",
       "3  https://i.redd.it/1w1unxjfjoi81.png  14060   \n",
       "4                                  NaN     63   \n",
       "\n",
       "                                        title_w_text  year  month  length  \n",
       "0  Neon Museum Las Vegas took away our tips I was...  2022      2    1891  \n",
       "1                                           Working   2022      2       8  \n",
       "2  Kind of feel like screaming into the cyberspac...  2022      2    3106  \n",
       "3  Democracy is a lie, especially in the modern w...  2022      2      55  \n",
       "4  Master's Degree - No Pay Raise but OT My boss ...  2022      2     339  "
      ]
     },
     "execution_count": 17,
     "metadata": {},
     "output_type": "execute_result"
    }
   ],
   "source": [
    "df['length']=df['title_w_text'].map(len)\n",
    "df.head()"
   ]
  },
  {
   "cell_type": "code",
   "execution_count": 18,
   "id": "54301e6e-ae77-42d2-91f9-c1bec2f0a2c3",
   "metadata": {},
   "outputs": [],
   "source": [
    "df.to_csv('./data/cleaned_df_posts.csv', index=False)"
   ]
  },
  {
   "cell_type": "markdown",
   "id": "abcd81ab-4077-461b-988d-66bb69464bf5",
   "metadata": {
    "tags": []
   },
   "source": [
    "## II: EDA"
   ]
  },
  {
   "cell_type": "code",
   "execution_count": 19,
   "id": "6c6afee9-a17b-43c3-ad66-d2cbc3fdb57d",
   "metadata": {},
   "outputs": [
    {
     "data": {
      "text/plain": [
       "2021    0.591281\n",
       "2022    0.279660\n",
       "2020    0.080689\n",
       "2019    0.040897\n",
       "2018    0.003496\n",
       "2016    0.001569\n",
       "2015    0.001124\n",
       "2017    0.000538\n",
       "2014    0.000492\n",
       "2013    0.000254\n",
       "Name: year, dtype: float64"
      ]
     },
     "execution_count": 19,
     "metadata": {},
     "output_type": "execute_result"
    }
   ],
   "source": [
    "df['year'].value_counts(normalize=True)"
   ]
  },
  {
   "cell_type": "code",
   "execution_count": 20,
   "id": "7dd18b43-7580-47f7-bcf8-f5caf745e883",
   "metadata": {},
   "outputs": [
    {
     "data": {
      "image/png": "[encoded data removed]",
      "text/plain": [
       "<Figure size 720x720 with 1 Axes>"
      ]
     },
     "metadata": {
      "needs_background": "light"
     },
     "output_type": "display_data"
    }
   ],
   "source": [
    "plt.figure(figsize=(10,10))\n",
    "plt.title('Post Frequencies Over the Years')\n",
    "plt.xlabel('Year', loc='center')\n",
    "plt.ylabel('Number of Posts')\n",
    "plt.hist(x=df['year'], bins=9, align='right', edgecolor='black')\n",
    "plt.xticks([2013, 2014, 2015, 2016, 2017, 2018, 2019, 2020, 2021, 2022]);"
   ]
  },
  {
   "cell_type": "markdown",
   "id": "7fa2f627-44a2-41a4-bbef-5a47e1f2db57",
   "metadata": {},
   "source": [
    "Can definitely see the massive increase in post frequency from 2021 to 2022"
   ]
  },
  {
   "cell_type": "code",
   "execution_count": 21,
   "id": "972a24a8-e6a4-4acf-aeee-46448355ce02",
   "metadata": {},
   "outputs": [
    {
     "data": {
      "image/png": "[encoded data removed]",
      "text/plain": [
       "<Figure size 720x720 with 1 Axes>"
      ]
     },
     "metadata": {
      "needs_background": "light"
     },
     "output_type": "display_data"
    }
   ],
   "source": [
    "plt.figure(figsize=(10,10))\n",
    "plt.title('Post Frequencies Per Month')\n",
    "plt.xlabel('Month', loc='center')\n",
    "plt.ylabel('Number of Posts')\n",
    "plt.hist(x=df['month'], bins=12, edgecolor='black');\n",
    "#plt.xticks([1, 2,3,4,5,6,7,8,9,10,11,12]);  # Set text labels and properties."
   ]
  },
  {
   "cell_type": "code",
   "execution_count": 22,
   "id": "de2429cc-b33e-49a8-a482-d86e7b4f478e",
   "metadata": {},
   "outputs": [
    {
     "data": {
      "image/png": "[encoded data removed]",
      "text/plain": [
       "<Figure size 576x576 with 1 Axes>"
      ]
     },
     "metadata": {
      "needs_background": "light"
     },
     "output_type": "display_data"
    }
   ],
   "source": [
    "plt.figure(figsize=(8,8))\n",
    "plt.title('Post Frequencies Per Month')\n",
    "plt.xlabel('Numer of Posts', loc='center')\n",
    "plt.ylabel('Months')\n",
    "df['month'].value_counts().sort_index(ascending=False).plot.barh();"
   ]
  },
  {
   "cell_type": "markdown",
   "id": "da684028-f3d0-4ace-8968-67e8ea74d1b4",
   "metadata": {},
   "source": [
    "These two charts show us that the winter months seem to have more posts. "
   ]
  },
  {
   "cell_type": "markdown",
   "id": "50a78a29-46f5-4809-8bb5-ec2d127f0b02",
   "metadata": {
    "tags": []
   },
   "source": [
    "<a name=’Preprocessing’></a>\n",
    "## III: Preprocessing"
   ]
  },
  {
   "cell_type": "code",
   "execution_count": 23,
   "id": "10cd652d-023a-432d-b187-9fe067a4a911",
   "metadata": {},
   "outputs": [
    {
     "name": "stderr",
     "output_type": "stream",
     "text": [
      "[nltk_data] Downloading package stopwords to\n",
      "[nltk_data]     /home/jupyter/nltk_data...\n",
      "[nltk_data]   Package stopwords is already up-to-date!\n"
     ]
    }
   ],
   "source": [
    "import sys\n",
    "# !{sys.executable} -m spacy download en\n",
    "import re, numpy as np, pandas as pd\n",
    "from pprint import pprint\n",
    "\n",
    "# Gensim\n",
    "import gensim, spacy, logging, warnings\n",
    "import gensim.corpora as corpora\n",
    "from gensim.utils import simple_preprocess\n",
    "from gensim.models import CoherenceModel\n",
    "import matplotlib.pyplot as plt\n",
    "from gensim.parsing.preprocessing import STOPWORDS\n",
    "\n",
    "# NLTK\n",
    "from nltk.corpus import stopwords\n",
    "import nltk\n",
    "nltk.download('stopwords')\n",
    "# stop_words = stopwords.words('english')\n",
    "# stop_words.extend(['work', 'job', 'www', 'com', 'https', 'antiwork', 'amp'])\n",
    "\n",
    "from nltk.stem import WordNetLemmatizer, SnowballStemmer\n",
    "from nltk.tokenize import sent_tokenize, word_tokenize, RegexpTokenizer\n",
    "\n",
    "%matplotlib inline\n",
    "warnings.filterwarnings(\"ignore\")\n",
    "logging.basicConfig(format='%(asctime)s : %(levelname)s : %(message)s', level=logging.ERROR)\n",
    "#warnings.simplefilter(\"always\", append=True)"
   ]
  },
  {
   "cell_type": "code",
   "execution_count": 24,
   "id": "017c8a2d-c3e9-4c10-a3f8-01d97b79ce9f",
   "metadata": {},
   "outputs": [],
   "source": [
    "#Adding some personal stop words since these words contributed to creating a topic that doesn't make the most sense.\n",
    "\n",
    "my_stop_words = STOPWORDS.union(set(['work', 'job', 'www', 'com', 'https', 'antiwork', 'amp', 'delete', 'post', 'working', 'worked', 'works','worker']))"
   ]
  },
  {
   "cell_type": "markdown",
   "id": "fd26ba15-377f-4d26-8d1f-98f16e1071d9",
   "metadata": {},
   "source": [
    "Tokenizing, stemming, lemming"
   ]
  },
  {
   "cell_type": "code",
   "execution_count": 25,
   "id": "db0555ad-3589-4fbf-ab2f-3e6204cc9810",
   "metadata": {},
   "outputs": [],
   "source": [
    "# function structure from\n",
    "#https://towardsdatascience.com/topic-modeling-and-latent-dirichlet-allocation-in-python-9bf156893c24\n",
    "\n",
    "stemmer = SnowballStemmer('english')\n",
    "\n",
    "def lemmatize_stemming(text):\n",
    "    return stemmer.stem(WordNetLemmatizer().lemmatize(text, pos='v'))\n",
    "def preprocess(text):\n",
    "    result = []\n",
    "    text = re.sub('\\s+', ' ', text)  # remove newline chars\n",
    "    text = re.sub(\"\\'\", \"\", text)  # remove single quotes\n",
    "    #tokenizer = RegexpTokenizer('\\w+') #tokenize at word boundaries\n",
    "    text = text.lower()\n",
    "    for token in gensim.utils.simple_preprocess(text, deacc=True):\n",
    "        if token not in my_stop_words and len(token) >= 3:\n",
    "           # print(token)\n",
    "            result.append(lemmatize_stemming(token))\n",
    "    return result"
   ]
  },
  {
   "cell_type": "markdown",
   "id": "9155e50f-b052-42c2-814f-563e5bee5fbf",
   "metadata": {},
   "source": [
    "Test case to ensure preprocessing worked properly. I added a custom stop word to this test case to ensure my custom stop words work properly"
   ]
  },
  {
   "cell_type": "code",
   "execution_count": 26,
   "id": "42f6de2f-f971-4ce7-a32b-150d3ed851b2",
   "metadata": {},
   "outputs": [
    {
     "data": {
      "text/plain": [
       "\"www.Democracy ''is a lie, especially in the modern workplace work\""
      ]
     },
     "execution_count": 26,
     "metadata": {},
     "output_type": "execute_result"
    }
   ],
   "source": [
    "test = \"www.Democracy ''is a lie, especially in the modern workplace work\"\n",
    "test"
   ]
  },
  {
   "cell_type": "code",
   "execution_count": 27,
   "id": "c5b2644c-f425-4740-90c3-9852c4fefa46",
   "metadata": {},
   "outputs": [
    {
     "name": "stdout",
     "output_type": "stream",
     "text": [
      "['democraci', 'lie', 'especi', 'modern', 'workplac']\n"
     ]
    }
   ],
   "source": [
    "print(preprocess(test))"
   ]
  },
  {
   "cell_type": "markdown",
   "id": "1a5395bc-0c9f-41ad-ba27-f707dcdc77d2",
   "metadata": {},
   "source": [
    "It works! Applying the preprocessing function to the df"
   ]
  },
  {
   "cell_type": "code",
   "execution_count": 28,
   "id": "d095642d-6ab2-42f8-b743-c93067ef5e75",
   "metadata": {},
   "outputs": [
    {
     "data": {
      "text/plain": [
       "0         [neon, museum, las, vega, take, away, tip, hir...\n",
       "1                                                        []\n",
       "2         [kind, feel, like, scream, cyberspac, new, job...\n",
       "3                [democraci, lie, especi, modern, workplac]\n",
       "4         [master, degre, pay, rais, boss, ask, today, p...\n",
       "                                ...                        \n",
       "256274                                 [abolit, bob, black]\n",
       "256275                        [global, campaign, hour, day]\n",
       "256276                                   [polit, get, life]\n",
       "256277                                          [new, anti]\n",
       "256278    [idl, theori, appli, theori, evolut, approach,...\n",
       "Name: title_w_text, Length: 256279, dtype: object"
      ]
     },
     "execution_count": 28,
     "metadata": {},
     "output_type": "execute_result"
    }
   ],
   "source": [
    "preprocessed = df['title_w_text'].map(preprocess)\n",
    "preprocessed"
   ]
  },
  {
   "cell_type": "code",
   "execution_count": 29,
   "id": "8abb24a0-14ef-47a0-acd8-6af6046b60ef",
   "metadata": {},
   "outputs": [
    {
     "data": {
      "text/html": [
       "<div>\n",
       "<style scoped>\n",
       "    .dataframe tbody tr th:only-of-type {\n",
       "        vertical-align: middle;\n",
       "    }\n",
       "\n",
       "    .dataframe tbody tr th {\n",
       "        vertical-align: top;\n",
       "    }\n",
       "\n",
       "    .dataframe thead th {\n",
       "        text-align: right;\n",
       "    }\n",
       "</style>\n",
       "<table border=\"1\" class=\"dataframe\">\n",
       "  <thead>\n",
       "    <tr style=\"text-align: right;\">\n",
       "      <th></th>\n",
       "      <th>id</th>\n",
       "      <th>created_utc</th>\n",
       "      <th>permalink</th>\n",
       "      <th>url</th>\n",
       "      <th>score</th>\n",
       "      <th>title_w_text</th>\n",
       "      <th>year</th>\n",
       "      <th>month</th>\n",
       "      <th>length</th>\n",
       "      <th>preprocessed</th>\n",
       "    </tr>\n",
       "  </thead>\n",
       "  <tbody>\n",
       "    <tr>\n",
       "      <th>0</th>\n",
       "      <td>svw6x3</td>\n",
       "      <td>2022-02-18 23:58:39</td>\n",
       "      <td>https://old.reddit.com/r/antiwork/comments/svw...</td>\n",
       "      <td>NaN</td>\n",
       "      <td>15</td>\n",
       "      <td>Neon Museum Las Vegas took away our tips I was...</td>\n",
       "      <td>2022</td>\n",
       "      <td>2</td>\n",
       "      <td>1891</td>\n",
       "      <td>[neon, museum, las, vega, take, away, tip, hir...</td>\n",
       "    </tr>\n",
       "    <tr>\n",
       "      <th>1</th>\n",
       "      <td>svw6jv</td>\n",
       "      <td>2022-02-18 23:58:07</td>\n",
       "      <td>https://old.reddit.com/r/antiwork/comments/svw...</td>\n",
       "      <td>https://i.redd.it/vuoctaq0koi81.png</td>\n",
       "      <td>1887</td>\n",
       "      <td>Working</td>\n",
       "      <td>2022</td>\n",
       "      <td>2</td>\n",
       "      <td>8</td>\n",
       "      <td>[]</td>\n",
       "    </tr>\n",
       "    <tr>\n",
       "      <th>2</th>\n",
       "      <td>svw5e8</td>\n",
       "      <td>2022-02-18 23:56:28</td>\n",
       "      <td>https://old.reddit.com/r/antiwork/comments/svw...</td>\n",
       "      <td>NaN</td>\n",
       "      <td>4</td>\n",
       "      <td>Kind of feel like screaming into the cyberspac...</td>\n",
       "      <td>2022</td>\n",
       "      <td>2</td>\n",
       "      <td>3106</td>\n",
       "      <td>[kind, feel, like, scream, cyberspac, new, job...</td>\n",
       "    </tr>\n",
       "    <tr>\n",
       "      <th>3</th>\n",
       "      <td>svw498</td>\n",
       "      <td>2022-02-18 23:54:55</td>\n",
       "      <td>https://old.reddit.com/r/antiwork/comments/svw...</td>\n",
       "      <td>https://i.redd.it/1w1unxjfjoi81.png</td>\n",
       "      <td>14060</td>\n",
       "      <td>Democracy is a lie, especially in the modern w...</td>\n",
       "      <td>2022</td>\n",
       "      <td>2</td>\n",
       "      <td>55</td>\n",
       "      <td>[democraci, lie, especi, modern, workplac]</td>\n",
       "    </tr>\n",
       "    <tr>\n",
       "      <th>4</th>\n",
       "      <td>svw3qt</td>\n",
       "      <td>2022-02-18 23:54:10</td>\n",
       "      <td>https://old.reddit.com/r/antiwork/comments/svw...</td>\n",
       "      <td>NaN</td>\n",
       "      <td>63</td>\n",
       "      <td>Master's Degree - No Pay Raise but OT My boss ...</td>\n",
       "      <td>2022</td>\n",
       "      <td>2</td>\n",
       "      <td>339</td>\n",
       "      <td>[master, degre, pay, rais, boss, ask, today, p...</td>\n",
       "    </tr>\n",
       "  </tbody>\n",
       "</table>\n",
       "</div>"
      ],
      "text/plain": [
       "       id         created_utc  \\\n",
       "0  svw6x3 2022-02-18 23:58:39   \n",
       "1  svw6jv 2022-02-18 23:58:07   \n",
       "2  svw5e8 2022-02-18 23:56:28   \n",
       "3  svw498 2022-02-18 23:54:55   \n",
       "4  svw3qt 2022-02-18 23:54:10   \n",
       "\n",
       "                                           permalink  \\\n",
       "0  https://old.reddit.com/r/antiwork/comments/svw...   \n",
       "1  https://old.reddit.com/r/antiwork/comments/svw...   \n",
       "2  https://old.reddit.com/r/antiwork/comments/svw...   \n",
       "3  https://old.reddit.com/r/antiwork/comments/svw...   \n",
       "4  https://old.reddit.com/r/antiwork/comments/svw...   \n",
       "\n",
       "                                   url  score  \\\n",
       "0                                  NaN     15   \n",
       "1  https://i.redd.it/vuoctaq0koi81.png   1887   \n",
       "2                                  NaN      4   \n",
       "3  https://i.redd.it/1w1unxjfjoi81.png  14060   \n",
       "4                                  NaN     63   \n",
       "\n",
       "                                        title_w_text  year  month  length  \\\n",
       "0  Neon Museum Las Vegas took away our tips I was...  2022      2    1891   \n",
       "1                                           Working   2022      2       8   \n",
       "2  Kind of feel like screaming into the cyberspac...  2022      2    3106   \n",
       "3  Democracy is a lie, especially in the modern w...  2022      2      55   \n",
       "4  Master's Degree - No Pay Raise but OT My boss ...  2022      2     339   \n",
       "\n",
       "                                        preprocessed  \n",
       "0  [neon, museum, las, vega, take, away, tip, hir...  \n",
       "1                                                 []  \n",
       "2  [kind, feel, like, scream, cyberspac, new, job...  \n",
       "3         [democraci, lie, especi, modern, workplac]  \n",
       "4  [master, degre, pay, rais, boss, ask, today, p...  "
      ]
     },
     "execution_count": 29,
     "metadata": {},
     "output_type": "execute_result"
    }
   ],
   "source": [
    "df['preprocessed'] = preprocessed\n",
    "df.head()"
   ]
  },
  {
   "cell_type": "markdown",
   "id": "17b4d751-202d-4235-b04b-a55d848e32e3",
   "metadata": {
    "tags": []
   },
   "source": [
    "<a name='Modeling'></a>\n",
    "# IV: Modeling\n",
    "### Running LDA on the tokenized, stemmed, and lemmed words of the whole corpus\n",
    "#### 5 clusters"
   ]
  },
  {
   "cell_type": "code",
   "execution_count": 30,
   "id": "5c299766-222b-4e01-b58e-300cd16c9d87",
   "metadata": {},
   "outputs": [
    {
     "name": "stdout",
     "output_type": "stream",
     "text": [
      "[(0,\n",
      "  '0.025*\"compani\" + 0.022*\"pay\" + 0.013*\"year\" + 0.012*\"employ\" + '\n",
      "  '0.011*\"employe\" + 0.009*\"hour\" + 0.009*\"interview\" + 0.008*\"new\" + '\n",
      "  '0.007*\"time\" + 0.007*\"posit\"'),\n",
      " (1,\n",
      "  '0.030*\"day\" + 0.020*\"time\" + 0.020*\"hour\" + 0.019*\"week\" + 0.015*\"get\" + '\n",
      "  '0.013*\"tell\" + 0.012*\"boss\" + 0.012*\"like\" + 0.011*\"go\" + 0.010*\"manag\"'),\n",
      " (2,\n",
      "  '0.012*\"worker\" + 0.010*\"peopl\" + 0.010*\"capit\" + 0.009*\"remov\" + '\n",
      "  '0.009*\"labor\" + 0.008*\"anti\" + 0.006*\"sub\" + 0.006*\"union\" + 0.006*\"world\" '\n",
      "  '+ 0.005*\"societi\"'),\n",
      " (3,\n",
      "  '0.011*\"fuck\" + 0.011*\"food\" + 0.009*\"custom\" + 0.008*\"store\" + 0.008*\"car\" '\n",
      "  '+ 0.007*\"busi\" + 0.007*\"buy\" + 0.006*\"watch\" + 0.006*\"drive\" + '\n",
      "  '0.005*\"shit\"'),\n",
      " (4,\n",
      "  '0.020*\"like\" + 0.020*\"delet\" + 0.020*\"peopl\" + 0.018*\"life\" + 0.016*\"want\" '\n",
      "  '+ 0.015*\"dont\" + 0.015*\"live\" + 0.013*\"time\" + 0.012*\"think\" + '\n",
      "  '0.012*\"feel\"')]\n"
     ]
    }
   ],
   "source": [
    "# Create Dictionary\n",
    "id2word = corpora.Dictionary(preprocessed)\n",
    "\n",
    "# Create Corpus: Term Document Frequency\n",
    "corpus = [id2word.doc2bow(text) for text in preprocessed]\n",
    "\n",
    "# Build LDA model\n",
    "lda_model = gensim.models.LdaMulticore(corpus=corpus,\n",
    "                                           id2word=id2word,\n",
    "                                           num_topics=5,\n",
    "                                           workers=3,\n",
    "                                           random_state=42,\n",
    "                                           chunksize=256,\n",
    "                                           passes=10,\n",
    "                                           alpha='symmetric',\n",
    "                                           iterations=100,\n",
    "                                           per_word_topics=True)\n",
    "\n",
    "pprint(lda_model.print_topics())"
   ]
  },
  {
   "cell_type": "code",
   "execution_count": 31,
   "id": "fa43dbb0-ffbe-42de-943d-cca5b65188da",
   "metadata": {},
   "outputs": [],
   "source": [
    "#!pip install pyLDAvis\n",
    "%matplotlib inline\n",
    "import pyLDAvis\n",
    "import pyLDAvis.gensim_models"
   ]
  },
  {
   "cell_type": "markdown",
   "id": "a9fbfa96-445e-44c0-8aa2-f543e2f9f4ac",
   "metadata": {},
   "source": [
    "#### Reading the pyLDAvis\n",
    "\n",
    "pyLDAvis is a visualization method used to simplify visualizing the topics the LDA model produces. On the left side of the visual, each circle represents a topic where the larger the circle, the more documents the topic has so to speak. The closer the circles are, the more closely related the topics are. If there is overlap, the topics have something in common.\n",
    "\n",
    "On the right side, the most common terms are shown. If no topic is selected, it's the most common terms of the whole corpus. When you select a topic from the left, the terms most prevalent to that topic appear. The red bar is showing how the frequency of that term within that topic, whereas the blue bar is showing the term frequency within the corpus. If you hover/click a term, the topic circles where that term is found grow larger. The larger the circle, the more frequently that word is in that topic.\n",
    "\n",
    "The relevance metric slider, denoted with a lambda, ranges on a scale of 0.0 to 1.0. As you move the scale towards 0, the terms that will appear are more exclusive to the topic that is selected meaning you will start to see more red bars. As the scale is moved toward 1, the terms that appear are not only relevant to the topic, but to the corpus as a whole."
   ]
  },
  {
   "cell_type": "code",
   "execution_count": 32,
   "id": "a88d93a8-e7ce-48dc-b2cb-bc0bf8376363",
   "metadata": {},
   "outputs": [
    {
     "data": {
      "text/html": [
       "\n",
       "<link rel=\"stylesheet\" type=\"text/css\" href=\"https://cdn.jsdelivr.net/gh/bmabey/pyLDAvis@3.3.1/pyLDAvis/js/ldavis.v1.0.0.css\">\n",
       "\n",
       "\n",
       "<div id=\"ldavis_el52091398276886097448305329316\"></div>\n",
       "<script type=\"text/javascript\">\n",
       "\n",
       "var ldavis_el52091398276886097448305329316_data = {\"mdsDat\": {\"x\": [-0.022429951243275997, -0.08934391280518174, -0.08217956068137756, -0.14952435934667915, 0.34347778407651447], \"y\": [-0.18208876309712455, -0.0704987299180252, -0.09612500908394848, 0.28003404207548804, 0.0686784600236101], \"topics\": [1, 2, 3, 4, 5], \"cluster\": [1, 1, 1, 1, 1], \"Freq\": [34.291156557084236, 22.835275934804574, 22.362226802441736, 11.346300772808428, 9.165039932861035]}, \"tinfo\": {\"Term\": [\"day\", \"compani\", \"delet\", \"life\", \"week\", \"pay\", \"boss\", \"live\", \"hour\", \"tell\", \"feel\", \"fuck\", \"employ\", \"peopl\", \"dont\", \"like\", \"employe\", \"time\", \"want\", \"interview\", \"worker\", \"manag\", \"food\", \"capit\", \"year\", \"job\", \"money\", \"remov\", \"custom\", \"ask\", \"shift\", \"weekend\", \"schedul\", \"morn\", \"monday\", \"clock\", \"friday\", \"tomorrow\", \"sunday\", \"yesterday\", \"saturday\", \"mask\", \"shes\", \"cope\", \"cowork\", \"appoint\", \"quarantin\", \"wednesday\", \"row\", \"thursday\", \"tuesday\", \"symptom\", \"weed\", \"afternoon\", \"nap\", \"surgeri\", \"thanksgiv\", \"weekday\", \"absenc\", \"infect\", \"boss\", \"day\", \"sick\", \"week\", \"vacat\", \"tell\", \"minut\", \"hes\", \"late\", \"wasnt\", \"call\", \"night\", \"supervisor\", \"didnt\", \"fire\", \"today\", \"leav\", \"hour\", \"say\", \"quit\", \"manag\", \"offic\", \"come\", \"home\", \"get\", \"time\", \"go\", \"ask\", \"start\", \"month\", \"know\", \"like\", \"feel\", \"fuck\", \"take\", \"want\", \"need\", \"dont\", \"think\", \"year\", \"peopl\", \"interview\", \"rais\", \"salari\", \"applic\", \"role\", \"review\", \"resum\", \"bonus\", \"rate\", \"softwar\", \"linkedin\", \"recruit\", \"png\", \"format\", \"entri\", \"auto\", \"firm\", \"preview\", \"redd\", \"width\", \"webp\", \"candid\", \"annual\", \"survey\", \"feedback\", \"contractor\", \"phrase\", \"consult\", \"negoti\", \"startup\", \"compens\", \"appli\", \"compani\", \"offer\", \"employ\", \"data\", \"contract\", \"increas\", \"employe\", \"minimum\", \"pay\", \"benefit\", \"hire\", \"posit\", \"process\", \"requir\", \"wage\", \"experi\", \"project\", \"level\", \"perform\", \"promot\", \"year\", \"unemploy\", \"new\", \"busi\", \"month\", \"job\", \"current\", \"hour\", \"ask\", \"time\", \"get\", \"manag\", \"look\", \"peopl\", \"know\", \"want\", \"delet\", \"dream\", \"surviv\", \"passion\", \"debt\", \"hobbi\", \"escap\", \"soul\", \"teacher\", \"robot\", \"lifestyl\", \"boomer\", \"meaningless\", \"prison\", \"starv\", \"shelter\", \"millenni\", \"hustl\", \"mindset\", \"exercis\", \"landlord\", \"psycholog\", \"miseri\", \"militari\", \"obsess\", \"hopeless\", \"richer\", \"oppos\", \"essay\", \"cog\", \"aliv\", \"life\", \"live\", \"trap\", \"homeless\", \"rent\", \"parent\", \"children\", \"retir\", \"depress\", \"slave\", \"energi\", \"school\", \"enjoy\", \"hate\", \"money\", \"love\", \"dont\", \"peopl\", \"colleg\", \"like\", \"want\", \"job\", \"feel\", \"think\", \"hard\", \"thing\", \"way\", \"world\", \"spend\", \"time\", \"make\", \"know\", \"need\", \"good\", \"ive\", \"free\", \"year\", \"fuck\", \"go\", \"pay\", \"better\", \"remov\", \"union\", \"strike\", \"articl\", \"org\", \"ubi\", \"movement\", \"meme\", \"song\", \"abolish\", \"protest\", \"coronavirus\", \"revolut\", \"vote\", \"war\", \"poll\", \"pro\", \"wiki\", \"trump\", \"socialist\", \"communist\", \"communism\", \"popul\", \"wikipedia\", \"anarchist\", \"http\", \"propaganda\", \"radic\", \"bootlick\", \"ideolog\", \"thread\", \"econom\", \"wealth\", \"capit\", \"anti\", \"economi\", \"capitalist\", \"power\", \"labor\", \"reddit\", \"billionair\", \"worker\", \"organ\", \"news\", \"youtub\", \"american\", \"comment\", \"sub\", \"social\", \"polit\", \"labour\", \"subreddit\", \"societi\", \"class\", \"world\", \"human\", \"creat\", \"peopl\", \"right\", \"post\", \"think\", \"read\", \"need\", \"chang\", \"idea\", \"tip\", \"restaur\", \"shop\", \"movi\", \"driver\", \"park\", \"deliveri\", \"truck\", \"toilet\", \"gas\", \"mcdonald\", \"coffe\", \"pizza\", \"bar\", \"walmart\", \"server\", \"van\", \"bag\", \"film\", \"david\", \"episod\", \"cubicl\", \"hot\", \"winter\", \"fat\", \"shirt\", \"bread\", \"club\", \"repair\", \"uber\", \"cashier\", \"kitchen\", \"groceri\", \"cook\", \"box\", \"car\", \"water\", \"food\", \"store\", \"gift\", \"drink\", \"custom\", \"buy\", \"clean\", \"drive\", \"watch\", \"eat\", \"game\", \"insid\", \"sell\", \"play\", \"order\", \"servic\", \"video\", \"steal\", \"owner\", \"fuck\", \"man\", \"fast\", \"busi\", \"walk\", \"guy\", \"shit\", \"run\", \"break\", \"money\", \"employe\", \"place\", \"worker\"], \"Freq\": [87449.0, 50448.0, 35851.0, 33364.0, 55646.0, 59640.0, 34168.0, 28117.0, 72949.0, 41122.0, 41997.0, 38691.0, 23628.0, 66895.0, 47043.0, 77474.0, 27331.0, 91526.0, 56336.0, 15714.0, 19415.0, 36038.0, 10334.0, 10962.0, 52613.0, 25501.0, 26233.0, 8012.0, 9526.0, 29266.0, 13909.192367728301, 8438.039067502805, 8390.288925473129, 8207.850631885298, 5276.165220412934, 4713.754099986161, 4698.290987591366, 4681.755600468256, 3579.1603695309354, 3672.752087375026, 2691.9551001762884, 2073.078699550835, 1835.641024360828, 1709.335532558739, 10586.75915372416, 1252.1203909057558, 1228.8207877953025, 1113.89225187767, 1089.7296857600745, 1071.354600675341, 1064.0518588294947, 1042.6023834393086, 1037.7923539092312, 965.1822054129823, 747.549686489025, 621.0797468512269, 625.2197639090643, 598.552702236927, 605.9118921658126, 580.1415508875717, 34080.851307904675, 80831.01546692124, 14323.964920253919, 50923.11728001913, 5914.373138875663, 36093.09728572903, 9705.314932731617, 3558.2377959934356, 6927.149517637539, 5112.794436420688, 12866.030519296724, 7850.38793115904, 4986.852632690988, 12075.503857878697, 9114.57658782941, 15390.402805318403, 23604.132954885354, 53563.000974195296, 27073.199976835844, 15974.158466617102, 27485.776388426963, 17583.84314887529, 23992.5441730151, 18725.605865493, 41531.04796682042, 55777.19510435592, 31331.280310186852, 18836.587414504174, 18096.276458212527, 19098.72435049128, 24242.89150091127, 32889.35822821166, 20990.73670760652, 19864.995374128703, 14171.77133440234, 21484.724471275822, 17733.31830969542, 17757.84273270641, 15522.478262528151, 15518.170055660128, 14988.757417717376, 15713.746350944697, 10837.11366095024, 8933.650066560722, 5182.986489708089, 4732.218044677611, 4130.785986780011, 4084.754937274733, 3307.202135723084, 3277.4676878072114, 2796.1135304969566, 2639.5148193517502, 2531.4619292183443, 2499.7149006314567, 2460.9984896850797, 2433.6057610283583, 2385.2796485070926, 2218.1035428890173, 1895.3038416078564, 1848.8583998337522, 1815.3770314441715, 1805.3781743865318, 1506.4396422653513, 1481.9403429431914, 1463.9281700852748, 1303.3156435480812, 1254.6642097676656, 1084.526917225525, 1000.3628718872484, 966.5538494263593, 947.2261825850597, 3081.2996047610636, 9871.348938254843, 45167.305020474836, 10471.666336088498, 21248.27109113211, 2513.115421963393, 5021.700098567929, 5986.83368953762, 20915.33553309747, 9103.356637148929, 40503.95074241147, 7995.5491028800625, 10167.414188055556, 12879.288811151342, 4793.1341323427605, 7591.170960427223, 12646.886429295124, 9850.938952609064, 5798.7869739094385, 5217.320394904569, 4409.414950215129, 4307.255591888625, 24466.1436991772, 7062.451809204874, 13927.153252498854, 9062.322047138816, 12416.16791366945, 10550.444978522692, 6774.291399439083, 16024.93670648374, 10429.136201411155, 13271.468466755206, 11311.792582306769, 8552.393061629138, 7576.067062072148, 7575.144965048167, 7246.158221775839, 7179.125076484266, 35850.03945806816, 4158.581629263545, 3756.553995491861, 2571.449116323184, 2506.1499835427358, 2385.4987866052843, 2210.1507577119937, 2226.774133647906, 1601.4255051902935, 1388.1329899116008, 1343.9650436985619, 1331.5606985603215, 1070.8907415260242, 982.4244257014258, 907.2176836060012, 872.3153022230254, 832.5447324979118, 811.9670146519296, 752.7403060039363, 727.234120530115, 638.5870187685551, 644.8836340772883, 633.3845166274239, 603.7865047056018, 572.3338533655711, 565.8813737883834, 532.3017099614191, 512.9637932035197, 528.5479874828308, 468.56064874394536, 1053.3930303866564, 31412.942399514992, 25998.24803476964, 1379.534806596099, 1889.2392089998964, 3113.5907317334686, 4009.5375907571583, 1783.673721051472, 3270.739296838347, 5837.096708604971, 5086.352628248449, 2435.129666395353, 7844.982373991498, 6710.9799991382315, 10925.460100140797, 17155.016598616454, 7653.652079084639, 26230.273752903937, 34810.892276441846, 4658.983395855375, 36406.43730626733, 27671.673278679642, 14411.609423358652, 21005.936076549104, 21221.523462136152, 7739.425816307622, 15407.592275130764, 11800.40339230789, 6964.878634998879, 7433.920220024867, 22477.351259874697, 9551.118138539283, 14283.091701756952, 12847.929238886276, 9823.816019677079, 9142.49332375264, 6565.03621619412, 12629.03474788834, 10754.84137320786, 9567.71264687584, 9815.948248929404, 7011.279458869863, 8011.483247885833, 5228.625861691692, 3959.4843700264646, 3074.7507954241896, 2265.143688235525, 2108.1379403872515, 1842.2125766858253, 1750.8325296385256, 1727.470076887688, 1722.4046241267017, 1661.3267770361024, 1584.8968283000027, 1434.414071907354, 1268.3591921229347, 1247.8305730993175, 1194.1614946669984, 1196.7864763343014, 1152.372326040458, 1146.2233083288522, 1101.794932491069, 1083.3946655896543, 1076.2866354677028, 1066.268375178854, 1028.5929177365233, 990.2313675786932, 989.8118720940665, 974.5627212369308, 979.4945592592819, 994.2865959711501, 906.5787413739265, 2730.141103082594, 3028.5411707363364, 2579.377313166333, 8991.596670993698, 7130.423446349628, 3048.9448157220822, 4636.339965661124, 4577.475297084368, 7724.371728907569, 3925.5592928386795, 1597.419311194265, 11263.564826841974, 2932.8395088145057, 2473.077515634905, 2536.962642104037, 3254.910249337783, 3806.6244725542647, 5285.343000005526, 4659.420752641951, 2797.779033417461, 2461.4243715369676, 2769.4194105165484, 4882.8730678637285, 3437.087201505248, 5034.7361235161425, 4235.587636232065, 3345.944246856946, 9373.90679451032, 4787.029993497696, 3133.242649375321, 4523.233192667271, 3294.8732796200434, 3806.1620896890195, 3230.3470553040215, 3061.1931144287037, 3228.131485025292, 3160.4466220510776, 2875.2349343873943, 2121.137550104753, 1732.3133771181508, 1723.647808041593, 1387.5968894471473, 1347.9323000159225, 1308.34610313852, 1267.6870092568543, 1254.5642149105431, 1849.6143429032343, 1194.5572259047972, 1215.754027710877, 1193.493606629488, 1132.5812304413266, 1085.46688001041, 1067.780634653662, 993.5513978621709, 1015.006358860153, 944.0290937421942, 892.0584905797245, 870.99864167169, 805.7989333054462, 781.1432409351272, 715.7444444218804, 713.8813232377223, 658.9020972740083, 635.2861063639886, 626.6916523566146, 1354.9996313257968, 1160.196092764062, 2150.3011122285648, 2296.4673909424628, 1411.4542715435286, 5808.198111362595, 2463.6806659307067, 7905.950847730162, 6157.375058740969, 1278.5112249756266, 2897.9944802631503, 6382.017986654904, 4804.269190639912, 3092.147556396755, 4527.332215801809, 4570.553154509679, 3753.2461772798083, 3456.0714965058387, 1777.778334597968, 3263.0535377422343, 3268.7512549548774, 3666.7821695014254, 3606.0796061744704, 3002.5151616222047, 1936.0182582353652, 2692.05528368684, 8070.574870289237, 3034.4986426473442, 2542.6319262926463, 4900.454215559341, 3187.739487597365, 3518.385150233166, 3943.3796986233046, 2902.2258056003916, 3262.1135080306053, 3239.9977854741865, 3172.4586424262952, 2973.4855733091595, 2890.6267718387944], \"Total\": [87449.0, 50448.0, 35851.0, 33364.0, 55646.0, 59640.0, 34168.0, 28117.0, 72949.0, 41122.0, 41997.0, 38691.0, 23628.0, 66895.0, 47043.0, 77474.0, 27331.0, 91526.0, 56336.0, 15714.0, 19415.0, 36038.0, 10334.0, 10962.0, 52613.0, 25501.0, 26233.0, 8012.0, 9526.0, 29266.0, 13910.218070984332, 8439.056993984654, 8391.305560609095, 8208.871490061212, 5277.183467732108, 4714.777552701545, 4699.312316973493, 4682.779105054053, 3580.17721352067, 3673.9547843953137, 2692.966661928212, 2074.105241417184, 1836.660466561496, 1710.4058134630293, 10594.35843042082, 1253.1361548186046, 1229.8585346264836, 1114.9028688551252, 1090.7636536944528, 1072.373152825258, 1065.065593305349, 1043.646079023283, 1038.8511805742987, 966.2045173701407, 748.5710253812351, 622.0927789887378, 626.2525091477997, 599.5705979581847, 606.9590247984704, 581.1701654104832, 34168.04438378329, 87449.12675277653, 15025.487352336788, 55646.580012559876, 6211.698262209801, 41122.02094410367, 10718.21526216848, 3800.451414668416, 7667.022143719086, 5576.895149062064, 14923.575293930993, 8827.14032006034, 5481.5134238717, 14190.487915058304, 10562.492814518293, 18575.60383081626, 29703.455501343396, 72949.70698911388, 34842.44860503885, 19666.784956052343, 36038.81583170107, 22228.002723969585, 31821.07236146999, 24158.318791705722, 61159.30347366494, 91526.51706722053, 47693.36204267773, 29266.37476105461, 30024.807641269537, 32567.110445666836, 46352.10230900078, 77474.01983128341, 41997.544481867604, 38691.02271554023, 22867.045777892607, 56336.02435447081, 40467.199911462514, 47043.93991208047, 45789.603611241844, 52613.84791797766, 66895.25750344364, 15714.679072591149, 10838.053232241062, 8934.584402403809, 5183.9204283592, 4733.158298136833, 4131.724351608189, 4085.693719994658, 3308.1348557437004, 3278.405313588337, 2797.0500389941794, 2640.447471069608, 2532.391317136644, 2500.6408338967817, 2461.9358131239646, 2434.5414100008625, 2386.2178958939767, 2219.0439323760393, 1896.229482807323, 1849.7837001488517, 1816.3031270070696, 1806.3032677230228, 1507.372888029738, 1482.8753302542893, 1464.8669726276787, 1304.2635564514896, 1255.6024690348597, 1085.5068635624962, 1001.2972237541977, 967.484173208867, 948.1727730907476, 3098.4333985672815, 10491.16646768523, 50448.16473328602, 11194.76081125845, 23628.50288778267, 2606.9508173986783, 5459.212313492096, 6817.59325748138, 27331.045773764283, 11034.235114221663, 59640.148526264864, 9774.20162389826, 13001.12210823183, 17081.47669292455, 5532.661304268772, 9610.45685195672, 18015.23617162307, 13479.806139399707, 7050.0432200574105, 6213.087679482266, 5086.080073424925, 4987.843929528333, 52613.84791797766, 10304.035603996397, 29093.07259867823, 17999.8614884977, 32567.110445666836, 25501.78583557813, 11541.686003326815, 72949.70698911388, 29266.37476105461, 91526.51706722053, 61159.30347366494, 36038.81583170107, 22438.866686911733, 66895.25750344364, 46352.10230900078, 56336.02435447081, 35851.20115652222, 4159.744038552517, 3757.7208411147753, 2572.612139257128, 2507.3172644893907, 2386.6622796436486, 2211.3134156263177, 2227.9462116117534, 1602.5873734602023, 1389.3162690142176, 1345.1333457976493, 1332.7307864093916, 1072.0655399239538, 983.6078454586412, 908.3930322368758, 873.4831887581519, 833.7126562358864, 813.1331704822004, 753.9072606264705, 728.4169061169954, 639.7524434270142, 646.0657794059839, 634.561308925846, 604.9743101632654, 573.513901291756, 567.0500905792254, 533.4702191786854, 514.1836902932155, 529.8402891533592, 469.73082235056694, 1064.3355956916505, 33364.712630735616, 28117.700485888367, 1428.9803001182336, 1989.9970354453735, 3465.8105646497097, 4612.587646529551, 1936.5792062363932, 3747.427075141593, 7048.004808271161, 6068.781836056151, 2771.831178193111, 10312.692223628337, 8664.960632419445, 15062.429964393044, 26233.64339664176, 10467.421221688788, 47043.93991208047, 66895.25750344364, 6174.375910404565, 77474.01983128341, 56336.02435447081, 25501.78583557813, 41997.544481867604, 45789.603611241844, 12994.840786278484, 32606.934535699096, 24891.19126133847, 12000.544210162709, 13530.91715421882, 91526.51706722053, 22976.917272890332, 46352.10230900078, 40467.199911462514, 25328.251146135957, 25120.17866023046, 12630.143529498799, 52613.84791797766, 38691.02271554023, 47693.36204267773, 59640.148526264864, 15897.332250224288, 8012.550013646281, 5229.699498767648, 3960.5539861471425, 3075.823039482807, 2266.2099052250423, 2109.208553932655, 1843.2833031854332, 1751.9070438552717, 1728.5427423421827, 1723.474553840913, 1662.400819535708, 1586.0295625853041, 1435.4781825263976, 1269.4261333721145, 1248.899621013793, 1195.2248847912615, 1197.8621109406843, 1153.433988769195, 1147.297059198247, 1102.8617165564253, 1084.4570280847888, 1077.349234222413, 1067.3431491109839, 1029.6570489319404, 991.29860887775, 990.8863290359249, 975.6318907492221, 980.5764700373031, 995.3879063869083, 907.644152170323, 2753.8764187796305, 3109.2458452410956, 2783.394127456101, 10962.491773244978, 8627.393258737771, 3540.238478810596, 5749.425199575426, 5781.107037731517, 10827.363747914796, 4959.270250660621, 1720.0306305335935, 19415.526228214407, 3788.29574047601, 3055.469704529294, 3199.7725693044276, 4452.812035202965, 5548.086527743384, 8786.860189060444, 7681.767414892829, 3732.1234420088267, 3155.676431617769, 3945.7582407458385, 10715.161150664138, 5873.127799061953, 12000.544210162709, 8759.048383522233, 5782.380502670227, 66895.25750344364, 20733.65361741013, 6918.524573580807, 45789.603611241844, 9861.614670460842, 40467.199911462514, 12957.461778483135, 9867.359778488688, 3229.1808374008997, 3161.4867780396726, 2876.2790273077967, 2122.188771921775, 1733.3536932386921, 1724.6962688402043, 1388.6372300105738, 1348.9729022726765, 1309.396392013792, 1268.7299144325964, 1255.6083334116393, 1851.2028813824086, 1195.596178196989, 1216.8136192423012, 1194.5403019589294, 1133.636671498647, 1086.522303024787, 1068.8281148106419, 994.6051821950286, 1016.0835554739228, 945.0936129919446, 893.1171640171661, 872.0470632700271, 806.8564026696191, 782.2008039161225, 716.7865941987591, 714.9363710859121, 659.965228091388, 636.338142547819, 627.739735642152, 1360.8590194239796, 1163.7483222732883, 2199.470527427875, 2381.744157100916, 1470.7917188992872, 6950.860493625745, 2768.2339014851364, 10334.59649374956, 7984.958344205652, 1349.8115107131023, 3563.719209580332, 9526.60145667493, 7137.887644188917, 4195.916196850875, 7089.745064161807, 7746.248752012068, 6257.273047966494, 5647.530192038311, 2184.1929593750765, 5742.2115807597875, 5983.378931926194, 7396.23852971845, 7458.516886897349, 5481.68519076928, 2570.345362670245, 4709.299620287637, 38691.02271554023, 6160.8655404895035, 4424.056669331839, 17999.8614884977, 7964.01079675, 12749.876408559438, 19856.676047544206, 7751.356040279139, 15587.981514986976, 26233.64339664176, 27331.045773764283, 15696.467577826887, 19415.526228214407], \"Category\": [\"Default\", \"Default\", \"Default\", \"Default\", \"Default\", \"Default\", \"Default\", \"Default\", \"Default\", \"Default\", \"Default\", \"Default\", \"Default\", \"Default\", \"Default\", \"Default\", \"Default\", \"Default\", \"Default\", \"Default\", \"Default\", \"Default\", \"Default\", \"Default\", \"Default\", \"Default\", \"Default\", \"Default\", \"Default\", \"Default\", \"Topic1\", \"Topic1\", \"Topic1\", \"Topic1\", \"Topic1\", \"Topic1\", \"Topic1\", \"Topic1\", \"Topic1\", \"Topic1\", \"Topic1\", \"Topic1\", \"Topic1\", \"Topic1\", \"Topic1\", \"Topic1\", \"Topic1\", \"Topic1\", \"Topic1\", \"Topic1\", \"Topic1\", \"Topic1\", \"Topic1\", \"Topic1\", \"Topic1\", \"Topic1\", \"Topic1\", \"Topic1\", \"Topic1\", \"Topic1\", \"Topic1\", \"Topic1\", \"Topic1\", \"Topic1\", \"Topic1\", \"Topic1\", \"Topic1\", \"Topic1\", \"Topic1\", \"Topic1\", \"Topic1\", \"Topic1\", \"Topic1\", \"Topic1\", \"Topic1\", \"Topic1\", \"Topic1\", \"Topic1\", \"Topic1\", \"Topic1\", \"Topic1\", \"Topic1\", \"Topic1\", \"Topic1\", \"Topic1\", \"Topic1\", \"Topic1\", \"Topic1\", \"Topic1\", \"Topic1\", \"Topic1\", \"Topic1\", \"Topic1\", \"Topic1\", \"Topic1\", \"Topic1\", \"Topic1\", \"Topic1\", \"Topic1\", \"Topic1\", \"Topic1\", \"Topic2\", \"Topic2\", \"Topic2\", \"Topic2\", \"Topic2\", \"Topic2\", \"Topic2\", \"Topic2\", \"Topic2\", \"Topic2\", \"Topic2\", \"Topic2\", \"Topic2\", \"Topic2\", \"Topic2\", \"Topic2\", \"Topic2\", \"Topic2\", \"Topic2\", \"Topic2\", \"Topic2\", \"Topic2\", \"Topic2\", \"Topic2\", \"Topic2\", \"Topic2\", \"Topic2\", \"Topic2\", \"Topic2\", \"Topic2\", \"Topic2\", \"Topic2\", \"Topic2\", \"Topic2\", \"Topic2\", \"Topic2\", \"Topic2\", \"Topic2\", \"Topic2\", \"Topic2\", \"Topic2\", \"Topic2\", \"Topic2\", \"Topic2\", \"Topic2\", \"Topic2\", \"Topic2\", \"Topic2\", \"Topic2\", \"Topic2\", \"Topic2\", \"Topic2\", \"Topic2\", \"Topic2\", \"Topic2\", \"Topic2\", \"Topic2\", \"Topic2\", \"Topic2\", \"Topic2\", \"Topic2\", \"Topic2\", \"Topic2\", \"Topic2\", \"Topic2\", \"Topic2\", \"Topic2\", \"Topic2\", \"Topic3\", \"Topic3\", \"Topic3\", \"Topic3\", \"Topic3\", \"Topic3\", \"Topic3\", \"Topic3\", \"Topic3\", \"Topic3\", \"Topic3\", \"Topic3\", \"Topic3\", \"Topic3\", \"Topic3\", \"Topic3\", \"Topic3\", \"Topic3\", \"Topic3\", \"Topic3\", \"Topic3\", \"Topic3\", \"Topic3\", \"Topic3\", \"Topic3\", \"Topic3\", \"Topic3\", \"Topic3\", \"Topic3\", \"Topic3\", \"Topic3\", \"Topic3\", \"Topic3\", \"Topic3\", \"Topic3\", \"Topic3\", \"Topic3\", \"Topic3\", \"Topic3\", \"Topic3\", \"Topic3\", \"Topic3\", \"Topic3\", \"Topic3\", \"Topic3\", \"Topic3\", \"Topic3\", \"Topic3\", \"Topic3\", \"Topic3\", \"Topic3\", \"Topic3\", \"Topic3\", \"Topic3\", \"Topic3\", \"Topic3\", \"Topic3\", \"Topic3\", \"Topic3\", \"Topic3\", \"Topic3\", \"Topic3\", \"Topic3\", \"Topic3\", \"Topic3\", \"Topic3\", \"Topic3\", \"Topic3\", \"Topic3\", \"Topic3\", \"Topic3\", \"Topic3\", \"Topic4\", \"Topic4\", \"Topic4\", \"Topic4\", \"Topic4\", \"Topic4\", \"Topic4\", \"Topic4\", \"Topic4\", \"Topic4\", \"Topic4\", \"Topic4\", \"Topic4\", \"Topic4\", \"Topic4\", \"Topic4\", \"Topic4\", \"Topic4\", \"Topic4\", \"Topic4\", \"Topic4\", \"Topic4\", \"Topic4\", \"Topic4\", \"Topic4\", \"Topic4\", \"Topic4\", \"Topic4\", \"Topic4\", \"Topic4\", \"Topic4\", \"Topic4\", \"Topic4\", \"Topic4\", \"Topic4\", \"Topic4\", \"Topic4\", \"Topic4\", \"Topic4\", \"Topic4\", \"Topic4\", \"Topic4\", \"Topic4\", \"Topic4\", \"Topic4\", \"Topic4\", \"Topic4\", \"Topic4\", \"Topic4\", \"Topic4\", \"Topic4\", \"Topic4\", \"Topic4\", \"Topic4\", \"Topic4\", \"Topic4\", \"Topic4\", \"Topic4\", \"Topic4\", \"Topic4\", \"Topic4\", \"Topic4\", \"Topic4\", \"Topic4\", \"Topic4\", \"Topic5\", \"Topic5\", \"Topic5\", \"Topic5\", \"Topic5\", \"Topic5\", \"Topic5\", \"Topic5\", \"Topic5\", \"Topic5\", \"Topic5\", \"Topic5\", \"Topic5\", \"Topic5\", \"Topic5\", \"Topic5\", \"Topic5\", \"Topic5\", \"Topic5\", \"Topic5\", \"Topic5\", \"Topic5\", \"Topic5\", \"Topic5\", \"Topic5\", \"Topic5\", \"Topic5\", \"Topic5\", \"Topic5\", \"Topic5\", \"Topic5\", \"Topic5\", \"Topic5\", \"Topic5\", \"Topic5\", \"Topic5\", \"Topic5\", \"Topic5\", \"Topic5\", \"Topic5\", \"Topic5\", \"Topic5\", \"Topic5\", \"Topic5\", \"Topic5\", \"Topic5\", \"Topic5\", \"Topic5\", \"Topic5\", \"Topic5\", \"Topic5\", \"Topic5\", \"Topic5\", \"Topic5\", \"Topic5\", \"Topic5\", \"Topic5\", \"Topic5\", \"Topic5\", \"Topic5\", \"Topic5\", \"Topic5\", \"Topic5\", \"Topic5\", \"Topic5\", \"Topic5\", \"Topic5\", \"Topic5\", \"Topic5\"], \"logprob\": [30.0, 29.0, 28.0, 27.0, 26.0, 25.0, 24.0, 23.0, 22.0, 21.0, 20.0, 19.0, 18.0, 17.0, 16.0, 15.0, 14.0, 13.0, 12.0, 11.0, 10.0, 9.0, 8.0, 7.0, 6.0, 5.0, 4.0, 3.0, 2.0, 1.0, -5.2816, -5.7814, -5.787, -5.809, -6.2509, -6.3636, -6.3669, -6.3704, -6.639, -6.6132, -6.9238, -7.1851, -7.3067, -7.378, -5.5545, -7.6893, -7.7081, -7.8062, -7.8282, -7.8452, -7.852, -7.8724, -7.877, -7.9495, -8.2051, -8.3904, -8.3838, -8.4273, -8.4151, -8.4586, -4.3854, -3.5217, -5.2522, -3.9838, -6.1367, -4.328, -5.6414, -6.6448, -5.9787, -6.2824, -5.3595, -5.8535, -6.3073, -5.4229, -5.7042, -5.1804, -4.7527, -3.9332, -4.6156, -5.1431, -4.6004, -5.0471, -4.7364, -4.9842, -4.1877, -3.8927, -4.4695, -4.9783, -5.0184, -4.9645, -4.726, -4.421, -4.87, -4.9251, -5.2629, -4.8468, -5.0387, -5.0373, -5.1718, -5.1721, -5.2068, -4.753, -5.1245, -5.3177, -5.8621, -5.9531, -6.0891, -6.1003, -6.3114, -6.3205, -6.4793, -6.5369, -6.5787, -6.5913, -6.607, -6.6182, -6.6382, -6.7109, -6.8681, -6.893, -6.9112, -6.9168, -7.0978, -7.1142, -7.1264, -7.2426, -7.2807, -7.4264, -7.5072, -7.5415, -7.5617, -6.3822, -5.2179, -3.6972, -5.1589, -4.4513, -6.586, -5.8938, -5.718, -4.467, -5.2989, -3.8061, -5.4286, -5.1883, -4.9519, -5.9403, -5.4805, -4.9701, -5.22, -5.7499, -5.8555, -6.0238, -6.0472, -4.3102, -5.5527, -4.8737, -5.3034, -4.9885, -5.1514, -5.5944, -4.7334, -5.1629, -4.9219, -5.0817, -5.3613, -5.4825, -5.4827, -5.5271, -5.5363, -3.9072, -6.0614, -6.1631, -6.5421, -6.5678, -6.6172, -6.6935, -6.686, -7.0157, -7.1586, -7.191, -7.2002, -7.4181, -7.5043, -7.584, -7.6232, -7.6699, -7.6949, -7.7706, -7.8051, -7.9351, -7.9253, -7.9433, -7.9911, -8.0446, -8.056, -8.1171, -8.1541, -8.1242, -8.2447, -7.4346, -4.0394, -4.2286, -7.1648, -6.8504, -6.3508, -6.0979, -6.9079, -6.3016, -5.7224, -5.86, -6.5966, -5.4267, -5.5828, -5.0955, -4.6443, -5.4514, -4.2197, -3.9367, -5.9478, -3.8918, -4.1662, -4.8186, -4.4418, -4.4316, -5.4403, -4.7517, -5.0185, -5.5457, -5.4805, -4.3741, -5.2299, -4.8275, -4.9334, -5.2018, -5.2737, -5.6048, -4.9506, -5.1112, -5.2282, -5.2026, -5.5391, -4.7272, -5.154, -5.432, -5.6849, -5.9905, -6.0623, -6.1971, -6.248, -6.2615, -6.2644, -6.3005, -6.3476, -6.4474, -6.5704, -6.5867, -6.6307, -6.6285, -6.6663, -6.6716, -6.7112, -6.728, -6.7346, -6.7439, -6.7799, -6.8179, -6.8184, -6.8339, -6.8288, -6.8138, -6.9062, -5.8038, -5.7, -5.8606, -4.6118, -4.8437, -5.6933, -5.2742, -5.287, -4.7637, -5.4406, -6.3397, -4.3865, -5.7321, -5.9026, -5.8771, -5.6279, -5.4714, -5.1432, -5.2692, -5.7793, -5.9074, -5.7895, -5.2224, -5.5735, -5.1917, -5.3646, -5.6004, -4.5702, -5.2422, -5.666, -5.2989, -5.6157, -5.4715, -5.6355, -5.6893, -5.4227, -5.4439, -5.5385, -5.8427, -6.0452, -6.0502, -6.267, -6.296, -6.3259, -6.3574, -6.3678, -5.9796, -6.4168, -6.3993, -6.4177, -6.4701, -6.5126, -6.529, -6.6011, -6.5797, -6.6522, -6.7088, -6.7327, -6.8105, -6.8416, -6.929, -6.9317, -7.0118, -7.0483, -7.0619, -6.2908, -6.446, -5.829, -5.7632, -6.25, -4.8353, -5.693, -4.527, -4.777, -6.3489, -5.5306, -4.7411, -5.0251, -5.4657, -5.0845, -5.075, -5.272, -5.3545, -6.0193, -5.412, -5.4102, -5.2953, -5.312, -5.4952, -5.934, -5.6043, -4.5064, -5.4846, -5.6614, -5.0053, -5.4353, -5.3366, -5.2226, -5.5291, -5.4122, -5.419, -5.4401, -5.5049, -5.5331], \"loglift\": [30.0, 29.0, 28.0, 27.0, 26.0, 25.0, 24.0, 23.0, 22.0, 21.0, 20.0, 19.0, 18.0, 17.0, 16.0, 15.0, 14.0, 13.0, 12.0, 11.0, 10.0, 9.0, 8.0, 7.0, 6.0, 5.0, 4.0, 3.0, 2.0, 1.0, 1.0702, 1.0702, 1.0702, 1.0702, 1.0701, 1.0701, 1.0701, 1.0701, 1.07, 1.07, 1.0699, 1.0698, 1.0697, 1.0697, 1.0696, 1.0695, 1.0694, 1.0694, 1.0693, 1.0693, 1.0693, 1.0693, 1.0693, 1.0692, 1.0689, 1.0687, 1.0686, 1.0686, 1.0686, 1.0685, 1.0677, 0.9916, 1.0225, 0.9816, 1.0212, 0.9398, 0.971, 1.0044, 0.9688, 0.9834, 0.9219, 0.953, 0.9757, 0.9089, 0.9228, 0.8822, 0.8404, 0.7614, 0.818, 0.8623, 0.7994, 0.8359, 0.7879, 0.8155, 0.6832, 0.575, 0.6501, 0.6296, 0.564, 0.5366, 0.4221, 0.2135, 0.3768, 0.4036, 0.5918, 0.1063, 0.2452, 0.096, -0.0115, -0.1507, -0.4255, 1.4768, 1.4768, 1.4768, 1.4767, 1.4767, 1.4766, 1.4766, 1.4766, 1.4766, 1.4765, 1.4765, 1.4765, 1.4765, 1.4765, 1.4765, 1.4765, 1.4764, 1.4764, 1.4764, 1.4764, 1.4764, 1.4762, 1.4762, 1.4762, 1.4761, 1.4761, 1.476, 1.4759, 1.4759, 1.4759, 1.4713, 1.416, 1.3663, 1.4101, 1.3707, 1.4402, 1.3933, 1.3469, 1.2093, 1.2845, 1.0899, 1.276, 1.231, 1.1945, 1.3334, 1.241, 1.1231, 1.1632, 1.2815, 1.3022, 1.3341, 1.3302, 0.7112, 1.0991, 0.7402, 0.7906, 0.5126, 0.5943, 0.944, -0.0388, 0.445, -0.4541, -0.2108, 0.0385, 0.3911, -0.7014, -0.3789, -0.5833, 1.4978, 1.4975, 1.4975, 1.4973, 1.4973, 1.4973, 1.4973, 1.4973, 1.4971, 1.4969, 1.4969, 1.4969, 1.4967, 1.4966, 1.4965, 1.4965, 1.4964, 1.4964, 1.4962, 1.4962, 1.496, 1.496, 1.4959, 1.4958, 1.4957, 1.4957, 1.4956, 1.4954, 1.4954, 1.4953, 1.4875, 1.4375, 1.4194, 1.4626, 1.4458, 1.3906, 1.3577, 1.4155, 1.3617, 1.3093, 1.3212, 1.3683, 1.2243, 1.2423, 1.1767, 1.073, 1.1847, 0.9136, 0.8446, 1.2162, 0.7426, 0.7869, 0.9271, 0.805, 0.7288, 0.9796, 0.7481, 0.7514, 0.9537, 0.8989, 0.0937, 0.62, 0.3206, 0.3505, 0.5507, 0.4871, 0.8435, 0.0708, 0.2175, -0.1086, -0.3065, 0.6792, 2.1761, 2.1761, 2.176, 2.1759, 2.1758, 2.1758, 2.1757, 2.1757, 2.1757, 2.1757, 2.1756, 2.1756, 2.1755, 2.1754, 2.1754, 2.1754, 2.1754, 2.1754, 2.1753, 2.1753, 2.1753, 2.1753, 2.1753, 2.1752, 2.1752, 2.1752, 2.1752, 2.1752, 2.1752, 2.1751, 2.1676, 2.15, 2.1002, 1.9781, 1.9857, 2.0269, 1.9611, 1.9428, 1.8386, 1.9425, 2.1023, 1.6318, 1.9203, 1.9648, 1.9442, 1.8629, 1.7996, 1.668, 1.6763, 1.8881, 1.9278, 1.8223, 1.3904, 1.6405, 1.3077, 1.4497, 1.6292, 0.2111, 0.7104, 1.3841, -0.1386, 1.08, -0.1876, 0.7872, 1.0059, 2.3894, 2.3894, 2.3894, 2.3893, 2.3892, 2.3892, 2.389, 2.389, 2.389, 2.389, 2.3889, 2.3889, 2.3889, 2.3889, 2.3889, 2.3888, 2.3888, 2.3888, 2.3887, 2.3887, 2.3886, 2.3886, 2.3886, 2.3885, 2.3884, 2.3883, 2.3883, 2.3882, 2.3881, 2.3881, 2.3855, 2.3867, 2.3672, 2.3533, 2.3486, 2.2102, 2.2732, 2.1219, 2.1299, 2.3355, 2.183, 1.9892, 1.9939, 2.0845, 1.9413, 1.8622, 1.8787, 1.8987, 2.1839, 1.8246, 1.7852, 1.6881, 1.663, 1.7878, 2.1064, 1.8305, 0.8224, 1.6816, 1.8359, 1.0887, 1.4742, 1.1023, 0.7733, 1.4074, 0.8256, 0.2983, 0.2363, 0.7261, 0.4852]}, \"token.table\": {\"Topic\": [4, 1, 1, 1, 3, 3, 4, 4, 2, 3, 4, 1, 2, 3, 2, 1, 4, 1, 2, 2, 5, 5, 2, 3, 1, 2, 3, 4, 3, 4, 2, 3, 4, 1, 2, 1, 5, 5, 1, 3, 4, 5, 1, 2, 3, 4, 5, 3, 5, 1, 2, 4, 2, 3, 4, 3, 4, 1, 3, 5, 1, 5, 1, 2, 3, 4, 1, 3, 1, 3, 4, 1, 5, 1, 5, 1, 5, 3, 1, 2, 3, 1, 2, 3, 4, 5, 1, 2, 4, 4, 4, 1, 2, 2, 3, 2, 1, 2, 2, 3, 5, 1, 4, 1, 2, 2, 3, 4, 5, 1, 2, 3, 4, 1, 2, 5, 2, 4, 5, 1, 3, 3, 3, 5, 1, 3, 1, 2, 3, 5, 1, 2, 3, 3, 1, 5, 1, 3, 5, 5, 1, 3, 5, 3, 4, 3, 4, 1, 2, 3, 4, 1, 2, 5, 1, 3, 1, 3, 2, 5, 3, 3, 3, 1, 2, 3, 1, 2, 3, 5, 5, 2, 1, 3, 5, 1, 2, 2, 3, 5, 2, 1, 2, 3, 4, 5, 1, 1, 3, 5, 2, 3, 5, 5, 1, 2, 3, 5, 2, 5, 1, 2, 3, 4, 5, 1, 2, 3, 4, 5, 1, 3, 5, 1, 2, 3, 4, 5, 1, 2, 3, 5, 1, 3, 1, 5, 1, 2, 3, 1, 2, 3, 5, 3, 5, 3, 5, 1, 2, 3, 4, 1, 3, 4, 3, 1, 2, 3, 4, 4, 2, 3, 4, 1, 1, 2, 3, 4, 5, 2, 1, 2, 3, 1, 2, 3, 1, 5, 1, 2, 3, 4, 5, 2, 3, 4, 5, 2, 3, 4, 3, 1, 2, 3, 4, 1, 2, 3, 4, 2, 3, 1, 3, 3, 1, 2, 3, 4, 5, 2, 1, 2, 3, 1, 2, 3, 4, 5, 1, 2, 3, 4, 5, 1, 2, 3, 5, 1, 3, 4, 5, 1, 2, 1, 5, 3, 4, 3, 3, 3, 2, 3, 1, 5, 3, 1, 1, 2, 3, 5, 1, 2, 3, 1, 4, 5, 1, 1, 2, 3, 4, 2, 1, 2, 3, 4, 1, 2, 4, 1, 5, 3, 1, 2, 1, 2, 5, 3, 1, 2, 3, 4, 5, 4, 2, 4, 1, 2, 5, 1, 3, 5, 3, 1, 2, 3, 5, 1, 2, 3, 4, 5, 1, 2, 2, 5, 1, 2, 3, 4, 5, 1, 2, 3, 4, 5, 2, 1, 2, 3, 4, 4, 4, 1, 2, 1, 2, 3, 4, 5, 1, 2, 3, 4, 5, 2, 3, 4, 1, 2, 3, 5, 1, 2, 3, 1, 2, 4, 4, 3, 1, 1, 2, 3, 4, 2, 2, 1, 2, 3, 4, 5, 2, 2, 1, 2, 4, 4, 1, 3, 5, 5, 1, 2, 3, 5, 2, 1, 2, 3, 2, 4, 3, 1, 2, 3, 4, 5, 3, 2, 1, 1, 2, 3, 4, 5, 2, 1, 1, 2, 3, 4, 5, 1, 1, 2, 3, 2, 3, 5, 5, 2, 3, 5, 3, 1, 1, 5, 1, 2, 3, 5, 5, 1, 3, 3, 4, 1, 2, 3, 4, 4, 3, 4, 2, 4, 3, 1, 2, 3, 5, 1, 2, 3, 4, 5, 2, 3, 1, 2, 4, 5, 1, 5, 4, 1, 2, 3, 4, 1, 3, 4, 1, 1, 2, 1, 2, 3, 1, 1, 2, 3, 4, 5, 3, 1, 2, 1, 1, 2, 3, 4, 5, 1, 2, 3, 4, 5, 2, 4, 1, 1, 2, 3, 5, 1, 2, 3, 4, 5, 5, 1, 3, 5, 5, 4, 1, 5, 4, 1, 2, 3, 4, 1, 2, 3, 5, 2, 4, 5, 4, 2, 3, 1, 5, 5, 1, 2, 3, 4, 1, 2, 3, 5, 1, 3, 4, 5, 3, 5, 1, 2, 3, 4, 5, 3, 4, 2, 1, 1, 1, 2, 1, 1, 2, 4, 4, 5, 1, 2, 4, 5, 3, 4, 1, 2, 3, 1, 2, 4, 5], \"Freq\": [0.9991444295840477, 0.998419951332318, 0.9987533515436057, 0.009395532800443055, 0.9893496038866537, 0.26881889254178665, 0.7309987428767882, 0.9986899922322899, 0.9994097074538699, 0.17340116013430365, 0.8264373474315407, 0.045562140441897485, 0.940886795610816, 0.013439878247505324, 0.9998224455078121, 0.9990933508587747, 0.9997324165037318, 0.643639677062661, 0.35634751776219625, 0.9994896124548927, 0.9992252123618692, 0.9993313526168388, 0.8180719313636322, 0.18190744046580018, 0.24595321645522228, 0.24884678370763663, 0.4410173914495047, 0.06416170864049277, 0.07092896942315077, 0.9284718374489491, 0.9996569499753827, 0.9994516623936027, 0.9986056627993943, 0.9974524622244811, 0.0025462387903386007, 0.04011444940970601, 0.9593472562219523, 0.9986902735351261, 0.6735958719161191, 0.10200166060444091, 0.015139869121162297, 0.2092637842086077, 0.08150062715412809, 0.5034483185212738, 0.12450095804526315, 0.018277918427885575, 0.27222431701106176, 0.32684739747890784, 0.6730282458159765, 0.8621258476333247, 0.025865115590429297, 0.11197048743939729, 0.9990892180424363, 0.17970366963539947, 0.8202514707418843, 0.19341063869865063, 0.8063414757256694, 0.057834566003540464, 0.10660550599160071, 0.8355799983795099, 0.003674149877859049, 0.9956946168998023, 0.28601280585323424, 0.2174808653249903, 0.2471934746756366, 0.24927721611061698, 0.07848891463386173, 0.9212119980711141, 0.03933168286188068, 0.37526852392893945, 0.5852077662176792, 0.26287464960044366, 0.7369069959787595, 0.9998350817842723, 0.9985374561411676, 0.0005401893061300972, 0.9993502163406799, 0.9984441677748336, 0.07142422269056571, 0.1739447056001532, 0.754570189377201, 0.7539972169213103, 0.05081538364363601, 0.10395627031116136, 0.04541016039892024, 0.045818694713927834, 0.24891464707593605, 0.06488723602269152, 0.6861825209399628, 0.9987476352332613, 0.9986564446104775, 0.10466188468727827, 0.8953150275890716, 0.9943734796509285, 0.005163899926781843, 0.9987044568551444, 0.08004817818130691, 0.9199129309531425, 0.9995201753343773, 0.03526827167794785, 0.9639994258639079, 0.9991780819195283, 0.9993508553626038, 0.999305438789036, 0.0006607290140288328, 0.23087377238206908, 0.1904060100319536, 0.5786544137755828, 0.9987491405806812, 0.1465123899153538, 0.586915984202606, 0.25784794345836365, 0.008750887866026456, 0.2932840229232377, 0.03673922978637552, 0.6699136128475672, 0.9639614154698836, 0.03567386058046127, 0.9989335960924813, 0.9243202648382489, 0.07566685049590742, 0.9994746319071596, 0.9999664960591703, 0.9995411112443175, 0.17167979207108497, 0.8281776415858867, 0.8509925854759014, 0.07575497096609755, 0.06976504302924333, 0.003523487021678956, 0.377476887207738, 0.06493928879488903, 0.557563844546625, 0.9998211335732148, 0.18660280479233132, 0.8131953808844755, 0.2894321278733596, 0.07193488558256013, 0.638527896141666, 0.9992190323048479, 0.11858200757934596, 0.2814325004679626, 0.5997820410313819, 0.025729711956500718, 0.9741912189530084, 0.13840875492789512, 0.8612414158676576, 0.020314448286445956, 0.899252910813341, 0.08024207073146153, 0.00021160883631714538, 0.11865627194964608, 0.7652469712694566, 0.11605849356283607, 0.12121950378631291, 0.8784806301180712, 0.22539052199417553, 0.7744986139799857, 0.9997776131477417, 0.9988428522033045, 0.9994060472762312, 0.9984140708614252, 0.9980548143445097, 0.07848777564445861, 0.7307968599939147, 0.19065556087548075, 0.3241368967854057, 0.0605778858706337, 0.04068663976385846, 0.5748118051082892, 0.9984648393224469, 0.9990312107968979, 0.49981493582470854, 0.5001720995633285, 0.9993915352484962, 0.8629591669374966, 0.13699417603494873, 0.9995295575897313, 0.2349390226767414, 0.7650032591772313, 0.9996198872777364, 0.08178846088228045, 0.08147175822639553, 0.5197882339711241, 0.1707819071859428, 0.14623745135486155, 0.9997207427629884, 0.5134265937101019, 0.2779714581098488, 0.20860136107899485, 0.004780850935168731, 0.383176349026116, 0.6119489197015976, 0.9994246888764163, 0.6790626714361316, 0.1849595949841208, 0.1028298172608854, 0.033142954299223204, 0.052599936684856734, 0.9475397045060812, 0.6569257996943872, 0.10538154126149789, 0.20061491977517146, 0.00029354189766433954, 0.03679757360006542, 0.3196825534176396, 0.21801742126370335, 0.38786728476903687, 0.04489058456661186, 0.029571721935261464, 0.009093097520787689, 0.013184991405142149, 0.9775079834846766, 0.4322394840078821, 0.03937293067899779, 0.25223773917063125, 0.00023529639848006645, 0.27592424328429127, 0.30019605966385865, 0.09873149052774434, 0.5955440414608055, 0.005540660419327819, 0.27459048837254885, 0.7253145757906423, 0.9362045746111533, 0.06341351952818661, 0.21790426829436893, 0.7820094231376099, 0.9993035128355501, 0.7751367204587597, 4.139360891053934e-05, 0.18039334763213044, 0.04441534236100871, 0.9492476452746224, 0.05025133114211871, 0.998148151994557, 0.9987993041727578, 0.7342455811096416, 0.21967188987327083, 0.04607283755781986, 0.9991055189581763, 0.000456670613616533, 0.5159236257332782, 0.4836141798199085, 0.9986064146398942, 0.12769373249639276, 0.12242383242511308, 0.43963127902329513, 0.3102146945805225, 0.9992903031779771, 0.8781691388570422, 0.017748198730867228, 0.1039956438031807, 0.9979865356480289, 0.02289175037644366, 0.002289175037644366, 0.15337472752217252, 0.0073253601204619715, 0.8140306433863366, 0.9999567873713481, 0.5074804670948565, 0.12854207940455692, 0.3639305326467821, 0.021135774705159222, 0.41369651788391426, 0.5651368924874856, 0.0025778769709757714, 0.9967790954439648, 0.523018348518195, 0.15632516410356972, 0.3081413633578921, 0.012124584905631546, 0.0003883319008921136, 0.22406192832186086, 0.059478929035151853, 0.7133777140799891, 0.003047833320124241, 0.13657927526462094, 0.08334187794569677, 0.779864492868288, 0.9988238522029185, 0.9034798478669687, 0.00013042873507535278, 0.06730122729888204, 0.02908560792180367, 0.7946550191418794, 0.12113068797121175, 0.07369512950777725, 0.010503828417737095, 0.8396791207740899, 0.16014581659386995, 0.05847495291185983, 0.9415036882728103, 0.9991574472514639, 0.42451650335974533, 0.08108524655982001, 0.46991236648468754, 0.0008260833778778224, 0.023646636691752668, 0.9998305321069588, 0.03179491866515465, 0.04356686282417723, 0.9246133058799672, 0.30464996719229764, 0.33762845983745565, 0.2711366881799208, 0.0016934901628594661, 0.08489733579598113, 0.2168633469432277, 0.007738295639824424, 0.7312211707063722, 0.02302381789132946, 0.02120866212396324, 0.28454643947010066, 0.24663883029627726, 0.41567804273155884, 0.05309676600696281, 0.17270300625899737, 0.24314765354885157, 0.09170789336121571, 0.4924632716069531, 0.762677667555944, 0.23729969486059935, 0.9994671237528773, 0.9995155070291813, 0.9990060869561861, 0.9994822534343628, 0.9983895015922206, 0.9991452016104638, 0.9987965885542519, 0.8249778897920566, 0.1749101754694792, 0.9054679125782468, 0.09441870453675279, 0.9975395459762763, 0.999775738755466, 0.01764909254119349, 0.20488957323739745, 0.6539312797930331, 0.1235055287979847, 0.5864505551348719, 0.3812435254492156, 0.03230252809057465, 0.9998938355823614, 0.9993037949276623, 0.9994398368620628, 0.9992371794233629, 0.43820674617462346, 0.15024513713086962, 0.31749169767391655, 0.09405147893422529, 0.9994995543883047, 0.4168002523236722, 0.47870502342996724, 0.004124693244172906, 0.1003675356082074, 0.11880333798168731, 0.07167474109638987, 0.8093681951204207, 0.8893027317307152, 0.11056808486231567, 0.9973603058472581, 0.0644944552342639, 0.9354375833978001, 0.7910742237330338, 0.16483712214273408, 0.044088531577477996, 0.997697923299472, 0.16454309783412666, 0.12573958996363005, 0.08774730525418915, 0.1261452015441579, 0.4957925552651951, 0.9994661106977546, 0.22569515649603608, 0.7742267766115484, 0.12018772336371955, 0.30811375724515383, 0.5716348962811538, 0.13051242515747893, 0.869360174221745, 0.999596294806927, 0.9993733453898753, 0.15524776897432505, 0.6791398244449791, 0.16458711526644074, 0.0010228009404291854, 0.22406670606250964, 0.11323672682790784, 0.5203806861526469, 0.14012951515310998, 0.0021974651938881126, 0.13291178869403586, 0.866875852591722, 0.9995330627750867, 0.9995013548823081, 0.43455637175560874, 0.12410435598591495, 0.24546924210150425, 0.006434568765183475, 0.1894056726622819, 0.07036158077062821, 0.02623935434914163, 0.35448197818171595, 0.0026740743285749435, 0.5463468112569682, 0.999743732131342, 0.18461340057636028, 0.04635430812730091, 0.019559910365855297, 0.7497072493652482, 0.9989751846645366, 0.9987415957912855, 0.24599746705391948, 0.7539746259370369, 0.1813970575160438, 0.30266568799888105, 0.06215197986605485, 0.45284221609383685, 0.000867236928363556, 0.1101865085428268, 0.034076518340560254, 0.053795924892965676, 0.7917168753540319, 0.010032680526662409, 0.9993516170809122, 0.9983653592576912, 0.9992802920028857, 0.08205815881946585, 0.8663100335279732, 0.051150790629755145, 0.0005422345296440475, 0.14141757275523215, 0.8225481488541537, 0.03602814792359976, 0.13633145094503848, 0.8634993517945305, 0.9993523266764713, 0.9991573515127963, 0.9983503546543452, 0.9993019240812568, 0.8122324027895618, 0.02567781165698815, 0.16204987277390343, 0.9983923028081194, 0.9999028209016423, 0.9995713423283838, 0.23343033336065497, 0.1260442677529514, 0.29883544414155094, 0.33412378298147616, 0.007503842167110543, 0.9994505915704145, 0.999576328762769, 0.20749020480642844, 0.0010082128513431898, 0.7916487308746726, 0.9998065517664613, 0.02654501689687661, 0.8984911154008017, 0.07501852601291215, 0.997897120322756, 0.11362623201181797, 0.789868797803764, 0.0964574332188235, 0.9995297218859177, 0.999830207538254, 0.0013342487791603201, 0.12568623499690218, 0.8728655513266815, 0.9998246853985051, 0.9989702507886284, 0.9972440463856653, 0.4183536659798545, 0.1214450692802944, 0.22832444716954475, 0.2308806777779068, 0.001012846090105712, 0.999052577844531, 0.9997552800764579, 0.9992998907766442, 0.32974875450411567, 0.16371329008831095, 0.10540091253124512, 0.026705004766178382, 0.3743861054659404, 0.9999345909806783, 0.9996410419995619, 0.7770119806127733, 0.17171583053249448, 0.0004592099763529854, 0.04569139264712205, 0.005108710986926963, 0.9998444150794337, 0.23834707239378822, 0.0009696788950113434, 0.7607130931363989, 0.15464424943437965, 0.2768967979737203, 0.5682479570995279, 0.9994383813485802, 0.4326597430742551, 0.08366274548445467, 0.4834741349630505, 0.9983019836245955, 0.9996403981173873, 0.9999124333653062, 0.9989026103374068, 0.511062373969437, 5.0360896134158164e-05, 0.29028020531728765, 0.19857301345698564, 0.9995553187657896, 0.9533135041887549, 0.04665406076768481, 0.8380594553231098, 0.16164693780416253, 0.04738492853796958, 0.03423691265243406, 0.3117772083748273, 0.6065010496109897, 0.9992186540311545, 0.5441822029562838, 0.4557094318359688, 0.9996245905580734, 0.9991074896186297, 0.9995752987182447, 0.3517130395345142, 0.06459281289202887, 0.5494084336834584, 0.034291836592564524, 0.6027016131529443, 0.22747855978307968, 0.1529401971484483, 0.01635314390241466, 0.0005328926729911091, 0.9987631230045504, 0.9984664873161284, 0.009337266636833274, 0.07236381643545788, 0.16495837725072118, 0.7532061753712175, 0.22880520113492853, 0.7710747801793951, 0.9996076341459862, 0.049505738186385484, 0.0007966440627694216, 0.3481334554302372, 0.6014662673909132, 0.028131475175990118, 0.2699100996615268, 0.7017662591199697, 0.999671185684266, 0.9097852389235935, 0.09012109645643779, 0.9982433826180812, 0.9994081560688589, 0.9998081706584245, 0.9993809404967174, 0.6197564887765782, 0.1946906497342172, 0.12655766853792108, 0.008221438039090933, 0.05072802194332703, 0.9990094933440197, 0.8777049174956767, 0.12227025531732641, 0.9979999934060079, 0.4365329094158229, 0.07851090685011287, 0.4725375206041168, 0.01045789813901894, 0.001993440994241147, 0.33898524503036276, 0.08351240671280165, 0.46346765043385896, 0.09877788063859881, 0.015243634907305322, 0.008351863519784362, 0.9913298873483178, 0.9987195195798771, 0.6094080905431511, 0.14499623087649316, 0.24557910341428205, 0.9996343229257331, 0.8285060415892668, 0.06400868638399208, 0.0001615021523565822, 0.09162555443696764, 0.015665708778588475, 0.9989335605151284, 0.9998336233598523, 0.9657236001684691, 0.03429018580308332, 0.9992787829384583, 0.998869465246295, 0.9989995045262499, 0.998821588629569, 0.9994270107001029, 0.08006571713320028, 0.6853625386601944, 0.23447123950765075, 0.9998662449404956, 0.9520745777332887, 0.03477309922055975, 0.013039912207709907, 0.9985989215126564, 0.08008486162963918, 0.3721483319463871, 0.5478242357034315, 0.9988765526921003, 0.7020168861244841, 0.2979700043264198, 0.599697830890563, 0.40030081341690016, 0.9987105483537028, 0.3813723145391774, 0.12743178245644657, 0.49119547069714303, 0.9992796690793591, 0.9168183843047358, 0.05594510774556573, 0.027075997658911617, 0.00017931124277424911, 0.0806842150321674, 0.08791352069904959, 0.24140717137624484, 0.5900920750592594, 0.10981730981507969, 0.8900981953432775, 0.29870004701415, 0.149209411514533, 0.4740632891414889, 0.07327893554187082, 0.004740632891414889, 0.07293253872944433, 0.9265665880947631, 0.99927848897452, 0.9991901816020508, 0.9991806520604538, 0.9151146393633943, 0.08487493748823344, 0.9990483223157909, 0.9998747497516124, 0.9992825388077061, 0.9987567656379495, 0.9993618759444012, 0.9989385934513433, 0.04723024188071847, 0.22373846317321813, 0.5801542470495233, 0.14890144959341015, 0.5803903454729713, 0.41956430573674236, 0.2949413626654295, 0.46501065723497853, 0.2400318642287478, 0.9997401208094969, 0.0002721862566864952, 0.7928688508482019, 0.20688970408415833], \"Term\": [\"abolish\", \"absenc\", \"afternoon\", \"aliv\", \"aliv\", \"american\", \"american\", \"anarchist\", \"annual\", \"anti\", \"anti\", \"appli\", \"appli\", \"appli\", \"applic\", \"appoint\", \"articl\", \"ask\", \"ask\", \"auto\", \"bag\", \"bar\", \"benefit\", \"benefit\", \"better\", \"better\", \"better\", \"better\", \"billionair\", \"billionair\", \"bonus\", \"boomer\", \"bootlick\", \"boss\", \"boss\", \"box\", \"box\", \"bread\", \"break\", \"break\", \"break\", \"break\", \"busi\", \"busi\", \"busi\", \"busi\", \"busi\", \"buy\", \"buy\", \"call\", \"call\", \"call\", \"candid\", \"capit\", \"capit\", \"capitalist\", \"capitalist\", \"car\", \"car\", \"car\", \"cashier\", \"cashier\", \"chang\", \"chang\", \"chang\", \"chang\", \"children\", \"children\", \"class\", \"class\", \"class\", \"clean\", \"clean\", \"clock\", \"club\", \"coffe\", \"coffe\", \"cog\", \"colleg\", \"colleg\", \"colleg\", \"come\", \"come\", \"come\", \"come\", \"come\", \"comment\", \"comment\", \"comment\", \"communism\", \"communist\", \"compani\", \"compani\", \"compens\", \"compens\", \"consult\", \"contract\", \"contract\", \"contractor\", \"cook\", \"cook\", \"cope\", \"coronavirus\", \"cowork\", \"cowork\", \"creat\", \"creat\", \"creat\", \"cubicl\", \"current\", \"current\", \"current\", \"current\", \"custom\", \"custom\", \"custom\", \"data\", \"data\", \"david\", \"day\", \"day\", \"debt\", \"delet\", \"deliveri\", \"depress\", \"depress\", \"didnt\", \"didnt\", \"didnt\", \"didnt\", \"dont\", \"dont\", \"dont\", \"dream\", \"drink\", \"drink\", \"drive\", \"drive\", \"drive\", \"driver\", \"eat\", \"eat\", \"eat\", \"econom\", \"econom\", \"economi\", \"economi\", \"employ\", \"employ\", \"employ\", \"employ\", \"employe\", \"employe\", \"employe\", \"energi\", \"energi\", \"enjoy\", \"enjoy\", \"entri\", \"episod\", \"escap\", \"essay\", \"exercis\", \"experi\", \"experi\", \"experi\", \"fast\", \"fast\", \"fast\", \"fast\", \"fat\", \"feedback\", \"feel\", \"feel\", \"film\", \"fire\", \"fire\", \"firm\", \"food\", \"food\", \"format\", \"free\", \"free\", \"free\", \"free\", \"free\", \"friday\", \"fuck\", \"fuck\", \"fuck\", \"game\", \"game\", \"game\", \"gas\", \"get\", \"get\", \"get\", \"get\", \"gift\", \"gift\", \"go\", \"go\", \"go\", \"go\", \"go\", \"good\", \"good\", \"good\", \"good\", \"good\", \"groceri\", \"groceri\", \"groceri\", \"guy\", \"guy\", \"guy\", \"guy\", \"guy\", \"hard\", \"hard\", \"hard\", \"hard\", \"hate\", \"hate\", \"hes\", \"hes\", \"hire\", \"hire\", \"hobbi\", \"home\", \"home\", \"home\", \"home\", \"homeless\", \"homeless\", \"hopeless\", \"hot\", \"hour\", \"hour\", \"hour\", \"http\", \"human\", \"human\", \"human\", \"hustl\", \"idea\", \"idea\", \"idea\", \"idea\", \"ideolog\", \"increas\", \"increas\", \"increas\", \"infect\", \"insid\", \"insid\", \"insid\", \"insid\", \"insid\", \"interview\", \"ive\", \"ive\", \"ive\", \"job\", \"job\", \"job\", \"kitchen\", \"kitchen\", \"know\", \"know\", \"know\", \"know\", \"know\", \"labor\", \"labor\", \"labor\", \"labor\", \"labour\", \"labour\", \"labour\", \"landlord\", \"late\", \"late\", \"late\", \"late\", \"leav\", \"leav\", \"leav\", \"leav\", \"level\", \"level\", \"life\", \"life\", \"lifestyl\", \"like\", \"like\", \"like\", \"like\", \"like\", \"linkedin\", \"live\", \"live\", \"live\", \"look\", \"look\", \"look\", \"look\", \"look\", \"love\", \"love\", \"love\", \"love\", \"love\", \"make\", \"make\", \"make\", \"make\", \"man\", \"man\", \"man\", \"man\", \"manag\", \"manag\", \"mask\", \"mcdonald\", \"meaningless\", \"meme\", \"militari\", \"millenni\", \"mindset\", \"minimum\", \"minimum\", \"minut\", \"minut\", \"miseri\", \"monday\", \"money\", \"money\", \"money\", \"money\", \"month\", \"month\", \"month\", \"morn\", \"movement\", \"movi\", \"nap\", \"need\", \"need\", \"need\", \"need\", \"negoti\", \"new\", \"new\", \"new\", \"new\", \"news\", \"news\", \"news\", \"night\", \"night\", \"obsess\", \"offer\", \"offer\", \"offic\", \"offic\", \"offic\", \"oppos\", \"order\", \"order\", \"order\", \"order\", \"order\", \"org\", \"organ\", \"organ\", \"owner\", \"owner\", \"owner\", \"parent\", \"parent\", \"park\", \"passion\", \"pay\", \"pay\", \"pay\", \"pay\", \"peopl\", \"peopl\", \"peopl\", \"peopl\", \"peopl\", \"perform\", \"perform\", \"phrase\", \"pizza\", \"place\", \"place\", \"place\", \"place\", \"place\", \"play\", \"play\", \"play\", \"play\", \"play\", \"png\", \"polit\", \"polit\", \"polit\", \"polit\", \"poll\", \"popul\", \"posit\", \"posit\", \"post\", \"post\", \"post\", \"post\", \"post\", \"power\", \"power\", \"power\", \"power\", \"power\", \"preview\", \"prison\", \"pro\", \"process\", \"process\", \"process\", \"process\", \"project\", \"project\", \"project\", \"promot\", \"promot\", \"propaganda\", \"protest\", \"psycholog\", \"quarantin\", \"quit\", \"quit\", \"quit\", \"radic\", \"rais\", \"rate\", \"read\", \"read\", \"read\", \"read\", \"read\", \"recruit\", \"redd\", \"reddit\", \"reddit\", \"reddit\", \"remov\", \"rent\", \"rent\", \"rent\", \"repair\", \"requir\", \"requir\", \"requir\", \"restaur\", \"resum\", \"retir\", \"retir\", \"retir\", \"review\", \"revolut\", \"richer\", \"right\", \"right\", \"right\", \"right\", \"right\", \"robot\", \"role\", \"row\", \"run\", \"run\", \"run\", \"run\", \"run\", \"salari\", \"saturday\", \"say\", \"say\", \"say\", \"say\", \"say\", \"schedul\", \"school\", \"school\", \"school\", \"sell\", \"sell\", \"sell\", \"server\", \"servic\", \"servic\", \"servic\", \"shelter\", \"shes\", \"shift\", \"shirt\", \"shit\", \"shit\", \"shit\", \"shit\", \"shop\", \"sick\", \"sick\", \"slave\", \"slave\", \"social\", \"social\", \"social\", \"social\", \"socialist\", \"societi\", \"societi\", \"softwar\", \"song\", \"soul\", \"spend\", \"spend\", \"spend\", \"spend\", \"start\", \"start\", \"start\", \"start\", \"start\", \"startup\", \"starv\", \"steal\", \"steal\", \"steal\", \"steal\", \"store\", \"store\", \"strike\", \"sub\", \"sub\", \"sub\", \"sub\", \"subreddit\", \"subreddit\", \"subreddit\", \"sunday\", \"supervisor\", \"supervisor\", \"surgeri\", \"survey\", \"surviv\", \"symptom\", \"take\", \"take\", \"take\", \"take\", \"take\", \"teacher\", \"tell\", \"tell\", \"thanksgiv\", \"thing\", \"thing\", \"thing\", \"thing\", \"thing\", \"think\", \"think\", \"think\", \"think\", \"think\", \"thread\", \"thread\", \"thursday\", \"time\", \"time\", \"time\", \"tip\", \"today\", \"today\", \"today\", \"today\", \"today\", \"toilet\", \"tomorrow\", \"trap\", \"trap\", \"truck\", \"trump\", \"tuesday\", \"uber\", \"ubi\", \"unemploy\", \"unemploy\", \"unemploy\", \"union\", \"vacat\", \"vacat\", \"vacat\", \"van\", \"video\", \"video\", \"video\", \"vote\", \"wage\", \"wage\", \"walk\", \"walk\", \"walmart\", \"want\", \"want\", \"want\", \"war\", \"wasnt\", \"wasnt\", \"wasnt\", \"wasnt\", \"watch\", \"watch\", \"watch\", \"watch\", \"water\", \"water\", \"way\", \"way\", \"way\", \"way\", \"way\", \"wealth\", \"wealth\", \"webp\", \"wednesday\", \"weed\", \"week\", \"week\", \"weekday\", \"weekend\", \"width\", \"wiki\", \"wikipedia\", \"winter\", \"worker\", \"worker\", \"worker\", \"worker\", \"world\", \"world\", \"year\", \"year\", \"year\", \"yesterday\", \"yesterday\", \"youtub\", \"youtub\"]}, \"R\": 30, \"lambda.step\": 0.01, \"plot.opts\": {\"xlab\": \"PC1\", \"ylab\": \"PC2\"}, \"topic.order\": [2, 1, 5, 3, 4]};\n",
       "\n",
       "function LDAvis_load_lib(url, callback){\n",
       "  var s = document.createElement('script');\n",
       "  s.src = url;\n",
       "  s.async = true;\n",
       "  s.onreadystatechange = s.onload = callback;\n",
       "  s.onerror = function(){console.warn(\"failed to load library \" + url);};\n",
       "  document.getElementsByTagName(\"head\")[0].appendChild(s);\n",
       "}\n",
       "\n",
       "if(typeof(LDAvis) !== \"undefined\"){\n",
       "   // already loaded: just create the visualization\n",
       "   !function(LDAvis){\n",
       "       new LDAvis(\"#\" + \"ldavis_el52091398276886097448305329316\", ldavis_el52091398276886097448305329316_data);\n",
       "   }(LDAvis);\n",
       "}else if(typeof define === \"function\" && define.amd){\n",
       "   // require.js is available: use it to load d3/LDAvis\n",
       "   require.config({paths: {d3: \"https://d3js.org/d3.v5\"}});\n",
       "   require([\"d3\"], function(d3){\n",
       "      window.d3 = d3;\n",
       "      LDAvis_load_lib(\"https://cdn.jsdelivr.net/gh/bmabey/pyLDAvis@3.3.1/pyLDAvis/js/ldavis.v3.0.0.js\", function(){\n",
       "        new LDAvis(\"#\" + \"ldavis_el52091398276886097448305329316\", ldavis_el52091398276886097448305329316_data);\n",
       "      });\n",
       "    });\n",
       "}else{\n",
       "    // require.js not available: dynamically load d3 & LDAvis\n",
       "    LDAvis_load_lib(\"https://d3js.org/d3.v5.js\", function(){\n",
       "         LDAvis_load_lib(\"https://cdn.jsdelivr.net/gh/bmabey/pyLDAvis@3.3.1/pyLDAvis/js/ldavis.v3.0.0.js\", function(){\n",
       "                 new LDAvis(\"#\" + \"ldavis_el52091398276886097448305329316\", ldavis_el52091398276886097448305329316_data);\n",
       "            })\n",
       "         });\n",
       "}\n",
       "</script>"
      ],
      "text/plain": [
       "<IPython.core.display.HTML object>"
      ]
     },
     "execution_count": 32,
     "metadata": {},
     "output_type": "execute_result"
    }
   ],
   "source": [
    "pyLDAvis.enable_notebook()\n",
    "vis = pyLDAvis.gensim_models.prepare(topic_model=lda_model, corpus=corpus, dictionary=id2word)\n",
    "\n",
    "pyLDAvis.display(vis)"
   ]
  },
  {
   "cell_type": "markdown",
   "id": "33a88745-113e-4adb-bdbf-f0ce18f397d6",
   "metadata": {},
   "source": [
    "These are the overarching topics from the inception of the antiwork subreddit in 2013, up until February of 2022.\n",
    "\n",
    "Topic 1: \n",
    "- This topic seems to be centered around __how much time in a day/week they are putting in__. The terms most relevant to the topic are day, week, boss, hour, time, sick, call, shift, the lemma \"cowork\", and weekend, just to name a handful. \n",
    "- Potential recommendations for an employer would be to have clear and strict working hours, providing appropriate time off, encouraging taking time off, but without adding unnecessary pressure on other employees.\n",
    "\n",
    "Topic 2: \n",
    "- This topic seems to be centered around employees' __benefits, salaries, raises, and offers they are receivin__. Key terms include the lemma \"compani\", the lemma \"employe\" which could mean employee, employer, or employed, the lemma \"rais\", offer, the lemma \"salari\", minimum, benefit, the lemma \"increas\", contract, the lemma \"resum\", and bonus. These terms all connect to financial benefits. \n",
    "- Possible recommendations include delivering an offer that is what an employee asks, having a clear pay raise schedule/requirements, providing opportunities for raises and bonus', and having efficient benefit plans.\n",
    "\n",
    "Topic 3: \n",
    "- This topic has a good amount of deleted posts which is told by the lemma \"delet\" which is how posts deletd by the user will show when scraping the subreddit.  This topic seems to be concerned with the __emotions of employees__ since there are very emotional terms such as \"hate\" and \"love\" being almost exclusively found in this topic. It can also be possible that users were ranting, then had changed their minds about their rant being on the subreddit so they deleted it.\n",
    "- Possible recommendations include providing spaces for employees to express themselves without fear of dismissal or gaslighting which could possibly include an in house mental awareness coach, or providing social opportunities so theres space to be more human and less of a worker-bee.\n",
    "\n",
    "Topc 4: \n",
    "- This topic has a good amount of removed posts which is told by the lemma \"remov\" which is how posts removed by moderators will show when scraping the subreddit. These posts could have been removed for possibly being too radical as this topic seems largely concerned with __large scale issues with the \"system\"__. Capitalist and capitalism arise almost exclusively in this topic. As does american, economy, union, protest, coronavirus, and abolish. This topic is fairly far apart from the other topics as well so it's pretty dinstint.\n",
    "- Recommendations for addressing these topics could include doing something to ensure that your employees don't see themselves as \"just a number\" or \"part of the system\". Do things that make them feel appreciated, important, and valuable such as asking their opinions when possible, giving bonuses for the holidays or for returning next fiscal year. These are some ideas that could make employees feel as if their companies are sharing the wealth opposed to solely making money off of their work.\n",
    "\n",
    "Topic 5: \n",
    "- Topic 5 does not have the clearest distinction. Words more exclusive to this topic are restaurant, tip, the lemma \"groceri\", and food. Possibly the service industry employees unhappy about aspects of their jobs? This is a very distinct topic and pretty unclear."
   ]
  },
  {
   "cell_type": "markdown",
   "id": "34132ce0-2fb5-420c-9c58-6b746ef1180d",
   "metadata": {},
   "source": [
    "Due to the immense overlap in topics 2 and 3, I am rerunning the model with 4 topics instead of 5 to see if there is better distinction"
   ]
  },
  {
   "cell_type": "code",
   "execution_count": 43,
   "id": "d68212e7-68de-4cde-b7a6-aab540df4fe0",
   "metadata": {
    "tags": []
   },
   "outputs": [],
   "source": [
    "# Create Dictionary\n",
    "id2word = corpora.Dictionary(preprocessed)\n",
    "\n",
    "# Create Corpus: Term Document Frequency\n",
    "corpus = [id2word.doc2bow(text) for text in preprocessed]\n",
    "\n",
    "# Build LDA model\n",
    "lda_model = gensim.models.LdaMulticore(corpus=corpus,\n",
    "                                           id2word=id2word,\n",
    "                                           num_topics=4,\n",
    "                                           workers=3,\n",
    "                                           random_state=42,\n",
    "                                           chunksize=256,\n",
    "                                           passes=10,\n",
    "                                           alpha='symmetric',\n",
    "                                           iterations=100,\n",
    "                                           per_word_topics=True)"
   ]
  },
  {
   "cell_type": "code",
   "execution_count": 34,
   "id": "08eca80a-5491-4ea6-abad-80316d870ef4",
   "metadata": {
    "tags": []
   },
   "outputs": [
    {
     "data": {
      "text/html": [
       "\n",
       "<link rel=\"stylesheet\" type=\"text/css\" href=\"https://cdn.jsdelivr.net/gh/bmabey/pyLDAvis@3.3.1/pyLDAvis/js/ldavis.v1.0.0.css\">\n",
       "\n",
       "\n",
       "<div id=\"ldavis_el5209139825033827024594845359\"></div>\n",
       "<script type=\"text/javascript\">\n",
       "\n",
       "var ldavis_el5209139825033827024594845359_data = {\"mdsDat\": {\"x\": [0.10260247137431774, -0.02345050153236032, 0.1712328514745619, -0.2503848213165194], \"y\": [-0.12237071403169537, -0.12710148557276196, 0.1708633220846987, 0.07860887751975858], \"topics\": [1, 2, 3, 4], \"cluster\": [1, 1, 1, 1], \"Freq\": [39.65248996983832, 28.062493090242345, 16.271876536386678, 16.01314040353266]}, \"tinfo\": {\"Term\": [\"day\", \"delet\", \"life\", \"pay\", \"compani\", \"like\", \"feel\", \"dont\", \"live\", \"want\", \"boss\", \"hour\", \"peopl\", \"fuck\", \"week\", \"money\", \"societi\", \"job\", \"year\", \"tell\", \"think\", \"hate\", \"capit\", \"time\", \"employ\", \"worker\", \"interview\", \"employe\", \"manag\", \"month\", \"sick\", \"shift\", \"minut\", \"day\", \"cowork\", \"night\", \"store\", \"schedul\", \"weekend\", \"morn\", \"walk\", \"anxieti\", \"lunch\", \"monday\", \"clock\", \"friday\", \"tomorrow\", \"yesterday\", \"sunday\", \"wear\", \"saturday\", \"guilti\", \"christma\", \"bathroom\", \"yell\", \"anxious\", \"mask\", \"shes\", \"floor\", \"guilt\", \"boss\", \"desk\", \"clean\", \"supervisor\", \"fire\", \"tell\", \"week\", \"call\", \"late\", \"offic\", \"manag\", \"come\", \"break\", \"say\", \"leav\", \"hour\", \"home\", \"get\", \"didnt\", \"today\", \"time\", \"go\", \"take\", \"ask\", \"quit\", \"start\", \"fuck\", \"like\", \"know\", \"feel\", \"need\", \"month\", \"want\", \"thing\", \"peopl\", \"dont\", \"year\", \"interview\", \"rais\", \"salari\", \"project\", \"skill\", \"student\", \"field\", \"graduat\", \"applic\", \"role\", \"review\", \"resum\", \"loan\", \"engin\", \"bonus\", \"rate\", \"internship\", \"compens\", \"softwar\", \"recruit\", \"png\", \"format\", \"payment\", \"entri\", \"auto\", \"freelanc\", \"qualifi\", \"preview\", \"redd\", \"width\", \"appli\", \"excel\", \"offer\", \"minimum\", \"compani\", \"employ\", \"pay\", \"benefit\", \"program\", \"contract\", \"experi\", \"unemploy\", \"wage\", \"posit\", \"cost\", \"year\", \"employe\", \"level\", \"requir\", \"hire\", \"job\", \"current\", \"degre\", \"month\", \"busi\", \"new\", \"hour\", \"time\", \"money\", \"get\", \"want\", \"peopl\", \"start\", \"ask\", \"know\", \"like\", \"need\", \"go\", \"delet\", \"dream\", \"hobbi\", \"music\", \"boomer\", \"movi\", \"song\", \"hustl\", \"joy\", \"artist\", \"landlord\", \"miseri\", \"loser\", \"neet\", \"fat\", \"instagram\", \"bread\", \"netflix\", \"comic\", \"childhood\", \"frugal\", \"lotteri\", \"tree\", \"sane\", \"workahol\", \"meirl\", \"boredom\", \"jesus\", \"burger\", \"grid\", \"art\", \"life\", \"soul\", \"passion\", \"aliv\", \"anim\", \"hate\", \"depress\", \"game\", \"lazi\", \"homeless\", \"live\", \"enjoy\", \"love\", \"escap\", \"parent\", \"sad\", \"money\", \"dont\", \"slave\", \"kid\", \"feel\", \"like\", \"want\", \"die\", \"think\", \"fuck\", \"hard\", \"happi\", \"peopl\", \"spend\", \"job\", \"thing\", \"shit\", \"make\", \"know\", \"time\", \"way\", \"good\", \"free\", \"ive\", \"need\", \"year\", \"go\", \"societi\", \"capit\", \"remov\", \"capitalist\", \"union\", \"american\", \"slaveri\", \"strike\", \"economi\", \"modern\", \"econom\", \"articl\", \"amazon\", \"wealth\", \"org\", \"ubi\", \"movement\", \"billionair\", \"abolish\", \"protest\", \"prison\", \"revolut\", \"theori\", \"vote\", \"war\", \"coronavirus\", \"poll\", \"wiki\", \"pro\", \"trump\", \"thread\", \"leisur\", \"anti\", \"power\", \"human\", \"labor\", \"autom\", \"worker\", \"social\", \"reddit\", \"labour\", \"creat\", \"world\", \"organ\", \"class\", \"peopl\", \"comment\", \"valu\", \"product\", \"sub\", \"chang\", \"need\", \"right\", \"idea\", \"mean\", \"think\", \"way\", \"problem\", \"corpor\"], \"Freq\": [92343.0, 35099.0, 32813.0, 62532.0, 44545.0, 78035.0, 41680.0, 47633.0, 30202.0, 57144.0, 33667.0, 74074.0, 71209.0, 34580.0, 54674.0, 27531.0, 12547.0, 27900.0, 55611.0, 40005.0, 45518.0, 14206.0, 10791.0, 94673.0, 22332.0, 17156.0, 13729.0, 24704.0, 34327.0, 32418.0, 15508.354967643785, 13681.338036084002, 10682.992067655754, 92336.27052568705, 10454.327158183534, 8774.21245577929, 8524.187153789579, 8269.409860470894, 8312.671983637743, 8096.845994321545, 8165.047233791919, 6507.661367781365, 5245.278152361463, 5216.384689894695, 4644.2698280753275, 4646.559651547394, 4606.386101790037, 3645.226254888396, 3529.937067862091, 3600.5095156529283, 2682.964766475547, 2619.2168617185384, 2259.5530958075606, 2075.793657402496, 2018.4884129291493, 2093.057372336359, 2000.7043505256772, 1811.227166199248, 1806.7062562837077, 1641.4843345799359, 33485.309036502644, 4375.746228779591, 4393.4538778073065, 5121.043997156242, 9525.413755851134, 34935.50601832949, 47001.03001087233, 13082.928871345284, 7451.048752382359, 18501.10784522389, 28258.033138954943, 27007.761535656755, 13664.486585121991, 26972.84780395207, 24908.745393040317, 52654.63288746959, 19766.31596187477, 40865.33127992642, 12546.367772300791, 14119.145802615896, 54428.73714682602, 31979.23417523585, 16618.3559180304, 17935.234943496438, 14030.448838610084, 18994.77581484856, 19419.84777324955, 30370.718990044057, 22730.665895621878, 19504.255277010485, 18857.27740238371, 16176.945122735127, 18565.21111821032, 14522.505314585063, 15090.68203355942, 14636.570782827566, 14361.223377012468, 13728.202022802774, 9401.600804724452, 7794.59846386083, 6701.474381485398, 6563.936036669141, 5842.603013480781, 5296.091011256115, 5305.745403689782, 4506.8728373401955, 4088.943508643641, 3607.039886925488, 3548.9329229412265, 3248.195366949485, 3107.4576559331504, 2897.847567147394, 2872.6740594387156, 2721.858709759574, 2698.333099776791, 2445.280851235528, 2220.938978984017, 2187.2106329307994, 2167.9126637768345, 2166.353376714675, 2117.3957243807836, 2114.335268427092, 2063.826147619018, 1978.6312946599755, 1681.325316931221, 1640.963550528746, 1613.4445967368483, 9252.326238115924, 1651.6830952644425, 9514.319823867376, 10588.693889796212, 39368.80468695173, 19987.469578065073, 51564.77196199475, 9444.347631389228, 3557.7202339682735, 4513.39614590878, 12105.431153707681, 10037.184246136821, 14689.497414541755, 11847.56682488634, 5679.030334419607, 34168.55549083197, 17416.918007168377, 5504.374025042621, 7504.002919572904, 8882.097332806603, 16817.96308670939, 9538.512620024174, 5976.685021172124, 16240.789709875182, 10894.792651563597, 13597.208357362239, 21419.547171364506, 23154.535627493617, 11606.047514849954, 15052.819900471632, 13034.767285232982, 13168.438035196748, 10397.531498721952, 9798.17626655856, 11035.681521947483, 12269.74138623466, 10219.6044133747, 9435.30204633935, 35098.68526282541, 4067.511179732966, 2339.7675085341084, 1700.540173711957, 1305.7970452972927, 1185.1016428878122, 1060.2929381901988, 788.0764696569129, 715.5835025866027, 683.250353403478, 632.6803400141156, 619.4453943486208, 554.3930630386543, 456.66084048670274, 445.2216771576441, 391.0965942826898, 395.0623290744282, 418.82470064182127, 345.5803709580206, 324.47965460209315, 327.3200833396568, 311.53956058166, 316.04106814608616, 300.7471667750093, 298.53480660984974, 265.85661545422863, 286.6288184550874, 270.28296031151785, 243.69289176444255, 255.6148985107234, 1893.2684620419548, 30665.95533450941, 2144.3178730714203, 2484.065247714585, 1010.6032672998083, 1249.5878076588724, 11164.578678000038, 5704.980265003856, 3726.2341807185726, 3559.7006719661736, 1749.2097927839525, 21841.345908625342, 6668.064531682819, 7616.696401961183, 1908.6451009494126, 3682.7551897737235, 2188.776264880717, 15406.77682956832, 24303.96316900938, 4295.332726347878, 3737.2329083402665, 20314.596421217604, 33053.3976471347, 24785.514671713714, 4497.092024562188, 19540.90933142673, 14894.83231623945, 6998.167807519118, 5119.612572905694, 23005.405469246936, 6993.720079353339, 10647.233783666403, 11444.370882490059, 7574.036777084384, 8132.864987649724, 11736.342052335354, 16871.92546322257, 8408.739588681956, 8102.486484428826, 5622.29834033687, 7359.504314440736, 7115.65359799217, 7081.0866864455475, 6780.217037892937, 12546.698008611747, 10790.620497606415, 7100.238421519654, 5689.38637518752, 4614.856471482067, 4570.358599449821, 4053.030497893681, 3504.780201734612, 3415.21428100268, 2963.8270961644803, 2793.1741416378795, 2714.993610917928, 2678.584692796856, 2585.0528170917073, 2015.595785773434, 1875.0035147818219, 1622.6185457076342, 1601.1462039944263, 1531.727566523199, 1488.9341271423718, 1400.706203144129, 1265.0902627852513, 1192.4758698610672, 1120.5185036757339, 1100.7897068892541, 1407.7212797168597, 1063.952487046161, 1021.491130215776, 1061.3772485845702, 1023.4963407258016, 2449.9312083036625, 1113.0598820037226, 6617.376413884418, 4479.678499377131, 7306.152802470411, 7574.214358149956, 2631.4212374085305, 11536.446080702137, 6162.392089444742, 3483.965332907882, 2522.571923937846, 4295.547722467425, 7473.608663101174, 2728.6246106530057, 4731.942562444373, 19944.556158401938, 3365.589280439738, 4112.663482027852, 5110.557418098393, 4220.8275127433035, 5441.573973143536, 7106.818206724206, 5008.858363931452, 3998.346183239363, 4356.323141958738, 4938.2427123767, 4286.517694494811, 3712.0600918560635, 3563.72582109129], \"Total\": [92343.0, 35099.0, 32813.0, 62532.0, 44545.0, 78035.0, 41680.0, 47633.0, 30202.0, 57144.0, 33667.0, 74074.0, 71209.0, 34580.0, 54674.0, 27531.0, 12547.0, 27900.0, 55611.0, 40005.0, 45518.0, 14206.0, 10791.0, 94673.0, 22332.0, 17156.0, 13729.0, 24704.0, 34327.0, 32418.0, 15509.249464134225, 13682.208648676002, 10683.866599762066, 92343.86452982534, 10455.269103335446, 8775.088078124683, 8525.07564134854, 8270.276610624536, 8313.545056363046, 8097.719321474455, 8165.928871786394, 6508.6077870971685, 5246.144777258229, 5217.254537625807, 4645.143775892453, 4647.440098455105, 4607.265253159181, 3646.1111435226912, 3530.8013696842145, 3601.3970580798737, 2683.8199214550455, 2620.1498025116825, 2260.427461521202, 2076.660238451337, 2019.3483690205517, 2093.9670615074238, 2001.5758286059443, 1812.0973259604805, 1807.5760991023565, 1642.4097505813759, 33667.46848015407, 4389.8428123618605, 4433.913574081541, 5286.405787764815, 10177.507572024337, 40005.10911684926, 54674.16211387054, 14569.74163693495, 8022.88690792888, 21621.515045403085, 34327.473159446155, 33481.09380866766, 15747.747056773458, 33793.92728332909, 31020.9088372886, 74074.64831857478, 25003.52801139336, 60881.190577339694, 15002.69231086534, 17279.942161461135, 94673.01446156228, 49221.12227040694, 24474.595502849552, 27733.87580575903, 19287.06204841136, 32024.00430232039, 34580.84686964687, 78035.35914829999, 47033.81384483607, 41680.53941291136, 43299.35362047479, 32418.192039726524, 57144.74896591356, 34560.82026052224, 71209.08169640505, 47633.6350007337, 55611.1380512252, 13729.017878795314, 9402.42905390904, 7795.4116538016715, 6702.334494137047, 6564.79201479271, 5843.448189406449, 5296.944428017463, 5306.600750770197, 4507.687953769022, 4089.7846895595817, 3607.871674111047, 3549.7569586913537, 3249.024581699568, 3108.305435870745, 2898.6601193738893, 2873.497945676421, 2722.683341423125, 2699.1581838164147, 2446.0998152376874, 2221.74850584953, 2188.011339307027, 2168.738943756822, 2167.188609985456, 2118.212628144917, 2115.158923091313, 2064.6841475576334, 1979.463020878963, 1682.1244600238977, 1641.7623801995892, 1614.2448145969822, 9414.554586274206, 1652.5468123105677, 9868.459930395755, 11278.156038702982, 44545.166317288546, 22332.098884786792, 62532.472546101715, 10350.512462221774, 3664.70406636291, 4819.434754549765, 14481.685383584152, 11863.975012904888, 18725.158252967038, 15513.959733509322, 6494.0503283179505, 55611.1380512252, 24704.35273660135, 6286.826258733481, 9384.239571368455, 11627.665005406348, 27900.23221006037, 13366.280845151567, 7112.281561486298, 32418.192039726524, 18808.347444739742, 27092.04964880317, 74074.64831857478, 94673.01446156228, 27531.69726152016, 60881.190577339694, 57144.74896591356, 71209.08169640505, 32024.00430232039, 27733.87580575903, 47033.81384483607, 78035.35914829999, 43299.35362047479, 49221.12227040694, 35099.72618112711, 4068.5688525654678, 2340.832572418347, 1701.6182714565748, 1306.871766860883, 1186.1631789377343, 1061.3275239360441, 789.128457403998, 716.6556421824362, 684.3423879674144, 633.7646849900701, 620.5590038012297, 555.4752678625805, 457.7578088203537, 446.33826033882434, 392.23913901335425, 396.2206523145783, 420.0705488166436, 346.640815025947, 325.5405399905868, 328.4109129515281, 312.6064526956934, 317.1237672551497, 301.8454431576005, 299.6278515860301, 266.86711196294414, 287.7392478835276, 271.3615297246139, 244.740943432929, 256.719820522136, 1905.1695070089208, 32813.348877580516, 2213.774010361503, 2576.462940404598, 1051.8396493569007, 1324.3263013675278, 14206.467146243596, 6927.036239590997, 4396.775515893084, 4259.11503570116, 1989.427085710905, 30202.287103929542, 8398.347199617167, 10254.8531634221, 2289.8051347074424, 4816.837886458237, 2693.8882901364286, 27531.69726152016, 47633.6350007337, 6128.309715518566, 5240.282839781014, 41680.53941291136, 78035.35914829999, 57144.74896591356, 6861.800802662606, 45518.30798451169, 34580.84686964687, 13413.61926779346, 8780.046162037157, 71209.08169640505, 13664.34815969191, 27900.23221006037, 34560.82026052224, 18122.359947036286, 23441.861822310864, 47033.81384483607, 94673.01446156228, 26258.657318080615, 25918.11148424311, 12765.212025802837, 26432.097264504802, 43299.35362047479, 55611.1380512252, 49221.12227040694, 12547.703072691957, 10791.595641073653, 7101.189700161712, 5690.357424447137, 4615.829213949933, 4571.338934892469, 4054.028842555351, 3505.740260466115, 3416.186683138249, 2964.8073485954615, 2794.138899062295, 2715.9636967934057, 2679.5707568109246, 2586.0048583154007, 2016.5458199431691, 1875.9639455200868, 1623.579373948666, 1602.0971123434558, 1532.6867285829971, 1489.902406297675, 1401.747809031065, 1266.038815360474, 1193.46658339696, 1121.4756037074246, 1101.7437660126313, 1408.9726539946162, 1064.9038545773876, 1022.432156450292, 1062.3578842831166, 1024.4666064829291, 2470.5724003089636, 1114.1202770189132, 7889.076137365458, 5318.468076174844, 9414.995433281383, 9972.501734456764, 2989.174897588027, 17156.87431037194, 8707.470133792229, 4429.177817436648, 2946.6733107373293, 5827.053722100477, 12246.593133789895, 3278.1905899866883, 7139.621786259924, 71209.08169640505, 4982.328647900609, 7133.781745306987, 11449.986056421709, 7931.194772872559, 14398.390398736381, 43299.35362047479, 20512.992331537855, 10232.836795597057, 16023.39761258919, 45518.30798451169, 26258.657318080615, 11318.720762297939, 9847.054763098875], \"Category\": [\"Default\", \"Default\", \"Default\", \"Default\", \"Default\", \"Default\", \"Default\", \"Default\", \"Default\", \"Default\", \"Default\", \"Default\", \"Default\", \"Default\", \"Default\", \"Default\", \"Default\", \"Default\", \"Default\", \"Default\", \"Default\", \"Default\", \"Default\", \"Default\", \"Default\", \"Default\", \"Default\", \"Default\", \"Default\", \"Default\", \"Topic1\", \"Topic1\", \"Topic1\", \"Topic1\", \"Topic1\", \"Topic1\", \"Topic1\", \"Topic1\", \"Topic1\", \"Topic1\", \"Topic1\", \"Topic1\", \"Topic1\", \"Topic1\", \"Topic1\", \"Topic1\", \"Topic1\", \"Topic1\", \"Topic1\", \"Topic1\", \"Topic1\", \"Topic1\", \"Topic1\", \"Topic1\", \"Topic1\", \"Topic1\", \"Topic1\", \"Topic1\", \"Topic1\", \"Topic1\", \"Topic1\", \"Topic1\", \"Topic1\", \"Topic1\", \"Topic1\", \"Topic1\", \"Topic1\", \"Topic1\", \"Topic1\", \"Topic1\", \"Topic1\", \"Topic1\", \"Topic1\", \"Topic1\", \"Topic1\", \"Topic1\", \"Topic1\", \"Topic1\", \"Topic1\", \"Topic1\", \"Topic1\", \"Topic1\", \"Topic1\", \"Topic1\", \"Topic1\", \"Topic1\", \"Topic1\", \"Topic1\", \"Topic1\", \"Topic1\", \"Topic1\", \"Topic1\", \"Topic1\", \"Topic1\", \"Topic1\", \"Topic1\", \"Topic1\", \"Topic2\", \"Topic2\", \"Topic2\", \"Topic2\", \"Topic2\", \"Topic2\", \"Topic2\", \"Topic2\", \"Topic2\", \"Topic2\", \"Topic2\", \"Topic2\", \"Topic2\", \"Topic2\", \"Topic2\", \"Topic2\", \"Topic2\", \"Topic2\", \"Topic2\", \"Topic2\", \"Topic2\", \"Topic2\", \"Topic2\", \"Topic2\", \"Topic2\", \"Topic2\", \"Topic2\", \"Topic2\", \"Topic2\", \"Topic2\", \"Topic2\", \"Topic2\", \"Topic2\", \"Topic2\", \"Topic2\", \"Topic2\", \"Topic2\", \"Topic2\", \"Topic2\", \"Topic2\", \"Topic2\", \"Topic2\", \"Topic2\", \"Topic2\", \"Topic2\", \"Topic2\", \"Topic2\", \"Topic2\", \"Topic2\", \"Topic2\", \"Topic2\", \"Topic2\", \"Topic2\", \"Topic2\", \"Topic2\", \"Topic2\", \"Topic2\", \"Topic2\", \"Topic2\", \"Topic2\", \"Topic2\", \"Topic2\", \"Topic2\", \"Topic2\", \"Topic2\", \"Topic2\", \"Topic2\", \"Topic2\", \"Topic3\", \"Topic3\", \"Topic3\", \"Topic3\", \"Topic3\", \"Topic3\", \"Topic3\", \"Topic3\", \"Topic3\", \"Topic3\", \"Topic3\", \"Topic3\", \"Topic3\", \"Topic3\", \"Topic3\", \"Topic3\", \"Topic3\", \"Topic3\", \"Topic3\", \"Topic3\", \"Topic3\", \"Topic3\", \"Topic3\", \"Topic3\", \"Topic3\", \"Topic3\", \"Topic3\", \"Topic3\", \"Topic3\", \"Topic3\", \"Topic3\", \"Topic3\", \"Topic3\", \"Topic3\", \"Topic3\", \"Topic3\", \"Topic3\", \"Topic3\", \"Topic3\", \"Topic3\", \"Topic3\", \"Topic3\", \"Topic3\", \"Topic3\", \"Topic3\", \"Topic3\", \"Topic3\", \"Topic3\", \"Topic3\", \"Topic3\", \"Topic3\", \"Topic3\", \"Topic3\", \"Topic3\", \"Topic3\", \"Topic3\", \"Topic3\", \"Topic3\", \"Topic3\", \"Topic3\", \"Topic3\", \"Topic3\", \"Topic3\", \"Topic3\", \"Topic3\", \"Topic3\", \"Topic3\", \"Topic3\", \"Topic3\", \"Topic3\", \"Topic3\", \"Topic3\", \"Topic3\", \"Topic3\", \"Topic4\", \"Topic4\", \"Topic4\", \"Topic4\", \"Topic4\", \"Topic4\", \"Topic4\", \"Topic4\", \"Topic4\", \"Topic4\", \"Topic4\", \"Topic4\", \"Topic4\", \"Topic4\", \"Topic4\", \"Topic4\", \"Topic4\", \"Topic4\", \"Topic4\", \"Topic4\", \"Topic4\", \"Topic4\", \"Topic4\", \"Topic4\", \"Topic4\", \"Topic4\", \"Topic4\", \"Topic4\", \"Topic4\", \"Topic4\", \"Topic4\", \"Topic4\", \"Topic4\", \"Topic4\", \"Topic4\", \"Topic4\", \"Topic4\", \"Topic4\", \"Topic4\", \"Topic4\", \"Topic4\", \"Topic4\", \"Topic4\", \"Topic4\", \"Topic4\", \"Topic4\", \"Topic4\", \"Topic4\", \"Topic4\", \"Topic4\", \"Topic4\", \"Topic4\", \"Topic4\", \"Topic4\", \"Topic4\", \"Topic4\", \"Topic4\", \"Topic4\", \"Topic4\"], \"logprob\": [30.0, 29.0, 28.0, 27.0, 26.0, 25.0, 24.0, 23.0, 22.0, 21.0, 20.0, 19.0, 18.0, 17.0, 16.0, 15.0, 14.0, 13.0, 12.0, 11.0, 10.0, 9.0, 8.0, 7.0, 6.0, 5.0, 4.0, 3.0, 2.0, 1.0, -5.318, -5.4433, -5.6907, -3.5339, -5.7124, -5.8876, -5.9165, -5.9468, -5.9416, -5.9679, -5.9595, -6.1864, -6.402, -6.4076, -6.5237, -6.5232, -6.5319, -6.766, -6.7981, -6.7783, -7.0725, -7.0965, -7.2442, -7.329, -7.357, -7.3207, -7.3659, -7.4654, -7.4679, -7.5638, -4.5483, -6.5833, -6.5793, -6.426, -5.8054, -4.5059, -4.2092, -5.4881, -6.051, -5.1415, -4.718, -4.7632, -5.4446, -4.7645, -4.8442, -4.0956, -5.0754, -4.3491, -5.5299, -5.4118, -4.0625, -4.5943, -5.2489, -5.1726, -5.4181, -5.1152, -5.0931, -4.6459, -4.9357, -5.0887, -5.1225, -5.2758, -5.1381, -5.3837, -5.3453, -5.3758, -5.3948, -5.0942, -5.4728, -5.6602, -5.8113, -5.8321, -5.9485, -6.0467, -6.0449, -6.208, -6.3054, -6.4308, -6.447, -6.5356, -6.5798, -6.6497, -6.6584, -6.7123, -6.721, -6.8195, -6.9157, -6.931, -6.9399, -6.9406, -6.9635, -6.9649, -6.9891, -7.0312, -7.1941, -7.2184, -7.2353, -5.4888, -7.2119, -5.4609, -5.3539, -4.0407, -4.7185, -3.7708, -5.4682, -6.4445, -6.2066, -5.22, -5.4074, -5.0265, -5.2415, -5.9769, -4.1823, -4.8562, -6.0081, -5.6982, -5.5296, -4.8912, -5.4583, -5.9258, -4.9261, -5.3254, -5.1038, -4.6493, -4.5715, -5.2621, -5.0021, -5.146, -5.1358, -5.3721, -5.4315, -5.3125, -5.2065, -5.3893, -5.4692, -3.6105, -5.7656, -6.3186, -6.6377, -6.9018, -6.9988, -7.1101, -7.4068, -7.5033, -7.5496, -7.6264, -7.6476, -7.7585, -7.9525, -7.9778, -8.1075, -8.0974, -8.039, -8.2312, -8.2942, -8.2855, -8.3349, -8.3205, -8.3701, -8.3775, -8.4935, -8.4182, -8.4769, -8.5805, -8.5327, -6.5304, -3.7455, -6.4058, -6.2588, -7.1581, -6.9458, -4.7559, -5.4273, -5.8533, -5.899, -6.6095, -4.0849, -5.2713, -5.1383, -6.5223, -5.865, -6.3853, -4.4338, -3.978, -5.7111, -5.8503, -4.1573, -3.6705, -3.9584, -5.6652, -4.1961, -4.4676, -5.223, -5.5356, -4.0329, -5.2236, -4.8034, -4.7312, -5.1439, -5.0727, -4.706, -4.343, -5.0394, -5.0765, -5.4419, -5.1727, -5.2064, -5.2112, -5.2546, -4.6232, -4.774, -5.1925, -5.414, -5.6233, -5.633, -5.7532, -5.8985, -5.9244, -6.0661, -6.1255, -6.1538, -6.1673, -6.2029, -6.4517, -6.524, -6.6686, -6.6819, -6.7262, -6.7546, -6.8157, -6.9175, -6.9766, -7.0388, -7.0566, -6.8107, -7.0906, -7.1314, -7.0931, -7.1294, -6.2566, -7.0455, -5.2629, -5.6531, -5.1639, -5.1279, -6.1851, -4.7071, -5.3342, -5.9045, -6.2273, -5.695, -5.1413, -6.1488, -5.5983, -4.1597, -5.939, -5.7386, -5.5213, -5.7126, -5.4586, -5.1916, -5.5414, -5.7667, -5.681, -5.5556, -5.6972, -5.841, -5.8818], \"loglift\": [30.0, 29.0, 28.0, 27.0, 26.0, 25.0, 24.0, 23.0, 22.0, 21.0, 20.0, 19.0, 18.0, 17.0, 16.0, 15.0, 14.0, 13.0, 12.0, 11.0, 10.0, 9.0, 8.0, 7.0, 6.0, 5.0, 4.0, 3.0, 2.0, 1.0, 0.925, 0.925, 0.9249, 0.9249, 0.9249, 0.9249, 0.9249, 0.9249, 0.9249, 0.9249, 0.9249, 0.9249, 0.9249, 0.9248, 0.9248, 0.9248, 0.9248, 0.9248, 0.9248, 0.9248, 0.9247, 0.9247, 0.9246, 0.9246, 0.9246, 0.9246, 0.9246, 0.9245, 0.9245, 0.9245, 0.9196, 0.9218, 0.9158, 0.8932, 0.8588, 0.7895, 0.7738, 0.8174, 0.8511, 0.7692, 0.7304, 0.7102, 0.7831, 0.6996, 0.7056, 0.5837, 0.69, 0.5264, 0.7462, 0.723, 0.3715, 0.4938, 0.5379, 0.4891, 0.6068, 0.4027, 0.348, -0.0187, 0.1979, 0.1656, 0.0938, 0.2299, -0.1993, 0.058, -0.6265, -0.255, -0.4288, 1.2707, 1.2706, 1.2706, 1.2706, 1.2706, 1.2706, 1.2706, 1.2706, 1.2706, 1.2705, 1.2705, 1.2705, 1.2705, 1.2705, 1.2705, 1.2704, 1.2704, 1.2704, 1.2704, 1.2704, 1.2704, 1.2704, 1.2704, 1.2704, 1.2703, 1.2703, 1.2703, 1.2703, 1.2702, 1.2702, 1.2534, 1.2702, 1.2342, 1.2077, 1.1472, 1.1598, 1.0779, 1.1791, 1.2411, 1.2051, 1.0915, 1.1035, 1.028, 1.0011, 1.1366, 0.7837, 0.9212, 1.1378, 1.0471, 1.0014, 0.7645, 0.9333, 1.0968, 0.5795, 0.7247, 0.5814, 0.03, -0.1375, 0.4069, -0.1266, -0.2072, -0.4171, 0.1458, 0.2303, -0.179, -0.5793, -0.1731, -0.3811, 1.8157, 1.8155, 1.8153, 1.8151, 1.8149, 1.8148, 1.8148, 1.8144, 1.8142, 1.8141, 1.814, 1.8139, 1.8138, 1.8133, 1.8132, 1.8128, 1.8128, 1.8128, 1.8127, 1.8125, 1.8124, 1.8123, 1.8123, 1.8121, 1.8121, 1.8119, 1.8119, 1.8117, 1.8114, 1.8114, 1.8095, 1.748, 1.7839, 1.7792, 1.7757, 1.7576, 1.5748, 1.6216, 1.6503, 1.6363, 1.687, 1.4916, 1.585, 1.5183, 1.6337, 1.5473, 1.6081, 1.2352, 1.1428, 1.4603, 1.4777, 1.097, 0.9567, 0.9804, 1.3932, 0.9701, 0.9734, 1.1651, 1.2763, 0.6858, 1.146, 0.8524, 0.7105, 0.9433, 0.7571, 0.4276, 0.091, 0.677, 0.653, 0.9957, 0.5371, 0.0099, -0.2452, -0.1666, 1.8317, 1.8317, 1.8316, 1.8316, 1.8315, 1.8315, 1.8315, 1.8315, 1.8315, 1.8314, 1.8314, 1.8314, 1.8314, 1.8314, 1.8313, 1.8312, 1.8312, 1.8312, 1.8311, 1.8311, 1.831, 1.831, 1.8309, 1.8309, 1.8309, 1.8309, 1.8309, 1.8308, 1.8308, 1.8308, 1.8234, 1.8308, 1.656, 1.6601, 1.5782, 1.5567, 1.7043, 1.4349, 1.486, 1.5917, 1.6764, 1.5268, 1.3379, 1.6483, 1.4204, 0.5591, 1.4395, 1.281, 1.0251, 1.201, 0.8587, 0.0247, 0.4219, 0.892, 0.5293, -0.3893, 0.0192, 0.7169, 0.8154]}, \"token.table\": {\"Topic\": [4, 1, 3, 4, 4, 4, 1, 3, 4, 3, 4, 1, 1, 1, 2, 2, 2, 3, 4, 4, 3, 1, 2, 2, 2, 4, 1, 2, 4, 4, 2, 3, 3, 1, 2, 3, 1, 2, 3, 4, 3, 1, 2, 3, 4, 1, 2, 4, 4, 4, 1, 2, 4, 3, 1, 1, 2, 4, 1, 4, 1, 1, 2, 3, 4, 3, 1, 2, 3, 4, 1, 2, 2, 1, 2, 1, 4, 1, 2, 3, 4, 2, 3, 4, 1, 2, 4, 1, 2, 4, 1, 2, 2, 3, 3, 1, 3, 1, 2, 1, 2, 1, 3, 4, 1, 2, 3, 4, 3, 4, 4, 1, 2, 4, 1, 2, 2, 1, 2, 3, 2, 2, 3, 4, 2, 1, 2, 3, 4, 3, 1, 2, 3, 2, 1, 2, 1, 2, 1, 2, 3, 4, 2, 1, 3, 1, 2, 3, 2, 3, 4, 1, 2, 3, 1, 2, 3, 4, 1, 2, 3, 4, 2, 3, 1, 1, 1, 2, 3, 1, 2, 3, 4, 1, 3, 1, 2, 3, 1, 2, 3, 3, 4, 1, 2, 1, 3, 4, 3, 1, 2, 3, 4, 3, 2, 2, 1, 2, 3, 3, 1, 2, 3, 4, 3, 1, 2, 3, 1, 2, 3, 4, 1, 2, 4, 2, 4, 3, 1, 2, 4, 1, 3, 4, 1, 2, 4, 4, 1, 2, 4, 1, 2, 3, 4, 1, 2, 3, 4, 1, 2, 3, 4, 2, 3, 3, 1, 2, 3, 4, 1, 1, 2, 3, 4, 1, 2, 1, 1, 2, 3, 4, 3, 2, 3, 1, 3, 4, 1, 1, 2, 3, 4, 1, 2, 1, 4, 3, 3, 1, 2, 3, 4, 3, 2, 3, 1, 2, 4, 1, 1, 2, 1, 2, 4, 2, 4, 1, 2, 3, 2, 3, 1, 2, 3, 2, 1, 2, 3, 4, 2, 4, 1, 2, 1, 2, 4, 2, 4, 4, 1, 2, 3, 4, 1, 2, 4, 2, 4, 2, 4, 2, 1, 2, 3, 2, 2, 2, 2, 1, 2, 3, 4, 4, 1, 2, 4, 2, 2, 4, 1, 2, 3, 4, 2, 1, 2, 3, 2, 3, 1, 1, 2, 4, 1, 1, 1, 1, 2, 3, 1, 2, 3, 4, 4, 1, 2, 4, 4, 2, 3, 2, 3, 1, 2, 3, 1, 2, 3, 4, 1, 4, 2, 1, 2, 3, 4, 1, 1, 2, 1, 2, 3, 4, 1, 2, 4, 1, 2, 3, 4, 1, 2, 3, 4, 2, 4, 1, 2, 3, 4, 1, 2, 3, 4, 1, 3, 4, 4, 1, 2, 4, 4, 2, 4, 4, 2, 3, 4, 1, 1, 2, 3, 4, 4, 1, 2, 3, 4, 4, 1, 1, 2, 1, 2, 4, 3, 1, 2, 4, 2, 3, 4, 1, 2, 3, 1, 1], \"Freq\": [0.9995519445884209, 0.019014305091301784, 0.9611731223653052, 0.019965020345866873, 0.9997869969249836, 0.9997071022491355, 0.05285706394845175, 0.9438761419366384, 0.003020403654197243, 0.16110885202135317, 0.8387547394376821, 0.9999066179562435, 0.9995381677557394, 0.017207399300247856, 0.9827336933697108, 0.9998473821222592, 0.0052488767866644085, 0.9936123757155726, 0.0005248876786664409, 0.9996451731683514, 0.9980384263915004, 0.6466820622408549, 0.3532863588422579, 0.9994520869904094, 0.11943095075770382, 0.880175998441229, 0.9996820671773301, 0.9124185912986972, 0.08753189789460182, 0.9993152023463477, 0.9997722674109057, 0.9993329361893117, 0.9974308409820171, 0.9945802732313649, 0.005405811847935147, 0.9969192612564548, 0.8676796719390287, 0.0008255149103635373, 0.07975744057050792, 0.051689933618147645, 0.9969725399333028, 0.28864843208319, 0.5792640758051861, 0.0009038539962081839, 0.13116516521444646, 0.8979568976593247, 0.010089403344486795, 0.09190279645080149, 0.99994480509709, 0.999761451812973, 0.33399566665604813, 0.2880877573901617, 0.3779589141073433, 0.9952677476340386, 0.9998108935020129, 0.08880022205379587, 0.24833248217883294, 0.6627802062437887, 0.9907725819644521, 0.00902137566095563, 0.9997537695391929, 0.8066642073983887, 0.09566593069820198, 0.012872936662792711, 0.08479412340062299, 0.9981513572603993, 0.25550301675430437, 0.05840642409701695, 0.010436886780222959, 0.6755877096582785, 0.11619667020956051, 0.8837995961128646, 0.9995709092474243, 0.0634929230468619, 0.9364168683349273, 0.0007097369825914457, 0.9993096714887556, 0.10815416646112404, 0.3190801793623021, 0.21082445969323332, 0.36193563311497284, 0.8744927607407287, 0.0947020686486262, 0.030797420698740224, 0.9998786159090787, 0.2627399837062289, 0.7372507968660741, 0.1849429941386189, 0.713661497203999, 0.10137449719167822, 0.9999148343004121, 7.580362848837814e-05, 0.8403773034473271, 0.15958310848464383, 0.999979310917602, 0.17626585999672686, 0.8235845465039531, 0.9968466268717233, 0.0031891802505036853, 0.8362499036865444, 0.1637039505383511, 0.21976738226135129, 0.6553673196480748, 0.12474859364437448, 0.3072828684977442, 0.17069870900834586, 0.5102276993898459, 0.011798385741322146, 0.9998601836208059, 0.9995923971200297, 0.9996526293062068, 0.04894300377402413, 0.8949897680067889, 0.05606280029741831, 0.2949682623825138, 0.7050174592996079, 0.9995800168620239, 0.16169848277550417, 0.04429442974409981, 0.7939657460582192, 0.9994275229366474, 0.010481241235868905, 0.8336953966364059, 0.15590846338354997, 0.9996691093368767, 0.11801112610395836, 0.8358833712629702, 0.030935625801388734, 0.015122549219875296, 0.9970016902924512, 0.4679402012239375, 0.044649134253370984, 0.48739772292167194, 0.9998217032422565, 0.9358872919124195, 0.06406283614980551, 0.999681286390851, 0.9996592749169053, 0.09494554399489297, 0.20344354600225828, 0.44041571645155797, 0.26125692180112875, 0.999668642993921, 0.9999053030387092, 0.9957038183084485, 0.5615825451934142, 0.007692119311094139, 0.4307297636795008, 0.13282461155658443, 0.8474392168832767, 0.019787228091477475, 0.6712253753987881, 0.2472520635232585, 0.08151943076236842, 0.6497007488841154, 0.1916859991157206, 0.13774574181288668, 0.020844709601773117, 0.27517437002830597, 0.3429648030260252, 0.3125999363389421, 0.06921800614565073, 0.9998867917903735, 0.9971960851301939, 0.9991416572016351, 0.9995611691703351, 0.2777889722887403, 0.13906532807074695, 0.5831404420329439, 0.2428129153643241, 0.2354323569912605, 0.5217085605525146, 7.455109467740991e-05, 0.21405744079055475, 0.7859096765624939, 0.23607491260916932, 0.763867895735753, 0.9996443263699605, 0.7905284402662387, 0.07462946825542859, 0.13482097400270618, 0.8791475759841731, 0.12013508899955254, 0.7108369893778673, 0.2891677582845678, 0.028252801808029315, 0.1956453418435714, 0.775996127855121, 0.9985699952987245, 0.11551049074764742, 0.21216013148320015, 0.2816423302324195, 0.3907029966235993, 0.9968408583180373, 0.9997490191339078, 0.9999258593146065, 0.4339421077798038, 0.28760487387463546, 0.2784493385579212, 0.9949825985798517, 0.0027956756564869903, 0.6027906819333103, 0.3816097271104742, 0.012795592427767379, 0.9990851363697639, 0.28662575015946407, 0.00019082939424731296, 0.7131294463022085, 0.48329059758983756, 0.2346397006291605, 0.24952261023775169, 0.032551049443933014, 0.0010027574089506773, 0.23945846925742173, 0.759488461539243, 0.14389107827291003, 0.8562197888739435, 0.9987934244236375, 0.9287180643960351, 0.030412992579872844, 0.040758395793518115, 0.06785447154573583, 0.8358543899751542, 0.0962641291825318, 0.8029745398709339, 0.17330246603019553, 0.02372593284937201, 0.9989944738983562, 0.0001590627701236102, 0.8754814867603505, 0.12422802346653956, 0.048303512266099115, 0.01539007804061833, 0.9345586795912905, 0.0017370979174559302, 0.38919536388987885, 0.1572364135171319, 0.4235643990205184, 0.030012035897076034, 0.011124985298093, 0.1625373596081504, 0.723157154451337, 0.10320410468498775, 0.9996846494466866, 0.9973441340273219, 0.9980600122279505, 0.15475599452370994, 0.09361421218825554, 0.74277026483119, 0.008873847197011724, 0.9997817869489246, 0.2777083172550777, 0.3520624796169211, 0.3469434322942469, 0.023249006590478856, 0.8231890494457798, 0.17679716685846264, 0.9997123123702262, 0.24763786657097245, 0.25949552651262686, 0.2209893360705175, 0.27185245634656147, 0.9967507724853539, 0.9388946174943829, 0.06109154702555763, 0.999918887066403, 0.9974877428388276, 0.999727689357002, 0.9997595406517433, 0.018306172525891406, 0.4215504728878882, 0.5596095240206526, 0.0005448265632705775, 0.499009938005675, 0.5009841381683976, 0.9999111698682187, 0.9996431502161444, 0.999019376963989, 0.9996366567831658, 0.4355030369571884, 0.23603123708450258, 0.16434425470580435, 0.16413639940895888, 0.9983445201681942, 0.0023805525115175104, 0.9974515023258369, 0.4078318231078579, 0.5018815547830161, 0.0902478783146631, 0.9998760037375128, 0.03587185867874356, 0.9640815352247633, 0.8556754677528238, 0.1443007112798665, 0.9997293292630541, 0.16747043374382614, 0.8324714274806949, 0.11127632123698361, 0.1241478360069332, 0.7646094983503929, 0.035707868550033425, 0.9641124508509026, 0.12967662511700118, 0.8246115642074443, 0.04572024555549468, 0.9994515428975681, 0.2119252157237391, 0.18492023329469195, 0.3230627253147318, 0.2800906783917551, 0.9995377815055807, 0.9991512336315598, 0.2363033076643635, 0.7636992878361644, 0.13556535259276364, 0.021998815885372183, 0.8423478219356186, 0.9993315238850509, 0.9994665167113178, 0.9987218202987848, 0.48309346213519283, 0.1873003181650711, 0.001678634926951109, 0.3279522552022377, 0.1846290457982144, 0.368996082543735, 0.44637608943929696, 0.970883306146788, 0.028924572920618192, 0.9998008911464783, 0.9993943185178703, 0.9997660876338283, 0.7274306457242732, 0.10354091229589263, 0.16897337665113374, 0.9999543677589504, 0.9998267109683617, 0.9996631005500581, 0.999535633043622, 0.18129775617469562, 0.010385674699920298, 0.02167445154765975, 0.7866019707504851, 0.9998324646697321, 0.14598945280339, 0.799638579442802, 0.05434643863483862, 0.9997867576005449, 0.9997583965867461, 0.9991794758992613, 0.4061815977569447, 0.17505978367080993, 0.17457228775415495, 0.2441867046524887, 0.9998081342615457, 0.18077958235429892, 0.006310580903538155, 0.8125800939908836, 0.9999471928077754, 0.9971990859005312, 0.9996944946087885, 0.7981611540398288, 0.17369984704014366, 0.028141150687423615, 0.9998456387029551, 0.9993944442471384, 0.9999116627507271, 0.558315805975076, 0.023727594047171643, 0.41793673793785585, 0.9999194374855396, 0.9998793541682776, 0.7008457795668973, 0.29894050481177087, 0.9997462172581134, 0.1363197325700208, 0.15595804282231532, 0.707668232600226, 0.9999439680164661, 0.9995503800659171, 0.9987491854247585, 0.0311684931149465, 0.9684818730209462, 0.29946543751504223, 0.18873933610735433, 0.5118429301026894, 0.5931488086461337, 0.32469393589378776, 0.0418436116654814, 0.04034473602373281, 0.9998738261812807, 0.9997888433223467, 0.9999233005253196, 0.0003782532248812048, 0.042364361186694934, 0.42503054035818044, 0.5322022874078551, 0.9997730346172699, 0.9687111064860665, 0.031212132897910756, 0.6789897711717108, 0.25581628097882303, 0.0069051192278264005, 0.05826449715313874, 0.8732884566807928, 0.12670881574636303, 0.9987711567149323, 0.4202157208805942, 0.15479956666743644, 0.3311264001761014, 0.09383457844906473, 0.2987589082754849, 0.16345071531506786, 0.42929978870587915, 0.10848382153572649, 0.008095289981179605, 0.9916730226945015, 0.5749156748578915, 0.2445786704024413, 0.17821340216065598, 0.0023026624982825394, 0.8170744941200743, 0.06956041801348037, 0.058217787455541806, 0.055150647559772704, 0.9997253787030574, 0.9964563764334777, 0.9985684194353937, 0.9994861598900188, 0.10906968352449056, 0.8460065019592827, 0.044841631866328426, 0.9998203542827307, 0.423478052435146, 0.5765525420939277, 0.9995759125692504, 0.784452649294566, 0.1395448820618627, 0.07594061320014112, 0.9998862503211847, 0.32487674433697994, 0.22810494815149657, 0.4337406401904867, 0.013282060272112458, 0.9993249192456762, 0.29384594598776703, 0.22266942019057462, 0.3202372420698721, 0.16326044199709142, 0.9996114244286242, 0.9998897488742645, 0.8596565211572964, 0.14034051375162093, 0.9999344375522896, 0.9992288563756093, 0.9985992650551365, 0.997904562000139, 0.1418090472650467, 0.18575644621196213, 0.6723835467528068, 0.007838914786441619, 0.3819021297519526, 0.6102921782694235, 0.258239635138767, 0.6144272747758882, 0.12733060764693332, 0.9993322751828078, 0.9996952524267766], \"Term\": [\"abolish\", \"aliv\", \"aliv\", \"aliv\", \"amazon\", \"american\", \"anim\", \"anim\", \"anim\", \"anti\", \"anti\", \"anxieti\", \"anxious\", \"appli\", \"appli\", \"applic\", \"art\", \"art\", \"art\", \"articl\", \"artist\", \"ask\", \"ask\", \"auto\", \"autom\", \"autom\", \"bathroom\", \"benefit\", \"benefit\", \"billionair\", \"bonus\", \"boomer\", \"boredom\", \"boss\", \"boss\", \"bread\", \"break\", \"break\", \"break\", \"break\", \"burger\", \"busi\", \"busi\", \"busi\", \"busi\", \"call\", \"call\", \"call\", \"capit\", \"capitalist\", \"chang\", \"chang\", \"chang\", \"childhood\", \"christma\", \"class\", \"class\", \"class\", \"clean\", \"clean\", \"clock\", \"come\", \"come\", \"come\", \"come\", \"comic\", \"comment\", \"comment\", \"comment\", \"comment\", \"compani\", \"compani\", \"compens\", \"contract\", \"contract\", \"coronavirus\", \"coronavirus\", \"corpor\", \"corpor\", \"corpor\", \"corpor\", \"cost\", \"cost\", \"cost\", \"cowork\", \"creat\", \"creat\", \"current\", \"current\", \"current\", \"day\", \"day\", \"degre\", \"degre\", \"delet\", \"depress\", \"depress\", \"desk\", \"desk\", \"didnt\", \"didnt\", \"die\", \"die\", \"die\", \"dont\", \"dont\", \"dont\", \"dont\", \"dream\", \"econom\", \"economi\", \"employ\", \"employ\", \"employ\", \"employe\", \"employe\", \"engin\", \"enjoy\", \"enjoy\", \"enjoy\", \"entri\", \"escap\", \"escap\", \"escap\", \"excel\", \"experi\", \"experi\", \"experi\", \"experi\", \"fat\", \"feel\", \"feel\", \"feel\", \"field\", \"fire\", \"fire\", \"floor\", \"format\", \"free\", \"free\", \"free\", \"free\", \"freelanc\", \"friday\", \"frugal\", \"fuck\", \"fuck\", \"fuck\", \"game\", \"game\", \"game\", \"get\", \"get\", \"get\", \"go\", \"go\", \"go\", \"go\", \"good\", \"good\", \"good\", \"good\", \"graduat\", \"grid\", \"guilt\", \"guilti\", \"happi\", \"happi\", \"happi\", \"hard\", \"hard\", \"hard\", \"hard\", \"hate\", \"hate\", \"hire\", \"hire\", \"hobbi\", \"home\", \"home\", \"home\", \"homeless\", \"homeless\", \"hour\", \"hour\", \"human\", \"human\", \"human\", \"hustl\", \"idea\", \"idea\", \"idea\", \"idea\", \"instagram\", \"internship\", \"interview\", \"ive\", \"ive\", \"ive\", \"jesus\", \"job\", \"job\", \"job\", \"job\", \"joy\", \"kid\", \"kid\", \"kid\", \"know\", \"know\", \"know\", \"know\", \"labor\", \"labor\", \"labor\", \"labour\", \"labour\", \"landlord\", \"late\", \"late\", \"late\", \"lazi\", \"lazi\", \"lazi\", \"leav\", \"leav\", \"leav\", \"leisur\", \"level\", \"level\", \"level\", \"life\", \"life\", \"life\", \"life\", \"like\", \"like\", \"like\", \"like\", \"live\", \"live\", \"live\", \"live\", \"loan\", \"loser\", \"lotteri\", \"love\", \"love\", \"love\", \"love\", \"lunch\", \"make\", \"make\", \"make\", \"make\", \"manag\", \"manag\", \"mask\", \"mean\", \"mean\", \"mean\", \"mean\", \"meirl\", \"minimum\", \"minimum\", \"minut\", \"miseri\", \"modern\", \"monday\", \"money\", \"money\", \"money\", \"money\", \"month\", \"month\", \"morn\", \"movement\", \"movi\", \"music\", \"need\", \"need\", \"need\", \"need\", \"neet\", \"netflix\", \"netflix\", \"new\", \"new\", \"new\", \"night\", \"offer\", \"offer\", \"offic\", \"offic\", \"org\", \"organ\", \"organ\", \"parent\", \"parent\", \"parent\", \"passion\", \"passion\", \"pay\", \"pay\", \"pay\", \"payment\", \"peopl\", \"peopl\", \"peopl\", \"peopl\", \"png\", \"poll\", \"posit\", \"posit\", \"power\", \"power\", \"power\", \"preview\", \"prison\", \"pro\", \"problem\", \"problem\", \"problem\", \"problem\", \"product\", \"product\", \"product\", \"program\", \"program\", \"project\", \"protest\", \"qualifi\", \"quit\", \"quit\", \"quit\", \"rais\", \"rate\", \"recruit\", \"redd\", \"reddit\", \"reddit\", \"reddit\", \"reddit\", \"remov\", \"requir\", \"requir\", \"requir\", \"resum\", \"review\", \"revolut\", \"right\", \"right\", \"right\", \"right\", \"role\", \"sad\", \"sad\", \"sad\", \"salari\", \"sane\", \"saturday\", \"say\", \"say\", \"say\", \"schedul\", \"shes\", \"shift\", \"shit\", \"shit\", \"shit\", \"sick\", \"skill\", \"slave\", \"slave\", \"slaveri\", \"social\", \"social\", \"social\", \"societi\", \"softwar\", \"song\", \"soul\", \"soul\", \"spend\", \"spend\", \"spend\", \"start\", \"start\", \"start\", \"start\", \"store\", \"strike\", \"student\", \"sub\", \"sub\", \"sub\", \"sub\", \"sunday\", \"supervisor\", \"supervisor\", \"take\", \"take\", \"take\", \"take\", \"tell\", \"tell\", \"theori\", \"thing\", \"thing\", \"thing\", \"thing\", \"think\", \"think\", \"think\", \"think\", \"thread\", \"thread\", \"time\", \"time\", \"time\", \"time\", \"today\", \"today\", \"today\", \"today\", \"tomorrow\", \"tree\", \"trump\", \"ubi\", \"unemploy\", \"unemploy\", \"unemploy\", \"union\", \"valu\", \"valu\", \"vote\", \"wage\", \"wage\", \"wage\", \"walk\", \"want\", \"want\", \"want\", \"want\", \"war\", \"way\", \"way\", \"way\", \"way\", \"wealth\", \"wear\", \"week\", \"week\", \"weekend\", \"width\", \"wiki\", \"workahol\", \"worker\", \"worker\", \"worker\", \"world\", \"world\", \"world\", \"year\", \"year\", \"year\", \"yell\", \"yesterday\"]}, \"R\": 30, \"lambda.step\": 0.01, \"plot.opts\": {\"xlab\": \"PC1\", \"ylab\": \"PC2\"}, \"topic.order\": [2, 1, 4, 3]};\n",
       "\n",
       "function LDAvis_load_lib(url, callback){\n",
       "  var s = document.createElement('script');\n",
       "  s.src = url;\n",
       "  s.async = true;\n",
       "  s.onreadystatechange = s.onload = callback;\n",
       "  s.onerror = function(){console.warn(\"failed to load library \" + url);};\n",
       "  document.getElementsByTagName(\"head\")[0].appendChild(s);\n",
       "}\n",
       "\n",
       "if(typeof(LDAvis) !== \"undefined\"){\n",
       "   // already loaded: just create the visualization\n",
       "   !function(LDAvis){\n",
       "       new LDAvis(\"#\" + \"ldavis_el5209139825033827024594845359\", ldavis_el5209139825033827024594845359_data);\n",
       "   }(LDAvis);\n",
       "}else if(typeof define === \"function\" && define.amd){\n",
       "   // require.js is available: use it to load d3/LDAvis\n",
       "   require.config({paths: {d3: \"https://d3js.org/d3.v5\"}});\n",
       "   require([\"d3\"], function(d3){\n",
       "      window.d3 = d3;\n",
       "      LDAvis_load_lib(\"https://cdn.jsdelivr.net/gh/bmabey/pyLDAvis@3.3.1/pyLDAvis/js/ldavis.v3.0.0.js\", function(){\n",
       "        new LDAvis(\"#\" + \"ldavis_el5209139825033827024594845359\", ldavis_el5209139825033827024594845359_data);\n",
       "      });\n",
       "    });\n",
       "}else{\n",
       "    // require.js not available: dynamically load d3 & LDAvis\n",
       "    LDAvis_load_lib(\"https://d3js.org/d3.v5.js\", function(){\n",
       "         LDAvis_load_lib(\"https://cdn.jsdelivr.net/gh/bmabey/pyLDAvis@3.3.1/pyLDAvis/js/ldavis.v3.0.0.js\", function(){\n",
       "                 new LDAvis(\"#\" + \"ldavis_el5209139825033827024594845359\", ldavis_el5209139825033827024594845359_data);\n",
       "            })\n",
       "         });\n",
       "}\n",
       "</script>"
      ],
      "text/plain": [
       "<IPython.core.display.HTML object>"
      ]
     },
     "execution_count": 34,
     "metadata": {},
     "output_type": "execute_result"
    }
   ],
   "source": [
    "pyLDAvis.enable_notebook()\n",
    "vis = pyLDAvis.gensim_models.prepare(topic_model=lda_model, corpus=corpus, dictionary=id2word)\n",
    "\n",
    "pyLDAvis.display(vis)"
   ]
  },
  {
   "cell_type": "markdown",
   "id": "fc65ac43-c7cb-4fb3-b092-405098680a27",
   "metadata": {
    "tags": []
   },
   "source": [
    "#### Four models seems to be clearer and more distinct differentiation and therefore a better representation of the overarching topics of the antiwork subreddit.\n",
    "\n",
    "Topic 1: \n",
    "- This topic did not change too much from the original topic 1, but it is larger with 39.9% of tokens belonging to this topic vs 34.3% when training the model with 5 topics. The topic is still centered around centered around __how much time in a day/week they are putting in__ with key terms being day, week, boss, hour, sick, the lemma \"home\", and the lemma \"manag\".\n",
    "- Potential recommendations for an employer would be to have clear and strict working hours, providing appropriate time off, and encouraging taking time off opposed to encouraging putting in too many hours.\n",
    "\n",
    "Topic 2: \n",
    "- This topic did not change too much from the original topic 2, and still seems to be centered around employees' __pay, offers they are receiving, and benefits__. Key terms still include the lemma \"compani\", the lemma \"employe\" which could mean employee, employer, or employed, the lemma \"rais\", offer, the lemma \"salari\", benefit, and interview. These terms all connect to financial benefits. The term interview, however, leads me to wonder if these are all concerns voiced by potential employees who did not like the employment process, or possibly even employees who feel like the company needs to interview more to increase employee counts.\n",
    "- Possible recommendations include delivering an offer that is what an employee asks, having a clear pay raise schedule/requirements, providing opportunities for raises and bonus', having efficient benefit plans, and possibly making the interview/employment process as streamlined as possible.\n",
    "\n",
    "Topic 3:\n",
    "- this topic seems largely concerned with __large scale issues with the \"system\"__. The terms union, american, the lemma \"slaveri\", society, the lemma \"capit\" and the word capitalism, union, labor, and strike. These terms lead me to believe employees have concerns with the overall structure of company culture, specifically capitalistic ideologies and have considerd labor unions.\n",
    "- Recommendations for addressing these topics could include doing something to ensure that your employees don't see themselves as \"just a number\" or \"part of the system\". Do things that make them feel appreciated, important, and valuable such as asking their opinions when possible, giving bonuses for the holidays or for returning next fiscal year. These are some ideas that could make employees feel as if their companies are sharing the wealth opposed to solely making money off of their work.\n",
    "\n",
    "Topic 4: \n",
    "- This topic also has a lot of deleted posts which is told by the lemma \"delet\" which is how posts deletd by the user will show when scraping the subreddit. This topic seems to concerned with __work-life balance and having emotional support__. Terms such as  the lemma \"depress\",life, live, hate, dream, and passion are all very emotionally charged.\n",
    "- Possible recommendations include providing spaces for employees to express themselves without fear of dismissal or gaslighting which could possibly include an in house mental awareness coach, or providing social opportunities so theres space to be more human and less of a worker-bee. These recommendations would likely pair best with coupling time off/less time on the job."
   ]
  },
  {
   "cell_type": "code",
   "execution_count": 44,
   "id": "ebe702b3-53f4-4078-899e-abe02d118258",
   "metadata": {},
   "outputs": [],
   "source": [
    "p = pyLDAvis.gensim_models.prepare(lda_model, corpus, id2word)\n",
    "pyLDAvis.save_html(p, './pyLDAvis/lda_all.html')"
   ]
  },
  {
   "cell_type": "markdown",
   "id": "87968995-686a-4cdb-b069-60b956c761a9",
   "metadata": {},
   "source": [
    "## i: LDA on the years 2019-2021\n",
    "\n",
    "I chose to break down into these years to see if the pandemic or any other events had any innfluence on the topics."
   ]
  },
  {
   "cell_type": "code",
   "execution_count": 35,
   "id": "dc8a2e42-a71b-4da3-a50f-9f7c0b25028b",
   "metadata": {},
   "outputs": [
    {
     "data": {
      "text/plain": [
       "(10481, 10)"
      ]
     },
     "execution_count": 35,
     "metadata": {},
     "output_type": "execute_result"
    }
   ],
   "source": [
    "df19 = df[df['year']==2019]\n",
    "df19.shape"
   ]
  },
  {
   "cell_type": "code",
   "execution_count": 36,
   "id": "cf09429a-629a-48a6-827e-7800ae14205f",
   "metadata": {},
   "outputs": [
    {
     "data": {
      "text/html": [
       "\n",
       "<link rel=\"stylesheet\" type=\"text/css\" href=\"https://cdn.jsdelivr.net/gh/bmabey/pyLDAvis@3.3.1/pyLDAvis/js/ldavis.v1.0.0.css\">\n",
       "\n",
       "\n",
       "<div id=\"ldavis_el52091398276886108964184634465\"></div>\n",
       "<script type=\"text/javascript\">\n",
       "\n",
       "var ldavis_el52091398276886108964184634465_data = {\"mdsDat\": {\"x\": [-0.16133364473226466, -0.059033686584785944, -0.055680849714237604, 0.2760481810312881], \"y\": [0.028685509496509245, 0.14732896801172884, -0.18663963817913432, 0.010625160670896276], \"topics\": [1, 2, 3, 4], \"cluster\": [1, 1, 1, 1], \"Freq\": [47.197825638079124, 29.654200726453894, 15.483350580371457, 7.664623055095526]}, \"tinfo\": {\"Term\": [\"delet\", \"day\", \"manag\", \"live\", \"hour\", \"compani\", \"life\", \"worker\", \"employe\", \"boss\", \"ask\", \"week\", \"wage\", \"tell\", \"labor\", \"peopl\", \"say\", \"feel\", \"money\", \"societi\", \"interview\", \"capit\", \"get\", \"custom\", \"offic\", \"fuck\", \"new\", \"hire\", \"union\", \"anti\", \"weekend\", \"night\", \"sleep\", \"wake\", \"monday\", \"sunday\", \"commut\", \"dread\", \"exhaust\", \"overtim\", \"morn\", \"bed\", \"everyday\", \"saturday\", \"guilti\", \"anxious\", \"summer\", \"anyway\", \"resign\", \"even\", \"grate\", \"blow\", \"girlfriend\", \"panic\", \"mood\", \"neet\", \"cold\", \"alarm\", \"weight\", \"asleep\", \"week\", \"day\", \"felt\", \"scar\", \"vacat\", \"hour\", \"home\", \"readi\", \"feel\", \"schedul\", \"shift\", \"quit\", \"tomorrow\", \"month\", \"stay\", \"mental\", \"time\", \"go\", \"fuck\", \"ill\", \"ive\", \"get\", \"shit\", \"hate\", \"leav\", \"like\", \"know\", \"start\", \"year\", \"want\", \"dont\", \"take\", \"come\", \"think\", \"thing\", \"pay\", \"tell\", \"school\", \"need\", \"tri\", \"make\", \"life\", \"peopl\", \"invest\", \"youtub\", \"prison\", \"alien\", \"van\", \"minim\", \"cat\", \"desir\", \"welfar\", \"scam\", \"shelter\", \"mortgag\", \"altern\", \"structur\", \"technolog\", \"frugal\", \"anim\", \"societi\", \"wood\", \"necess\", \"scienc\", \"artist\", \"generat\", \"scenario\", \"electr\", \"ideolog\", \"defend\", \"ident\", \"sex\", \"sum\", \"planet\", \"contribut\", \"art\", \"land\", \"retir\", \"homeless\", \"human\", \"live\", \"creativ\", \"sell\", \"valu\", \"cost\", \"grow\", \"surviv\", \"buy\", \"world\", \"money\", \"peopl\", \"life\", \"hous\", \"goal\", \"expens\", \"free\", \"rich\", \"game\", \"exist\", \"job\", \"love\", \"way\", \"think\", \"slave\", \"idea\", \"dont\", \"want\", \"like\", \"enjoy\", \"need\", \"mean\", \"thing\", \"hard\", \"time\", \"year\", \"good\", \"pay\", \"lot\", \"make\", \"know\", \"person\", \"better\", \"cashier\", \"locat\", \"director\", \"theft\", \"contractor\", \"accur\", \"nonprofit\", \"lmao\", \"loyal\", \"appl\", \"twitter\", \"sociopath\", \"merchandis\", \"dept\", \"giant\", \"shoemart\", \"announc\", \"devic\", \"understaf\", \"startup\", \"greet\", \"chew\", \"score\", \"hooli\", \"transact\", \"receptionist\", \"derek\", \"kool\", \"verifi\", \"hoop\", \"joe\", \"file\", \"applic\", \"email\", \"employe\", \"delet\", \"bonus\", \"interview\", \"owner\", \"depart\", \"transfer\", \"manag\", \"custom\", \"check\", \"hire\", \"workplac\", \"store\", \"ask\", \"staff\", \"compani\", \"team\", \"amazon\", \"contact\", \"inform\", \"report\", \"boss\", \"say\", \"question\", \"review\", \"tell\", \"new\", \"cowork\", \"offic\", \"talk\", \"supervisor\", \"servic\", \"employ\", \"call\", \"get\", \"pay\", \"person\", \"peopl\", \"fuck\", \"like\", \"posit\", \"come\", \"know\", \"time\", \"yang\", \"communism\", \"anarchist\", \"nation\", \"gov\", \"japanes\", \"png\", \"ona\", \"bls\", \"http\", \"andrew\", \"trump\", \"discord\", \"linkedin\", \"communist\", \"redd\", \"japan\", \"coloni\", \"nurs\", \"vote\", \"mod\", \"preview\", \"webp\", \"width\", \"leftist\", \"marx\", \"bloomberg\", \"ant\", \"feder\", \"reduct\", \"wikipedia\", \"strike\", \"economi\", \"american\", \"articl\", \"org\", \"thread\", \"union\", \"news\", \"labor\", \"worker\", \"wiki\", \"elimin\", \"labour\", \"wag\", \"wage\", \"ubi\", \"tax\", \"capit\", \"america\", \"delet\", \"increas\", \"slaveri\", \"capitalist\", \"anti\", \"power\", \"minimum\", \"product\", \"state\", \"think\", \"man\", \"hour\", \"class\"], \"Freq\": [1242.0, 3081.0, 989.0, 1699.0, 2463.0, 1139.0, 2195.0, 537.0, 648.0, 972.0, 784.0, 1700.0, 625.0, 1162.0, 381.0, 3021.0, 1057.0, 1989.0, 1350.0, 565.0, 363.0, 350.0, 1932.0, 351.0, 726.0, 1667.0, 819.0, 302.0, 202.0, 282.0, 299.6183900603339, 308.4308109166634, 342.5020515823546, 277.9313287007616, 187.08235464163226, 149.78273289011923, 133.72278682587145, 127.4740157118534, 126.7423196481965, 131.84800469325043, 314.62346286889965, 147.7384005163232, 144.44140189156244, 84.11746910182603, 81.08629315305656, 69.86864608763759, 87.34533900657802, 65.29000150509556, 61.00080894349728, 62.531860145244096, 54.61442788548349, 55.36707811316078, 47.63738136113408, 44.11517339637932, 43.51379442678872, 47.68427796444789, 51.75616745326538, 42.554060487884804, 41.00328621652741, 39.75261783157727, 1668.07052713448, 2988.7317666525405, 240.16254496336705, 91.31241933671326, 176.19639593305098, 2307.7761494033357, 741.7950931872247, 89.14173152214202, 1736.220233158316, 232.36471629441775, 364.18410336744273, 530.8494430568412, 150.91331206224174, 771.064026253116, 335.01174944500946, 408.0189024667099, 2770.4967085452517, 1447.3940682377272, 1331.0605708875414, 395.4026469548924, 939.8228909745964, 1432.2228956602078, 709.1529103203243, 701.5354263328077, 792.9078838861714, 2350.657561728649, 1273.4291991862408, 719.9755677730927, 1229.1446970604832, 1581.0538775557968, 1476.0531963660605, 578.8735073382412, 766.1701831630803, 1179.0065582679947, 880.8642887436131, 924.3245625123916, 737.2153879039628, 474.4611614811306, 863.653094752653, 639.4352415616582, 608.2024871404675, 838.1253937005656, 896.4853006625748, 105.1577701550492, 99.45281743134899, 73.74224100324982, 64.39646073439228, 65.29414455111598, 56.576562561810995, 53.132876341309576, 79.67592241365199, 47.17924473630552, 47.522043357798445, 43.800844952203825, 44.16212172549865, 101.66581698935725, 42.5327068444378, 76.50265313194788, 40.8243877928567, 93.57283614228999, 555.6819611460113, 41.83402983206378, 39.04138799537056, 39.59807443570022, 38.84483281139321, 111.79580531015041, 37.40570488842326, 35.21709306494843, 34.45394593081831, 46.487807498065926, 31.768913099244898, 32.291201914001256, 29.646500378705777, 86.04609395510349, 88.73275406308123, 86.80648167809402, 158.60267674689072, 209.1490400665672, 110.14091873576704, 423.3553982594395, 1399.5862625672285, 79.54282298011948, 218.94894821565924, 221.5191456501857, 176.52836820951646, 189.6199674689086, 195.99653570543634, 257.3685587145266, 463.4227117638263, 928.492484187223, 1812.6012613844875, 1356.7571184201727, 240.00911661754748, 152.14428434221585, 134.90410447644948, 424.0737123227652, 167.94959182692497, 240.81853674798452, 194.465011670574, 623.8898083336907, 325.5391712486909, 546.7389639045251, 821.3514923259177, 241.15790952441571, 262.4558315735905, 790.0736125581234, 830.9360647013461, 1016.4429197660355, 295.589855607381, 571.4222632206735, 324.0264893616682, 539.6794534549343, 319.20527619471375, 678.6049219225425, 499.35066232620824, 347.5182583538029, 396.18609165115754, 290.3606885281651, 324.0259326618457, 356.67245894334695, 283.11905159047825, 266.7931655371022, 70.24037939815743, 51.24261948667461, 43.28992921098678, 38.213578018537326, 35.7678912944974, 33.76914561414443, 32.38112498566473, 27.465843952287262, 26.48060492773505, 25.71692890492278, 23.664417709212046, 22.391057904538144, 21.117123747657242, 19.311252805157444, 28.1114549615705, 19.537705486635307, 19.841877384639186, 20.839687875016587, 23.18037854377528, 29.848936067918782, 19.861607990017784, 17.316561129068464, 21.357362279553683, 16.59079514681931, 16.091342100985493, 15.369148002534606, 14.96733622934107, 14.921913494216344, 14.437575274345761, 14.625321368404087, 15.556998905389829, 48.9008947044532, 122.60152954492655, 225.62338955839067, 557.0008786948056, 977.4220435016465, 49.36589360512027, 297.01596699710734, 83.5453391075563, 104.25331586368782, 62.43560647625627, 691.091341732937, 267.6721646118142, 154.87498095991197, 230.97012508762552, 185.42254731383784, 195.22175058856106, 503.0862944839413, 103.75514148517614, 660.0580550804722, 111.61560001959424, 76.81274620340972, 66.51790632051038, 72.51584266152966, 86.84760437197839, 448.38435305196845, 468.3089581161747, 198.4761559639679, 73.7489866321087, 402.4435997498516, 304.6569587057234, 172.05194096386492, 256.0301040688914, 239.23560953167535, 107.68866314605839, 127.59549263831086, 215.89044780251666, 175.9726060789944, 332.09799231960915, 269.8271229128656, 192.36223122104877, 286.91161640384377, 236.23650161610317, 256.8167457952798, 145.57875929385145, 164.70207734911617, 171.95074317938324, 176.02718491061609, 64.86675961029437, 46.316290446980744, 43.6546795451825, 49.972078599104016, 42.60839810621825, 40.85417487021666, 38.71604088858666, 38.39651188257954, 38.22503846432229, 36.57660084338588, 36.15260058713586, 35.03783382322096, 33.84486096883818, 35.38853402864502, 32.76957219001705, 30.49424619177884, 46.15301036396305, 30.011331953568234, 33.97669037697146, 30.18717459720314, 29.571813891163732, 28.333853787768916, 28.333853787768916, 28.333853787768916, 29.378494346018186, 27.02797837869375, 25.362968692661205, 25.679038843872846, 26.37711598703346, 24.22463190862794, 53.20428155755272, 131.16731138125255, 101.06990651786957, 148.86611087889906, 110.12506662076677, 76.59531562504901, 82.31585746254505, 159.30901886742254, 107.07417959778137, 269.80499647395436, 322.8466288436041, 42.522350100158036, 47.68159174852622, 93.50592789440287, 92.10965739056053, 241.3238895527481, 63.721148162855236, 89.88750090823855, 147.98413057688813, 72.36601060866022, 264.8614573118843, 81.08757661840994, 96.35406515052833, 87.10613891925286, 101.8634840254755, 73.74372504829574, 81.67675517718942, 80.45085955932127, 73.50535737829377, 121.16966038701023, 66.59409509265775, 100.5023554863553, 64.406538226626], \"Total\": [1242.0, 3081.0, 989.0, 1699.0, 2463.0, 1139.0, 2195.0, 537.0, 648.0, 972.0, 784.0, 1700.0, 625.0, 1162.0, 381.0, 3021.0, 1057.0, 1989.0, 1350.0, 565.0, 363.0, 350.0, 1932.0, 351.0, 726.0, 1667.0, 819.0, 302.0, 202.0, 282.0, 300.30597453060153, 309.17761474551264, 343.34000350721664, 278.6250078062026, 187.77766152521536, 150.47815531492688, 134.40025996659136, 128.15489085186647, 127.42659441527314, 132.64498283337792, 316.8077759420701, 148.8103837249446, 145.5173014663202, 84.79952071655605, 81.7826350532539, 70.57815757117228, 88.25979043533285, 66.023834616448, 61.696414952761245, 63.2450522003911, 55.3383475987809, 56.118764847844005, 48.324481108040494, 44.79410073934659, 44.198821126654124, 48.443434612578464, 52.59264090342786, 43.25220727924552, 41.70481194104795, 40.440829461105054, 1700.8116311057224, 3081.002164342758, 246.8689109283641, 93.00960603398592, 180.76897023366027, 2463.469477221844, 785.6947307153041, 91.587197876984, 1989.989431655902, 246.43807068813365, 394.0852022684994, 584.3386832247442, 158.17169264626347, 901.1779157709375, 372.2946214614259, 463.03693515337676, 3634.315916956336, 1815.7930299781322, 1667.9143339769498, 452.9382663333178, 1194.7880473174491, 1932.2015112062593, 890.5845264254893, 880.4995567146337, 1023.5663042105659, 3626.168305159602, 1803.664466304649, 937.7362030774779, 1839.0188035219383, 2509.0064754928585, 2316.9848733765402, 755.2855993216469, 1104.1656480418712, 2184.9586712293567, 1520.7883232178808, 1641.4745489330937, 1162.8368161646247, 598.5489207937516, 1573.8595637251838, 987.1217203283311, 1002.2122618205166, 2195.4136797929286, 3021.8803101800345, 105.87037906178156, 100.16243987740688, 74.4865577414645, 65.0998641995484, 66.17686139064851, 57.3543090613286, 53.87626011603487, 80.80227416626884, 47.88000175382697, 48.24598490315711, 44.482485194274, 44.85002501343211, 103.25645294890141, 43.244912843225784, 77.79040023123737, 41.51755743393065, 95.16489360191567, 565.3145986431681, 42.57735387908819, 39.75171129555045, 40.319631641317415, 39.559300808724245, 113.89640027381299, 38.10924071566452, 35.9456848539694, 35.18357011006121, 47.5095830407555, 32.47661803519112, 33.01153156898823, 30.32578804161801, 88.27985878475216, 91.58942008160483, 89.83040998557419, 166.8916629188995, 222.926306938342, 115.9950634621992, 467.1744441530762, 1699.531935155644, 83.9773831427335, 247.78810066960452, 253.2992511123802, 202.12425196763115, 218.889825333144, 227.26417336237225, 310.4239898973263, 617.6375522066709, 1350.247877979836, 3021.8803101800345, 2195.4136797929286, 315.76410778049774, 182.98036185432176, 159.41778211678158, 667.9985472913199, 212.87644660681647, 338.5513774976547, 262.3830187190956, 1251.135744918226, 544.1477424709219, 1180.408557361429, 2184.9586712293567, 374.0500407558032, 425.6606137723289, 2316.9848733765402, 2509.0064754928585, 3626.168305159602, 523.6076265993235, 1573.8595637251838, 630.0332988584513, 1520.7883232178808, 625.4218560107392, 3634.315916956336, 1839.0188035219383, 1061.3199105862989, 1641.4745489330937, 676.1359576330799, 1002.2122618205166, 1803.664466304649, 742.1779458222504, 623.1096274173931, 70.94855311369805, 51.959005234092885, 44.05878733258682, 38.92997917211698, 36.47314081420049, 34.53755242753735, 33.1202644988829, 28.163982223202623, 27.184297207948813, 26.43605202788949, 24.396614801591134, 23.12835755490804, 21.84662302266765, 19.991498349048545, 29.10439710161674, 20.231132906634215, 20.55051923103664, 21.587362266315424, 24.023447787684017, 31.015546266520722, 20.646986238236877, 18.014251701981202, 22.228673442736273, 17.285997455055636, 16.78469876920385, 16.060874372762882, 15.651845595821243, 15.61051476718999, 15.116782497320294, 15.320419974658703, 16.29861679784262, 51.98906829625566, 133.47101615236522, 251.53606741430605, 648.0468453943814, 1242.7433742262842, 54.29763709345561, 363.7730713013638, 96.1503519905244, 122.42840862709153, 71.01783519923683, 989.049227363407, 351.29615506825166, 194.5721293810677, 302.9270344588568, 241.22474354182728, 262.36334169623507, 784.0515730363834, 131.88133542638403, 1139.8494928602986, 147.70952957058333, 95.4004589183637, 80.81483190425277, 91.26710754627578, 115.19120795840381, 972.1399336373032, 1057.9253383935338, 357.89726455214264, 94.39044191166165, 1162.8368161646247, 819.4898981611357, 353.0919065514795, 726.659309556681, 653.8332567130619, 180.72917792107066, 242.6904399702296, 635.9479220148622, 488.26241452320653, 1932.2015112062593, 1641.4745489330937, 742.1779458222504, 3021.8803101800345, 1667.9143339769498, 3626.168305159602, 429.68490753717697, 1104.1656480418712, 1803.664466304649, 3634.315916956336, 65.57784571249432, 47.01474366322712, 44.36050999421739, 50.79308046812588, 43.308581669374526, 41.56661017934838, 39.396333256110985, 39.105433725747496, 38.935222191654574, 37.2765504010412, 36.857324202693874, 35.737528601451444, 34.53789779606231, 36.129040480948646, 33.457138642840135, 31.175075267114554, 47.189614443908994, 30.705483728583403, 34.7675971262896, 30.899784398908714, 30.274904584684194, 29.013279125152096, 29.013279125152096, 29.013279125152096, 30.091331611289995, 27.71756135956409, 26.040431778816174, 26.37650680460917, 27.124257116021273, 24.925153230059347, 54.96326948602552, 137.36377611296078, 106.70147427849723, 167.51181851828352, 129.26699963351558, 87.15272189353564, 94.79891780216946, 202.0062532155519, 130.36590150271428, 381.3489735896295, 537.8869738459089, 47.7862850882953, 55.370884733181754, 136.0227914628216, 135.5863410649646, 625.1795932064031, 89.21772633036262, 154.55973665149645, 350.32005721595436, 115.64984575360309, 1242.7433742262842, 155.49973291436743, 217.97098152280068, 200.63937597614546, 282.10450397243847, 195.49774341568644, 332.59204178115056, 346.2716791512252, 272.68760637408286, 2184.9586712293567, 230.93937154886765, 2463.469477221844, 239.35991439219887], \"Category\": [\"Default\", \"Default\", \"Default\", \"Default\", \"Default\", \"Default\", \"Default\", \"Default\", \"Default\", \"Default\", \"Default\", \"Default\", \"Default\", \"Default\", \"Default\", \"Default\", \"Default\", \"Default\", \"Default\", \"Default\", \"Default\", \"Default\", \"Default\", \"Default\", \"Default\", \"Default\", \"Default\", \"Default\", \"Default\", \"Default\", \"Topic1\", \"Topic1\", \"Topic1\", \"Topic1\", \"Topic1\", \"Topic1\", \"Topic1\", \"Topic1\", \"Topic1\", \"Topic1\", \"Topic1\", \"Topic1\", \"Topic1\", \"Topic1\", \"Topic1\", \"Topic1\", \"Topic1\", \"Topic1\", \"Topic1\", \"Topic1\", \"Topic1\", \"Topic1\", \"Topic1\", \"Topic1\", \"Topic1\", \"Topic1\", \"Topic1\", \"Topic1\", \"Topic1\", \"Topic1\", \"Topic1\", \"Topic1\", \"Topic1\", \"Topic1\", \"Topic1\", \"Topic1\", \"Topic1\", \"Topic1\", \"Topic1\", \"Topic1\", \"Topic1\", \"Topic1\", \"Topic1\", \"Topic1\", \"Topic1\", \"Topic1\", \"Topic1\", \"Topic1\", \"Topic1\", \"Topic1\", \"Topic1\", \"Topic1\", \"Topic1\", \"Topic1\", \"Topic1\", \"Topic1\", \"Topic1\", \"Topic1\", \"Topic1\", \"Topic1\", \"Topic1\", \"Topic1\", \"Topic1\", \"Topic1\", \"Topic1\", \"Topic1\", \"Topic1\", \"Topic1\", \"Topic1\", \"Topic1\", \"Topic1\", \"Topic1\", \"Topic1\", \"Topic2\", \"Topic2\", \"Topic2\", \"Topic2\", \"Topic2\", \"Topic2\", \"Topic2\", \"Topic2\", \"Topic2\", \"Topic2\", \"Topic2\", \"Topic2\", \"Topic2\", \"Topic2\", \"Topic2\", \"Topic2\", \"Topic2\", \"Topic2\", \"Topic2\", \"Topic2\", \"Topic2\", \"Topic2\", \"Topic2\", \"Topic2\", \"Topic2\", \"Topic2\", \"Topic2\", \"Topic2\", \"Topic2\", \"Topic2\", \"Topic2\", \"Topic2\", \"Topic2\", \"Topic2\", \"Topic2\", \"Topic2\", \"Topic2\", \"Topic2\", \"Topic2\", \"Topic2\", \"Topic2\", \"Topic2\", \"Topic2\", \"Topic2\", \"Topic2\", \"Topic2\", \"Topic2\", \"Topic2\", \"Topic2\", \"Topic2\", \"Topic2\", \"Topic2\", \"Topic2\", \"Topic2\", \"Topic2\", \"Topic2\", \"Topic2\", \"Topic2\", \"Topic2\", \"Topic2\", \"Topic2\", \"Topic2\", \"Topic2\", \"Topic2\", \"Topic2\", \"Topic2\", \"Topic2\", \"Topic2\", \"Topic2\", \"Topic2\", \"Topic2\", \"Topic2\", \"Topic2\", \"Topic2\", \"Topic2\", \"Topic2\", \"Topic2\", \"Topic2\", \"Topic2\", \"Topic3\", \"Topic3\", \"Topic3\", \"Topic3\", \"Topic3\", \"Topic3\", \"Topic3\", \"Topic3\", \"Topic3\", \"Topic3\", \"Topic3\", \"Topic3\", \"Topic3\", \"Topic3\", \"Topic3\", \"Topic3\", \"Topic3\", \"Topic3\", \"Topic3\", \"Topic3\", \"Topic3\", \"Topic3\", \"Topic3\", \"Topic3\", \"Topic3\", \"Topic3\", \"Topic3\", \"Topic3\", \"Topic3\", \"Topic3\", \"Topic3\", \"Topic3\", \"Topic3\", \"Topic3\", \"Topic3\", \"Topic3\", \"Topic3\", \"Topic3\", \"Topic3\", \"Topic3\", \"Topic3\", \"Topic3\", \"Topic3\", \"Topic3\", \"Topic3\", \"Topic3\", \"Topic3\", \"Topic3\", \"Topic3\", \"Topic3\", \"Topic3\", \"Topic3\", \"Topic3\", \"Topic3\", \"Topic3\", \"Topic3\", \"Topic3\", \"Topic3\", \"Topic3\", \"Topic3\", \"Topic3\", \"Topic3\", \"Topic3\", \"Topic3\", \"Topic3\", \"Topic3\", \"Topic3\", \"Topic3\", \"Topic3\", \"Topic3\", \"Topic3\", \"Topic3\", \"Topic3\", \"Topic3\", \"Topic3\", \"Topic3\", \"Topic3\", \"Topic3\", \"Topic4\", \"Topic4\", \"Topic4\", \"Topic4\", \"Topic4\", \"Topic4\", \"Topic4\", \"Topic4\", \"Topic4\", \"Topic4\", \"Topic4\", \"Topic4\", \"Topic4\", \"Topic4\", \"Topic4\", \"Topic4\", \"Topic4\", \"Topic4\", \"Topic4\", \"Topic4\", \"Topic4\", \"Topic4\", \"Topic4\", \"Topic4\", \"Topic4\", \"Topic4\", \"Topic4\", \"Topic4\", \"Topic4\", \"Topic4\", \"Topic4\", \"Topic4\", \"Topic4\", \"Topic4\", \"Topic4\", \"Topic4\", \"Topic4\", \"Topic4\", \"Topic4\", \"Topic4\", \"Topic4\", \"Topic4\", \"Topic4\", \"Topic4\", \"Topic4\", \"Topic4\", \"Topic4\", \"Topic4\", \"Topic4\", \"Topic4\", \"Topic4\", \"Topic4\", \"Topic4\", \"Topic4\", \"Topic4\", \"Topic4\", \"Topic4\", \"Topic4\", \"Topic4\", \"Topic4\", \"Topic4\", \"Topic4\", \"Topic4\"], \"logprob\": [30.0, 29.0, 28.0, 27.0, 26.0, 25.0, 24.0, 23.0, 22.0, 21.0, 20.0, 19.0, 18.0, 17.0, 16.0, 15.0, 14.0, 13.0, 12.0, 11.0, 10.0, 9.0, 8.0, 7.0, 6.0, 5.0, 4.0, 3.0, 2.0, 1.0, -6.1914, -6.1624, -6.0576, -6.2665, -6.6623, -6.8847, -6.9981, -7.046, -7.0517, -7.0122, -6.1425, -6.8984, -6.921, -7.4617, -7.4984, -7.6473, -7.424, -7.715, -7.783, -7.7582, -7.8936, -7.8799, -8.0303, -8.1071, -8.1208, -8.0293, -7.9473, -8.1431, -8.1802, -8.2112, -4.4745, -3.8913, -6.4126, -7.3796, -6.7223, -4.1498, -5.2848, -7.4036, -4.4344, -6.4456, -5.9962, -5.6194, -6.8772, -5.2461, -6.0797, -5.8826, -3.9671, -4.6164, -4.7001, -5.914, -5.0482, -4.6269, -5.3298, -5.3406, -5.2182, -4.1314, -4.7444, -5.3147, -4.7798, -4.528, -4.5967, -5.5328, -5.2525, -4.8214, -5.113, -5.0648, -5.291, -5.7317, -5.1327, -5.4333, -5.4834, -5.1627, -5.0954, -6.7737, -6.8294, -7.1286, -7.2641, -7.2502, -7.3935, -7.4563, -7.0512, -7.5752, -7.5679, -7.6495, -7.6413, -6.8074, -7.6789, -7.0918, -7.7198, -6.8904, -5.1089, -7.6954, -7.7645, -7.7503, -7.7696, -6.7125, -7.8073, -7.8676, -7.8895, -7.5899, -7.9706, -7.9543, -8.0398, -6.9742, -6.9435, -6.9654, -6.3627, -6.0861, -6.7274, -5.3809, -4.1852, -7.0528, -6.0403, -6.0286, -6.2556, -6.1841, -6.151, -5.8786, -5.2905, -4.5956, -3.9266, -4.2163, -5.9485, -6.4043, -6.5246, -5.3792, -6.3055, -5.9451, -6.1589, -4.9932, -5.6436, -5.1252, -4.7182, -5.9437, -5.859, -4.757, -4.7066, -4.5051, -5.7402, -5.081, -5.6483, -5.1382, -5.6633, -4.9091, -5.2158, -5.5783, -5.4472, -5.758, -5.6483, -5.5523, -5.7833, -5.8427, -6.5274, -6.8427, -7.0114, -7.1361, -7.2022, -7.2597, -7.3017, -7.4663, -7.5029, -7.5321, -7.6153, -7.6706, -7.7292, -7.8186, -7.4431, -7.8069, -7.7915, -7.7424, -7.636, -7.3831, -7.7905, -7.9276, -7.7179, -7.9704, -8.001, -8.0469, -8.0734, -8.0765, -8.1095, -8.0965, -8.0348, -6.8895, -5.9704, -5.3604, -4.4567, -3.8944, -6.88, -5.0855, -6.3539, -6.1325, -6.6452, -4.241, -5.1895, -5.7367, -5.337, -5.5567, -5.5052, -4.5585, -6.1373, -4.287, -6.0642, -6.4379, -6.5818, -6.4955, -6.3151, -4.6736, -4.6302, -5.4886, -6.4786, -4.7817, -5.0601, -5.6315, -5.234, -5.3018, -6.1, -5.9304, -5.4045, -5.609, -4.9739, -5.1815, -5.5199, -5.1201, -5.3145, -5.2309, -5.7986, -5.6752, -5.6321, -5.6087, -5.9038, -6.2406, -6.2998, -6.1647, -6.3241, -6.3661, -6.4199, -6.4282, -6.4326, -6.4767, -6.4884, -6.5197, -6.5544, -6.5098, -6.5866, -6.6586, -6.2442, -6.6746, -6.5505, -6.6687, -6.6893, -6.7321, -6.7321, -6.7321, -6.6959, -6.7793, -6.8429, -6.8305, -6.8036, -6.8888, -6.102, -5.1997, -5.4603, -5.0731, -5.3745, -5.7376, -5.6656, -5.0053, -5.4026, -4.4784, -4.299, -6.3261, -6.2116, -5.5381, -5.5532, -4.59, -5.9216, -5.5776, -5.079, -5.7944, -4.4969, -5.6806, -5.5081, -5.609, -5.4525, -5.7755, -5.6734, -5.6885, -5.7788, -5.2789, -5.8775, -5.466, -5.9109], \"loglift\": [30.0, 29.0, 28.0, 27.0, 26.0, 25.0, 24.0, 23.0, 22.0, 21.0, 20.0, 19.0, 18.0, 17.0, 16.0, 15.0, 14.0, 13.0, 12.0, 11.0, 10.0, 9.0, 8.0, 7.0, 6.0, 5.0, 4.0, 3.0, 2.0, 1.0, 0.7485, 0.7484, 0.7484, 0.7483, 0.7471, 0.7462, 0.7458, 0.7455, 0.7454, 0.7448, 0.7439, 0.7436, 0.7434, 0.7427, 0.7423, 0.7407, 0.7404, 0.7396, 0.7395, 0.7395, 0.7377, 0.7373, 0.7365, 0.7355, 0.7352, 0.735, 0.7348, 0.7345, 0.7339, 0.7337, 0.7314, 0.7204, 0.7233, 0.7324, 0.7252, 0.6855, 0.6933, 0.7238, 0.6144, 0.692, 0.6719, 0.6548, 0.7038, 0.5949, 0.6453, 0.6243, 0.4794, 0.5241, 0.5252, 0.615, 0.5108, 0.4514, 0.523, 0.5236, 0.4955, 0.3173, 0.4027, 0.4866, 0.3479, 0.289, 0.2999, 0.4848, 0.3854, 0.1339, 0.2047, 0.1765, 0.2951, 0.5185, 0.1507, 0.3166, 0.2514, -0.2121, -0.4643, 1.2088, 1.2085, 1.2055, 1.2047, 1.2021, 1.2019, 1.2017, 1.2015, 1.2008, 1.2004, 1.2001, 1.2001, 1.2, 1.199, 1.1989, 1.1987, 1.1987, 1.1984, 1.198, 1.1975, 1.1975, 1.1973, 1.197, 1.1969, 1.1951, 1.1946, 1.1938, 1.1935, 1.1935, 1.1929, 1.1899, 1.1839, 1.1813, 1.1646, 1.1518, 1.1638, 1.1171, 1.0214, 1.1613, 1.0918, 1.0815, 1.0802, 1.072, 1.0676, 1.0281, 0.9283, 0.8411, 0.7045, 0.7343, 0.9412, 1.031, 1.0486, 0.7612, 0.9785, 0.8749, 0.916, 0.5197, 0.7018, 0.4459, 0.2372, 0.7766, 0.732, 0.1397, 0.1105, -0.0563, 0.6438, 0.2024, 0.5506, 0.1796, 0.543, -0.4626, -0.0881, 0.0991, -0.2059, 0.3703, 0.0864, -0.4052, 0.2518, 0.3673, 1.8554, 1.8515, 1.8478, 1.8468, 1.8459, 1.8429, 1.8428, 1.8403, 1.8392, 1.8378, 1.8349, 1.833, 1.8314, 1.8308, 1.8307, 1.8305, 1.8303, 1.8302, 1.8297, 1.8271, 1.8266, 1.8259, 1.8254, 1.8244, 1.8232, 1.8214, 1.8207, 1.8203, 1.8194, 1.819, 1.8188, 1.8042, 1.7805, 1.7567, 1.714, 1.6252, 1.7702, 1.6627, 1.7249, 1.7047, 1.7366, 1.5069, 1.5935, 1.6372, 1.5942, 1.6023, 1.5698, 1.4217, 1.6255, 1.3191, 1.5852, 1.6487, 1.6707, 1.6354, 1.583, 1.0916, 1.0505, 1.2758, 1.6186, 0.8043, 0.8759, 1.1465, 0.8222, 0.86, 1.3476, 1.2225, 0.7851, 0.8449, 0.1044, 0.0598, 0.5152, -0.4891, -0.0891, -0.7822, 0.7831, -0.0373, -0.485, -1.1621, 2.5577, 2.5536, 2.5525, 2.5523, 2.5523, 2.5513, 2.5511, 2.5503, 2.5501, 2.5496, 2.5492, 2.5488, 2.5483, 2.5478, 2.5478, 2.5465, 2.5463, 2.5457, 2.5455, 2.5452, 2.5451, 2.5449, 2.5449, 2.5449, 2.5446, 2.5434, 2.5422, 2.5418, 2.5406, 2.54, 2.536, 2.5224, 2.5143, 2.4505, 2.4083, 2.4394, 2.4274, 2.3311, 2.3717, 2.2225, 2.0581, 2.4518, 2.419, 2.1938, 2.1819, 1.6167, 2.232, 2.0265, 1.7068, 2.0997, 1.0227, 1.9174, 1.7522, 1.7342, 1.5499, 1.5936, 1.1644, 1.109, 1.2576, -0.3236, 1.325, -0.6306, 1.2558]}, \"token.table\": {\"Topic\": [3, 1, 2, 1, 2, 3, 4, 1, 2, 4, 1, 2, 4, 4, 4, 2, 3, 3, 4, 1, 2, 3, 4, 1, 1, 3, 1, 2, 3, 4, 1, 2, 2, 4, 2, 1, 2, 3, 1, 1, 2, 1, 2, 3, 4, 4, 1, 4, 1, 3, 1, 3, 1, 2, 3, 1, 2, 3, 4, 1, 2, 3, 4, 2, 4, 3, 2, 1, 2, 3, 3, 1, 2, 4, 1, 4, 1, 2, 3, 4, 4, 4, 1, 1, 2, 3, 4, 1, 2, 3, 3, 1, 2, 4, 1, 2, 3, 1, 3, 1, 2, 1, 3, 1, 2, 3, 4, 2, 3, 4, 1, 3, 3, 3, 1, 2, 3, 3, 4, 1, 2, 3, 4, 1, 2, 4, 2, 2, 3, 4, 1, 3, 1, 2, 3, 4, 1, 2, 3, 4, 1, 2, 1, 1, 2, 1, 1, 2, 4, 1, 2, 4, 1, 2, 3, 1, 2, 3, 1, 3, 1, 2, 3, 4, 2, 1, 2, 3, 1, 2, 4, 1, 2, 1, 2, 3, 4, 3, 1, 1, 2, 3, 4, 1, 2, 1, 2, 3, 4, 4, 1, 3, 1, 2, 3, 4, 1, 1, 2, 3, 1, 2, 3, 1, 2, 3, 1, 2, 1, 2, 3, 3, 3, 1, 2, 3, 4, 1, 2, 4, 4, 1, 2, 3, 4, 1, 2, 3, 4, 2, 2, 1, 2, 1, 2, 3, 4, 1, 2, 3, 1, 3, 2, 1, 2, 3, 3, 4, 4, 1, 2, 3, 4, 3, 1, 2, 3, 4, 3, 1, 2, 3, 4, 2, 4, 1, 2, 1, 2, 3, 4, 4, 1, 2, 1, 2, 3, 4, 4, 1, 2, 4, 3, 3, 1, 2, 3, 4, 1, 2, 3, 4, 3, 1, 2, 3, 4, 1, 2, 3, 4, 1, 3, 4, 1, 2, 3, 4, 1, 2, 3, 2, 1, 2, 3, 4, 4, 1, 1, 2, 3, 1, 2, 3, 1, 1, 3, 2, 4, 2, 1, 2, 3, 4, 1, 1, 2, 3, 4, 1, 3, 4, 1, 3, 4, 1, 2, 3, 4, 2, 3, 4, 1, 2, 3, 1, 1, 2, 3, 4, 1, 2, 3, 4, 1, 2, 3, 1, 2, 4, 1, 2, 3, 1, 2, 3, 4, 4, 2, 1, 2, 3, 4, 1, 2, 3, 4, 1, 2, 3, 1, 2, 3, 4, 4, 1, 2, 3, 4, 1, 1, 2, 3, 4, 1, 3, 4, 1, 2, 3, 4, 1, 1, 2, 3, 4, 2, 1, 2, 2, 1, 3, 1, 2, 4, 2, 3, 1, 2, 3, 4, 1, 2, 3, 4, 2, 2, 1, 3, 1, 2, 3, 3, 1, 2, 3, 4, 2, 4, 1, 1, 2, 4, 3, 1, 3, 1, 2, 3, 1, 3, 1, 2, 3, 4, 1, 2, 3, 1, 2, 3, 4, 1, 3, 4, 2, 2, 1, 1, 1, 3, 1, 2, 1, 2, 3, 4, 1, 2, 3, 4, 1, 2, 3, 4, 1, 3, 2, 3, 1, 2, 3, 3, 1, 2, 3, 4, 1, 2, 3, 4, 1, 3, 4, 1, 2, 3, 4, 1, 2, 3, 2, 3, 1, 2, 3, 4, 3, 2, 4, 3, 2, 3, 4, 1, 4, 1, 2, 3, 4, 2, 3, 4, 1, 2, 3, 4, 1, 2, 3, 4, 1, 1, 2, 3, 4, 1, 2, 3, 4, 4, 1, 2, 3, 4, 1, 1, 2, 4, 3, 4, 3, 4, 2, 1, 2, 3, 4, 1, 2, 3, 4, 1, 2, 4, 4, 1, 2, 3, 4, 2], \"Freq\": [0.9844357115732164, 0.9941689154124039, 0.9831049693717174, 0.009684624751683758, 0.9878317246717433, 0.8071239999578055, 0.188678337652474, 0.20752297457562563, 0.1729358121463547, 0.6225689237268769, 0.07760646451689664, 0.0298486401988064, 0.8894894779244308, 0.9918731774214412, 0.9767393802659388, 0.987759208697395, 0.01050807668827016, 0.9732114198747246, 0.985725675981348, 0.007089571317852477, 0.6274270616299442, 0.007089571317852477, 0.36156813721047637, 0.9918082648928706, 0.9844929543641966, 0.9835054028706909, 0.06743036997430181, 0.007492263330477979, 0.9215483896487914, 0.007492263330477979, 0.033396263030323114, 0.9684916278793704, 0.14698260231820057, 0.8509519081580034, 0.9858617114739071, 0.3214074286262622, 0.0369873628181016, 0.6415394309484519, 0.9890993961553377, 0.9945542528373392, 0.0067199611678198596, 0.5376261018281436, 0.428496027427207, 0.02407281052961837, 0.009629124211847348, 0.9600455250645051, 0.9800643358620359, 0.9759800473963898, 0.07366803076744037, 0.9024333769011447, 0.5379883923121779, 0.4608390052693225, 0.10308481638479068, 0.8278999315903502, 0.06764941075251889, 0.5468370942717931, 0.02457694805715924, 0.3604619048383355, 0.06758660715718791, 0.04281798798278132, 0.528088518454303, 0.008563597596556265, 0.4224708147634424, 0.5631995187895464, 0.4336137888025711, 0.9866304093308575, 0.9837356914873518, 0.1747423955740923, 0.025697411113837103, 0.7966197445289502, 0.9436972615482188, 0.2799132017160499, 0.4470255609495125, 0.2673797747735402, 0.9887314861309953, 0.977024177999623, 0.6937364890480204, 0.13584918192846354, 0.1494341001213099, 0.02083020789569774, 0.9784164799345527, 0.9863365888003706, 0.997021881009078, 0.36934700821207306, 0.03596966113229215, 0.5790238133490931, 0.01579155854588436, 0.03712189865783943, 0.14848759463135772, 0.8290557366917473, 0.9870276920594598, 0.010918291644482677, 0.9717279563589584, 0.021836583288965355, 0.11873884388620243, 0.8756989736607429, 0.0049474518285917675, 0.512614411833342, 0.48712529743278904, 0.04763187241976016, 0.9526374483952033, 0.23626788623369455, 0.7628890784413269, 0.9701388835725197, 0.026290147062353327, 0.002271988017734238, 0.0016228485840958844, 0.9682257148108304, 0.7861639178790774, 0.2132379101719094, 0.14702469959261463, 0.8494760420906623, 0.9504040001536086, 0.9583534355849208, 0.012375889296658596, 0.9900711437326877, 0.9727913832607546, 0.9759687590901143, 0.9844258675140432, 0.6370348019791024, 0.34096036149288, 0.021579769714739242, 0.0004315953942947848, 0.9909883201164644, 0.0468597086760929, 0.9465661152570766, 0.9736912828949769, 0.09030016450150168, 0.05418009870090101, 0.8668815792144161, 0.09938932518501373, 0.8984794996725242, 0.2563102957920989, 0.33021571850515813, 0.3396504533195912, 0.0739054227130592, 0.08949970270236093, 0.003086196644908998, 0.8595057656071559, 0.04783604799608947, 0.43544056353952004, 0.5653088017881489, 0.996125353812427, 0.9895730511009279, 0.006872035077089777, 0.9966522340392862, 0.21723966847497694, 0.739377117265711, 0.0419234447934166, 0.1505478227166577, 0.8468315027811997, 0.9585515978847872, 0.8723664419440894, 0.12663383834672265, 0.0005025152315346137, 0.9721758770574506, 0.020253664105363552, 0.00405073282107271, 0.038469625741380006, 0.9425058306638102, 0.29341381174369935, 0.6347319192822884, 0.0014970092435903028, 0.07035943444874423, 0.9875340105266485, 0.7980026149342956, 0.05995511757582987, 0.1414940774789585, 0.24220843703572895, 0.7118565039708619, 0.044306421408974804, 0.017559817476161615, 0.9833497786650506, 0.7411235275900456, 0.08642990859464918, 0.17182472846361393, 0.0005175443628422107, 0.9620539433350642, 0.993285367983258, 0.7968969899710576, 0.1431881253576192, 0.05892742082025098, 0.0005507235590677662, 0.16395202029321726, 0.8306902361523009, 0.563449337033214, 0.32789359412635194, 0.07537783773019585, 0.03297780400696068, 0.9928748147023079, 0.9938858384201491, 0.9686643740267187, 0.12334972609579628, 0.8680165910444924, 0.00456850837391838, 0.00456850837391838, 0.9904303028051826, 0.4556924214607335, 0.5100557278806105, 0.03357733631815931, 0.7972746773653576, 0.17830786943926089, 0.023850097186143174, 0.2343798734465317, 0.0033011249781201646, 0.7625598699457581, 0.9443871404412704, 0.05472863482341594, 0.04310528267980485, 0.9483162189557068, 0.00862105653596097, 0.9834549637185102, 0.9790854313923049, 0.9368900330775872, 0.021514372510013917, 0.0008118631135854309, 0.04099908723606426, 0.23751907880592932, 0.7600610521789738, 0.003166921050745724, 0.9925811160618158, 0.05779425723713833, 0.9054433633818338, 0.025686336549839258, 0.01070264022909969, 0.32185265812090513, 0.6155138425377893, 0.028191473704020885, 0.032890052654691034, 0.985324271305754, 0.9663601474677309, 0.8720835251957251, 0.1258449643953325, 0.18006461795930798, 0.24437341008763228, 0.05787791291549185, 0.5209012162394266, 0.12052534911794587, 0.07669794943869282, 0.799850044146368, 0.18143179142945143, 0.8164430614325314, 0.9917788236001909, 0.7867504216421465, 0.1791112662036376, 0.03347874134647432, 0.021191103419347285, 0.9747907572899752, 0.9863686219082187, 0.40443253424357406, 0.498746840648202, 0.0463578794192239, 0.050354248334674244, 0.9816783962991175, 0.7057853740436129, 0.19793038376556935, 0.09536141738845358, 0.0011088536905634137, 0.9608907985229825, 0.11013534297642111, 0.1783143648189675, 0.0052445401417343385, 0.7080129191341357, 0.3087717841129561, 0.691060659681378, 0.04793528843850981, 0.9527138577153825, 0.7747421898687921, 0.07229624470402346, 0.13775365544955823, 0.014654644196761513, 0.9637326913482108, 0.38170482752892393, 0.6181067433851429, 0.64834276904765, 0.28018556076240425, 0.07087370975978138, 0.0005515463794535517, 0.9687497795147921, 0.1747539977663324, 0.8237562184271561, 0.00176519189662962, 0.9586712484769399, 0.9815430409074954, 0.535395279474912, 0.4289078205738244, 0.03401682714895849, 0.0014789924847373257, 0.39878875361059873, 0.599101998511775, 0.0018377361917539111, 0.0018377361917539111, 0.9564345107438526, 0.6066579138590554, 0.32328480935910187, 0.06884769088203095, 0.0009977926214787096, 0.3334208432437277, 0.08227267560559516, 0.2944495758516037, 0.2901194350302566, 0.30028838988301754, 0.6986507656874246, 0.9741116705667004, 0.4158510359289171, 0.5142585329807983, 0.028569918498933235, 0.04126766005401467, 0.8811392116373044, 0.11878102117659739, 0.9612469615194436, 0.9938224508824657, 0.3157020818588655, 0.26158172496877424, 0.17739450313974345, 0.24654829249930446, 0.9909197208560894, 0.9958586046982434, 0.29920432136093544, 0.6872812134231389, 0.012590280849346294, 0.8555469308637316, 0.05659259853962427, 0.08766304479667289, 0.995501664488191, 0.9942937766072993, 0.006312976359411424, 0.9810473904267046, 0.9843860529659436, 0.9810898381213945, 0.5489689295752601, 0.36280238285587213, 0.07751644607428441, 0.010801471993957664, 0.9908463424171967, 0.4759058053981217, 0.09030007589605386, 0.37218274524724904, 0.0622338360905236, 0.015341434968394393, 0.16108506716814114, 0.8207667708091, 0.9961911383963488, 0.9661758589240529, 0.977922054161483, 0.6234008070114252, 0.024770892993831464, 0.35229714480115865, 0.9717319661124315, 0.06884466565862972, 0.05737055471552477, 0.8835065426190815, 0.9951375255995312, 0.12480453530926854, 0.8736317471648797, 0.9822722026731288, 0.5629085145429581, 0.24124650623269633, 0.16448625424956567, 0.03106962580269574, 0.29650413253681085, 0.5999575806799532, 0.09497397995319722, 0.008603914560219958, 0.3584046137416569, 0.3813101717627402, 0.25869806706164705, 0.022655224278014398, 0.9741746439546192, 0.9899398440577079, 0.4840756478792626, 0.17687379441742287, 0.339783868222944, 0.13299386246477665, 0.3529452503872919, 0.13299386246477665, 0.37852099316897975, 0.9650753325475139, 0.9934678449881751, 0.17616225545653078, 0.3667640400488428, 0.22236874869103065, 0.2310324661724994, 0.07544064365450417, 0.34367404331496343, 0.5532313867996972, 0.025146881218168056, 0.9087195752121217, 0.001711336299834504, 0.0889894875913942, 0.9717515336536552, 0.021837113115812476, 0.9339466614244872, 0.9623072195641466, 0.9628827465363933, 0.043406090522164924, 0.008681218104432984, 0.7552659750856696, 0.19966801640195864, 0.9887122298225194, 0.053829447788407564, 0.9375295489814317, 0.00448578731570063, 0.00448578731570063, 0.09534863718958897, 0.7839776835588427, 0.1271315162527853, 0.004697560561253653, 0.7891901742906137, 0.061068287296297485, 0.14562437739886322, 0.9905716363748274, 0.44426575576089133, 0.06333150135314834, 0.44237526318318543, 0.05009805330920689, 0.9949014430185047, 0.97839356471146, 0.010751577634191867, 0.9708931299906856, 0.9414129860381638, 0.0568094043298892, 0.7919152195135797, 0.20549698734213145, 0.0016707072141636703, 0.9920725555193348, 0.9447257414662426, 0.0040357063042885145, 0.8838196806391847, 0.10089265760721286, 0.008071412608577029, 0.2472285270378186, 0.18542139527836396, 0.5274208576806797, 0.0412047545063031, 0.9693582357160766, 0.9891533669450621, 0.9236581274929433, 0.0735881475200422, 0.7961063537064703, 0.06175719245959925, 0.1414801136347183, 0.9885753848931306, 0.21120168798905378, 0.6442988203210375, 0.008020317265407107, 0.1363453935119208, 0.5551197648176066, 0.4404255985329772, 0.9990097177615672, 0.014151412362604978, 0.9835231592010459, 0.0035378530906512444, 0.9512132432132608, 0.212312075165705, 0.7885877077583329, 0.767806551178351, 0.17382287200287666, 0.05758549133837632, 0.032241895448394384, 0.9672568634518316, 0.35571840352337775, 0.3447168034144073, 0.029337600290587854, 0.2713728026879377, 0.8998249791656202, 0.0778952967038895, 0.021488357711417796, 0.22487897744613403, 0.022869048553844137, 0.7432440779999345, 0.007623016184614712, 0.0363996982427759, 0.007279939648555179, 0.9536720939607285, 0.99433660916109, 0.9892570626302963, 0.9857263377907532, 0.996822427056431, 0.4039192832044037, 0.5975792135078849, 0.13640513390806464, 0.8624324595477635, 0.7665974308526784, 0.05031209390742967, 0.1641763064347705, 0.018536034597474087, 0.5200102572164064, 0.09482539984534469, 0.3655366219844739, 0.019882745128862598, 0.0064699903200198545, 0.40760939016125086, 0.0064699903200198545, 0.5822991288017869, 0.24372158048744796, 0.7582449170720603, 0.9898393602695468, 0.01285505662687723, 0.6337948624905437, 0.01977921551870082, 0.34570628863120567, 0.9761114906328267, 0.579304816159994, 0.3550790019595877, 0.06509781702592442, 0.0006575537073325699, 0.5395983070639232, 0.37575081433374125, 0.02883349732402643, 0.0553786218445587, 0.11603507988303498, 0.010548643625730453, 0.8649887773098972, 0.7621792005137015, 0.1868302083569687, 0.0484272705019536, 0.002476394514304445, 0.9546588107753118, 0.04425570645978266, 0.9532491598452993, 0.11264775922212242, 0.8730201339714487, 0.6473365815387583, 0.22590932344779827, 0.12561774039249768, 0.9793626299771191, 0.9837430395644371, 0.28021337270385005, 0.7173462341218562, 0.9573979639921334, 0.004950341804186351, 0.20791435577582673, 0.7871043468656297, 0.9736184245144731, 0.022127691466238025, 0.03158319641636317, 0.8764337005540779, 0.019739497760226977, 0.07501009148886252, 0.9822164217837202, 0.9261230028600158, 0.9708805606119215, 0.06637836768297889, 0.22863659979692727, 0.029501496747990616, 0.6785344252037842, 0.08477563979363935, 0.41907957784780203, 0.11036828576907763, 0.38548923000503926, 0.9977568136789886, 0.6301299001986175, 0.3312067976376035, 0.03826215712780979, 0.0003985641367480187, 0.48203649190064113, 0.46339887709956185, 0.05337135147581791, 0.0008471643091399668, 0.9650753325475139, 0.9807082509869767, 0.007643409629994422, 0.007055455043071775, 0.004703636695381183, 0.9989811240649481, 0.9830999851517317, 0.9816206825064155, 0.9650753325475139, 0.10463253192336334, 0.8998397745409248, 0.018193968614881095, 0.964280336588698, 0.9864398834946914, 0.19892655000537868, 0.007436506542257146, 0.19334917009868582, 0.6004979032872646, 0.16167495683641417, 0.016582046855016838, 0.7669196670445287, 0.05803716399255893, 0.1926696321731759, 0.7496305856821885, 0.0566675388744635, 0.9911884004999538, 0.6682911548518807, 0.2713403468438474, 0.05274551832435511, 0.007612755222071871, 0.9883944532618251], \"Term\": [\"accur\", \"alarm\", \"alien\", \"altern\", \"altern\", \"amazon\", \"amazon\", \"america\", \"america\", \"america\", \"american\", \"american\", \"american\", \"anarchist\", \"andrew\", \"anim\", \"anim\", \"announc\", \"ant\", \"anti\", \"anti\", \"anti\", \"anti\", \"anxious\", \"anyway\", \"appl\", \"applic\", \"applic\", \"applic\", \"applic\", \"art\", \"art\", \"articl\", \"articl\", \"artist\", \"ask\", \"ask\", \"ask\", \"asleep\", \"bed\", \"bed\", \"better\", \"better\", \"better\", \"better\", \"bloomberg\", \"blow\", \"bls\", \"bonus\", \"bonus\", \"boss\", \"boss\", \"buy\", \"buy\", \"buy\", \"call\", \"call\", \"call\", \"call\", \"capit\", \"capit\", \"capit\", \"capit\", \"capitalist\", \"capitalist\", \"cashier\", \"cat\", \"check\", \"check\", \"check\", \"chew\", \"class\", \"class\", \"class\", \"cold\", \"coloni\", \"come\", \"come\", \"come\", \"come\", \"communism\", \"communist\", \"commut\", \"compani\", \"compani\", \"compani\", \"compani\", \"contact\", \"contact\", \"contact\", \"contractor\", \"contribut\", \"contribut\", \"contribut\", \"cost\", \"cost\", \"cost\", \"cowork\", \"cowork\", \"creativ\", \"creativ\", \"custom\", \"custom\", \"day\", \"day\", \"day\", \"day\", \"defend\", \"delet\", \"delet\", \"depart\", \"depart\", \"dept\", \"derek\", \"desir\", \"desir\", \"devic\", \"director\", \"discord\", \"dont\", \"dont\", \"dont\", \"dont\", \"dread\", \"economi\", \"economi\", \"electr\", \"elimin\", \"elimin\", \"elimin\", \"email\", \"email\", \"employ\", \"employ\", \"employ\", \"employ\", \"employe\", \"employe\", \"employe\", \"employe\", \"enjoy\", \"enjoy\", \"even\", \"everyday\", \"everyday\", \"exhaust\", \"exist\", \"exist\", \"exist\", \"expens\", \"expens\", \"feder\", \"feel\", \"feel\", \"feel\", \"felt\", \"felt\", \"felt\", \"file\", \"file\", \"free\", \"free\", \"free\", \"free\", \"frugal\", \"fuck\", \"fuck\", \"fuck\", \"game\", \"game\", \"game\", \"generat\", \"generat\", \"get\", \"get\", \"get\", \"get\", \"giant\", \"girlfriend\", \"go\", \"go\", \"go\", \"go\", \"goal\", \"goal\", \"good\", \"good\", \"good\", \"good\", \"gov\", \"grate\", \"greet\", \"grow\", \"grow\", \"grow\", \"grow\", \"guilti\", \"hard\", \"hard\", \"hard\", \"hate\", \"hate\", \"hate\", \"hire\", \"hire\", \"hire\", \"home\", \"home\", \"homeless\", \"homeless\", \"homeless\", \"hooli\", \"hoop\", \"hour\", \"hour\", \"hour\", \"hour\", \"hous\", \"hous\", \"hous\", \"http\", \"human\", \"human\", \"human\", \"human\", \"idea\", \"idea\", \"idea\", \"idea\", \"ident\", \"ideolog\", \"ill\", \"ill\", \"increas\", \"increas\", \"increas\", \"increas\", \"inform\", \"inform\", \"inform\", \"interview\", \"interview\", \"invest\", \"ive\", \"ive\", \"ive\", \"japan\", \"japan\", \"japanes\", \"job\", \"job\", \"job\", \"job\", \"joe\", \"know\", \"know\", \"know\", \"know\", \"kool\", \"labor\", \"labor\", \"labor\", \"labor\", \"labour\", \"labour\", \"land\", \"land\", \"leav\", \"leav\", \"leav\", \"leav\", \"leftist\", \"life\", \"life\", \"like\", \"like\", \"like\", \"like\", \"linkedin\", \"live\", \"live\", \"live\", \"lmao\", \"locat\", \"lot\", \"lot\", \"lot\", \"lot\", \"love\", \"love\", \"love\", \"love\", \"loyal\", \"make\", \"make\", \"make\", \"make\", \"man\", \"man\", \"man\", \"man\", \"manag\", \"manag\", \"marx\", \"mean\", \"mean\", \"mean\", \"mean\", \"mental\", \"mental\", \"merchandis\", \"minim\", \"minimum\", \"minimum\", \"minimum\", \"minimum\", \"mod\", \"monday\", \"money\", \"money\", \"money\", \"month\", \"month\", \"month\", \"mood\", \"morn\", \"morn\", \"mortgag\", \"nation\", \"necess\", \"need\", \"need\", \"need\", \"need\", \"neet\", \"new\", \"new\", \"new\", \"new\", \"news\", \"news\", \"news\", \"night\", \"nonprofit\", \"nurs\", \"offic\", \"offic\", \"offic\", \"ona\", \"org\", \"org\", \"org\", \"overtim\", \"owner\", \"owner\", \"panic\", \"pay\", \"pay\", \"pay\", \"pay\", \"peopl\", \"peopl\", \"peopl\", \"peopl\", \"person\", \"person\", \"person\", \"planet\", \"planet\", \"png\", \"posit\", \"posit\", \"posit\", \"power\", \"power\", \"power\", \"power\", \"preview\", \"prison\", \"product\", \"product\", \"product\", \"product\", \"question\", \"question\", \"question\", \"question\", \"quit\", \"quit\", \"quit\", \"readi\", \"readi\", \"receptionist\", \"redd\", \"reduct\", \"report\", \"report\", \"report\", \"report\", \"resign\", \"retir\", \"retir\", \"retir\", \"retir\", \"review\", \"review\", \"review\", \"rich\", \"rich\", \"rich\", \"rich\", \"saturday\", \"say\", \"say\", \"say\", \"say\", \"scam\", \"scar\", \"scar\", \"scenario\", \"schedul\", \"schedul\", \"school\", \"school\", \"school\", \"scienc\", \"score\", \"sell\", \"sell\", \"sell\", \"sell\", \"servic\", \"servic\", \"servic\", \"servic\", \"sex\", \"shelter\", \"shift\", \"shift\", \"shit\", \"shit\", \"shit\", \"shoemart\", \"slave\", \"slave\", \"slave\", \"slave\", \"slaveri\", \"slaveri\", \"sleep\", \"societi\", \"societi\", \"societi\", \"sociopath\", \"staff\", \"staff\", \"start\", \"start\", \"start\", \"startup\", \"startup\", \"state\", \"state\", \"state\", \"state\", \"stay\", \"stay\", \"stay\", \"store\", \"store\", \"store\", \"store\", \"strike\", \"strike\", \"strike\", \"structur\", \"sum\", \"summer\", \"sunday\", \"supervisor\", \"supervisor\", \"surviv\", \"surviv\", \"take\", \"take\", \"take\", \"take\", \"talk\", \"talk\", \"talk\", \"talk\", \"tax\", \"tax\", \"tax\", \"tax\", \"team\", \"team\", \"technolog\", \"technolog\", \"tell\", \"tell\", \"tell\", \"theft\", \"thing\", \"thing\", \"thing\", \"thing\", \"think\", \"think\", \"think\", \"think\", \"thread\", \"thread\", \"thread\", \"time\", \"time\", \"time\", \"time\", \"tomorrow\", \"tomorrow\", \"transact\", \"transfer\", \"transfer\", \"tri\", \"tri\", \"tri\", \"trump\", \"twitter\", \"ubi\", \"ubi\", \"understaf\", \"union\", \"union\", \"union\", \"vacat\", \"vacat\", \"valu\", \"valu\", \"valu\", \"valu\", \"van\", \"verifi\", \"vote\", \"wag\", \"wag\", \"wag\", \"wag\", \"wage\", \"wage\", \"wage\", \"wage\", \"wake\", \"want\", \"want\", \"want\", \"want\", \"way\", \"way\", \"way\", \"way\", \"webp\", \"week\", \"week\", \"week\", \"week\", \"weekend\", \"weight\", \"welfar\", \"width\", \"wiki\", \"wiki\", \"wikipedia\", \"wikipedia\", \"wood\", \"worker\", \"worker\", \"worker\", \"worker\", \"workplac\", \"workplac\", \"workplac\", \"workplac\", \"world\", \"world\", \"world\", \"yang\", \"year\", \"year\", \"year\", \"year\", \"youtub\"]}, \"R\": 30, \"lambda.step\": 0.01, \"plot.opts\": {\"xlab\": \"PC1\", \"ylab\": \"PC2\"}, \"topic.order\": [1, 2, 4, 3]};\n",
       "\n",
       "function LDAvis_load_lib(url, callback){\n",
       "  var s = document.createElement('script');\n",
       "  s.src = url;\n",
       "  s.async = true;\n",
       "  s.onreadystatechange = s.onload = callback;\n",
       "  s.onerror = function(){console.warn(\"failed to load library \" + url);};\n",
       "  document.getElementsByTagName(\"head\")[0].appendChild(s);\n",
       "}\n",
       "\n",
       "if(typeof(LDAvis) !== \"undefined\"){\n",
       "   // already loaded: just create the visualization\n",
       "   !function(LDAvis){\n",
       "       new LDAvis(\"#\" + \"ldavis_el52091398276886108964184634465\", ldavis_el52091398276886108964184634465_data);\n",
       "   }(LDAvis);\n",
       "}else if(typeof define === \"function\" && define.amd){\n",
       "   // require.js is available: use it to load d3/LDAvis\n",
       "   require.config({paths: {d3: \"https://d3js.org/d3.v5\"}});\n",
       "   require([\"d3\"], function(d3){\n",
       "      window.d3 = d3;\n",
       "      LDAvis_load_lib(\"https://cdn.jsdelivr.net/gh/bmabey/pyLDAvis@3.3.1/pyLDAvis/js/ldavis.v3.0.0.js\", function(){\n",
       "        new LDAvis(\"#\" + \"ldavis_el52091398276886108964184634465\", ldavis_el52091398276886108964184634465_data);\n",
       "      });\n",
       "    });\n",
       "}else{\n",
       "    // require.js not available: dynamically load d3 & LDAvis\n",
       "    LDAvis_load_lib(\"https://d3js.org/d3.v5.js\", function(){\n",
       "         LDAvis_load_lib(\"https://cdn.jsdelivr.net/gh/bmabey/pyLDAvis@3.3.1/pyLDAvis/js/ldavis.v3.0.0.js\", function(){\n",
       "                 new LDAvis(\"#\" + \"ldavis_el52091398276886108964184634465\", ldavis_el52091398276886108964184634465_data);\n",
       "            })\n",
       "         });\n",
       "}\n",
       "</script>"
      ],
      "text/plain": [
       "<IPython.core.display.HTML object>"
      ]
     },
     "execution_count": 36,
     "metadata": {},
     "output_type": "execute_result"
    }
   ],
   "source": [
    "# Create Dictionary\n",
    "id2word = corpora.Dictionary(df19['preprocessed'])\n",
    "\n",
    "# Create Corpus: Term Document Frequency\n",
    "corpus = [id2word.doc2bow(text) for text in df19['preprocessed']]\n",
    "\n",
    "# Build LDA model\n",
    "lda_model = gensim.models.LdaMulticore(corpus=corpus,\n",
    "                                           id2word=id2word,\n",
    "                                           num_topics=4,\n",
    "                                           workers=3,\n",
    "                                           random_state=42,\n",
    "                                           chunksize=256,\n",
    "                                           passes=10,\n",
    "                                           alpha='symmetric',\n",
    "                                           iterations=100,\n",
    "                                           per_word_topics=True)\n",
    "\n",
    "#pprint(lda_model.print_topics())\n",
    "\n",
    "\n",
    "pyLDAvis.enable_notebook()\n",
    "vis = pyLDAvis.gensim_models.prepare(topic_model=lda_model, corpus=corpus, dictionary=id2word)\n",
    "\n",
    "pyLDAvis.display(vis)"
   ]
  },
  {
   "cell_type": "markdown",
   "id": "5e3ead2f-875c-4429-a440-2816cdb42134",
   "metadata": {},
   "source": [
    "Topic 1: \n",
    "- This topic is still  overall about the __emlployee's time__ and the biggest topic. The words that are more exclusive to this topic that tell a clear story are day, hour, week, feel, time, sleep, weekend, mental, month, and home. This topic is closely related to topic 2 and has slight overlap. \n",
    "- Potential recommendations for an employer would be to have clear and strict working hours, providing appropriate time off, encouraging taking time off, but without adding unnecessary pressure on other employees.\n",
    "\n",
    "Topic 2: \n",
    "- Has a small amount of crossover with topic 1, but minimal. The terms most relevant in this second largest topic include society, human, retire, planet, live, buy, value, and house. These terms give me a narrative concerning the __financial sustainability__ a job is providing. It's possible the employees don't feel like their futures are being invested in.\n",
    "- Recommendations for addressing this topic could include doing something to ensure that your employees don't see themselves as \"just a number\" or \"part of the system\". Provide opportunities that give the message of being invested in employees' futures such as opportunities for professional development without having to take time off, asking their opinion when relevant, or problem solving together opposed to providing the hard fast solution.\n",
    "\n",
    "Topic 3: \n",
    "- This topic has a good amount of deleted posts which is told by the lemma \"delet\" which is how posts deletd by the user will show when scraping the subreddit. The most important terms of this topic are the lemma \"employe\", interview, email, application, the lemma \"manag\" so something concerning management, and hire. These terms lead me to believe this topic is about the __employment/application process__.\n",
    "- Recommendations to address this topic could include streamlining the application process to make it as simple and straightforward as possible, consistent communication with applicants, and have a smooth hiring and training process that best prepares the employee for the position they were hired for.\n",
    "\n",
    "Topic 4: \n",
    "- This topic seems to lean very heavily __towards political issues/workplace reform__. A very interesting find in this topic is the mentioning of Japan. They had a huge labor law reform happen in 2019 that included increased benefits, cracking down on overtime allowed, increasing overtime pay, and more which can be read about here: https://www.globalpeoplestrategist.com/significant-changes-to-japan-labor-laws/. Other terms such as Andrew, and yang, who was a democratic candidate for the 2020 election, trump,  strike, american, union, communism, anarchist, etc. provide the narrative that politics can become a huge part of the workplace. The terms american, the lemma \"economi\", and union also contribute to this narrative.\n",
    "- Recommendations to address this are simple: listen to what employees ask for. Host surverys that are without reprimand that allow for data to be collected and changes to be made. Without reprimand includes without requiring employee time on trainings that wont' benefit the employees as well because taking time is a reprimand. "
   ]
  },
  {
   "cell_type": "code",
   "execution_count": 37,
   "id": "c1b2242e-6403-45d0-bc32-d1a30ad9ea29",
   "metadata": {},
   "outputs": [],
   "source": [
    "p = pyLDAvis.gensim_models.prepare(lda_model, corpus, id2word)\n",
    "pyLDAvis.save_html(p, './pyLDAvis/lda2019.html')"
   ]
  },
  {
   "cell_type": "markdown",
   "id": "f17c0ffc-89f4-46c3-a2a4-5ebf0d57d2e2",
   "metadata": {},
   "source": [
    "### 2020"
   ]
  },
  {
   "cell_type": "code",
   "execution_count": 38,
   "id": "501f3a10-0ac6-46e3-ae88-a11d15170ae9",
   "metadata": {},
   "outputs": [
    {
     "data": {
      "text/plain": [
       "(20679, 10)"
      ]
     },
     "execution_count": 38,
     "metadata": {},
     "output_type": "execute_result"
    }
   ],
   "source": [
    "df20 = df[df['year']==2020]\n",
    "df20.shape"
   ]
  },
  {
   "cell_type": "markdown",
   "id": "4a9a36bd-8503-44be-ac22-0bdd3abc0e3b",
   "metadata": {},
   "source": [
    "I ran 2020 LDA with three topics because 4 topics had a lot of crossover."
   ]
  },
  {
   "cell_type": "code",
   "execution_count": 39,
   "id": "1ca649c1-a1b3-48ad-9662-c7b98b508656",
   "metadata": {
    "tags": []
   },
   "outputs": [
    {
     "data": {
      "text/html": [
       "\n",
       "<link rel=\"stylesheet\" type=\"text/css\" href=\"https://cdn.jsdelivr.net/gh/bmabey/pyLDAvis@3.3.1/pyLDAvis/js/ldavis.v1.0.0.css\">\n",
       "\n",
       "\n",
       "<div id=\"ldavis_el52091398250338271527474278356\"></div>\n",
       "<script type=\"text/javascript\">\n",
       "\n",
       "var ldavis_el52091398250338271527474278356_data = {\"mdsDat\": {\"x\": [-0.15727234379120583, -0.11899776627256184, 0.2762701100637675], \"y\": [-0.1158676752554648, 0.1270873735511514, -0.01121969829568658], \"topics\": [1, 2, 3], \"cluster\": [1, 1, 1], \"Freq\": [56.898010267588774, 34.68432228125443, 8.417667451156785]}, \"tinfo\": {\"Term\": [\"delet\", \"day\", \"peopl\", \"worker\", \"hour\", \"live\", \"week\", \"life\", \"get\", \"fuck\", \"employe\", \"world\", \"month\", \"societi\", \"money\", \"tell\", \"capit\", \"manag\", \"home\", \"wage\", \"boss\", \"covid\", \"union\", \"pandem\", \"compani\", \"human\", \"quit\", \"coronavirus\", \"anti\", \"american\", \"month\", \"manag\", \"quit\", \"sick\", \"interview\", \"cowork\", \"minut\", \"sleep\", \"custom\", \"schedul\", \"night\", \"weekend\", \"phone\", \"morn\", \"email\", \"vacat\", \"extra\", \"insur\", \"lunch\", \"clock\", \"depart\", \"team\", \"finish\", \"holiday\", \"overtim\", \"shift\", \"tomorrow\", \"desk\", \"commut\", \"client\", \"hour\", \"week\", \"day\", \"fuck\", \"tell\", \"home\", \"boss\", \"hire\", \"send\", \"get\", \"notic\", \"compani\", \"shit\", \"offic\", \"leav\", \"break\", \"go\", \"year\", \"pay\", \"time\", \"didnt\", \"start\", \"ask\", \"feel\", \"say\", \"ive\", \"know\", \"come\", \"take\", \"like\", \"dont\", \"want\", \"think\", \"need\", \"peopl\", \"thing\", \"societi\", \"remov\", \"rich\", \"creat\", \"valu\", \"thread\", \"solut\", \"wealth\", \"view\", \"altern\", \"communiti\", \"produc\", \"autom\", \"individu\", \"lifestyl\", \"achiev\", \"resourc\", \"desir\", \"technolog\", \"commod\", \"shelter\", \"poll\", \"concept\", \"ubi\", \"poverti\", \"be\", \"necess\", \"meaning\", \"farm\", \"planet\", \"human\", \"world\", \"generat\", \"structur\", \"bear\", \"creativ\", \"enslav\", \"sub\", \"escap\", \"exist\", \"educ\", \"freedom\", \"live\", \"dream\", \"capitalist\", \"grow\", \"power\", \"capit\", \"life\", \"peopl\", \"money\", \"social\", \"idea\", \"incom\", \"profit\", \"way\", \"think\", \"job\", \"free\", \"mean\", \"thing\", \"need\", \"like\", \"want\", \"dont\", \"good\", \"chang\", \"person\", \"love\", \"time\", \"know\", \"make\", \"feel\", \"better\", \"delet\", \"png\", \"trump\", \"preview\", \"width\", \"redd\", \"webp\", \"linkedin\", \"format\", \"cotton\", \"wikipedia\", \"twitter\", \"wiki\", \"meirl\", \"http\", \"john\", \"html\", \"instagram\", \"hero\", \"jpg\", \"nbsp\", \"berni\", \"david\", \"pjpg\", \"presid\", \"anarchist\", \"comic\", \"historian\", \"petit\", \"graeber\", \"union\", \"essay\", \"strike\", \"auto\", \"org\", \"podcast\", \"coronavirus\", \"protest\", \"worker\", \"amazon\", \"facebook\", \"american\", \"youtub\", \"credit\", \"million\", \"news\", \"comment\", \"articl\", \"slaveri\", \"america\", \"essenti\", \"wage\", \"pandem\", \"covid\", \"employe\", \"watch\", \"labor\", \"capit\", \"anti\", \"corpor\", \"new\", \"kill\"], \"Freq\": [3910.0, 5236.0, 6026.0, 1198.0, 3895.0, 3100.0, 3144.0, 3544.0, 3711.0, 2880.0, 1182.0, 1195.0, 2049.0, 1030.0, 2568.0, 2139.0, 955.0, 1724.0, 1953.0, 1070.0, 1996.0, 578.0, 330.0, 564.0, 2437.0, 757.0, 1287.0, 312.0, 583.0, 366.0, 2048.7514729264617, 1723.2365689749445, 1286.5445192036054, 1112.4189953378495, 601.8996693202538, 573.7662708673801, 595.5710240878461, 540.5830314977458, 507.1958431308934, 441.56203161423105, 472.3253455298679, 415.72992500821414, 387.4301578385474, 379.9074306978413, 454.8461048231771, 346.8722517032544, 398.23204240699295, 369.98423534891987, 286.6255214995337, 288.8682563019413, 300.47882106651554, 310.8382478658739, 266.7972538363337, 254.47399795482292, 243.0871729860337, 732.5194957840032, 252.23900898930768, 239.96969600538924, 245.83162676896796, 234.46941058341565, 3874.411873172994, 3131.8044810872007, 5177.440719248961, 2848.5914825372106, 2120.775006896578, 1930.7655511711687, 1970.0961683653618, 499.9303222487177, 415.2744030883875, 3617.457928793613, 438.2538550942108, 2323.85735985671, 1386.1319658386155, 1128.8483230621327, 1537.91938558095, 917.0758082143625, 2709.564013394581, 2857.10730750264, 2950.9927804651115, 5045.792623672398, 750.3481886249424, 1687.7158658120086, 1257.7623235228018, 3151.179302270124, 1476.6430705839866, 1613.0709034444328, 2539.350396589401, 1544.8389010409874, 1316.682866384718, 4244.904813580212, 2809.8190103363127, 2888.9377308998137, 1915.6765126592043, 1751.9231461907614, 2093.0392774860716, 1416.841207141688, 1029.728109952982, 534.0830894091433, 475.7204322394868, 411.8808877245554, 506.8143698435387, 257.6469469240918, 256.13907686136827, 237.64028121929522, 224.71644558842877, 207.30137436747526, 318.69626648319854, 190.05841039578874, 207.7851859640955, 231.7159330996724, 157.69150495062706, 155.03234854384715, 162.06623265354298, 153.10221928679113, 144.0488199484293, 127.03770825366621, 133.79753788879742, 112.80292732224953, 117.68334715091603, 116.09564760994562, 120.11104664397314, 103.41978377849564, 111.31864349846468, 112.77426913825174, 116.29924836216328, 102.45237521099266, 749.4602880651762, 1174.166351357911, 191.24969619965447, 126.16058934508888, 163.55030185159035, 152.596640121955, 151.39926572480005, 614.2873267858564, 271.6555462164908, 482.8802112883452, 346.5886658497043, 323.92102506740497, 2555.1538350515743, 402.42081779805613, 511.5665903303877, 333.5566136627878, 387.53338259118004, 784.0701115395259, 2488.91662735074, 3930.441582107921, 1748.8409965055712, 557.8946175956021, 634.9794167273965, 471.77547563171476, 413.5456153130942, 1168.6191571394781, 1768.5863836152282, 1053.8811415760279, 682.8094626799653, 710.0509360730028, 1258.3592838084742, 1381.8227618795254, 2138.7018257782274, 1686.3479460909698, 1497.6440274282545, 873.9454298309444, 588.9237608191213, 716.8300368401405, 583.4198080387425, 1206.8692590431258, 811.6223630004181, 651.9715848768051, 739.1202526150554, 560.1890796900569, 3909.3676100598623, 138.67820007909293, 129.70461069855506, 106.99909260960155, 101.10265090053332, 100.11794039782329, 100.11794039782329, 110.67727370026154, 123.78446057932993, 90.28254153531239, 68.87770169932601, 57.12492080475284, 84.40848135498156, 48.29016598794827, 57.84174930121041, 52.567291482010035, 51.97003583677856, 53.18770723929117, 45.74716484956718, 38.96661163301411, 36.18059380754373, 37.47360136999062, 34.44215708724964, 32.83549285106766, 39.660981838999284, 34.557370968523216, 39.25865987834301, 33.96297195643044, 31.534060688203084, 30.155101914465828, 318.36543594810803, 42.993998305191866, 267.517212555754, 119.44252076601175, 149.41412923590985, 48.33184761006038, 251.59290289959168, 101.5302576284048, 689.9495195976986, 147.65939983735925, 80.61020652989359, 224.04998089569693, 164.39965383882424, 128.0665810691486, 162.86898097881468, 114.6276409373158, 164.73414858212485, 123.25890587758175, 145.56615118740092, 124.83366190541311, 157.73380732779555, 232.19187880929232, 174.75839776171114, 171.20695029555776, 219.87743229962837, 149.9067421873753, 158.4806551456243, 170.59138697652565, 145.18911947694093, 146.02644744842584, 155.60219974225495, 130.0995059613488], \"Total\": [3910.0, 5236.0, 6026.0, 1198.0, 3895.0, 3100.0, 3144.0, 3544.0, 3711.0, 2880.0, 1182.0, 1195.0, 2049.0, 1030.0, 2568.0, 2139.0, 955.0, 1724.0, 1953.0, 1070.0, 1996.0, 578.0, 330.0, 564.0, 2437.0, 757.0, 1287.0, 312.0, 583.0, 366.0, 2049.4750813314135, 1724.0038129099362, 1287.2417114368102, 1113.195854870709, 602.5851621743883, 574.4488565856474, 596.2799970852617, 541.2761531802856, 507.88818735888543, 442.2292815954424, 473.06459929731903, 416.3982029552895, 388.08116870268475, 380.5699826418398, 455.74558245310834, 347.56151581528485, 399.06582422566225, 370.8323620146555, 287.2840582889077, 289.5379708140841, 301.22032528407885, 311.6175743379097, 267.5075368563404, 255.16232736491696, 243.74484110337042, 734.5142316422265, 252.94578517737318, 240.64680870556094, 246.52933853251605, 235.13823058088974, 3895.0439173309105, 3144.9545457270788, 5236.368269812144, 2880.926523736917, 2139.4640500945266, 1953.3085445392958, 1996.2657253902073, 501.60062166756245, 416.7191479694505, 3711.4129287340816, 441.4400161130517, 2437.8100941425523, 1434.523364569526, 1175.8629573029173, 1668.5242877641867, 968.6041288105575, 3135.18065567726, 3330.6600237266034, 3469.73350885992, 6253.003074470428, 787.6719637078684, 1926.8898987504042, 1393.390971786175, 3890.6222492679894, 1679.117121631528, 1900.663528658381, 3351.3158096469497, 1862.123621861941, 1543.2053099192412, 6384.064028868452, 4307.792939740176, 4575.615346496561, 3685.338457460379, 3134.096810805789, 6026.051226462248, 2675.521551597373, 1030.4332204886803, 534.8122366564957, 476.4322965126, 412.6098362378058, 508.04385945813436, 258.3451608862426, 256.89001756575345, 238.42466699589522, 225.49263260186672, 208.0431191355863, 319.83689506036853, 190.76889454041134, 208.6377807388593, 232.6806437150809, 158.398225767952, 155.73749924145687, 162.80965171567172, 153.82925224369777, 144.79828385315426, 127.70457622540314, 134.5560570375327, 113.47407353828999, 118.38703271853116, 116.798636434889, 120.86795950130778, 104.0953607873897, 112.05252544464656, 113.5309176434013, 117.09257801057001, 103.16430221864722, 757.4183285207979, 1195.6190713979327, 193.0749613870736, 127.03728500593544, 165.1191974942932, 154.03298623356665, 152.93240984888064, 657.3674264775392, 281.77473787199403, 514.9659332851187, 368.0555467609742, 344.44598552006823, 3100.6749434732005, 440.11044427909565, 574.3990481585689, 364.0864208865096, 431.257386297669, 955.0357326522465, 3544.193752791416, 6026.051226462248, 2568.808090376064, 679.6523078661368, 806.554139925284, 569.9809935320206, 496.0408726472367, 1972.0607877951898, 3685.338457460379, 1984.2087251275977, 1071.1005579414725, 1134.840623279618, 2675.521551597373, 3134.096810805789, 6384.064028868452, 4575.615346496561, 4307.792939740176, 1920.7897414723575, 933.8759801534301, 1470.7885418020544, 937.193048370651, 6253.003074470428, 3351.3158096469497, 1790.2826168344307, 3890.6222492679894, 1356.3908185383402, 3910.0464231343476, 139.35174847010984, 130.4190193301236, 107.66960321231676, 101.77019612324487, 100.78525311190525, 100.78525311190525, 111.42543201638877, 124.80488880404411, 91.13373257000839, 69.61001465529846, 57.83900084229603, 85.499285068788, 48.94711939452935, 58.635920666721326, 53.307104371298806, 52.74356127927042, 53.99951269730353, 46.484043342459955, 39.644985757627516, 36.877624030820506, 38.21483227287443, 35.13889451266094, 33.50406043435873, 40.49021206607406, 35.28359216426626, 40.09345074917781, 34.71440412616892, 32.236491057873465, 30.847170045339265, 330.67625922583727, 44.08211888953755, 288.93358618361054, 127.70401745385497, 163.02129150543215, 50.50199308313384, 312.6823783670644, 121.23693398794369, 1198.9283493040919, 200.22349050681785, 96.94479989932802, 366.35886968138357, 265.79496883968653, 203.2615740922381, 317.3268546163697, 187.3751011869411, 349.6340924533539, 221.8088098053717, 336.00811181905635, 260.2527502689984, 437.7779825904488, 1070.029294097376, 564.4021704945328, 578.3175258769957, 1182.9922135754168, 437.81403982806927, 571.9400887410013, 955.0357326522465, 583.5467116499094, 785.7181261792482, 1403.175141498654, 414.0021464781055], \"Category\": [\"Default\", \"Default\", \"Default\", \"Default\", \"Default\", \"Default\", \"Default\", \"Default\", \"Default\", \"Default\", \"Default\", \"Default\", \"Default\", \"Default\", \"Default\", \"Default\", \"Default\", \"Default\", \"Default\", \"Default\", \"Default\", \"Default\", \"Default\", \"Default\", \"Default\", \"Default\", \"Default\", \"Default\", \"Default\", \"Default\", \"Topic1\", \"Topic1\", \"Topic1\", \"Topic1\", \"Topic1\", \"Topic1\", \"Topic1\", \"Topic1\", \"Topic1\", \"Topic1\", \"Topic1\", \"Topic1\", \"Topic1\", \"Topic1\", \"Topic1\", \"Topic1\", \"Topic1\", \"Topic1\", \"Topic1\", \"Topic1\", \"Topic1\", \"Topic1\", \"Topic1\", \"Topic1\", \"Topic1\", \"Topic1\", \"Topic1\", \"Topic1\", \"Topic1\", \"Topic1\", \"Topic1\", \"Topic1\", \"Topic1\", \"Topic1\", \"Topic1\", \"Topic1\", \"Topic1\", \"Topic1\", \"Topic1\", \"Topic1\", \"Topic1\", \"Topic1\", \"Topic1\", \"Topic1\", \"Topic1\", \"Topic1\", \"Topic1\", \"Topic1\", \"Topic1\", \"Topic1\", \"Topic1\", \"Topic1\", \"Topic1\", \"Topic1\", \"Topic1\", \"Topic1\", \"Topic1\", \"Topic1\", \"Topic1\", \"Topic1\", \"Topic1\", \"Topic1\", \"Topic1\", \"Topic1\", \"Topic1\", \"Topic1\", \"Topic2\", \"Topic2\", \"Topic2\", \"Topic2\", \"Topic2\", \"Topic2\", \"Topic2\", \"Topic2\", \"Topic2\", \"Topic2\", \"Topic2\", \"Topic2\", \"Topic2\", \"Topic2\", \"Topic2\", \"Topic2\", \"Topic2\", \"Topic2\", \"Topic2\", \"Topic2\", \"Topic2\", \"Topic2\", \"Topic2\", \"Topic2\", \"Topic2\", \"Topic2\", \"Topic2\", \"Topic2\", \"Topic2\", \"Topic2\", \"Topic2\", \"Topic2\", \"Topic2\", \"Topic2\", \"Topic2\", \"Topic2\", \"Topic2\", \"Topic2\", \"Topic2\", \"Topic2\", \"Topic2\", \"Topic2\", \"Topic2\", \"Topic2\", \"Topic2\", \"Topic2\", \"Topic2\", \"Topic2\", \"Topic2\", \"Topic2\", \"Topic2\", \"Topic2\", \"Topic2\", \"Topic2\", \"Topic2\", \"Topic2\", \"Topic2\", \"Topic2\", \"Topic2\", \"Topic2\", \"Topic2\", \"Topic2\", \"Topic2\", \"Topic2\", \"Topic2\", \"Topic2\", \"Topic2\", \"Topic2\", \"Topic2\", \"Topic2\", \"Topic2\", \"Topic2\", \"Topic2\", \"Topic2\", \"Topic3\", \"Topic3\", \"Topic3\", \"Topic3\", \"Topic3\", \"Topic3\", \"Topic3\", \"Topic3\", \"Topic3\", \"Topic3\", \"Topic3\", \"Topic3\", \"Topic3\", \"Topic3\", \"Topic3\", \"Topic3\", \"Topic3\", \"Topic3\", \"Topic3\", \"Topic3\", \"Topic3\", \"Topic3\", \"Topic3\", \"Topic3\", \"Topic3\", \"Topic3\", \"Topic3\", \"Topic3\", \"Topic3\", \"Topic3\", \"Topic3\", \"Topic3\", \"Topic3\", \"Topic3\", \"Topic3\", \"Topic3\", \"Topic3\", \"Topic3\", \"Topic3\", \"Topic3\", \"Topic3\", \"Topic3\", \"Topic3\", \"Topic3\", \"Topic3\", \"Topic3\", \"Topic3\", \"Topic3\", \"Topic3\", \"Topic3\", \"Topic3\", \"Topic3\", \"Topic3\", \"Topic3\", \"Topic3\", \"Topic3\", \"Topic3\", \"Topic3\", \"Topic3\", \"Topic3\", \"Topic3\", \"Topic3\"], \"logprob\": [30.0, 29.0, 28.0, 27.0, 26.0, 25.0, 24.0, 23.0, 22.0, 21.0, 20.0, 19.0, 18.0, 17.0, 16.0, 15.0, 14.0, 13.0, 12.0, 11.0, 10.0, 9.0, 8.0, 7.0, 6.0, 5.0, 4.0, 3.0, 2.0, 1.0, -5.0459, -5.219, -5.5112, -5.6566, -6.2708, -6.3187, -6.2814, -6.3783, -6.442, -6.5806, -6.5133, -6.6409, -6.7114, -6.731, -6.551, -6.822, -6.6839, -6.7575, -7.0127, -7.005, -6.9655, -6.9317, -7.0844, -7.1317, -7.1775, -6.0744, -7.1405, -7.1904, -7.1663, -7.2136, -4.4088, -4.6216, -4.1189, -4.7163, -5.0114, -5.1053, -5.0851, -6.4565, -6.642, -4.4774, -6.5881, -4.9199, -5.4367, -5.642, -5.3327, -5.8497, -4.7664, -4.7134, -4.681, -4.1446, -6.0504, -5.2398, -5.5338, -4.6154, -5.3734, -5.285, -4.8313, -5.3282, -5.4881, -4.3174, -4.73, -4.7023, -5.1131, -5.2025, -5.0246, -5.4147, -5.2389, -5.8954, -6.0111, -6.1552, -5.9478, -6.6244, -6.6302, -6.7052, -6.7611, -6.8418, -6.4117, -6.9286, -6.8394, -6.7304, -7.1153, -7.1323, -7.0879, -7.1448, -7.2058, -7.3315, -7.2796, -7.4503, -7.408, -7.4215, -7.3875, -7.5372, -7.4636, -7.4506, -7.4198, -7.5466, -5.5566, -5.1076, -6.9224, -7.3384, -7.0788, -7.1482, -7.156, -5.7555, -6.5714, -5.9962, -6.3278, -6.3955, -4.3301, -6.1785, -5.9385, -6.3661, -6.2161, -5.5115, -4.3563, -3.8994, -4.7092, -5.8518, -5.7224, -6.0194, -6.1512, -5.1124, -4.698, -5.2157, -5.6497, -5.6106, -5.0384, -4.9448, -4.508, -4.7456, -4.8643, -5.4029, -5.7977, -5.6011, -5.807, -5.0802, -5.4769, -5.6959, -5.5705, -5.8477, -2.4889, -5.8278, -5.8947, -6.0872, -6.1439, -6.1536, -6.1536, -6.0534, -5.9415, -6.2571, -6.5277, -6.7148, -6.3243, -6.8828, -6.7023, -6.7979, -6.8093, -6.7862, -6.9369, -7.0973, -7.1715, -7.1364, -7.2207, -7.2685, -7.0796, -7.2174, -7.0898, -7.2347, -7.3089, -7.3536, -4.9968, -6.9989, -5.1708, -5.9772, -5.7533, -6.8819, -5.2322, -6.1396, -4.2234, -5.7651, -6.3704, -5.3481, -5.6577, -5.9074, -5.667, -6.0183, -5.6557, -5.9457, -5.7794, -5.933, -5.6991, -5.3124, -5.5966, -5.6171, -5.3669, -5.75, -5.6944, -5.6207, -5.782, -5.7762, -5.7127, -5.8917], \"loglift\": [30.0, 29.0, 28.0, 27.0, 26.0, 25.0, 24.0, 23.0, 22.0, 21.0, 20.0, 19.0, 18.0, 17.0, 16.0, 15.0, 14.0, 13.0, 12.0, 11.0, 10.0, 9.0, 8.0, 7.0, 6.0, 5.0, 4.0, 3.0, 2.0, 1.0, 0.5636, 0.5635, 0.5634, 0.5632, 0.5628, 0.5627, 0.5627, 0.5626, 0.5625, 0.5624, 0.5623, 0.5623, 0.5622, 0.5622, 0.5619, 0.5619, 0.5618, 0.5616, 0.5616, 0.5616, 0.5614, 0.5614, 0.5613, 0.5612, 0.5612, 0.5612, 0.5611, 0.5611, 0.5611, 0.5611, 0.5586, 0.5597, 0.5526, 0.5526, 0.5551, 0.5523, 0.5507, 0.5606, 0.5604, 0.5383, 0.5567, 0.516, 0.5296, 0.5231, 0.4824, 0.5092, 0.418, 0.4105, 0.402, 0.3494, 0.5154, 0.4314, 0.4615, 0.3531, 0.4354, 0.3998, 0.2865, 0.3771, 0.4052, 0.1558, 0.1366, 0.1041, -0.0904, -0.0177, -0.4936, -0.0718, 1.0582, 1.0575, 1.0574, 1.0571, 1.0565, 1.0562, 1.056, 1.0556, 1.0554, 1.0553, 1.0553, 1.0552, 1.0548, 1.0547, 1.0544, 1.0543, 1.0543, 1.0541, 1.0537, 1.0536, 1.0532, 1.053, 1.0529, 1.0528, 1.0526, 1.0524, 1.0523, 1.0522, 1.0521, 1.052, 1.0483, 1.0408, 1.0494, 1.052, 1.0493, 1.0495, 1.0488, 0.9911, 1.0223, 0.9946, 0.9988, 0.9974, 0.8654, 0.9694, 0.943, 0.9713, 0.952, 0.8616, 0.7054, 0.6315, 0.6744, 0.8615, 0.8197, 0.8698, 0.877, 0.5356, 0.3247, 0.4261, 0.6087, 0.59, 0.3045, 0.2399, -0.0347, 0.0607, 0.0023, 0.2714, 0.5978, 0.3402, 0.5849, -0.5861, -0.3592, 0.0488, -0.602, 0.1746, 2.4747, 2.47, 2.4693, 2.4686, 2.4683, 2.4682, 2.4682, 2.4681, 2.4666, 2.4655, 2.4643, 2.4624, 2.462, 2.4613, 2.4612, 2.4609, 2.4601, 2.4597, 2.4589, 2.4576, 2.4558, 2.4553, 2.4548, 2.4547, 2.4541, 2.454, 2.4538, 2.453, 2.4528, 2.4521, 2.4369, 2.4498, 2.3978, 2.408, 2.3877, 2.4309, 2.2575, 2.2974, 1.9223, 2.1703, 2.2903, 1.9831, 1.9944, 2.0129, 1.8079, 1.9834, 1.7223, 1.8873, 1.6383, 1.7402, 1.454, 0.947, 1.3025, 1.2576, 0.7921, 1.4031, 1.1914, 0.7524, 1.0838, 0.792, 0.2756, 1.3173]}, \"token.table\": {\"Topic\": [2, 2, 1, 2, 3, 2, 3, 2, 3, 3, 1, 2, 3, 2, 3, 1, 2, 1, 3, 2, 2, 1, 2, 3, 1, 2, 1, 3, 1, 2, 2, 3, 2, 3, 1, 2, 1, 1, 1, 2, 3, 3, 1, 2, 3, 2, 1, 2, 1, 1, 2, 3, 2, 1, 3, 1, 2, 3, 3, 1, 3, 1, 2, 1, 2, 1, 2, 3, 1, 3, 1, 2, 3, 3, 1, 2, 1, 1, 2, 1, 2, 1, 2, 3, 1, 2, 1, 3, 1, 2, 3, 2, 3, 1, 2, 2, 3, 1, 2, 3, 1, 2, 1, 1, 2, 3, 2, 1, 2, 1, 2, 3, 1, 2, 3, 1, 2, 1, 2, 3, 2, 3, 1, 2, 3, 1, 2, 3, 1, 2, 3, 3, 1, 2, 3, 1, 3, 3, 1, 1, 2, 1, 2, 3, 3, 1, 2, 1, 2, 1, 2, 2, 3, 3, 1, 1, 1, 2, 1, 2, 3, 3, 3, 1, 2, 3, 1, 2, 1, 2, 3, 1, 2, 3, 1, 2, 2, 1, 2, 3, 1, 2, 1, 2, 1, 1, 2, 3, 1, 1, 2, 2, 3, 1, 2, 3, 1, 1, 2, 1, 1, 3, 2, 1, 2, 1, 2, 3, 1, 3, 1, 1, 2, 1, 3, 2, 3, 1, 1, 2, 3, 1, 2, 3, 1, 2, 3, 1, 2, 3, 1, 3, 2, 3, 1, 2, 3, 2, 2, 1, 2, 3, 3, 3, 2, 1, 2, 3, 2, 3, 1, 3, 2, 2, 2, 1, 2, 3, 1, 1, 3, 2, 1, 2, 1, 2, 1, 2, 3, 1, 1, 2, 3, 2, 2, 1, 2, 2, 3, 1, 2, 1, 2, 3, 1, 2, 3, 1, 2, 1, 2, 3, 1, 2, 1, 2, 3, 2, 1, 2, 1, 3, 3, 2, 1, 3, 1, 1, 2, 2, 1, 2, 3, 1, 2, 1, 2, 3, 1, 2, 2, 3, 1, 2, 1, 3, 2, 3, 3, 1, 2, 3, 1, 2, 3, 1, 2, 1, 2, 3], \"Freq\": [0.9952644723008333, 0.9949860435667355, 0.22474885382376097, 0.034960932817029486, 0.7391740081314806, 0.518726506676542, 0.4803023209967981, 0.38759809506862797, 0.6114223471505118, 0.9919624917172274, 0.0034273177452156934, 0.7488689273296291, 0.24848053652813779, 0.4418219460534099, 0.5545316261690757, 0.9028334656046906, 0.09688594424215678, 0.06264485769126839, 0.9318422581576173, 0.9969431196181214, 0.9894773332922403, 0.006056230984495681, 0.9932218814572916, 0.9682104512666737, 0.5868515099930987, 0.4128603587891146, 0.9868425705775852, 0.013024318190364068, 0.9467231996275638, 0.0526530896194174, 0.820911692825084, 0.17905089218506295, 0.8913663795951434, 0.1079388975290994, 0.3694280689640595, 0.6307047322313943, 0.9951593129791024, 0.9981419680031207, 0.829697868530958, 0.16164340351315104, 0.008592340386081117, 0.9727274472826404, 0.2688525004538593, 0.2602721015032042, 0.47192194228602957, 0.9944827644691484, 0.0031265936339559953, 0.9973833692319626, 0.9978528375743554, 0.9533146185521139, 0.02010000701766505, 0.026663274615269964, 0.9967307845323622, 0.1950861456234378, 0.8059296507722348, 0.3678163839815369, 0.446725089195569, 0.18581727356852729, 0.9875596824793995, 0.7037656335640193, 0.2956853153303374, 0.9992186309007294, 0.9985220026663293, 0.0064921159061582965, 0.9932937336422194, 0.30502568071161845, 0.06887676661230094, 0.62973043759818, 0.998251214773267, 0.9675887779494433, 0.9886623196167458, 0.011076379087844554, 0.0001909720532386992, 0.9997323757773933, 0.9959487286160787, 0.9946092681879253, 0.9973122074253129, 0.9521730295813345, 0.046973869459345834, 0.6523061900392745, 0.3477418763981613, 0.038626667967051165, 0.9134070895737981, 0.04771529572400438, 0.05705660513693603, 0.942792475357943, 0.9983640380031877, 0.002194206676930083, 0.8115015373588502, 0.002535942304246407, 0.18596910231140318, 0.9873642882447864, 0.0065388363459919635, 0.03548934186052849, 0.9653100986063748, 0.022684934962083687, 0.9754522033695985, 0.4705581554856715, 0.1690354539123286, 0.36091353673172866, 0.06214003282870115, 0.9379261205082079, 0.9973292019487503, 0.12378178110080537, 0.04126059370026846, 0.8355270224304363, 0.990669109612811, 0.809896154938417, 0.18994390939368141, 0.9981027194137975, 0.008012506638021992, 0.993550823114727, 0.3603769946136952, 0.6376618842516939, 0.002800857471090896, 0.05806425634429336, 0.9406409527775524, 0.9889179666770869, 0.010760427155840538, 0.0003471105534142109, 0.9892530788447821, 0.005179335491333938, 0.9745614593291065, 0.023441207343553296, 0.0018860741540790008, 0.8643840013150972, 0.1352394157039119, 0.0003189608860941318, 0.5388408619918147, 0.45502117234864353, 0.005726811093632813, 0.9725365391997356, 0.08239801947832431, 0.9173646168586773, 0.9895868924548176, 0.9968089719222413, 0.0019936179438444827, 0.9794205274682972, 0.9954447532403375, 0.9885790984728644, 0.011262941567272406, 0.9945972580084974, 0.005134730294313358, 0.9859023308014155, 0.9891547594121389, 0.010562194891195227, 0.9888854966881532, 0.21201304603785281, 0.7872999078013833, 0.17193555769767, 0.8280977880949003, 0.9970747729410859, 0.004297736090263302, 0.9814903385720101, 0.997755422395895, 0.9990289137351528, 0.8486509977589597, 0.15099989854731644, 0.4561012097866884, 0.5311941161493586, 0.013103460170667292, 0.9942389597986839, 0.9837309625592835, 0.5048283004761014, 0.1811584810320938, 0.31400803378896264, 0.7576128733351082, 0.24229289214183058, 0.07168583004952908, 0.652166209962789, 0.2762527109225755, 0.9217726174432327, 0.07551583211823623, 0.002996660004691914, 0.2976699564376466, 0.7022753758988648, 0.9974859202745403, 0.6649369399812252, 0.3350530305347092, 0.9961819127941438, 0.17576818271363906, 0.8240141409786198, 0.37665665639934603, 0.6220703418720078, 0.9990112285011581, 0.6328609736508336, 0.364188309638432, 0.0027928551352640494, 0.9994177432193483, 0.3736207457701564, 0.6256385129641769, 0.9953235853772547, 0.980650150483928, 0.22059273894302472, 0.26786261157367286, 0.5136659492530433, 0.9995304268353284, 0.31921419240000726, 0.6808605152531861, 0.9997681936532232, 0.9985022921726956, 0.9762017197722112, 0.9906068565570483, 0.5590127254395673, 0.44095638502139384, 0.7098187322048959, 0.1788800218709125, 0.11117642793570658, 0.38425596327319267, 0.6137421635613495, 0.9977495688772731, 0.9922072852766236, 0.00679594031011386, 0.9601459021973044, 0.039970644289878926, 0.07974418482365427, 0.913991041440345, 0.9969441769516076, 0.6768223440127615, 0.012402503686097726, 0.31006259215244314, 0.8504975936810879, 0.14842638452923088, 0.0011528262876056767, 0.3473252916949979, 0.6521683690211857, 0.0004978384496344928, 0.5126501727271934, 0.48749359926445307, 0.9926638709700476, 0.9972140655360863, 0.9849552433996386, 0.9887140978651744, 0.9974758230594768, 0.019801198704254112, 0.039602397408508225, 0.9504575378041975, 0.9958221863064605, 0.9928189446989184, 0.023188008641080178, 0.8996947352739109, 0.0788392293796726, 0.9878930723979883, 0.9937809447389125, 0.9959694973215434, 0.08063851631122806, 0.8346086438212105, 0.08467044212678947, 0.15671791899562093, 0.8413277756607018, 0.9998122252917516, 0.9922086506938336, 0.9984812676284792, 0.9950270041908469, 0.9990926381024874, 0.8796289317596028, 0.07384833279498357, 0.04645298353232838, 0.9994815323069174, 0.9958745644930708, 0.0023996977457664353, 0.9958674692929089, 0.9979384584028536, 0.002722888017470269, 0.9661745735426994, 0.033460591291522054, 0.9989257462058662, 0.5654625388994087, 0.43451331936480875, 0.9994898109243071, 0.1427200332837021, 0.8210080265186164, 0.036783513732912915, 0.9995795744158221, 0.9965354139713676, 0.8760230675840248, 0.1240340717728566, 0.07268106237623406, 0.9275487960395586, 0.007871704751508803, 0.9918347986901092, 0.05780633245492637, 0.9340286349295998, 0.007606096375648207, 0.8534185254124877, 0.144504427613504, 0.0019440057526480359, 0.9980181658906054, 0.9944869246243012, 0.9913697778218284, 0.008413322018289916, 0.0004674067787938842, 0.5296163655097471, 0.470188699937376, 0.51989797466807, 0.4800101864237034, 0.00027134549826099685, 0.9986639545131849, 0.8069722563549755, 0.19302725196600384, 0.9962609174265942, 0.9967871301879447, 0.9854942023534664, 0.9931622794643308, 0.03628926983779785, 0.9616656507016431, 0.9983844131477915, 0.0019683339959399816, 0.9979453359415706, 0.9978153051113802, 0.3859707414350618, 0.39718538767530576, 0.21681649397804925, 0.6313904865740163, 0.3684750295478683, 0.4659512519975635, 0.19186228023429083, 0.3426112147040908, 0.4071882595960811, 0.592780915900148, 0.9982188630008549, 0.9922086506938336, 0.9958808480253937, 0.004133605052468109, 0.9990436967487771, 0.9924320070847445, 0.01169600423202902, 0.9824643554904376, 0.9912366825618528, 0.24605306911895972, 0.17849273488629622, 0.5755139582782448, 0.016727735847016686, 0.9819180942198794, 0.0016727735847016686, 0.857787939822019, 0.14201389413224186, 0.04514758143235497, 0.3386068607426623, 0.6170169462421846], \"Term\": [\"achiev\", \"altern\", \"amazon\", \"amazon\", \"amazon\", \"america\", \"america\", \"american\", \"american\", \"anarchist\", \"anti\", \"anti\", \"anti\", \"articl\", \"articl\", \"ask\", \"ask\", \"auto\", \"auto\", \"autom\", \"be\", \"bear\", \"bear\", \"berni\", \"better\", \"better\", \"boss\", \"boss\", \"break\", \"break\", \"capit\", \"capit\", \"capitalist\", \"capitalist\", \"chang\", \"chang\", \"client\", \"clock\", \"come\", \"come\", \"come\", \"comic\", \"comment\", \"comment\", \"comment\", \"commod\", \"communiti\", \"communiti\", \"commut\", \"compani\", \"compani\", \"compani\", \"concept\", \"coronavirus\", \"coronavirus\", \"corpor\", \"corpor\", \"corpor\", \"cotton\", \"covid\", \"covid\", \"cowork\", \"creat\", \"creativ\", \"creativ\", \"credit\", \"credit\", \"credit\", \"custom\", \"david\", \"day\", \"day\", \"day\", \"delet\", \"depart\", \"desir\", \"desk\", \"didnt\", \"didnt\", \"dont\", \"dont\", \"dream\", \"dream\", \"dream\", \"educ\", \"educ\", \"email\", \"email\", \"employe\", \"employe\", \"employe\", \"enslav\", \"enslav\", \"escap\", \"escap\", \"essay\", \"essay\", \"essenti\", \"essenti\", \"essenti\", \"exist\", \"exist\", \"extra\", \"facebook\", \"facebook\", \"facebook\", \"farm\", \"feel\", \"feel\", \"finish\", \"format\", \"format\", \"free\", \"free\", \"free\", \"freedom\", \"freedom\", \"fuck\", \"fuck\", \"fuck\", \"generat\", \"generat\", \"get\", \"get\", \"get\", \"go\", \"go\", \"go\", \"good\", \"good\", \"good\", \"graeber\", \"grow\", \"grow\", \"hero\", \"hire\", \"hire\", \"historian\", \"holiday\", \"home\", \"home\", \"hour\", \"hour\", \"html\", \"http\", \"human\", \"human\", \"idea\", \"idea\", \"incom\", \"incom\", \"individu\", \"individu\", \"instagram\", \"insur\", \"interview\", \"ive\", \"ive\", \"job\", \"job\", \"job\", \"john\", \"jpg\", \"kill\", \"kill\", \"kill\", \"know\", \"know\", \"labor\", \"labor\", \"labor\", \"leav\", \"leav\", \"leav\", \"life\", \"life\", \"lifestyl\", \"like\", \"like\", \"linkedin\", \"live\", \"live\", \"love\", \"love\", \"lunch\", \"make\", \"make\", \"make\", \"manag\", \"mean\", \"mean\", \"meaning\", \"meirl\", \"million\", \"million\", \"million\", \"minut\", \"money\", \"money\", \"month\", \"morn\", \"nbsp\", \"necess\", \"need\", \"need\", \"new\", \"new\", \"new\", \"news\", \"news\", \"night\", \"notic\", \"notic\", \"offic\", \"offic\", \"org\", \"org\", \"overtim\", \"pandem\", \"pandem\", \"pandem\", \"pay\", \"pay\", \"pay\", \"peopl\", \"peopl\", \"peopl\", \"person\", \"person\", \"petit\", \"phone\", \"pjpg\", \"planet\", \"png\", \"podcast\", \"podcast\", \"podcast\", \"poll\", \"poverti\", \"power\", \"power\", \"power\", \"presid\", \"preview\", \"produc\", \"profit\", \"profit\", \"profit\", \"protest\", \"protest\", \"quit\", \"redd\", \"remov\", \"resourc\", \"rich\", \"say\", \"say\", \"say\", \"schedul\", \"send\", \"send\", \"shelter\", \"shift\", \"shift\", \"shit\", \"shit\", \"sick\", \"slaveri\", \"slaveri\", \"sleep\", \"social\", \"social\", \"social\", \"societi\", \"solut\", \"start\", \"start\", \"strike\", \"strike\", \"structur\", \"structur\", \"sub\", \"sub\", \"sub\", \"take\", \"take\", \"take\", \"team\", \"technolog\", \"tell\", \"tell\", \"tell\", \"thing\", \"thing\", \"think\", \"think\", \"think\", \"thread\", \"time\", \"time\", \"tomorrow\", \"trump\", \"twitter\", \"ubi\", \"union\", \"union\", \"vacat\", \"valu\", \"valu\", \"view\", \"wage\", \"wage\", \"wage\", \"want\", \"want\", \"watch\", \"watch\", \"watch\", \"way\", \"way\", \"wealth\", \"webp\", \"week\", \"week\", \"weekend\", \"width\", \"wiki\", \"wiki\", \"wikipedia\", \"worker\", \"worker\", \"worker\", \"world\", \"world\", \"world\", \"year\", \"year\", \"youtub\", \"youtub\", \"youtub\"]}, \"R\": 30, \"lambda.step\": 0.01, \"plot.opts\": {\"xlab\": \"PC1\", \"ylab\": \"PC2\"}, \"topic.order\": [2, 1, 3]};\n",
       "\n",
       "function LDAvis_load_lib(url, callback){\n",
       "  var s = document.createElement('script');\n",
       "  s.src = url;\n",
       "  s.async = true;\n",
       "  s.onreadystatechange = s.onload = callback;\n",
       "  s.onerror = function(){console.warn(\"failed to load library \" + url);};\n",
       "  document.getElementsByTagName(\"head\")[0].appendChild(s);\n",
       "}\n",
       "\n",
       "if(typeof(LDAvis) !== \"undefined\"){\n",
       "   // already loaded: just create the visualization\n",
       "   !function(LDAvis){\n",
       "       new LDAvis(\"#\" + \"ldavis_el52091398250338271527474278356\", ldavis_el52091398250338271527474278356_data);\n",
       "   }(LDAvis);\n",
       "}else if(typeof define === \"function\" && define.amd){\n",
       "   // require.js is available: use it to load d3/LDAvis\n",
       "   require.config({paths: {d3: \"https://d3js.org/d3.v5\"}});\n",
       "   require([\"d3\"], function(d3){\n",
       "      window.d3 = d3;\n",
       "      LDAvis_load_lib(\"https://cdn.jsdelivr.net/gh/bmabey/pyLDAvis@3.3.1/pyLDAvis/js/ldavis.v3.0.0.js\", function(){\n",
       "        new LDAvis(\"#\" + \"ldavis_el52091398250338271527474278356\", ldavis_el52091398250338271527474278356_data);\n",
       "      });\n",
       "    });\n",
       "}else{\n",
       "    // require.js not available: dynamically load d3 & LDAvis\n",
       "    LDAvis_load_lib(\"https://d3js.org/d3.v5.js\", function(){\n",
       "         LDAvis_load_lib(\"https://cdn.jsdelivr.net/gh/bmabey/pyLDAvis@3.3.1/pyLDAvis/js/ldavis.v3.0.0.js\", function(){\n",
       "                 new LDAvis(\"#\" + \"ldavis_el52091398250338271527474278356\", ldavis_el52091398250338271527474278356_data);\n",
       "            })\n",
       "         });\n",
       "}\n",
       "</script>"
      ],
      "text/plain": [
       "<IPython.core.display.HTML object>"
      ]
     },
     "execution_count": 39,
     "metadata": {},
     "output_type": "execute_result"
    }
   ],
   "source": [
    "# Create Dictionary\n",
    "id2word = corpora.Dictionary(df20['preprocessed'])\n",
    "\n",
    "# Create Corpus: Term Document Frequency\n",
    "corpus = [id2word.doc2bow(text) for text in df20['preprocessed']]\n",
    "\n",
    "# Build LDA model\n",
    "lda_model = gensim.models.LdaMulticore(corpus=corpus,\n",
    "                                           id2word=id2word,\n",
    "                                           num_topics=3, \n",
    "                                           workers=3,\n",
    "                                           random_state=42,\n",
    "                                           chunksize=256,\n",
    "                                           passes=10,\n",
    "                                           alpha='symmetric',\n",
    "                                           iterations=100,\n",
    "                                           per_word_topics=True)\n",
    "\n",
    "#pprint(lda_model.print_topics())\n",
    "\n",
    "\n",
    "pyLDAvis.enable_notebook()\n",
    "vis = pyLDAvis.gensim_models.prepare(topic_model=lda_model, corpus=corpus, dictionary=id2word)\n",
    "\n",
    "pyLDAvis.display(vis)"
   ]
  },
  {
   "cell_type": "markdown",
   "id": "cd82e969-483b-4ac5-be0e-a12da71c8cdc",
   "metadata": {},
   "source": [
    "Topic 1: \n",
    "- Topic 1 is consistently overall about the __emlployee's time__ and the biggest topic. The words that are more exclusive to this topic that tell a clear story are \"day\", \"hour\", \"week\", \"feel\", \"time\", \"sleep\", \"weekend\", \"mental\", \"month\", and \"home\". \n",
    "- The potential recommendations for an employer remain the same. Have clear and strict working hours, providing appropriate time off, encourage taking time off, but without adding unnecessary pressure on other employees. Possibly giving employees time back when possible could also assist in alleviating this concern.\n",
    "\n",
    "Topic 2: \n",
    "- Topic 2 is still concerning the __financial sustainability__ and the __possible lifestyle__ the job can offer. Terms such as human, world, life, live, the lemma \"capit\" which could likely refer to having capital, income, wealth, freedom, education, etc. lead me to this summation.\n",
    "- Recommendations for addressing this topic could include doing something to ensure that your employees don't see themselves as \"just a number\" or \"part of the system\". Provide opportunities that give the message of being invested in employees' futures such as opportunities for professional development without having to take time off, asking their opinion when relevant, or problem solving together opposed to providing the hard fast solution. Providing access to places like coursera or udemy, offering some type of student loan forgiveness, or assistance/encouragement of employees furthering their education could make employees feel invested in.\n",
    "\n",
    "Topic 3: \n",
    "- Topic 3 also had many deleted posts which is told by the lemma \"delet\" which is how posts deletd by the user will show when scraping the subreddit. The terms that make this topic most unique are union, strike, coronavirus, the lemma \"societi\",  and capitalist. This narrative seems to be aligned with how __society is handling the pandemic and what employees are considering doing about it__. It's a possible narrative that employees feel as if companies are more concerned about the companies bottom line instead of their employees. It is expected in the year 2020 to see coronavirus as a common word, but somewhat surprising that it's the smallest topic.\n",
    "- Recommendations for this topic could include asking employees if they feel physically and mentally safe in the workplace, and/or what could make them feel safer. As well as ensuring employees feel valued and appreciated. The best way to ensure they feel valued/appreciated is simply to ask what would make them feel valued, then make strides to do that."
   ]
  },
  {
   "cell_type": "code",
   "execution_count": 40,
   "id": "eb975061-910d-4cae-98b6-1799032c2b43",
   "metadata": {},
   "outputs": [],
   "source": [
    "p = pyLDAvis.gensim_models.prepare(lda_model, corpus, id2word)\n",
    "pyLDAvis.save_html(p, './pyLDAvis/lda2020.html')"
   ]
  },
  {
   "cell_type": "markdown",
   "id": "75fd8d3d-2919-4b1e-8a1a-c6b65b1598f1",
   "metadata": {
    "tags": []
   },
   "source": [
    "### 2021"
   ]
  },
  {
   "cell_type": "code",
   "execution_count": 41,
   "id": "b84ef437-d2e1-4a92-b628-60eb5656c90a",
   "metadata": {},
   "outputs": [
    {
     "data": {
      "text/plain": [
       "(151533, 10)"
      ]
     },
     "execution_count": 41,
     "metadata": {},
     "output_type": "execute_result"
    }
   ],
   "source": [
    "df21 = df[df['year']==2021]\n",
    "df21.shape"
   ]
  },
  {
   "cell_type": "code",
   "execution_count": 45,
   "id": "adbd1a33-92b9-4d90-bd78-dcde8a7345e1",
   "metadata": {},
   "outputs": [
    {
     "name": "stderr",
     "output_type": "stream",
     "text": [
      "/opt/conda/lib/python3.7/site-packages/past/builtins/misc.py:45: DeprecationWarning: the imp module is deprecated in favour of importlib; see the module's documentation for alternative uses\n",
      "  from imp import reload\n",
      "/opt/conda/lib/python3.7/site-packages/joblib/backports.py:36: DeprecationWarning: distutils Version classes are deprecated. Use packaging.version instead.\n",
      "  if LooseVersion(np.__version__) < '1.13':\n",
      "/opt/conda/lib/python3.7/site-packages/setuptools/_distutils/version.py:351: DeprecationWarning: distutils Version classes are deprecated. Use packaging.version instead.\n",
      "  other = LooseVersion(other)\n",
      "/opt/conda/lib/python3.7/site-packages/joblib/backports.py:36: DeprecationWarning: distutils Version classes are deprecated. Use packaging.version instead.\n",
      "  if LooseVersion(np.__version__) < '1.13':\n",
      "/opt/conda/lib/python3.7/site-packages/setuptools/_distutils/version.py:351: DeprecationWarning: distutils Version classes are deprecated. Use packaging.version instead.\n",
      "  other = LooseVersion(other)\n",
      "/opt/conda/lib/python3.7/site-packages/joblib/backports.py:36: DeprecationWarning: distutils Version classes are deprecated. Use packaging.version instead.\n",
      "  if LooseVersion(np.__version__) < '1.13':\n",
      "/opt/conda/lib/python3.7/site-packages/setuptools/_distutils/version.py:351: DeprecationWarning: distutils Version classes are deprecated. Use packaging.version instead.\n",
      "  other = LooseVersion(other)\n",
      "/opt/conda/lib/python3.7/site-packages/joblib/backports.py:36: DeprecationWarning: distutils Version classes are deprecated. Use packaging.version instead.\n",
      "  if LooseVersion(np.__version__) < '1.13':\n",
      "/opt/conda/lib/python3.7/site-packages/setuptools/_distutils/version.py:351: DeprecationWarning: distutils Version classes are deprecated. Use packaging.version instead.\n",
      "  other = LooseVersion(other)\n",
      "/opt/conda/lib/python3.7/site-packages/joblib/backports.py:36: DeprecationWarning: distutils Version classes are deprecated. Use packaging.version instead.\n",
      "  if LooseVersion(np.__version__) < '1.13':\n",
      "/opt/conda/lib/python3.7/site-packages/setuptools/_distutils/version.py:351: DeprecationWarning: distutils Version classes are deprecated. Use packaging.version instead.\n",
      "  other = LooseVersion(other)\n",
      "/opt/conda/lib/python3.7/site-packages/joblib/backports.py:36: DeprecationWarning: distutils Version classes are deprecated. Use packaging.version instead.\n",
      "  if LooseVersion(np.__version__) < '1.13':\n",
      "/opt/conda/lib/python3.7/site-packages/setuptools/_distutils/version.py:351: DeprecationWarning: distutils Version classes are deprecated. Use packaging.version instead.\n",
      "  other = LooseVersion(other)\n",
      "/opt/conda/lib/python3.7/site-packages/joblib/backports.py:36: DeprecationWarning: distutils Version classes are deprecated. Use packaging.version instead.\n",
      "  if LooseVersion(np.__version__) < '1.13':\n",
      "/opt/conda/lib/python3.7/site-packages/setuptools/_distutils/version.py:351: DeprecationWarning: distutils Version classes are deprecated. Use packaging.version instead.\n",
      "  other = LooseVersion(other)\n",
      "/opt/conda/lib/python3.7/site-packages/joblib/backports.py:36: DeprecationWarning: distutils Version classes are deprecated. Use packaging.version instead.\n",
      "  if LooseVersion(np.__version__) < '1.13':\n",
      "/opt/conda/lib/python3.7/site-packages/setuptools/_distutils/version.py:351: DeprecationWarning: distutils Version classes are deprecated. Use packaging.version instead.\n",
      "  other = LooseVersion(other)\n",
      "/opt/conda/lib/python3.7/site-packages/joblib/backports.py:36: DeprecationWarning: distutils Version classes are deprecated. Use packaging.version instead.\n",
      "  if LooseVersion(np.__version__) < '1.13':\n",
      "/opt/conda/lib/python3.7/site-packages/setuptools/_distutils/version.py:351: DeprecationWarning: distutils Version classes are deprecated. Use packaging.version instead.\n",
      "  other = LooseVersion(other)\n",
      "/opt/conda/lib/python3.7/site-packages/joblib/backports.py:36: DeprecationWarning: distutils Version classes are deprecated. Use packaging.version instead.\n",
      "  if LooseVersion(np.__version__) < '1.13':\n",
      "/opt/conda/lib/python3.7/site-packages/setuptools/_distutils/version.py:351: DeprecationWarning: distutils Version classes are deprecated. Use packaging.version instead.\n",
      "  other = LooseVersion(other)\n",
      "/opt/conda/lib/python3.7/site-packages/past/builtins/misc.py:45: DeprecationWarning: the imp module is deprecated in favour of importlib; see the module's documentation for alternative uses\n",
      "  from imp import reload\n",
      "/opt/conda/lib/python3.7/site-packages/joblib/backports.py:36: DeprecationWarning: distutils Version classes are deprecated. Use packaging.version instead.\n",
      "  if LooseVersion(np.__version__) < '1.13':\n",
      "/opt/conda/lib/python3.7/site-packages/setuptools/_distutils/version.py:351: DeprecationWarning: distutils Version classes are deprecated. Use packaging.version instead.\n",
      "  other = LooseVersion(other)\n",
      "/opt/conda/lib/python3.7/site-packages/joblib/backports.py:36: DeprecationWarning: distutils Version classes are deprecated. Use packaging.version instead.\n",
      "  if LooseVersion(np.__version__) < '1.13':\n",
      "/opt/conda/lib/python3.7/site-packages/setuptools/_distutils/version.py:351: DeprecationWarning: distutils Version classes are deprecated. Use packaging.version instead.\n",
      "  other = LooseVersion(other)\n",
      "/opt/conda/lib/python3.7/site-packages/joblib/backports.py:36: DeprecationWarning: distutils Version classes are deprecated. Use packaging.version instead.\n",
      "  if LooseVersion(np.__version__) < '1.13':\n",
      "/opt/conda/lib/python3.7/site-packages/setuptools/_distutils/version.py:351: DeprecationWarning: distutils Version classes are deprecated. Use packaging.version instead.\n",
      "  other = LooseVersion(other)\n",
      "/opt/conda/lib/python3.7/site-packages/joblib/backports.py:36: DeprecationWarning: distutils Version classes are deprecated. Use packaging.version instead.\n",
      "  if LooseVersion(np.__version__) < '1.13':\n",
      "/opt/conda/lib/python3.7/site-packages/setuptools/_distutils/version.py:351: DeprecationWarning: distutils Version classes are deprecated. Use packaging.version instead.\n",
      "  other = LooseVersion(other)\n",
      "/opt/conda/lib/python3.7/site-packages/joblib/backports.py:36: DeprecationWarning: distutils Version classes are deprecated. Use packaging.version instead.\n",
      "  if LooseVersion(np.__version__) < '1.13':\n",
      "/opt/conda/lib/python3.7/site-packages/setuptools/_distutils/version.py:351: DeprecationWarning: distutils Version classes are deprecated. Use packaging.version instead.\n",
      "  other = LooseVersion(other)\n",
      "/opt/conda/lib/python3.7/site-packages/joblib/backports.py:36: DeprecationWarning: distutils Version classes are deprecated. Use packaging.version instead.\n",
      "  if LooseVersion(np.__version__) < '1.13':\n",
      "/opt/conda/lib/python3.7/site-packages/setuptools/_distutils/version.py:351: DeprecationWarning: distutils Version classes are deprecated. Use packaging.version instead.\n",
      "  other = LooseVersion(other)\n",
      "/opt/conda/lib/python3.7/site-packages/joblib/backports.py:36: DeprecationWarning: distutils Version classes are deprecated. Use packaging.version instead.\n",
      "  if LooseVersion(np.__version__) < '1.13':\n",
      "/opt/conda/lib/python3.7/site-packages/setuptools/_distutils/version.py:351: DeprecationWarning: distutils Version classes are deprecated. Use packaging.version instead.\n",
      "  other = LooseVersion(other)\n",
      "/opt/conda/lib/python3.7/site-packages/joblib/backports.py:36: DeprecationWarning: distutils Version classes are deprecated. Use packaging.version instead.\n",
      "  if LooseVersion(np.__version__) < '1.13':\n",
      "/opt/conda/lib/python3.7/site-packages/setuptools/_distutils/version.py:351: DeprecationWarning: distutils Version classes are deprecated. Use packaging.version instead.\n",
      "  other = LooseVersion(other)\n",
      "/opt/conda/lib/python3.7/site-packages/past/builtins/misc.py:45: DeprecationWarning: the imp module is deprecated in favour of importlib; see the module's documentation for alternative uses\n",
      "  from imp import reload\n",
      "/opt/conda/lib/python3.7/site-packages/joblib/backports.py:36: DeprecationWarning: distutils Version classes are deprecated. Use packaging.version instead.\n",
      "  if LooseVersion(np.__version__) < '1.13':\n",
      "/opt/conda/lib/python3.7/site-packages/setuptools/_distutils/version.py:351: DeprecationWarning: distutils Version classes are deprecated. Use packaging.version instead.\n",
      "  other = LooseVersion(other)\n",
      "/opt/conda/lib/python3.7/site-packages/joblib/backports.py:36: DeprecationWarning: distutils Version classes are deprecated. Use packaging.version instead.\n",
      "  if LooseVersion(np.__version__) < '1.13':\n",
      "/opt/conda/lib/python3.7/site-packages/setuptools/_distutils/version.py:351: DeprecationWarning: distutils Version classes are deprecated. Use packaging.version instead.\n",
      "  other = LooseVersion(other)\n",
      "/opt/conda/lib/python3.7/site-packages/joblib/backports.py:36: DeprecationWarning: distutils Version classes are deprecated. Use packaging.version instead.\n",
      "  if LooseVersion(np.__version__) < '1.13':\n",
      "/opt/conda/lib/python3.7/site-packages/setuptools/_distutils/version.py:351: DeprecationWarning: distutils Version classes are deprecated. Use packaging.version instead.\n",
      "  other = LooseVersion(other)\n",
      "/opt/conda/lib/python3.7/site-packages/joblib/backports.py:36: DeprecationWarning: distutils Version classes are deprecated. Use packaging.version instead.\n",
      "  if LooseVersion(np.__version__) < '1.13':\n",
      "/opt/conda/lib/python3.7/site-packages/setuptools/_distutils/version.py:351: DeprecationWarning: distutils Version classes are deprecated. Use packaging.version instead.\n",
      "  other = LooseVersion(other)\n",
      "/opt/conda/lib/python3.7/site-packages/joblib/backports.py:36: DeprecationWarning: distutils Version classes are deprecated. Use packaging.version instead.\n",
      "  if LooseVersion(np.__version__) < '1.13':\n",
      "/opt/conda/lib/python3.7/site-packages/setuptools/_distutils/version.py:351: DeprecationWarning: distutils Version classes are deprecated. Use packaging.version instead.\n",
      "  other = LooseVersion(other)\n",
      "/opt/conda/lib/python3.7/site-packages/joblib/backports.py:36: DeprecationWarning: distutils Version classes are deprecated. Use packaging.version instead.\n",
      "  if LooseVersion(np.__version__) < '1.13':\n",
      "/opt/conda/lib/python3.7/site-packages/setuptools/_distutils/version.py:351: DeprecationWarning: distutils Version classes are deprecated. Use packaging.version instead.\n",
      "  other = LooseVersion(other)\n",
      "/opt/conda/lib/python3.7/site-packages/joblib/backports.py:36: DeprecationWarning: distutils Version classes are deprecated. Use packaging.version instead.\n",
      "  if LooseVersion(np.__version__) < '1.13':\n",
      "/opt/conda/lib/python3.7/site-packages/setuptools/_distutils/version.py:351: DeprecationWarning: distutils Version classes are deprecated. Use packaging.version instead.\n",
      "  other = LooseVersion(other)\n",
      "/opt/conda/lib/python3.7/site-packages/joblib/backports.py:36: DeprecationWarning: distutils Version classes are deprecated. Use packaging.version instead.\n",
      "  if LooseVersion(np.__version__) < '1.13':\n",
      "/opt/conda/lib/python3.7/site-packages/setuptools/_distutils/version.py:351: DeprecationWarning: distutils Version classes are deprecated. Use packaging.version instead.\n",
      "  other = LooseVersion(other)\n",
      "/opt/conda/lib/python3.7/site-packages/past/builtins/misc.py:45: DeprecationWarning: the imp module is deprecated in favour of importlib; see the module's documentation for alternative uses\n",
      "  from imp import reload\n",
      "/opt/conda/lib/python3.7/site-packages/joblib/backports.py:36: DeprecationWarning: distutils Version classes are deprecated. Use packaging.version instead.\n",
      "  if LooseVersion(np.__version__) < '1.13':\n",
      "/opt/conda/lib/python3.7/site-packages/setuptools/_distutils/version.py:351: DeprecationWarning: distutils Version classes are deprecated. Use packaging.version instead.\n",
      "  other = LooseVersion(other)\n",
      "/opt/conda/lib/python3.7/site-packages/joblib/backports.py:36: DeprecationWarning: distutils Version classes are deprecated. Use packaging.version instead.\n",
      "  if LooseVersion(np.__version__) < '1.13':\n",
      "/opt/conda/lib/python3.7/site-packages/setuptools/_distutils/version.py:351: DeprecationWarning: distutils Version classes are deprecated. Use packaging.version instead.\n",
      "  other = LooseVersion(other)\n",
      "/opt/conda/lib/python3.7/site-packages/joblib/backports.py:36: DeprecationWarning: distutils Version classes are deprecated. Use packaging.version instead.\n",
      "  if LooseVersion(np.__version__) < '1.13':\n",
      "/opt/conda/lib/python3.7/site-packages/setuptools/_distutils/version.py:351: DeprecationWarning: distutils Version classes are deprecated. Use packaging.version instead.\n",
      "  other = LooseVersion(other)\n",
      "/opt/conda/lib/python3.7/site-packages/joblib/backports.py:36: DeprecationWarning: distutils Version classes are deprecated. Use packaging.version instead.\n",
      "  if LooseVersion(np.__version__) < '1.13':\n",
      "/opt/conda/lib/python3.7/site-packages/setuptools/_distutils/version.py:351: DeprecationWarning: distutils Version classes are deprecated. Use packaging.version instead.\n",
      "  other = LooseVersion(other)\n",
      "/opt/conda/lib/python3.7/site-packages/joblib/backports.py:36: DeprecationWarning: distutils Version classes are deprecated. Use packaging.version instead.\n",
      "  if LooseVersion(np.__version__) < '1.13':\n",
      "/opt/conda/lib/python3.7/site-packages/setuptools/_distutils/version.py:351: DeprecationWarning: distutils Version classes are deprecated. Use packaging.version instead.\n",
      "  other = LooseVersion(other)\n",
      "/opt/conda/lib/python3.7/site-packages/joblib/backports.py:36: DeprecationWarning: distutils Version classes are deprecated. Use packaging.version instead.\n",
      "  if LooseVersion(np.__version__) < '1.13':\n",
      "/opt/conda/lib/python3.7/site-packages/setuptools/_distutils/version.py:351: DeprecationWarning: distutils Version classes are deprecated. Use packaging.version instead.\n",
      "  other = LooseVersion(other)\n",
      "/opt/conda/lib/python3.7/site-packages/joblib/backports.py:36: DeprecationWarning: distutils Version classes are deprecated. Use packaging.version instead.\n",
      "  if LooseVersion(np.__version__) < '1.13':\n",
      "/opt/conda/lib/python3.7/site-packages/setuptools/_distutils/version.py:351: DeprecationWarning: distutils Version classes are deprecated. Use packaging.version instead.\n",
      "  other = LooseVersion(other)\n",
      "/opt/conda/lib/python3.7/site-packages/joblib/backports.py:36: DeprecationWarning: distutils Version classes are deprecated. Use packaging.version instead.\n",
      "  if LooseVersion(np.__version__) < '1.13':\n",
      "/opt/conda/lib/python3.7/site-packages/setuptools/_distutils/version.py:351: DeprecationWarning: distutils Version classes are deprecated. Use packaging.version instead.\n",
      "  other = LooseVersion(other)\n"
     ]
    },
    {
     "data": {
      "text/html": [
       "\n",
       "<link rel=\"stylesheet\" type=\"text/css\" href=\"https://cdn.jsdelivr.net/gh/bmabey/pyLDAvis@3.3.1/pyLDAvis/js/ldavis.v1.0.0.css\">\n",
       "\n",
       "\n",
       "<div id=\"ldavis_el52091398276886082082423290088\"></div>\n",
       "<script type=\"text/javascript\">\n",
       "\n",
       "var ldavis_el52091398276886082082423290088_data = {\"mdsDat\": {\"x\": [0.09864027303382956, 0.154370677971329, 0.07748038715704007, -0.3304913381621984], \"y\": [0.03935451261771981, 0.12045354722371314, -0.18455106197834012, 0.024743002136907208], \"topics\": [1, 2, 3, 4], \"cluster\": [1, 1, 1, 1], \"Freq\": [34.11731245776715, 33.60441003482422, 23.9414214982767, 8.336856009131937]}, \"tinfo\": {\"Term\": [\"delet\", \"day\", \"live\", \"life\", \"remov\", \"week\", \"hour\", \"peopl\", \"sub\", \"compani\", \"money\", \"worker\", \"wage\", \"think\", \"tell\", \"get\", \"shift\", \"job\", \"anti\", \"capit\", \"interview\", \"manag\", \"sick\", \"say\", \"union\", \"posit\", \"boss\", \"time\", \"guy\", \"societi\", \"interview\", \"appli\", \"team\", \"project\", \"role\", \"toxic\", \"applic\", \"remot\", \"promot\", \"perform\", \"review\", \"resum\", \"letter\", \"profession\", \"recruit\", \"png\", \"format\", \"entri\", \"softwar\", \"auto\", \"preview\", \"agenc\", \"width\", \"redd\", \"webp\", \"senior\", \"communic\", \"internship\", \"descript\", \"excel\", \"document\", \"client\", \"offer\", \"posit\", \"contract\", \"experi\", \"email\", \"compani\", \"advic\", \"meet\", \"process\", \"hire\", \"salari\", \"employ\", \"new\", \"question\", \"ive\", \"look\", \"answer\", \"ask\", \"know\", \"year\", \"manag\", \"like\", \"employe\", \"person\", \"feel\", \"current\", \"rais\", \"good\", \"want\", \"start\", \"month\", \"time\", \"get\", \"job\", \"pay\", \"think\", \"thing\", \"peopl\", \"tell\", \"dont\", \"go\", \"say\", \"need\", \"shift\", \"store\", \"weekend\", \"night\", \"lunch\", \"clock\", \"monday\", \"holiday\", \"sunday\", \"saturday\", \"pto\", \"yell\", \"wear\", \"coffe\", \"floor\", \"bathroom\", \"vaccin\", \"truck\", \"sick\", \"pizza\", \"mask\", \"patient\", \"appoint\", \"kitchen\", \"cashier\", \"hotel\", \"smoke\", \"station\", \"christma\", \"surgeri\", \"girl\", \"deliveri\", \"drink\", \"day\", \"morn\", \"vacat\", \"hospit\", \"sleep\", \"walk\", \"schedul\", \"minut\", \"clean\", \"week\", \"hour\", \"break\", \"home\", \"custom\", \"covid\", \"fuck\", \"get\", \"come\", \"tell\", \"time\", \"boss\", \"go\", \"say\", \"call\", \"shit\", \"leav\", \"today\", \"manag\", \"like\", \"quit\", \"feel\", \"start\", \"month\", \"want\", \"know\", \"pay\", \"need\", \"year\", \"take\", \"dont\", \"think\", \"wage\", \"wag\", \"tax\", \"surviv\", \"slave\", \"profit\", \"govern\", \"debt\", \"price\", \"generat\", \"healthcar\", \"wealth\", \"shortag\", \"poverti\", \"loan\", \"billion\", \"robot\", \"inflat\", \"lifestyl\", \"sustain\", \"planet\", \"starv\", \"feder\", \"mortgag\", \"wealthi\", \"necess\", \"landlord\", \"citizen\", \"percent\", \"europ\", \"rich\", \"societi\", \"human\", \"homeless\", \"labour\", \"incom\", \"countri\", \"live\", \"dream\", \"life\", \"minimum\", \"world\", \"cost\", \"million\", \"rent\", \"money\", \"retir\", \"labor\", \"afford\", \"peopl\", \"exist\", \"buy\", \"educ\", \"job\", \"dont\", \"pay\", \"want\", \"free\", \"mean\", \"way\", \"like\", \"need\", \"thing\", \"think\", \"worker\", \"make\", \"better\", \"time\", \"year\", \"feel\", \"busi\", \"hard\", \"know\", \"hour\", \"fuck\", \"delet\", \"remov\", \"strike\", \"amazon\", \"youtub\", \"union\", \"meme\", \"song\", \"revolut\", \"propaganda\", \"war\", \"poll\", \"bezo\", \"wiki\", \"twitter\", \"abolish\", \"org\", \"podcast\", \"communist\", \"ideolog\", \"youtu\", \"jeff\", \"bootlick\", \"socialist\", \"musk\", \"repost\", \"communism\", \"oppress\", \"instagram\", \"elon\", \"mod\", \"articl\", \"librari\", \"thread\", \"reddit\", \"anti\", \"sub\", \"user\", \"belong\", \"movement\", \"link\", \"subreddit\", \"news\", \"video\", \"comment\", \"capit\", \"worker\", \"watch\", \"post\", \"book\", \"organ\", \"think\", \"read\", \"guy\", \"capitalist\", \"right\", \"true\", \"love\", \"like\", \"social\", \"quit\"], \"Freq\": [43632.0, 51988.0, 19210.0, 22709.0, 8194.0, 32582.0, 38590.0, 44016.0, 7275.0, 26536.0, 16846.0, 9801.0, 8688.0, 31331.0, 25445.0, 38531.0, 9389.0, 16392.0, 4980.0, 6032.0, 8822.0, 23904.0, 8120.0, 21136.0, 3484.0, 9617.0, 20014.0, 57987.0, 9149.0, 5704.0, 8821.050696510549, 5922.594514116049, 5316.356780367294, 3341.4656254918177, 2756.99260868976, 2799.9805602359875, 2700.254810851444, 2706.261983782121, 2639.106135478075, 2603.8577509047486, 1899.5455074138476, 1812.3383095757038, 1725.413016494851, 1736.749393063878, 1623.7512104713908, 1585.5693273234847, 1549.42727360566, 1428.702920340722, 1378.6028923006327, 1356.8146832908283, 1195.9507425941376, 1210.7793793709975, 1171.929331469498, 1165.1474058294746, 1163.7543847319791, 1146.7488491320294, 1025.387394998599, 942.9975262171254, 861.9045746386164, 847.3546391558965, 958.2046570190121, 2758.7360692410507, 6747.220290991429, 9185.929420697656, 2605.3740567962386, 8027.085750826932, 4826.3515620978815, 22427.21021146758, 3398.111396570522, 6922.75609291986, 2556.710345143504, 7065.569198282954, 3916.5311388403356, 8231.798306836428, 10832.476863250376, 5564.213189796369, 10618.368258594972, 9488.804630223272, 3184.13423097895, 10838.12738395024, 16378.781334987485, 16979.2943830107, 12305.035485352693, 21508.6433630613, 8139.553323432038, 7537.044420791089, 13266.150537181742, 5044.948121553246, 4584.9183875105555, 8993.530588742175, 15109.556032396184, 9791.613052395922, 8871.229743308364, 17444.876786515186, 13517.873623708756, 8222.75328009216, 11691.345137269658, 10405.809741806104, 8898.939505415536, 11088.184669638715, 9007.88598664445, 9290.279223528758, 8924.067082073692, 8303.538019685682, 8381.753775981359, 9388.715008668209, 5391.787521575591, 5108.847404486862, 4951.195035207338, 2951.6768464648203, 2810.8938792497956, 2734.4615185066887, 2025.4291619571786, 1863.2559114873045, 1618.1061999733636, 1608.7318876840275, 1504.7030477488586, 1794.2096391116997, 1165.4140792784547, 1083.3998903104355, 1083.1537766057704, 1082.137386286972, 1060.3422679794612, 8112.0805781612835, 984.9329906240441, 892.280837959987, 894.3017623041192, 815.796271279527, 724.1556803631396, 757.0840016570193, 698.4791557902189, 703.2991693523817, 702.0407767855231, 667.9158781967607, 617.6922366187131, 931.5740287314413, 992.9315904103818, 1745.2991776501506, 47804.27846034761, 4054.81526624297, 3759.301741165341, 1576.1883700437702, 4909.487654486746, 4557.65788283447, 5241.27149357865, 5727.681287427913, 2150.1363338476885, 26589.205215554884, 30823.99786921055, 8888.601251879014, 11784.887216351062, 5088.127193043314, 5297.922011136788, 17975.182716644347, 23618.82889076011, 13285.816711858934, 16437.239402783634, 32136.50638405338, 12565.96300152576, 16913.692587350008, 12819.940105985337, 6568.195348969298, 8761.244007168576, 11087.806768536248, 7096.373334850796, 11598.834434690347, 18550.121159028928, 8957.015124859648, 12025.14238219997, 9589.21028561339, 8892.502354890017, 12477.22591170211, 10667.062099889179, 10691.397333456258, 9462.13606210179, 10014.916239383865, 7451.242907163019, 9140.718830570011, 7706.570099233267, 8687.163360640701, 3022.6749282593237, 3016.6898186063945, 2740.485659488695, 3498.267300113791, 2597.0007960173125, 2470.8390987733346, 1517.9296679918655, 1392.0968588585679, 1335.927837755641, 1337.4417585037252, 1406.4007668337863, 1150.4188667799285, 1006.2207766062222, 991.6022178059767, 837.5438876843664, 847.5723183417294, 807.8620081794369, 813.0622959758736, 812.1624177774307, 655.5374933422147, 632.8398539623231, 623.3567999027446, 584.4990238550251, 491.94597211681287, 485.50343005642424, 481.8135888378886, 467.04642411107966, 479.54325268363397, 433.8875814625678, 3269.929304086981, 5643.276920388105, 4569.8155553938295, 1317.1868013675705, 1005.4788709696408, 3071.3631753849454, 3268.359796615965, 17896.111659892216, 3101.9699334894403, 18682.887226204977, 4509.900970107467, 5520.65696934348, 2612.9451935288594, 1918.857081655714, 2261.646096569627, 12820.793170995752, 2440.3832967693506, 4155.4225305836835, 2666.234604396769, 25451.58438339607, 2508.56449970427, 3127.222654736644, 1832.816327865491, 8168.5822881486765, 12386.419989098846, 13538.174708374721, 14188.563345263408, 4399.81773247152, 5216.666260858267, 7238.255099800228, 14392.756267242612, 8464.645893969513, 7462.364962593052, 8453.875693917536, 4793.277996354859, 5761.787268710879, 4904.866707736878, 8405.537043681727, 7006.746753178752, 6160.416007891135, 4345.96182750079, 4231.538193249248, 5175.4465259328335, 4616.364531138384, 4292.884136651105, 43631.80620561191, 8192.992116181591, 2256.9113667067472, 2196.671183207237, 1821.5796814129044, 3481.285254166508, 1034.6209434959055, 1011.9422292480052, 820.0119806972137, 738.1402234658372, 736.5289023129478, 734.2825221283609, 707.0173020573325, 667.5412621884218, 568.5146087457239, 567.148562894932, 897.4167860244728, 538.2193135741804, 471.85052102239734, 471.7964845486858, 445.78008106897465, 451.2441695880795, 475.46897219575806, 435.56438845763154, 411.0238116892643, 414.8447928944729, 375.99413388286376, 388.9502679933089, 351.88414099106063, 339.1555863050181, 343.88138193220016, 1434.120896001286, 800.6644561228288, 1188.6277400958602, 2127.8986452528675, 3616.4441856662925, 4965.948708038341, 795.0142525147244, 1007.3785904839893, 903.2888760132174, 864.2224506430127, 1608.3668427128825, 1248.8768426972647, 1825.786271448954, 1867.6134435076801, 2833.889017099523, 3689.643824218442, 2086.3637161072793, 2028.0510074575977, 1503.0116594977883, 1275.0631360912525, 4765.741438045435, 1841.0571022691352, 2063.242747243102, 1206.6942349396386, 1780.874798047876, 1096.1801103511048, 1337.6844351443935, 1759.5520719401209, 1144.5489692290985, 1175.1460431620812], \"Total\": [43632.0, 51988.0, 19210.0, 22709.0, 8194.0, 32582.0, 38590.0, 44016.0, 7275.0, 26536.0, 16846.0, 9801.0, 8688.0, 31331.0, 25445.0, 38531.0, 9389.0, 16392.0, 4980.0, 6032.0, 8822.0, 23904.0, 8120.0, 21136.0, 3484.0, 9617.0, 20014.0, 57987.0, 9149.0, 5704.0, 8822.010508793719, 5923.568685505225, 5317.32432186729, 3342.44826183708, 2757.9677919857945, 2800.9766597381545, 2701.221889922125, 2707.2393617495836, 2640.0855758294874, 2604.8642024215465, 1900.5107606935287, 1813.3072463882108, 1726.381840805125, 1737.7364189416546, 1624.704945491981, 1586.5277330053812, 1550.3939748752134, 1429.6690581413336, 1379.5733217386676, 1357.7810053291937, 1196.913519254512, 1211.7552822745279, 1172.8889710175868, 1166.1054759325953, 1164.712281947333, 1147.7212152978443, 1026.3688831545276, 943.9656211860525, 862.8806610583089, 848.3557505158996, 959.4288746633115, 2793.829388192111, 6982.962237088681, 9617.24931849598, 2660.283252818685, 8505.420674206738, 5058.658828964109, 26536.335612569583, 3654.7936376300554, 7948.295025447315, 2713.440147265427, 8490.083169741429, 4546.389364904273, 11377.452190062964, 16006.560479805117, 7185.218524048077, 16495.426301045223, 14900.830736895472, 3741.2087906351303, 18111.11342843516, 32370.008666966158, 34001.280981792566, 23904.459060918656, 56211.07286127296, 14275.388018531608, 12777.402795975775, 31452.245262541415, 7079.371196642477, 6108.086764527035, 17684.399952239877, 41776.802396207284, 21236.84442567542, 18236.822330112354, 57987.248538588814, 38531.8642024694, 16392.05432484067, 35921.23859682453, 31331.996973002344, 22043.313320606187, 44016.17134018148, 25445.723373272616, 30819.94442328612, 29781.186797268907, 21136.91111657895, 27253.74675907137, 9389.717615851629, 5392.79545162978, 5109.861330119224, 4952.200841231453, 2952.6819511700605, 2811.908875376623, 2735.4678278289684, 2026.4293997364537, 1864.25762225465, 1619.0942880694304, 1609.734604819478, 1505.701721969816, 1795.4272747480973, 1166.428561423873, 1084.4015210712084, 1084.1614030473097, 1083.1477072049895, 1061.3391432211583, 8120.027589753079, 985.9355198780538, 893.2953310221639, 895.3224888487875, 816.8026056519681, 725.1509545124574, 758.1370886977234, 699.4863237776708, 704.3323173884405, 703.07364135302, 668.9075148931678, 618.697960642221, 934.0502394074117, 997.1681433050962, 1770.0765616166734, 51988.79782568021, 4213.244351826927, 3915.847538531457, 1606.9226424940623, 5185.483157352026, 4833.0289942777745, 5591.0826031957595, 6150.076888283004, 2220.2740735721395, 32582.346951240608, 38590.40476503969, 10334.901607760205, 14651.817405371321, 6026.226628392755, 6383.50889458986, 25707.971222845128, 38531.8642024694, 19707.33640643211, 25445.723373272616, 57987.248538588814, 20014.90086923289, 29781.186797268907, 21136.91111657895, 9078.435002988894, 13194.409359362598, 18631.437671680473, 10491.176004198254, 23904.459060918656, 56211.07286127296, 16488.422923965034, 31452.245262541415, 21236.84442567542, 18236.822330112354, 41776.802396207284, 32370.008666966158, 35921.23859682453, 27253.74675907137, 34001.280981792566, 14204.23935295337, 30819.94442328612, 31331.996973002344, 8688.281954792528, 3023.78232664596, 3017.801217171774, 2741.612905789303, 3499.716035237411, 2598.1139258071794, 2471.957879535253, 1519.0394934418828, 1393.215500389831, 1337.0378604357481, 1338.5622626493466, 1407.5833574830497, 1151.5252240427042, 1007.3284078342406, 992.7247428836674, 838.6422878300176, 848.7119605218527, 808.96159792735, 814.187237045259, 813.2959883977512, 656.6507224041002, 633.9546413803203, 624.4817717900235, 585.6392650983046, 493.0695407456504, 486.6146029782843, 482.9191473341709, 468.1609895327208, 480.69232766996595, 435.00387678269715, 3280.553885725316, 5704.548129914046, 4662.8598956896285, 1327.7513664071294, 1011.2807932023939, 3170.1349292646064, 3388.568193915698, 19210.45250453909, 3362.7541122306884, 22709.734793839343, 5073.361824622529, 6466.681233327146, 2882.6831816782164, 2066.956710157815, 2494.5693454352136, 16846.54647534868, 2716.322706207732, 4966.178716439322, 3040.365234278899, 44016.17134018148, 2925.3609082181697, 3999.871066402397, 2015.8078138034482, 16392.05432484067, 30819.94442328612, 35921.23859682453, 41776.802396207284, 7258.179523688013, 9578.41802933092, 16703.010657285547, 56211.07286127296, 27253.74675907137, 22043.313320606187, 31331.996973002344, 9801.994479961217, 14994.497443492786, 10813.98562320074, 57987.248538588814, 34001.280981792566, 31452.245262541415, 9870.090969232853, 9195.116488291298, 32370.008666966158, 38590.40476503969, 25707.971222845128, 43632.84689354622, 8194.035824163935, 2257.9599522826, 2197.7545129683485, 1822.6637982385312, 3484.0999295630736, 1035.6930924880423, 1012.995362669779, 821.0779474167321, 739.2102768923638, 737.6157521514007, 735.3682100060554, 708.081238157489, 668.5766307744935, 569.5566224419503, 568.2167956035, 899.1698777063904, 539.2917085001933, 472.8933675891746, 472.8641790317744, 446.82680316406083, 452.3067355019375, 476.6221220233677, 436.6487607733829, 412.0774529354714, 415.90995532437273, 377.0379223162378, 390.13000671431405, 352.95343968666265, 340.20297920346417, 344.9518328865681, 1515.587004057562, 861.4813128145354, 1363.6810731426217, 2638.6873582830913, 4980.811228379816, 7275.105192925352, 898.3608233136039, 1226.092745906491, 1095.79299153238, 1040.125016030658, 2355.6619893528114, 1726.437386182143, 2889.183702488741, 3044.323567965076, 6032.490490143963, 9801.994479961217, 4248.180987349678, 4295.6369492950635, 2690.4353885892833, 2131.404610264221, 31331.996973002344, 5994.611651464897, 9149.677087885098, 2966.148290530359, 12635.615321960231, 2349.315979799937, 8318.24780678997, 56211.07286127296, 4017.7107315949866, 16488.422923965034], \"Category\": [\"Default\", \"Default\", \"Default\", \"Default\", \"Default\", \"Default\", \"Default\", \"Default\", \"Default\", \"Default\", \"Default\", \"Default\", \"Default\", \"Default\", \"Default\", \"Default\", \"Default\", \"Default\", \"Default\", \"Default\", \"Default\", \"Default\", \"Default\", \"Default\", \"Default\", \"Default\", \"Default\", \"Default\", \"Default\", \"Default\", \"Topic1\", \"Topic1\", \"Topic1\", \"Topic1\", \"Topic1\", \"Topic1\", \"Topic1\", \"Topic1\", \"Topic1\", \"Topic1\", \"Topic1\", \"Topic1\", \"Topic1\", \"Topic1\", \"Topic1\", \"Topic1\", \"Topic1\", \"Topic1\", \"Topic1\", \"Topic1\", \"Topic1\", \"Topic1\", \"Topic1\", \"Topic1\", \"Topic1\", \"Topic1\", \"Topic1\", \"Topic1\", \"Topic1\", \"Topic1\", \"Topic1\", \"Topic1\", \"Topic1\", \"Topic1\", \"Topic1\", \"Topic1\", \"Topic1\", \"Topic1\", \"Topic1\", \"Topic1\", \"Topic1\", \"Topic1\", \"Topic1\", \"Topic1\", \"Topic1\", \"Topic1\", \"Topic1\", \"Topic1\", \"Topic1\", \"Topic1\", \"Topic1\", \"Topic1\", \"Topic1\", \"Topic1\", \"Topic1\", \"Topic1\", \"Topic1\", \"Topic1\", \"Topic1\", \"Topic1\", \"Topic1\", \"Topic1\", \"Topic1\", \"Topic1\", \"Topic1\", \"Topic1\", \"Topic1\", \"Topic1\", \"Topic1\", \"Topic1\", \"Topic1\", \"Topic1\", \"Topic1\", \"Topic1\", \"Topic1\", \"Topic2\", \"Topic2\", \"Topic2\", \"Topic2\", \"Topic2\", \"Topic2\", \"Topic2\", \"Topic2\", \"Topic2\", \"Topic2\", \"Topic2\", \"Topic2\", \"Topic2\", \"Topic2\", \"Topic2\", \"Topic2\", \"Topic2\", \"Topic2\", \"Topic2\", \"Topic2\", \"Topic2\", \"Topic2\", \"Topic2\", \"Topic2\", \"Topic2\", \"Topic2\", \"Topic2\", \"Topic2\", \"Topic2\", \"Topic2\", \"Topic2\", \"Topic2\", \"Topic2\", \"Topic2\", \"Topic2\", \"Topic2\", \"Topic2\", \"Topic2\", \"Topic2\", \"Topic2\", \"Topic2\", \"Topic2\", \"Topic2\", \"Topic2\", \"Topic2\", \"Topic2\", \"Topic2\", \"Topic2\", \"Topic2\", \"Topic2\", \"Topic2\", \"Topic2\", \"Topic2\", \"Topic2\", \"Topic2\", \"Topic2\", \"Topic2\", \"Topic2\", \"Topic2\", \"Topic2\", \"Topic2\", \"Topic2\", \"Topic2\", \"Topic2\", \"Topic2\", \"Topic2\", \"Topic2\", \"Topic2\", \"Topic2\", \"Topic2\", \"Topic2\", \"Topic2\", \"Topic2\", \"Topic2\", \"Topic3\", \"Topic3\", \"Topic3\", \"Topic3\", \"Topic3\", \"Topic3\", \"Topic3\", \"Topic3\", \"Topic3\", \"Topic3\", \"Topic3\", \"Topic3\", \"Topic3\", \"Topic3\", \"Topic3\", \"Topic3\", \"Topic3\", \"Topic3\", \"Topic3\", \"Topic3\", \"Topic3\", \"Topic3\", \"Topic3\", \"Topic3\", \"Topic3\", \"Topic3\", \"Topic3\", \"Topic3\", \"Topic3\", \"Topic3\", \"Topic3\", \"Topic3\", \"Topic3\", \"Topic3\", \"Topic3\", \"Topic3\", \"Topic3\", \"Topic3\", \"Topic3\", \"Topic3\", \"Topic3\", \"Topic3\", \"Topic3\", \"Topic3\", \"Topic3\", \"Topic3\", \"Topic3\", \"Topic3\", \"Topic3\", \"Topic3\", \"Topic3\", \"Topic3\", \"Topic3\", \"Topic3\", \"Topic3\", \"Topic3\", \"Topic3\", \"Topic3\", \"Topic3\", \"Topic3\", \"Topic3\", \"Topic3\", \"Topic3\", \"Topic3\", \"Topic3\", \"Topic3\", \"Topic3\", \"Topic3\", \"Topic3\", \"Topic3\", \"Topic3\", \"Topic3\", \"Topic3\", \"Topic3\", \"Topic3\", \"Topic4\", \"Topic4\", \"Topic4\", \"Topic4\", \"Topic4\", \"Topic4\", \"Topic4\", \"Topic4\", \"Topic4\", \"Topic4\", \"Topic4\", \"Topic4\", \"Topic4\", \"Topic4\", \"Topic4\", \"Topic4\", \"Topic4\", \"Topic4\", \"Topic4\", \"Topic4\", \"Topic4\", \"Topic4\", \"Topic4\", \"Topic4\", \"Topic4\", \"Topic4\", \"Topic4\", \"Topic4\", \"Topic4\", \"Topic4\", \"Topic4\", \"Topic4\", \"Topic4\", \"Topic4\", \"Topic4\", \"Topic4\", \"Topic4\", \"Topic4\", \"Topic4\", \"Topic4\", \"Topic4\", \"Topic4\", \"Topic4\", \"Topic4\", \"Topic4\", \"Topic4\", \"Topic4\", \"Topic4\", \"Topic4\", \"Topic4\", \"Topic4\", \"Topic4\", \"Topic4\", \"Topic4\", \"Topic4\", \"Topic4\", \"Topic4\", \"Topic4\", \"Topic4\", \"Topic4\", \"Topic4\"], \"logprob\": [30.0, 29.0, 28.0, 27.0, 26.0, 25.0, 24.0, 23.0, 22.0, 21.0, 20.0, 19.0, 18.0, 17.0, 16.0, 15.0, 14.0, 13.0, 12.0, 11.0, 10.0, 9.0, 8.0, 7.0, 6.0, 5.0, 4.0, 3.0, 2.0, 1.0, -5.2421, -5.6404, -5.7484, -6.2128, -6.4051, -6.3896, -6.4259, -6.4237, -6.4488, -6.4622, -6.7776, -6.8246, -6.8738, -6.8672, -6.9345, -6.9583, -6.9813, -7.0625, -7.0981, -7.1141, -7.2403, -7.228, -7.2606, -7.2664, -7.2676, -7.2823, -7.3941, -7.4779, -7.5678, -7.5849, -7.4619, -6.4044, -5.5101, -5.2015, -6.4616, -5.3364, -5.8451, -4.3089, -6.196, -5.4844, -6.4805, -5.464, -6.054, -5.3112, -5.0367, -5.7029, -5.0566, -5.1691, -6.261, -5.0361, -4.6232, -4.5872, -4.9092, -4.3508, -5.3225, -5.3994, -4.834, -5.8008, -5.8964, -5.2227, -4.7039, -5.1377, -5.2364, -4.5602, -4.8152, -5.3123, -4.9604, -5.0769, -5.2333, -5.0133, -5.2211, -5.1902, -5.2305, -5.3025, -5.2932, -5.1646, -5.7192, -5.7731, -5.8044, -6.3217, -6.3706, -6.3981, -6.6983, -6.7817, -6.9228, -6.9286, -6.9955, -6.8195, -7.251, -7.324, -7.3242, -7.3251, -7.3455, -5.3107, -7.4193, -7.518, -7.5158, -7.6077, -7.7268, -7.6824, -7.7629, -7.756, -7.7578, -7.8077, -7.8858, -7.475, -7.4112, -6.8471, -3.537, -6.0042, -6.0798, -6.9491, -5.8129, -5.8873, -5.7475, -5.6588, -6.6385, -4.1236, -3.9758, -5.2193, -4.9373, -5.7772, -5.7368, -4.5151, -4.242, -4.8174, -4.6045, -3.9341, -4.8731, -4.5759, -4.8531, -5.5218, -5.2337, -4.9982, -5.4445, -4.9532, -4.4836, -5.2116, -4.9171, -5.1434, -5.2189, -4.8802, -5.0369, -5.0346, -5.1568, -5.1, -5.3957, -5.1913, -5.362, -4.9032, -5.9589, -5.9609, -6.0569, -5.8128, -6.1107, -6.1605, -6.6477, -6.7342, -6.7754, -6.7743, -6.724, -6.9249, -7.0588, -7.0735, -7.2423, -7.2304, -7.2784, -7.272, -7.2731, -7.4873, -7.5226, -7.5377, -7.602, -7.7744, -7.7876, -7.7952, -7.8264, -7.7999, -7.9, -5.8803, -5.3346, -5.5456, -6.7895, -7.0596, -5.9429, -5.8807, -4.1804, -5.933, -4.1374, -5.5587, -5.3565, -6.1045, -6.4133, -6.2489, -4.514, -6.1729, -5.6406, -6.0844, -3.8282, -6.1453, -5.9249, -6.4592, -4.9647, -4.5484, -4.4595, -4.4126, -5.5835, -5.4132, -5.0856, -4.3983, -4.9291, -5.0552, -4.9304, -5.4978, -5.3138, -5.4748, -4.9361, -5.1182, -5.2469, -5.5958, -5.6225, -5.4211, -5.5354, -5.6081, -2.2343, -3.9068, -5.1961, -5.2232, -5.4104, -4.7627, -5.9761, -5.9982, -6.2085, -6.3137, -6.3159, -6.319, -6.3568, -6.4143, -6.5748, -6.5772, -6.1183, -6.6296, -6.7612, -6.7613, -6.818, -6.8058, -6.7536, -6.8412, -6.8992, -6.89, -6.9883, -6.9544, -7.0546, -7.0914, -7.0776, -5.6495, -6.2324, -5.8373, -5.255, -4.7246, -4.4075, -6.2395, -6.0027, -6.1118, -6.156, -5.5349, -5.7879, -5.4081, -5.3854, -4.9684, -4.7046, -5.2747, -5.303, -5.6026, -5.7671, -4.4486, -5.3998, -5.2858, -5.8222, -5.433, -5.9183, -5.7192, -5.445, -5.8751, -5.8487], \"loglift\": [30.0, 29.0, 28.0, 27.0, 26.0, 25.0, 24.0, 23.0, 22.0, 21.0, 20.0, 19.0, 18.0, 17.0, 16.0, 15.0, 14.0, 13.0, 12.0, 11.0, 10.0, 9.0, 8.0, 7.0, 6.0, 5.0, 4.0, 3.0, 2.0, 1.0, 1.0753, 1.0752, 1.0752, 1.0751, 1.075, 1.075, 1.075, 1.075, 1.075, 1.075, 1.0749, 1.0748, 1.0748, 1.0748, 1.0748, 1.0748, 1.0747, 1.0747, 1.0747, 1.0747, 1.0746, 1.0746, 1.0745, 1.0745, 1.0745, 1.0745, 1.0744, 1.0743, 1.0742, 1.0742, 1.0741, 1.0627, 1.041, 1.0295, 1.0545, 1.0175, 1.0284, 0.9071, 1.0025, 0.9372, 1.0159, 0.8917, 0.9262, 0.7517, 0.6849, 0.8197, 0.6349, 0.6241, 0.9141, 0.5619, 0.3941, 0.381, 0.4113, 0.1147, 0.5136, 0.5475, 0.2121, 0.7366, 0.7885, 0.3992, 0.0584, 0.3012, 0.3547, -0.1258, 0.0279, 0.3855, -0.0471, -0.0269, 0.1683, -0.3033, 0.0369, -0.1238, -0.1298, 0.141, -0.1038, 1.0904, 1.0903, 1.0903, 1.0903, 1.0902, 1.0902, 1.0901, 1.09, 1.09, 1.0899, 1.0899, 1.0898, 1.0898, 1.0896, 1.0896, 1.0896, 1.0896, 1.0896, 1.0895, 1.0895, 1.0894, 1.0894, 1.0893, 1.0891, 1.0891, 1.0891, 1.089, 1.089, 1.089, 1.0889, 1.0879, 1.0863, 1.0764, 1.0066, 1.0522, 1.0497, 1.0712, 1.0358, 1.0318, 1.0259, 1.0194, 1.0584, 0.8872, 0.8658, 0.9398, 0.8728, 0.9213, 0.9041, 0.7327, 0.6011, 0.6962, 0.6535, 0.5003, 0.625, 0.5248, 0.5905, 0.7669, 0.6811, 0.5715, 0.6996, 0.3674, -0.0181, 0.4803, 0.129, 0.2954, 0.3723, -0.1179, -0.0196, -0.1214, 0.0326, -0.1318, 0.4454, -0.1249, -0.3121, 1.4294, 1.4292, 1.4292, 1.4291, 1.4291, 1.4291, 1.4291, 1.4288, 1.4288, 1.4287, 1.4287, 1.4287, 1.4286, 1.4285, 1.4284, 1.4282, 1.4282, 1.4282, 1.4282, 1.4282, 1.4279, 1.4278, 1.4278, 1.4276, 1.4273, 1.4273, 1.4273, 1.4272, 1.4272, 1.427, 1.4263, 1.4188, 1.4094, 1.4216, 1.4238, 1.3979, 1.3934, 1.3587, 1.3488, 1.2344, 1.3118, 1.2714, 1.3313, 1.3552, 1.3315, 1.1565, 1.3224, 1.2513, 1.2982, 0.8818, 1.2759, 1.1834, 1.3344, 0.7331, 0.518, 0.4537, 0.3497, 0.929, 0.8219, 0.5934, 0.0672, 0.2603, 0.3464, 0.1195, 0.7142, 0.4731, 0.6389, -0.5018, -0.15, -0.2008, 0.6093, 0.6535, -0.4037, -0.6938, -0.3603, 2.4845, 2.4844, 2.484, 2.484, 2.4839, 2.4837, 2.4834, 2.4834, 2.4832, 2.483, 2.483, 2.483, 2.483, 2.4829, 2.4827, 2.4826, 2.4825, 2.4825, 2.4823, 2.4822, 2.4821, 2.4821, 2.4821, 2.482, 2.4819, 2.4819, 2.4817, 2.4815, 2.4814, 2.4814, 2.4814, 2.4292, 2.4113, 2.3471, 2.2693, 2.1644, 2.1026, 2.3623, 2.288, 2.2913, 2.2992, 2.1029, 2.1607, 2.0255, 1.9959, 1.729, 1.5074, 1.7734, 1.734, 1.9023, 1.9707, 0.6013, 1.304, 0.995, 1.5851, 0.5251, 1.7222, 0.657, -0.9796, 1.2288, -0.1568]}, \"token.table\": {\"Topic\": [4, 1, 2, 2, 3, 1, 4, 1, 2, 3, 1, 3, 4, 1, 1, 2, 3, 4, 1, 2, 1, 2, 1, 2, 4, 1, 2, 3, 4, 4, 3, 1, 2, 4, 4, 1, 2, 1, 2, 3, 4, 1, 2, 3, 2, 3, 1, 2, 4, 3, 4, 3, 4, 2, 2, 3, 2, 3, 1, 2, 2, 2, 1, 2, 3, 4, 1, 2, 4, 1, 4, 4, 1, 2, 3, 1, 2, 1, 2, 3, 1, 3, 4, 1, 2, 3, 1, 2, 3, 1, 2, 3, 1, 2, 3, 3, 4, 2, 3, 1, 1, 2, 1, 2, 3, 4, 1, 3, 4, 2, 3, 1, 3, 4, 1, 2, 1, 2, 3, 1, 2, 3, 1, 3, 1, 1, 3, 4, 1, 3, 3, 1, 2, 3, 4, 2, 1, 1, 2, 3, 4, 1, 2, 3, 4, 3, 1, 2, 3, 1, 2, 1, 2, 3, 1, 2, 3, 4, 3, 1, 2, 4, 1, 2, 3, 3, 1, 2, 2, 1, 2, 3, 2, 3, 2, 3, 2, 1, 2, 3, 1, 3, 4, 4, 1, 3, 3, 4, 1, 1, 1, 2, 3, 4, 1, 3, 2, 1, 2, 3, 4, 3, 4, 3, 4, 3, 1, 2, 3, 1, 1, 4, 1, 2, 3, 3, 1, 2, 3, 4, 1, 4, 1, 2, 3, 3, 1, 2, 3, 4, 1, 2, 3, 4, 2, 1, 2, 3, 1, 2, 2, 1, 2, 3, 4, 1, 2, 4, 3, 4, 2, 3, 1, 2, 4, 2, 1, 2, 3, 1, 2, 3, 1, 2, 3, 3, 4, 4, 3, 1, 2, 3, 4, 1, 2, 3, 4, 1, 2, 3, 4, 2, 1, 2, 3, 4, 3, 4, 1, 3, 4, 2, 1, 2, 3, 1, 2, 3, 4, 3, 1, 1, 2, 3, 2, 3, 1, 4, 4, 1, 2, 1, 2, 4, 3, 1, 3, 1, 2, 3, 1, 3, 1, 1, 4, 2, 1, 3, 4, 1, 2, 4, 1, 2, 3, 1, 2, 3, 4, 1, 1, 1, 2, 4, 1, 4, 2, 3, 4, 1, 1, 2, 3, 1, 4, 3, 4, 1, 2, 3, 4, 3, 1, 1, 3, 2, 1, 2, 3, 1, 2, 1, 2, 1, 2, 3, 3, 2, 3, 3, 4, 2, 3, 2, 1, 3, 4, 4, 3, 4, 1, 4, 1, 2, 3, 4, 3, 2, 2, 4, 1, 3, 4, 1, 4, 2, 2, 3, 3, 1, 2, 3, 3, 1, 1, 2, 1, 2, 3, 4, 1, 2, 3, 4, 1, 4, 1, 2, 3, 1, 2, 3, 4, 1, 2, 1, 2, 3, 4, 4, 3, 4, 1, 4, 1, 2, 3, 2, 1, 2, 4, 3, 3, 1, 2, 1, 2, 3, 4, 4, 1, 2, 3, 4, 1, 2, 3, 4, 3, 3, 1, 2, 1, 1, 2, 2, 1, 4, 1, 2, 3, 4, 1, 3, 4, 1, 2, 3, 2, 4, 4], \"Freq\": [0.9978585715647358, 0.929737855788604, 0.07004499443257288, 0.12268262897976023, 0.8768683347454177, 0.9993767039553481, 0.9996566891507235, 0.8510618300614718, 0.1440710824130444, 0.004811279190046009, 0.02650170704079015, 0.24734926571404137, 0.7259861565113422, 0.9999039961321599, 0.9995476528875012, 0.9990173811317271, 0.053444638798792195, 0.9461680498452841, 0.5984171013463984, 0.4015214210178085, 0.9994247928597261, 0.9989287544787655, 0.09379388336155328, 0.08400669553252163, 0.8213081786529056, 0.4365642940999834, 0.10874806394017802, 0.4535792973015078, 0.0012021469653250973, 0.9984730026736727, 0.9992341337429101, 0.1702326701256149, 0.27095986140081496, 0.5586456401720507, 0.996596628758058, 0.3721227523764128, 0.6278322376962947, 0.015771799886087703, 0.8600952710885496, 0.11524057462779419, 0.008998634290835314, 0.29766696266107, 0.26200366420746324, 0.44032015647549705, 0.21800702710757694, 0.7817751992722397, 0.2293346815078307, 0.7234727128450682, 0.047144689570293725, 0.5301293064986964, 0.4697893854338041, 0.5930249696603954, 0.40692503603189156, 0.9985001542403412, 0.9986432879389721, 0.9975201062056033, 0.9683489194380955, 0.031077244391269115, 0.9875334591513303, 0.012527608216852686, 0.9996767763761543, 0.9987752688238969, 0.23255298968277588, 0.6741651802150034, 0.08007170362631907, 0.01319305636428578, 0.3261808338802019, 0.060440355925435195, 0.613601004721266, 0.9986662854096664, 0.9972471673144664, 0.9981108477081652, 0.8451430644921789, 0.071599938580066, 0.08324434964387672, 0.9792190351308981, 0.020298590363557967, 0.05272865258523134, 0.04093408555958749, 0.9064471658237467, 0.03364252789856533, 0.9644191330922061, 0.0017706593630823857, 0.1546171574753347, 0.8299510641381187, 0.015352058189040323, 0.7126339133612156, 0.06088111331192942, 0.22643253976571429, 0.15515513399292324, 0.8443094350331481, 0.0004978239593355826, 0.07272720582379671, 0.9195057781541334, 0.00775166991457024, 0.9993156903119567, 0.9999805904586448, 0.9958200195893934, 0.004011359595526258, 0.9989793941409827, 0.9985107028764244, 0.001042286746217562, 0.3014281879425099, 0.2965936561875655, 0.40188261957544974, 9.733956553579438e-05, 0.05233805212217854, 0.9224581686533968, 0.024979524876494304, 0.9858330638569837, 0.013558735548749345, 0.09028638481989035, 0.9093128756860386, 0.9964639368935546, 0.9540078038803516, 0.045861958247045496, 0.7235363297935724, 0.003515725606382762, 0.2729082001954619, 0.5702121714263074, 0.26885433832115085, 0.16090630930789043, 0.999532018870015, 0.9976922578480867, 0.998401908026114, 0.1186178426823092, 0.8576719518441319, 0.023586833271122, 0.9437510862152202, 0.05619945424328831, 0.9976271976910134, 0.42178228896743875, 0.38232564637671124, 0.1958524724890263, 3.179423254691985e-05, 0.998707562610366, 0.9991008899042415, 0.08858970736415182, 0.20280567533441912, 0.6062126164887528, 0.10250504242446183, 0.09498999274707222, 0.6991994756873968, 0.16699100690547955, 0.03882064404651027, 0.9992237613709682, 0.35082652448291535, 0.6129731973488666, 0.036203802459954644, 0.002141212448346309, 0.99780500092938, 0.29965226237452625, 0.5679424435009791, 0.13239902179995036, 0.5085838379752792, 0.20600076959572403, 0.23048562637171868, 0.05496369696597413, 0.9996125016760264, 0.28470950121827004, 0.48974405948524685, 0.22547243800894093, 0.28330255558122674, 0.25644047065663444, 0.4602443052666993, 0.9988328801035713, 0.8322651096261522, 0.16772509426940854, 0.999294621496984, 0.06640814399197335, 0.8043370780528324, 0.12919898928756993, 0.0075315305658918775, 0.9919025755279602, 0.9807566078936644, 0.018669224769549447, 0.997875121032183, 0.08162650843335253, 0.798747776491955, 0.119615226326462, 0.012438718146692654, 0.9800852056963005, 0.007291662361854315, 0.9981724582446827, 0.030913510682251497, 0.9687284827060647, 0.9988113182012426, 0.9972986814138741, 0.9989770589475078, 0.9998854559521652, 0.6436935794334213, 0.31202588560405153, 0.044254691371858876, 0.9971109528128353, 0.5016454824419897, 0.49835120346207146, 0.9984128070089473, 0.5059930681055052, 0.3295334304586009, 0.1598702074269485, 0.004603026262147889, 0.8366593788189473, 0.16310327240513775, 0.9937892687722224, 0.004944225217772251, 0.9980966848400094, 0.3969634619899364, 0.5951231566447288, 0.007943563057667738, 0.9991995740615063, 0.06964747709265418, 0.9297938191869333, 0.07767594012055723, 0.09960486199132679, 0.82268684199114, 0.9985418132448654, 0.3826470285148887, 0.3300061545841827, 0.2560527537967731, 0.03131055698480655, 0.16824900593953396, 0.8306693778957561, 0.001873979803000155, 0.0665262830065055, 0.9315761820691881, 0.9992699457842038, 0.636810132773644, 0.2271685424637775, 0.1144231506353739, 0.021609533433777358, 0.24704722048825675, 0.22588891839291214, 0.36618288740011196, 0.1608511829748358, 0.9997690400858141, 0.3009770762246201, 0.31478214043434677, 0.3842742994031157, 0.5147575173586512, 0.4852232786544489, 0.9985499409017602, 0.2568273792673296, 0.19617018115581802, 0.5446619665193734, 0.002401231594775846, 0.8710044075912226, 0.128958474329193, 0.9993307935593378, 0.9284180895368058, 0.07111905115263703, 0.11097178152514062, 0.888956899961606, 0.06861702831780614, 0.9313704696786578, 0.9972406788547747, 0.9994634088494715, 0.08114422751276128, 0.15777714464441805, 0.7610461894229059, 0.48643342789781663, 0.48763977841227407, 0.025936536060834996, 0.03750079198029157, 0.9624412118992552, 0.9972008961898594, 0.1752155758283352, 0.824060755067639, 0.9973853145135797, 0.9987369820500193, 0.3075540429027456, 0.34718162180216877, 0.3105994957255716, 0.0346741315369953, 0.6767225234719434, 0.2396517356017702, 0.016493237278119743, 0.06709748801780532, 0.14886146584692064, 0.09499330894511666, 0.03243673963979594, 0.7234551394661629, 0.9997575136247596, 0.9662088625031634, 0.02391535201393631, 0.009881193347075483, 0.9971035124320967, 0.0011121368995932203, 0.9975867989351186, 0.36548668246684085, 0.03612641148902021, 0.5981970733571529, 0.9985228910641036, 0.32546205132897327, 0.297623367612527, 0.3768801001532495, 0.25190741635172587, 0.14571917103895832, 0.5782420238982798, 0.02415021496950619, 0.9985597280628092, 0.9996682351345828, 0.5898694844600005, 0.21248449652499687, 0.19761449492656247, 0.9990511348265761, 0.9990090281151024, 0.999667366038171, 0.9976048055628639, 0.9981394218740512, 0.9551587668974539, 0.044815309006401335, 0.5112163867480409, 0.016761193008132492, 0.4721069363957318, 0.9986812564562766, 0.9992367708779152, 0.9991275575174904, 0.942346195687019, 0.018058257171945223, 0.03980187295040988, 0.9995762194233674, 0.9995712559806886, 0.9995667062812563, 0.9995888103630329, 0.9983627434165934, 0.9995436484888388, 0.774367540997946, 0.08322641795772316, 0.14237562804473378, 0.38548259159230425, 0.5432296370189221, 0.07126212163639986, 0.7506442158987616, 0.011623934422859777, 0.23771764481679433, 0.4597462121381156, 0.07656876319716803, 0.15664067242296464, 0.3071091351764408, 0.9995661086070199, 0.9990519931898003, 0.15386438212375836, 0.03941353630756372, 0.8064615890624576, 0.9995422045914762, 0.9998735880357174, 0.09300202474809305, 0.9067697412939072, 0.9978121338219398, 0.9992790816940622, 0.0854095868174279, 0.016198369913650118, 0.8982732406660521, 0.9997312508278867, 0.9986871558052149, 0.9967828951777811, 0.003048265734488627, 0.26567760369893967, 0.3225802539996658, 0.2708217932254309, 0.14095079302585986, 0.9991611282096049, 0.9996490923539402, 0.8615628107520164, 0.1383515465823381, 0.9993241356741891, 0.39286724319366956, 0.6065219241019802, 0.0006150378325527101, 0.062420827014882246, 0.9373855426504236, 0.9993716110774713, 0.9999235742882814, 0.1562025206181388, 0.6639933445587162, 0.1797731096100074, 0.998675474917215, 0.9990113839313539, 0.0008620660364299159, 0.9995096644355906, 0.0002857374683921071, 0.9466813122399163, 0.05303266670726767, 0.9981083966253592, 0.18642457111456984, 0.5286592644156827, 0.2849881627852903, 0.9985142273798423, 0.9892106914496358, 0.010517923354063114, 0.9995844209730405, 0.9990174064892502, 0.4610854514789136, 0.4515265925481314, 0.08659478607738175, 0.000800495575484225, 0.998494148763953, 0.998472931866776, 0.9998524973481909, 0.9995748585878905, 0.28824325482457896, 0.029140472113882092, 0.6826018137619739, 0.3171083132369211, 0.6826106662449386, 0.999325403184819, 0.9988718879216985, 0.9994116945591053, 0.9984064984750455, 0.35679488877003845, 0.5245617040697625, 0.11855615483203329, 0.9997345029993311, 0.9997509420552282, 0.3540084071440358, 0.6459631647675973, 0.40370519034818486, 0.25767451187523205, 0.3385153534529897, 9.073046192789861e-05, 0.3321205478529337, 0.24597857604291373, 0.2698200184075247, 0.15211287056189526, 0.1275958165196314, 0.8719047462174812, 0.3008420030205583, 0.5542080510789156, 0.14496290498084338, 0.21484722009220097, 0.6763779386753586, 0.001239136584382703, 0.10742361004610049, 0.9996513145745936, 0.9987382513594155, 0.20814569185437637, 0.05193000901070331, 0.2732710310235371, 0.4665187694732035, 0.9990227092092024, 0.0005740363481052083, 0.9991102638771149, 0.11465326328466162, 0.884945090401029, 0.02809098130548076, 0.9599454429754744, 0.011747137636837409, 0.9989403964045208, 0.29073956054660854, 0.07718443095463537, 0.6320124256644134, 0.9997412754750677, 0.9998524501392567, 0.05690013453790478, 0.9430938662682545, 0.3616839761142601, 0.29865856849620276, 0.33963824864892367, 2.393672906116877e-05, 0.9991652128501802, 0.03742778390880085, 0.45878459646699915, 0.012711322836951235, 0.49103369329407914, 0.36969383105234255, 0.1900256226332203, 0.4333350524950373, 0.00688498632729059, 0.9988751234698591, 0.9978308521267955, 0.0005569704850007374, 0.999205050091323, 0.9993884481529275, 0.18393395690520722, 0.8160553946525204, 0.9998314376724576, 0.999242067203671, 0.9991375247833213, 0.00020404010674447077, 0.134360410291234, 0.48898211581312423, 0.3764539969435486, 0.025515406442124335, 0.8537609634361724, 0.12077292382605517, 0.4993635389529038, 0.294547726168404, 0.2060804710196712, 0.999533956852425, 0.9981496115313448, 0.9996358087327061], \"Term\": [\"abolish\", \"advic\", \"advic\", \"afford\", \"afford\", \"agenc\", \"amazon\", \"answer\", \"answer\", \"answer\", \"anti\", \"anti\", \"anti\", \"appli\", \"applic\", \"appoint\", \"articl\", \"articl\", \"ask\", \"ask\", \"auto\", \"bathroom\", \"belong\", \"belong\", \"belong\", \"better\", \"better\", \"better\", \"better\", \"bezo\", \"billion\", \"book\", \"book\", \"book\", \"bootlick\", \"boss\", \"boss\", \"break\", \"break\", \"break\", \"break\", \"busi\", \"busi\", \"busi\", \"buy\", \"buy\", \"call\", \"call\", \"call\", \"capit\", \"capit\", \"capitalist\", \"capitalist\", \"cashier\", \"christma\", \"citizen\", \"clean\", \"clean\", \"client\", \"client\", \"clock\", \"coffe\", \"come\", \"come\", \"come\", \"come\", \"comment\", \"comment\", \"comment\", \"communic\", \"communism\", \"communist\", \"compani\", \"compani\", \"compani\", \"contract\", \"contract\", \"cost\", \"cost\", \"cost\", \"countri\", \"countri\", \"countri\", \"covid\", \"covid\", \"covid\", \"current\", \"current\", \"current\", \"custom\", \"custom\", \"custom\", \"day\", \"day\", \"day\", \"debt\", \"delet\", \"deliveri\", \"deliveri\", \"descript\", \"document\", \"document\", \"dont\", \"dont\", \"dont\", \"dont\", \"dream\", \"dream\", \"dream\", \"drink\", \"drink\", \"educ\", \"educ\", \"elon\", \"email\", \"email\", \"employ\", \"employ\", \"employ\", \"employe\", \"employe\", \"employe\", \"entri\", \"europ\", \"excel\", \"exist\", \"exist\", \"exist\", \"experi\", \"experi\", \"feder\", \"feel\", \"feel\", \"feel\", \"feel\", \"floor\", \"format\", \"free\", \"free\", \"free\", \"free\", \"fuck\", \"fuck\", \"fuck\", \"fuck\", \"generat\", \"get\", \"get\", \"get\", \"girl\", \"girl\", \"go\", \"go\", \"go\", \"good\", \"good\", \"good\", \"good\", \"govern\", \"guy\", \"guy\", \"guy\", \"hard\", \"hard\", \"hard\", \"healthcar\", \"hire\", \"hire\", \"holiday\", \"home\", \"home\", \"home\", \"homeless\", \"homeless\", \"hospit\", \"hospit\", \"hotel\", \"hour\", \"hour\", \"hour\", \"human\", \"human\", \"human\", \"ideolog\", \"incom\", \"incom\", \"inflat\", \"instagram\", \"internship\", \"interview\", \"ive\", \"ive\", \"ive\", \"jeff\", \"job\", \"job\", \"kitchen\", \"know\", \"know\", \"know\", \"know\", \"labor\", \"labor\", \"labour\", \"labour\", \"landlord\", \"leav\", \"leav\", \"leav\", \"letter\", \"librari\", \"librari\", \"life\", \"life\", \"life\", \"lifestyl\", \"like\", \"like\", \"like\", \"like\", \"link\", \"link\", \"live\", \"live\", \"live\", \"loan\", \"look\", \"look\", \"look\", \"look\", \"love\", \"love\", \"love\", \"love\", \"lunch\", \"make\", \"make\", \"make\", \"manag\", \"manag\", \"mask\", \"mean\", \"mean\", \"mean\", \"mean\", \"meet\", \"meet\", \"meme\", \"million\", \"million\", \"minimum\", \"minimum\", \"minut\", \"minut\", \"mod\", \"monday\", \"money\", \"money\", \"money\", \"month\", \"month\", \"month\", \"morn\", \"morn\", \"mortgag\", \"movement\", \"movement\", \"musk\", \"necess\", \"need\", \"need\", \"need\", \"need\", \"new\", \"new\", \"new\", \"new\", \"news\", \"news\", \"news\", \"news\", \"night\", \"offer\", \"offer\", \"offer\", \"oppress\", \"org\", \"org\", \"organ\", \"organ\", \"organ\", \"patient\", \"pay\", \"pay\", \"pay\", \"peopl\", \"peopl\", \"peopl\", \"peopl\", \"percent\", \"perform\", \"person\", \"person\", \"person\", \"pizza\", \"planet\", \"png\", \"podcast\", \"poll\", \"posit\", \"posit\", \"post\", \"post\", \"post\", \"poverti\", \"preview\", \"price\", \"process\", \"process\", \"process\", \"profession\", \"profit\", \"project\", \"promot\", \"propaganda\", \"pto\", \"question\", \"question\", \"question\", \"quit\", \"quit\", \"quit\", \"rais\", \"rais\", \"rais\", \"read\", \"read\", \"read\", \"read\", \"recruit\", \"redd\", \"reddit\", \"reddit\", \"reddit\", \"remot\", \"remov\", \"rent\", \"rent\", \"repost\", \"resum\", \"retir\", \"retir\", \"retir\", \"review\", \"revolut\", \"rich\", \"rich\", \"right\", \"right\", \"right\", \"right\", \"robot\", \"role\", \"salari\", \"salari\", \"saturday\", \"say\", \"say\", \"say\", \"schedul\", \"schedul\", \"senior\", \"shift\", \"shit\", \"shit\", \"shit\", \"shortag\", \"sick\", \"sick\", \"slave\", \"slave\", \"sleep\", \"sleep\", \"smoke\", \"social\", \"social\", \"social\", \"socialist\", \"societi\", \"societi\", \"softwar\", \"song\", \"start\", \"start\", \"start\", \"start\", \"starv\", \"station\", \"store\", \"strike\", \"sub\", \"sub\", \"sub\", \"subreddit\", \"subreddit\", \"sunday\", \"surgeri\", \"surviv\", \"sustain\", \"take\", \"take\", \"take\", \"tax\", \"team\", \"tell\", \"tell\", \"thing\", \"thing\", \"thing\", \"thing\", \"think\", \"think\", \"think\", \"think\", \"thread\", \"thread\", \"time\", \"time\", \"time\", \"today\", \"today\", \"today\", \"today\", \"toxic\", \"truck\", \"true\", \"true\", \"true\", \"true\", \"twitter\", \"union\", \"union\", \"user\", \"user\", \"vacat\", \"vacat\", \"vacat\", \"vaccin\", \"video\", \"video\", \"video\", \"wag\", \"wage\", \"walk\", \"walk\", \"want\", \"want\", \"want\", \"want\", \"war\", \"watch\", \"watch\", \"watch\", \"watch\", \"way\", \"way\", \"way\", \"way\", \"wealth\", \"wealthi\", \"wear\", \"wear\", \"webp\", \"week\", \"week\", \"weekend\", \"width\", \"wiki\", \"worker\", \"worker\", \"worker\", \"worker\", \"world\", \"world\", \"world\", \"year\", \"year\", \"year\", \"yell\", \"youtu\", \"youtub\"]}, \"R\": 30, \"lambda.step\": 0.01, \"plot.opts\": {\"xlab\": \"PC1\", \"ylab\": \"PC2\"}, \"topic.order\": [2, 4, 3, 1]};\n",
       "\n",
       "function LDAvis_load_lib(url, callback){\n",
       "  var s = document.createElement('script');\n",
       "  s.src = url;\n",
       "  s.async = true;\n",
       "  s.onreadystatechange = s.onload = callback;\n",
       "  s.onerror = function(){console.warn(\"failed to load library \" + url);};\n",
       "  document.getElementsByTagName(\"head\")[0].appendChild(s);\n",
       "}\n",
       "\n",
       "if(typeof(LDAvis) !== \"undefined\"){\n",
       "   // already loaded: just create the visualization\n",
       "   !function(LDAvis){\n",
       "       new LDAvis(\"#\" + \"ldavis_el52091398276886082082423290088\", ldavis_el52091398276886082082423290088_data);\n",
       "   }(LDAvis);\n",
       "}else if(typeof define === \"function\" && define.amd){\n",
       "   // require.js is available: use it to load d3/LDAvis\n",
       "   require.config({paths: {d3: \"https://d3js.org/d3.v5\"}});\n",
       "   require([\"d3\"], function(d3){\n",
       "      window.d3 = d3;\n",
       "      LDAvis_load_lib(\"https://cdn.jsdelivr.net/gh/bmabey/pyLDAvis@3.3.1/pyLDAvis/js/ldavis.v3.0.0.js\", function(){\n",
       "        new LDAvis(\"#\" + \"ldavis_el52091398276886082082423290088\", ldavis_el52091398276886082082423290088_data);\n",
       "      });\n",
       "    });\n",
       "}else{\n",
       "    // require.js not available: dynamically load d3 & LDAvis\n",
       "    LDAvis_load_lib(\"https://d3js.org/d3.v5.js\", function(){\n",
       "         LDAvis_load_lib(\"https://cdn.jsdelivr.net/gh/bmabey/pyLDAvis@3.3.1/pyLDAvis/js/ldavis.v3.0.0.js\", function(){\n",
       "                 new LDAvis(\"#\" + \"ldavis_el52091398276886082082423290088\", ldavis_el52091398276886082082423290088_data);\n",
       "            })\n",
       "         });\n",
       "}\n",
       "</script>"
      ],
      "text/plain": [
       "<IPython.core.display.HTML object>"
      ]
     },
     "execution_count": 45,
     "metadata": {},
     "output_type": "execute_result"
    }
   ],
   "source": [
    "# Create Dictionary\n",
    "id2word = corpora.Dictionary(df21['preprocessed'])\n",
    "\n",
    "# Create Corpus: Term Document Frequency\n",
    "corpus = [id2word.doc2bow(text) for text in df21['preprocessed']]\n",
    "\n",
    "# Build LDA model\n",
    "lda_model = gensim.models.LdaMulticore(corpus=corpus,\n",
    "                                           id2word=id2word,\n",
    "                                           num_topics=4,\n",
    "                                           workers=3,\n",
    "                                           random_state=42,\n",
    "                                           chunksize=256,\n",
    "                                           passes=10,\n",
    "                                           alpha='symmetric',\n",
    "                                           iterations=100,\n",
    "                                           per_word_topics=True)\n",
    "\n",
    "#pprint(lda_model.print_topics())\n",
    "\n",
    "\n",
    "pyLDAvis.enable_notebook()\n",
    "vis = pyLDAvis.gensim_models.prepare(topic_model=lda_model, corpus=corpus, dictionary=id2word)\n",
    "\n",
    "pyLDAvis.display(vis)"
   ]
  },
  {
   "cell_type": "markdown",
   "id": "a44e0c11-0683-48c2-8301-07fd57967444",
   "metadata": {},
   "source": [
    "Topic 1: \n",
    "- Topic 1 is consistently overall about the emlployee's __time__. The words that are more exclusive to this topic that tell a clear story are day, hour, week, shift, time, home, sick, and break.\n",
    "- Potential recommendations for an employer would be to have clear and strict working hours, providing appropriate time off, encouraging taking time off, but without adding unnecessary pressure on other employees.\n",
    "\n",
    "Topic 2: \n",
    "- Topic 2 has a lot of overlap with topic 1, but also highlights what seems to be the __employment process__. Words like position, interview, the lemma \"appli\", the lemma \"salari\", and the lemma \"rais\" guide this narrative. \n",
    "- Recommendations to address this topic could include streamlining the application process to make it as simple and straightforward as possible, consistent communication with applicants, and have a smooth hiring and training process that best prepares the employee for the position they were hired for.\n",
    "\n",
    "Topic 3: \n",
    "- Topic 3 seems to be centered around __not being paid fairly__. The terms money, slave, minimum, the lemma \"wag\", the lemma \"surviv\", labor, the lemma \"incom\", profit and rich all contribute to that narrative. \n",
    "- Recommendations include ensuring employees are paid what they are worth and a livable income.\n",
    "\n",
    "Topic 4:\n",
    "- Topic 4 is the smallest and least definitive topic with a very large amount of deleted and removed posts. Terms such as strike and union show up exclusively in this topic, as are terms amazon and the lemma \"bezo\" which almost certainly is referring to Jeff Bezos. These terms, coupled with the lemma \"capit\" lead me to believe this topic is about capitalism and \"the rich getting richer while the poor get poorer\". This topic is likely concerning __systemic issues__."
   ]
  },
  {
   "cell_type": "code",
   "execution_count": 46,
   "id": "dc2d1887-56e5-4907-a813-0075b60778fe",
   "metadata": {},
   "outputs": [],
   "source": [
    "p = pyLDAvis.gensim_models.prepare(lda_model, corpus, id2word)\n",
    "pyLDAvis.save_html(p, './pyLDAvis/lda2021.html')"
   ]
  },
  {
   "cell_type": "markdown",
   "id": "cb5a075c-b2d2-4b1a-99b6-7cd51d4db26a",
   "metadata": {
    "tags": []
   },
   "source": [
    "## V: Performing Sentiment Analysis on the Years 2019-2021 "
   ]
  },
  {
   "cell_type": "code",
   "execution_count": 47,
   "id": "89dba177-acc4-4d82-a0ab-f44ebf664aee",
   "metadata": {},
   "outputs": [
    {
     "name": "stderr",
     "output_type": "stream",
     "text": [
      "[nltk_data] Downloading package vader_lexicon to\n",
      "[nltk_data]     /home/jupyter/nltk_data...\n",
      "[nltk_data]   Package vader_lexicon is already up-to-date!\n"
     ]
    },
    {
     "data": {
      "text/plain": [
       "True"
      ]
     },
     "execution_count": 47,
     "metadata": {},
     "output_type": "execute_result"
    }
   ],
   "source": [
    "from nltk.sentiment.vader import SentimentIntensityAnalyzer\n",
    "nltk.download('vader_lexicon')"
   ]
  },
  {
   "cell_type": "code",
   "execution_count": 48,
   "id": "a0bd5ef4-bc35-41e3-bb86-90e2ae5cc25b",
   "metadata": {},
   "outputs": [],
   "source": [
    "#function courtesy of Katie Sylvia\n",
    "def sentiment(row):\n",
    "    analyzer = SentimentIntensityAnalyzer()\n",
    "    res = analyzer.polarity_scores(row)\n",
    "    return pd.Series([res['compound']])"
   ]
  },
  {
   "cell_type": "markdown",
   "id": "da5b2f0b-18c8-47ae-b1d9-80f4ed22083c",
   "metadata": {},
   "source": [
    "- Comp score greater than 0.05 is positive\n",
    "\n",
    "- comp score between -0.05 and 0.05 is neutral\n",
    "\n",
    "- comp score less than  -0.05 considered negative"
   ]
  },
  {
   "cell_type": "code",
   "execution_count": null,
   "id": "e44de9f6-2a63-4fad-a051-3aa420613ff0",
   "metadata": {
    "tags": []
   },
   "outputs": [
    {
     "name": "stderr",
     "output_type": "stream",
     "text": [
      "/opt/conda/lib/python3.7/site-packages/past/builtins/misc.py:45: DeprecationWarning: the imp module is deprecated in favour of importlib; see the module's documentation for alternative uses\n",
      "  from imp import reload\n",
      "/opt/conda/lib/python3.7/site-packages/joblib/backports.py:36: DeprecationWarning: distutils Version classes are deprecated. Use packaging.version instead.\n",
      "  if LooseVersion(np.__version__) < '1.13':\n",
      "/opt/conda/lib/python3.7/site-packages/setuptools/_distutils/version.py:351: DeprecationWarning: distutils Version classes are deprecated. Use packaging.version instead.\n",
      "  other = LooseVersion(other)\n",
      "/opt/conda/lib/python3.7/site-packages/joblib/backports.py:36: DeprecationWarning: distutils Version classes are deprecated. Use packaging.version instead.\n",
      "  if LooseVersion(np.__version__) < '1.13':\n",
      "/opt/conda/lib/python3.7/site-packages/setuptools/_distutils/version.py:351: DeprecationWarning: distutils Version classes are deprecated. Use packaging.version instead.\n",
      "  other = LooseVersion(other)\n",
      "/opt/conda/lib/python3.7/site-packages/joblib/backports.py:36: DeprecationWarning: distutils Version classes are deprecated. Use packaging.version instead.\n",
      "  if LooseVersion(np.__version__) < '1.13':\n",
      "/opt/conda/lib/python3.7/site-packages/setuptools/_distutils/version.py:351: DeprecationWarning: distutils Version classes are deprecated. Use packaging.version instead.\n",
      "  other = LooseVersion(other)\n",
      "/opt/conda/lib/python3.7/site-packages/joblib/backports.py:36: DeprecationWarning: distutils Version classes are deprecated. Use packaging.version instead.\n",
      "  if LooseVersion(np.__version__) < '1.13':\n",
      "/opt/conda/lib/python3.7/site-packages/setuptools/_distutils/version.py:351: DeprecationWarning: distutils Version classes are deprecated. Use packaging.version instead.\n",
      "  other = LooseVersion(other)\n",
      "/opt/conda/lib/python3.7/site-packages/joblib/backports.py:36: DeprecationWarning: distutils Version classes are deprecated. Use packaging.version instead.\n",
      "  if LooseVersion(np.__version__) < '1.13':\n",
      "/opt/conda/lib/python3.7/site-packages/setuptools/_distutils/version.py:351: DeprecationWarning: distutils Version classes are deprecated. Use packaging.version instead.\n",
      "  other = LooseVersion(other)\n",
      "/opt/conda/lib/python3.7/site-packages/joblib/backports.py:36: DeprecationWarning: distutils Version classes are deprecated. Use packaging.version instead.\n",
      "  if LooseVersion(np.__version__) < '1.13':\n",
      "/opt/conda/lib/python3.7/site-packages/setuptools/_distutils/version.py:351: DeprecationWarning: distutils Version classes are deprecated. Use packaging.version instead.\n",
      "  other = LooseVersion(other)\n",
      "/opt/conda/lib/python3.7/site-packages/joblib/backports.py:36: DeprecationWarning: distutils Version classes are deprecated. Use packaging.version instead.\n",
      "  if LooseVersion(np.__version__) < '1.13':\n",
      "/opt/conda/lib/python3.7/site-packages/setuptools/_distutils/version.py:351: DeprecationWarning: distutils Version classes are deprecated. Use packaging.version instead.\n",
      "  other = LooseVersion(other)\n",
      "/opt/conda/lib/python3.7/site-packages/joblib/backports.py:36: DeprecationWarning: distutils Version classes are deprecated. Use packaging.version instead.\n",
      "  if LooseVersion(np.__version__) < '1.13':\n",
      "/opt/conda/lib/python3.7/site-packages/setuptools/_distutils/version.py:351: DeprecationWarning: distutils Version classes are deprecated. Use packaging.version instead.\n",
      "  other = LooseVersion(other)\n",
      "/opt/conda/lib/python3.7/site-packages/joblib/backports.py:36: DeprecationWarning: distutils Version classes are deprecated. Use packaging.version instead.\n",
      "  if LooseVersion(np.__version__) < '1.13':\n",
      "/opt/conda/lib/python3.7/site-packages/setuptools/_distutils/version.py:351: DeprecationWarning: distutils Version classes are deprecated. Use packaging.version instead.\n",
      "  other = LooseVersion(other)\n",
      "/opt/conda/lib/python3.7/site-packages/joblib/backports.py:36: DeprecationWarning: distutils Version classes are deprecated. Use packaging.version instead.\n",
      "  if LooseVersion(np.__version__) < '1.13':\n",
      "/opt/conda/lib/python3.7/site-packages/setuptools/_distutils/version.py:351: DeprecationWarning: distutils Version classes are deprecated. Use packaging.version instead.\n",
      "  other = LooseVersion(other)\n",
      "/opt/conda/lib/python3.7/site-packages/joblib/backports.py:36: DeprecationWarning: distutils Version classes are deprecated. Use packaging.version instead.\n",
      "  if LooseVersion(np.__version__) < '1.13':\n",
      "/opt/conda/lib/python3.7/site-packages/setuptools/_distutils/version.py:351: DeprecationWarning: distutils Version classes are deprecated. Use packaging.version instead.\n",
      "  other = LooseVersion(other)\n",
      "/opt/conda/lib/python3.7/site-packages/joblib/backports.py:36: DeprecationWarning: distutils Version classes are deprecated. Use packaging.version instead.\n",
      "  if LooseVersion(np.__version__) < '1.13':\n",
      "/opt/conda/lib/python3.7/site-packages/setuptools/_distutils/version.py:351: DeprecationWarning: distutils Version classes are deprecated. Use packaging.version instead.\n",
      "  other = LooseVersion(other)\n",
      "/opt/conda/lib/python3.7/site-packages/joblib/backports.py:36: DeprecationWarning: distutils Version classes are deprecated. Use packaging.version instead.\n",
      "  if LooseVersion(np.__version__) < '1.13':\n",
      "/opt/conda/lib/python3.7/site-packages/setuptools/_distutils/version.py:351: DeprecationWarning: distutils Version classes are deprecated. Use packaging.version instead.\n",
      "  other = LooseVersion(other)\n",
      "/opt/conda/lib/python3.7/site-packages/joblib/backports.py:36: DeprecationWarning: distutils Version classes are deprecated. Use packaging.version instead.\n",
      "  if LooseVersion(np.__version__) < '1.13':\n",
      "/opt/conda/lib/python3.7/site-packages/setuptools/_distutils/version.py:351: DeprecationWarning: distutils Version classes are deprecated. Use packaging.version instead.\n",
      "  other = LooseVersion(other)\n",
      "/opt/conda/lib/python3.7/site-packages/past/builtins/misc.py:45: DeprecationWarning: the imp module is deprecated in favour of importlib; see the module's documentation for alternative uses\n",
      "  from imp import reload\n",
      "/opt/conda/lib/python3.7/site-packages/joblib/backports.py:36: DeprecationWarning: distutils Version classes are deprecated. Use packaging.version instead.\n",
      "  if LooseVersion(np.__version__) < '1.13':\n",
      "/opt/conda/lib/python3.7/site-packages/setuptools/_distutils/version.py:351: DeprecationWarning: distutils Version classes are deprecated. Use packaging.version instead.\n",
      "  other = LooseVersion(other)\n",
      "/opt/conda/lib/python3.7/site-packages/joblib/backports.py:36: DeprecationWarning: distutils Version classes are deprecated. Use packaging.version instead.\n",
      "  if LooseVersion(np.__version__) < '1.13':\n",
      "/opt/conda/lib/python3.7/site-packages/setuptools/_distutils/version.py:351: DeprecationWarning: distutils Version classes are deprecated. Use packaging.version instead.\n",
      "  other = LooseVersion(other)\n",
      "/opt/conda/lib/python3.7/site-packages/joblib/backports.py:36: DeprecationWarning: distutils Version classes are deprecated. Use packaging.version instead.\n",
      "  if LooseVersion(np.__version__) < '1.13':\n",
      "/opt/conda/lib/python3.7/site-packages/setuptools/_distutils/version.py:351: DeprecationWarning: distutils Version classes are deprecated. Use packaging.version instead.\n",
      "  other = LooseVersion(other)\n",
      "/opt/conda/lib/python3.7/site-packages/joblib/backports.py:36: DeprecationWarning: distutils Version classes are deprecated. Use packaging.version instead.\n",
      "  if LooseVersion(np.__version__) < '1.13':\n",
      "/opt/conda/lib/python3.7/site-packages/setuptools/_distutils/version.py:351: DeprecationWarning: distutils Version classes are deprecated. Use packaging.version instead.\n",
      "  other = LooseVersion(other)\n",
      "/opt/conda/lib/python3.7/site-packages/joblib/backports.py:36: DeprecationWarning: distutils Version classes are deprecated. Use packaging.version instead.\n",
      "  if LooseVersion(np.__version__) < '1.13':\n",
      "/opt/conda/lib/python3.7/site-packages/setuptools/_distutils/version.py:351: DeprecationWarning: distutils Version classes are deprecated. Use packaging.version instead.\n",
      "  other = LooseVersion(other)\n",
      "/opt/conda/lib/python3.7/site-packages/joblib/backports.py:36: DeprecationWarning: distutils Version classes are deprecated. Use packaging.version instead.\n",
      "  if LooseVersion(np.__version__) < '1.13':\n",
      "/opt/conda/lib/python3.7/site-packages/setuptools/_distutils/version.py:351: DeprecationWarning: distutils Version classes are deprecated. Use packaging.version instead.\n",
      "  other = LooseVersion(other)\n",
      "/opt/conda/lib/python3.7/site-packages/joblib/backports.py:36: DeprecationWarning: distutils Version classes are deprecated. Use packaging.version instead.\n",
      "  if LooseVersion(np.__version__) < '1.13':\n",
      "/opt/conda/lib/python3.7/site-packages/setuptools/_distutils/version.py:351: DeprecationWarning: distutils Version classes are deprecated. Use packaging.version instead.\n",
      "  other = LooseVersion(other)\n",
      "/opt/conda/lib/python3.7/site-packages/joblib/backports.py:36: DeprecationWarning: distutils Version classes are deprecated. Use packaging.version instead.\n",
      "  if LooseVersion(np.__version__) < '1.13':\n",
      "/opt/conda/lib/python3.7/site-packages/setuptools/_distutils/version.py:351: DeprecationWarning: distutils Version classes are deprecated. Use packaging.version instead.\n",
      "  other = LooseVersion(other)\n",
      "/opt/conda/lib/python3.7/site-packages/joblib/backports.py:36: DeprecationWarning: distutils Version classes are deprecated. Use packaging.version instead.\n",
      "  if LooseVersion(np.__version__) < '1.13':\n",
      "/opt/conda/lib/python3.7/site-packages/setuptools/_distutils/version.py:351: DeprecationWarning: distutils Version classes are deprecated. Use packaging.version instead.\n",
      "  other = LooseVersion(other)\n",
      "/opt/conda/lib/python3.7/site-packages/joblib/backports.py:36: DeprecationWarning: distutils Version classes are deprecated. Use packaging.version instead.\n",
      "  if LooseVersion(np.__version__) < '1.13':\n",
      "/opt/conda/lib/python3.7/site-packages/setuptools/_distutils/version.py:351: DeprecationWarning: distutils Version classes are deprecated. Use packaging.version instead.\n",
      "  other = LooseVersion(other)\n",
      "/opt/conda/lib/python3.7/site-packages/joblib/backports.py:36: DeprecationWarning: distutils Version classes are deprecated. Use packaging.version instead.\n",
      "  if LooseVersion(np.__version__) < '1.13':\n",
      "/opt/conda/lib/python3.7/site-packages/setuptools/_distutils/version.py:351: DeprecationWarning: distutils Version classes are deprecated. Use packaging.version instead.\n",
      "  other = LooseVersion(other)\n",
      "/opt/conda/lib/python3.7/site-packages/joblib/backports.py:36: DeprecationWarning: distutils Version classes are deprecated. Use packaging.version instead.\n",
      "  if LooseVersion(np.__version__) < '1.13':\n",
      "/opt/conda/lib/python3.7/site-packages/setuptools/_distutils/version.py:351: DeprecationWarning: distutils Version classes are deprecated. Use packaging.version instead.\n",
      "  other = LooseVersion(other)\n",
      "/opt/conda/lib/python3.7/site-packages/joblib/backports.py:36: DeprecationWarning: distutils Version classes are deprecated. Use packaging.version instead.\n",
      "  if LooseVersion(np.__version__) < '1.13':\n",
      "/opt/conda/lib/python3.7/site-packages/setuptools/_distutils/version.py:351: DeprecationWarning: distutils Version classes are deprecated. Use packaging.version instead.\n",
      "  other = LooseVersion(other)\n",
      "/opt/conda/lib/python3.7/site-packages/joblib/backports.py:36: DeprecationWarning: distutils Version classes are deprecated. Use packaging.version instead.\n",
      "  if LooseVersion(np.__version__) < '1.13':\n",
      "/opt/conda/lib/python3.7/site-packages/setuptools/_distutils/version.py:351: DeprecationWarning: distutils Version classes are deprecated. Use packaging.version instead.\n",
      "  other = LooseVersion(other)\n",
      "/opt/conda/lib/python3.7/site-packages/past/builtins/misc.py:45: DeprecationWarning: the imp module is deprecated in favour of importlib; see the module's documentation for alternative uses\n",
      "  from imp import reload\n",
      "/opt/conda/lib/python3.7/site-packages/joblib/backports.py:36: DeprecationWarning: distutils Version classes are deprecated. Use packaging.version instead.\n",
      "  if LooseVersion(np.__version__) < '1.13':\n",
      "/opt/conda/lib/python3.7/site-packages/setuptools/_distutils/version.py:351: DeprecationWarning: distutils Version classes are deprecated. Use packaging.version instead.\n",
      "  other = LooseVersion(other)\n",
      "/opt/conda/lib/python3.7/site-packages/joblib/backports.py:36: DeprecationWarning: distutils Version classes are deprecated. Use packaging.version instead.\n",
      "  if LooseVersion(np.__version__) < '1.13':\n",
      "/opt/conda/lib/python3.7/site-packages/setuptools/_distutils/version.py:351: DeprecationWarning: distutils Version classes are deprecated. Use packaging.version instead.\n",
      "  other = LooseVersion(other)\n",
      "/opt/conda/lib/python3.7/site-packages/joblib/backports.py:36: DeprecationWarning: distutils Version classes are deprecated. Use packaging.version instead.\n",
      "  if LooseVersion(np.__version__) < '1.13':\n",
      "/opt/conda/lib/python3.7/site-packages/setuptools/_distutils/version.py:351: DeprecationWarning: distutils Version classes are deprecated. Use packaging.version instead.\n",
      "  other = LooseVersion(other)\n",
      "/opt/conda/lib/python3.7/site-packages/joblib/backports.py:36: DeprecationWarning: distutils Version classes are deprecated. Use packaging.version instead.\n",
      "  if LooseVersion(np.__version__) < '1.13':\n",
      "/opt/conda/lib/python3.7/site-packages/setuptools/_distutils/version.py:351: DeprecationWarning: distutils Version classes are deprecated. Use packaging.version instead.\n",
      "  other = LooseVersion(other)\n",
      "/opt/conda/lib/python3.7/site-packages/joblib/backports.py:36: DeprecationWarning: distutils Version classes are deprecated. Use packaging.version instead.\n",
      "  if LooseVersion(np.__version__) < '1.13':\n",
      "/opt/conda/lib/python3.7/site-packages/setuptools/_distutils/version.py:351: DeprecationWarning: distutils Version classes are deprecated. Use packaging.version instead.\n",
      "  other = LooseVersion(other)\n",
      "/opt/conda/lib/python3.7/site-packages/joblib/backports.py:36: DeprecationWarning: distutils Version classes are deprecated. Use packaging.version instead.\n",
      "  if LooseVersion(np.__version__) < '1.13':\n",
      "/opt/conda/lib/python3.7/site-packages/setuptools/_distutils/version.py:351: DeprecationWarning: distutils Version classes are deprecated. Use packaging.version instead.\n",
      "  other = LooseVersion(other)\n",
      "/opt/conda/lib/python3.7/site-packages/joblib/backports.py:36: DeprecationWarning: distutils Version classes are deprecated. Use packaging.version instead.\n",
      "  if LooseVersion(np.__version__) < '1.13':\n",
      "/opt/conda/lib/python3.7/site-packages/setuptools/_distutils/version.py:351: DeprecationWarning: distutils Version classes are deprecated. Use packaging.version instead.\n",
      "  other = LooseVersion(other)\n",
      "/opt/conda/lib/python3.7/site-packages/joblib/backports.py:36: DeprecationWarning: distutils Version classes are deprecated. Use packaging.version instead.\n",
      "  if LooseVersion(np.__version__) < '1.13':\n",
      "/opt/conda/lib/python3.7/site-packages/setuptools/_distutils/version.py:351: DeprecationWarning: distutils Version classes are deprecated. Use packaging.version instead.\n",
      "  other = LooseVersion(other)\n",
      "/opt/conda/lib/python3.7/site-packages/joblib/backports.py:36: DeprecationWarning: distutils Version classes are deprecated. Use packaging.version instead.\n",
      "  if LooseVersion(np.__version__) < '1.13':\n",
      "/opt/conda/lib/python3.7/site-packages/setuptools/_distutils/version.py:351: DeprecationWarning: distutils Version classes are deprecated. Use packaging.version instead.\n",
      "  other = LooseVersion(other)\n",
      "/opt/conda/lib/python3.7/site-packages/joblib/backports.py:36: DeprecationWarning: distutils Version classes are deprecated. Use packaging.version instead.\n",
      "  if LooseVersion(np.__version__) < '1.13':\n",
      "/opt/conda/lib/python3.7/site-packages/setuptools/_distutils/version.py:351: DeprecationWarning: distutils Version classes are deprecated. Use packaging.version instead.\n",
      "  other = LooseVersion(other)\n",
      "/opt/conda/lib/python3.7/site-packages/joblib/backports.py:36: DeprecationWarning: distutils Version classes are deprecated. Use packaging.version instead.\n",
      "  if LooseVersion(np.__version__) < '1.13':\n",
      "/opt/conda/lib/python3.7/site-packages/setuptools/_distutils/version.py:351: DeprecationWarning: distutils Version classes are deprecated. Use packaging.version instead.\n",
      "  other = LooseVersion(other)\n",
      "/opt/conda/lib/python3.7/site-packages/joblib/backports.py:36: DeprecationWarning: distutils Version classes are deprecated. Use packaging.version instead.\n",
      "  if LooseVersion(np.__version__) < '1.13':\n",
      "/opt/conda/lib/python3.7/site-packages/setuptools/_distutils/version.py:351: DeprecationWarning: distutils Version classes are deprecated. Use packaging.version instead.\n",
      "  other = LooseVersion(other)\n",
      "/opt/conda/lib/python3.7/site-packages/joblib/backports.py:36: DeprecationWarning: distutils Version classes are deprecated. Use packaging.version instead.\n",
      "  if LooseVersion(np.__version__) < '1.13':\n",
      "/opt/conda/lib/python3.7/site-packages/setuptools/_distutils/version.py:351: DeprecationWarning: distutils Version classes are deprecated. Use packaging.version instead.\n",
      "  other = LooseVersion(other)\n",
      "/opt/conda/lib/python3.7/site-packages/joblib/backports.py:36: DeprecationWarning: distutils Version classes are deprecated. Use packaging.version instead.\n",
      "  if LooseVersion(np.__version__) < '1.13':\n",
      "/opt/conda/lib/python3.7/site-packages/setuptools/_distutils/version.py:351: DeprecationWarning: distutils Version classes are deprecated. Use packaging.version instead.\n",
      "  other = LooseVersion(other)\n",
      "/opt/conda/lib/python3.7/site-packages/past/builtins/misc.py:45: DeprecationWarning: the imp module is deprecated in favour of importlib; see the module's documentation for alternative uses\n",
      "  from imp import reload\n",
      "/opt/conda/lib/python3.7/site-packages/joblib/backports.py:36: DeprecationWarning: distutils Version classes are deprecated. Use packaging.version instead.\n",
      "  if LooseVersion(np.__version__) < '1.13':\n",
      "/opt/conda/lib/python3.7/site-packages/setuptools/_distutils/version.py:351: DeprecationWarning: distutils Version classes are deprecated. Use packaging.version instead.\n",
      "  other = LooseVersion(other)\n",
      "/opt/conda/lib/python3.7/site-packages/joblib/backports.py:36: DeprecationWarning: distutils Version classes are deprecated. Use packaging.version instead.\n",
      "  if LooseVersion(np.__version__) < '1.13':\n",
      "/opt/conda/lib/python3.7/site-packages/setuptools/_distutils/version.py:351: DeprecationWarning: distutils Version classes are deprecated. Use packaging.version instead.\n",
      "  other = LooseVersion(other)\n",
      "/opt/conda/lib/python3.7/site-packages/joblib/backports.py:36: DeprecationWarning: distutils Version classes are deprecated. Use packaging.version instead.\n",
      "  if LooseVersion(np.__version__) < '1.13':\n",
      "/opt/conda/lib/python3.7/site-packages/setuptools/_distutils/version.py:351: DeprecationWarning: distutils Version classes are deprecated. Use packaging.version instead.\n",
      "  other = LooseVersion(other)\n",
      "/opt/conda/lib/python3.7/site-packages/joblib/backports.py:36: DeprecationWarning: distutils Version classes are deprecated. Use packaging.version instead.\n",
      "  if LooseVersion(np.__version__) < '1.13':\n",
      "/opt/conda/lib/python3.7/site-packages/setuptools/_distutils/version.py:351: DeprecationWarning: distutils Version classes are deprecated. Use packaging.version instead.\n",
      "  other = LooseVersion(other)\n",
      "/opt/conda/lib/python3.7/site-packages/joblib/backports.py:36: DeprecationWarning: distutils Version classes are deprecated. Use packaging.version instead.\n",
      "  if LooseVersion(np.__version__) < '1.13':\n",
      "/opt/conda/lib/python3.7/site-packages/setuptools/_distutils/version.py:351: DeprecationWarning: distutils Version classes are deprecated. Use packaging.version instead.\n",
      "  other = LooseVersion(other)\n",
      "/opt/conda/lib/python3.7/site-packages/joblib/backports.py:36: DeprecationWarning: distutils Version classes are deprecated. Use packaging.version instead.\n",
      "  if LooseVersion(np.__version__) < '1.13':\n",
      "/opt/conda/lib/python3.7/site-packages/setuptools/_distutils/version.py:351: DeprecationWarning: distutils Version classes are deprecated. Use packaging.version instead.\n",
      "  other = LooseVersion(other)\n",
      "/opt/conda/lib/python3.7/site-packages/joblib/backports.py:36: DeprecationWarning: distutils Version classes are deprecated. Use packaging.version instead.\n",
      "  if LooseVersion(np.__version__) < '1.13':\n",
      "/opt/conda/lib/python3.7/site-packages/setuptools/_distutils/version.py:351: DeprecationWarning: distutils Version classes are deprecated. Use packaging.version instead.\n",
      "  other = LooseVersion(other)\n",
      "/opt/conda/lib/python3.7/site-packages/joblib/backports.py:36: DeprecationWarning: distutils Version classes are deprecated. Use packaging.version instead.\n",
      "  if LooseVersion(np.__version__) < '1.13':\n",
      "/opt/conda/lib/python3.7/site-packages/setuptools/_distutils/version.py:351: DeprecationWarning: distutils Version classes are deprecated. Use packaging.version instead.\n",
      "  other = LooseVersion(other)\n",
      "/opt/conda/lib/python3.7/site-packages/joblib/backports.py:36: DeprecationWarning: distutils Version classes are deprecated. Use packaging.version instead.\n",
      "  if LooseVersion(np.__version__) < '1.13':\n",
      "/opt/conda/lib/python3.7/site-packages/setuptools/_distutils/version.py:351: DeprecationWarning: distutils Version classes are deprecated. Use packaging.version instead.\n",
      "  other = LooseVersion(other)\n",
      "/opt/conda/lib/python3.7/site-packages/joblib/backports.py:36: DeprecationWarning: distutils Version classes are deprecated. Use packaging.version instead.\n",
      "  if LooseVersion(np.__version__) < '1.13':\n",
      "/opt/conda/lib/python3.7/site-packages/setuptools/_distutils/version.py:351: DeprecationWarning: distutils Version classes are deprecated. Use packaging.version instead.\n",
      "  other = LooseVersion(other)\n",
      "/opt/conda/lib/python3.7/site-packages/joblib/backports.py:36: DeprecationWarning: distutils Version classes are deprecated. Use packaging.version instead.\n",
      "  if LooseVersion(np.__version__) < '1.13':\n",
      "/opt/conda/lib/python3.7/site-packages/setuptools/_distutils/version.py:351: DeprecationWarning: distutils Version classes are deprecated. Use packaging.version instead.\n",
      "  other = LooseVersion(other)\n",
      "/opt/conda/lib/python3.7/site-packages/joblib/backports.py:36: DeprecationWarning: distutils Version classes are deprecated. Use packaging.version instead.\n",
      "  if LooseVersion(np.__version__) < '1.13':\n",
      "/opt/conda/lib/python3.7/site-packages/setuptools/_distutils/version.py:351: DeprecationWarning: distutils Version classes are deprecated. Use packaging.version instead.\n",
      "  other = LooseVersion(other)\n",
      "/opt/conda/lib/python3.7/site-packages/joblib/backports.py:36: DeprecationWarning: distutils Version classes are deprecated. Use packaging.version instead.\n",
      "  if LooseVersion(np.__version__) < '1.13':\n",
      "/opt/conda/lib/python3.7/site-packages/setuptools/_distutils/version.py:351: DeprecationWarning: distutils Version classes are deprecated. Use packaging.version instead.\n",
      "  other = LooseVersion(other)\n",
      "/opt/conda/lib/python3.7/site-packages/joblib/backports.py:36: DeprecationWarning: distutils Version classes are deprecated. Use packaging.version instead.\n",
      "  if LooseVersion(np.__version__) < '1.13':\n",
      "/opt/conda/lib/python3.7/site-packages/setuptools/_distutils/version.py:351: DeprecationWarning: distutils Version classes are deprecated. Use packaging.version instead.\n",
      "  other = LooseVersion(other)\n",
      "/opt/conda/lib/python3.7/site-packages/joblib/backports.py:36: DeprecationWarning: distutils Version classes are deprecated. Use packaging.version instead.\n",
      "  if LooseVersion(np.__version__) < '1.13':\n",
      "/opt/conda/lib/python3.7/site-packages/setuptools/_distutils/version.py:351: DeprecationWarning: distutils Version classes are deprecated. Use packaging.version instead.\n",
      "  other = LooseVersion(other)\n",
      "/opt/conda/lib/python3.7/site-packages/joblib/backports.py:36: DeprecationWarning: distutils Version classes are deprecated. Use packaging.version instead.\n",
      "  if LooseVersion(np.__version__) < '1.13':\n",
      "/opt/conda/lib/python3.7/site-packages/setuptools/_distutils/version.py:351: DeprecationWarning: distutils Version classes are deprecated. Use packaging.version instead.\n",
      "  other = LooseVersion(other)\n",
      "/opt/conda/lib/python3.7/site-packages/joblib/backports.py:36: DeprecationWarning: distutils Version classes are deprecated. Use packaging.version instead.\n",
      "  if LooseVersion(np.__version__) < '1.13':\n",
      "/opt/conda/lib/python3.7/site-packages/setuptools/_distutils/version.py:351: DeprecationWarning: distutils Version classes are deprecated. Use packaging.version instead.\n",
      "  other = LooseVersion(other)\n",
      "/opt/conda/lib/python3.7/site-packages/joblib/backports.py:36: DeprecationWarning: distutils Version classes are deprecated. Use packaging.version instead.\n",
      "  if LooseVersion(np.__version__) < '1.13':\n",
      "/opt/conda/lib/python3.7/site-packages/setuptools/_distutils/version.py:351: DeprecationWarning: distutils Version classes are deprecated. Use packaging.version instead.\n",
      "  other = LooseVersion(other)\n"
     ]
    }
   ],
   "source": [
    "df[['comp']] = df['title_w_text'].apply(sentiment)"
   ]
  },
  {
   "cell_type": "code",
   "execution_count": null,
   "id": "ed78e555-4297-4b5c-8c17-095227d5619c",
   "metadata": {},
   "outputs": [],
   "source": [
    "df"
   ]
  },
  {
   "cell_type": "markdown",
   "id": "14097816-6e64-4000-9db4-a1517b4d4770",
   "metadata": {},
   "source": [
    "After performing sentiment analysis on the corpus and visualizing it on Tableau (below), I noticed the majority of time, the sentiment was negative (less than -0.05) where the last time there was positive sentiment within r/Antiwork was October of 2018. Over the years however, sentiment is approaching a general neutrality which is arguably better than generally negative. On the other hand, neutrality could suggest employees are becoming complacent. When complacent for too long, it's possible to become bored. For some, that could mean resignation which employers typically avoid."
   ]
  },
  {
   "cell_type": "code",
   "execution_count": null,
   "id": "6af5e90b-94f3-44cb-a9f4-ff8c4eb48141",
   "metadata": {
    "tags": []
   },
   "outputs": [],
   "source": [
    "%%html\n",
    "<div class='tableau Placeholder' id='viz1650050136705' style='position: relative'><noscript><a href='#'><img alt='Dashboard 1 ' src='https:&#47;&#47;public.tableau.com&#47;static&#47;images&#47;an&#47;antiwork&#47;Dashboard1&#47;1_rss.png' style='border: none' /></a></noscript><object class='tableauViz'  style='display:none;'><param name='host_url' value='https%3A%2F%2Fpublic.tableau.com%2F' /> <param name='embed_code_version' value='3' /> <param name='site_root' value='' /><param name='name' value='antiwork&#47;Dashboard1' /><param name='tabs' value='no' /><param name='toolbar' value='yes' /><param name='static_image' value='https:&#47;&#47;public.tableau.com&#47;static&#47;images&#47;an&#47;antiwork&#47;Dashboard1&#47;1.png' /> <param name='animate_transition' value='yes' /><param name='display_static_image' value='yes' /><param name='display_spinner' value='yes' /><param name='display_overlay' value='yes' /><param name='display_count' value='yes' /><param name='language' value='en-US' /><param name='filter' value='publish=yes' /></object></div>                <script type='text/javascript'>                    var divElement = document.getElementById('viz1650050136705');                    var vizElement = divElement.getElementsByTagName('object')[0];                    vizElement.style.width='100%';vizElement.style.maxWidth='1250px';vizElement.style.height=(divElement.offsetWidth*0.75)+'px';vizElement.style.maxHeight='887px';                    var scriptElement = document.createElement('script');                    scriptElement.src = 'https://public.tableau.com/javascripts/api/viz_v1.js';                    vizElement.parentNode.insertBefore(scriptElement, vizElement);                </script>"
   ]
  },
  {
   "cell_type": "code",
   "execution_count": null,
   "id": "2598c5e4-3f0f-4d81-96e7-e115225e5098",
   "metadata": {},
   "outputs": [],
   "source": [
    "#saving this df to use on tableau\n",
    "df.drop(columns=['preprocessed']).to_csv('./data/cleaned_processed_sentiment_df_posts.csv', index=False)"
   ]
  },
  {
   "cell_type": "code",
   "execution_count": null,
   "id": "e2cd4fa6-32a5-4898-8c5b-edd75cd85a69",
   "metadata": {},
   "outputs": [],
   "source": [
    "#df.isna().sum("
   ]
  },
  {
   "cell_type": "code",
   "execution_count": null,
   "id": "7d79a0d8-c662-4ec1-bd7e-351ec75634c7",
   "metadata": {},
   "outputs": [],
   "source": [
    "df.head()"
   ]
  },
  {
   "cell_type": "code",
   "execution_count": null,
   "id": "e2808450-4ffd-431b-93ae-f4d17bf48bdf",
   "metadata": {},
   "outputs": [],
   "source": [
    "df_test = pd.read_csv('./data/cleaned_processed_sentiment_df_posts.csv')\n",
    "df_test.drop(columns=['permalink', 'url', 'title_w_text'], inplace=True)"
   ]
  },
  {
   "cell_type": "code",
   "execution_count": null,
   "id": "2feb95bf-9e9c-4ad9-96ed-efcefe785a98",
   "metadata": {},
   "outputs": [],
   "source": [
    "df_test.to_csv('./data/tableau.csv', index=False)"
   ]
  },
  {
   "cell_type": "markdown",
   "id": "3d1f3d1e-3608-4c6f-b35c-062241e08817",
   "metadata": {},
   "source": [
    "# Conclusions and Recommendations"
   ]
  },
  {
   "cell_type": "markdown",
   "id": "14b64b63-41c0-43d1-9220-ac504750792a",
   "metadata": {},
   "source": [
    "All in all, there are three recurring root causes of employees being unhappy at their workplaces. The most consistent topics were the employees' time, financial stability, and systemic concerns within their workplace. The concerns of time were incredibly and profoundly consistent, whereas the concerns of financial stability had slight change throughout the years, and the systemic concerns varied as the years went on. Below are specific conclusions and recommendations on these concerns.\n",
    "\n",
    "When it came to the topic of time, this was the number 1 topic  in the entire corpus, and consistently the number 1 topic in every model for the years 2019-2021. Terms that continuously appeared when discussing time were:\n",
    "- day, \n",
    "- hour, \n",
    "- week, \n",
    "- shift, \n",
    "- time, \n",
    "- home, \n",
    "- sick,  \n",
    "- break\n",
    "- sleep, \n",
    "- weekend, \n",
    "- mental, and\n",
    "- month\n",
    "\n",
    "Potential recommendations for an employer to handle the concern of employees' time could first be to have clear and strict working hours. If your company has working hours of 8 am to 5 pm Monday through Friday, encourage and support clocking out at 5 pm. If its noticed work is still being done after 5 pm, an employer could ask what support they could provide in assisting the employee in accomplishing their tasks and goals within the work day. This build to another recommendation of ensuring an employer is being cognizant of their time when providing tasks, scheduling meetings, etc. For example, if tasks and responsibilities require 6 hours of an 8 hour work day, it would not be cognizant to schedule more than 2 hours of meetings in a day. Another recommendation could be to ensure an employer is providing appropriate time off. That could mean sick time is different from traditional paid time off/vacation time. Provide the opportunities for employees to take time, but also encouraging taking time off. Like we noticed in 2019, there was a lot of talk about Japan's workplace reform laws which included time off _requirements_ for employees. These could all be steps in showing that employers don't need nor expect an employee to give _all_ of their time to their place of work.\n",
    "\n",
    "\n",
    "The second largest and consistent topic of concern was the financial stability an employee feels they have. This topic was talked about in some way shape or form throughout the years. The terms seen in this topic were: \n",
    "- money, \n",
    "- wage, \n",
    "- profit,\n",
    "- life,\n",
    "- live, \n",
    "- income, \n",
    "- wealth, \n",
    "- freedom, \n",
    "- retire, \n",
    "- buy, \n",
    "- value, \n",
    "- house\n",
    "- education, and\n",
    "- \"capit\"\n",
    "\n",
    "These are all about money, but with a connotation of the future. Employees want to know their future in being invested in, the same way they invest their time with an employer. Recommendations for employers to give the message of being invested in their employees' futures could include doing something to ensure that your employees don't see themselves as \"just a number\" or \"part of the system\". Do things that make them feel appreciated, important, and valuable such as asking their opinions when possible, giving bonuses for the holidays or for returning next fiscal year, and regularly providing opportunities for employees to provide meaningful feedback, then acting on it. Employers could provide opportunities for professional development without having to take time off, or provide access to and encourage use of online learning places such as Coursera or Udemy. Another way an employer could show they care about the financial stability of their employess is to offer some type of student loan forgiveness, or assistance/encouragement of employees furthering their education. These are some ideas that could make employees feel as if their companies are sharing the wealth opposed to withholding the fruits of their labor.\n",
    "\n",
    "Lastly, the third most consistent topic was centered around systemic concerns. Sometimes these concerns were political and concerning capitalism, like we saw in the year 2021 where jeff bezos was brought up often. Other times the concerns were centered around workplace culture like we were seeing in 2020 where union and strike were very common, and especially in 2019 where employees were talking very heavily about the new Japanese workplace reform policies. The terms that were seen in this topic were: \n",
    "- strike, \n",
    "- union,\n",
    "- \"societi\", \n",
    "- capitalist\n",
    "- american, and\n",
    "- \"economi\"\n",
    "\n",
    "While these terms were found consistently, the specifics of the systemic concerns changed between 2019 and 2021 depending on what was going on in the world at the time. The biggest recommendation to remedy this topic is to host surveys that are without reprimand that allow for data to be collected and changes to be made. Without reprimand includes not requiring employee time on trainings that wont' benefit the employees as well because taking time is a reprimand. When big events are happening, such as a pandemic, employers could ask employees if they feel physically and mentally safe in the workplace, and/or what could make them feel safer. Employers could make it systemic to be concerned about their employees instead of employees being concerned about the systemics of their employers."
   ]
  },
  {
   "cell_type": "markdown",
   "id": "f19aa657-865e-4923-8ba4-9c351a52ca8a",
   "metadata": {},
   "source": [
    "# Next Steps"
   ]
  },
  {
   "cell_type": "markdown",
   "id": "e87d6f2b-0438-4812-8fc0-d016c1f574d0",
   "metadata": {},
   "source": [
    "This model can be fed new documents without having to be retrained, so I would continue to monitor r/Antiwork and add documents to the corpus. This would allow me to see how the topics are shifting, or remaining the same, with time. I would also like to extract text from images as there a lot of meaningful words within the images, and I would also like to retrain the model using n grams and increasing the iterations of the model training."
   ]
  },
  {
   "cell_type": "markdown",
   "id": "c1d167e3-c0c7-4e58-bf51-66d42a6c22d0",
   "metadata": {},
   "source": [
    "##### end"
   ]
  },
  {
   "cell_type": "markdown",
   "id": "3fa7062c-ebd3-443d-bc08-75ed9029949b",
   "metadata": {},
   "source": [
    "Click [here](#Using-Latent-Dirichlet-Allocation-(LDA)-to-Topic-Model) to return to the top of the notebook."
   ]
  }
 ],
 "metadata": {
  "environment": {
   "kernel": "python3",
   "name": "tf2-gpu.2-7.m87",
   "type": "gcloud",
   "uri": "gcr.io/deeplearning-platform-release/tf2-gpu.2-7:m87"
  },
  "kernelspec": {
   "display_name": "Python 3 (ipykernel)",
   "language": "python",
   "name": "python3"
  },
  "language_info": {
   "codemirror_mode": {
    "name": "ipython",
    "version": 3
   },
   "file_extension": ".py",
   "mimetype": "text/x-python",
   "name": "python",
   "nbconvert_exporter": "python",
   "pygments_lexer": "ipython3",
   "version": "3.9.7"
  }
 },
 "nbformat": 4,
 "nbformat_minor": 5
}
