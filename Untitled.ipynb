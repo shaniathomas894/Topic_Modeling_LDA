{
 "cells": [
  {
   "cell_type": "markdown",
   "id": "35544377-841d-4cae-8aa3-bac85e667086",
   "metadata": {},
   "source": [
    "### Notes\n",
    "- topic modeling\n",
    "- LDA clustering\n",
    "- will find x number of topics \n",
    "- then can dig into that information. are topics the same topics over time (ongoing issue), or relevant to time frames (WFH cause covid maybe)\n",
    "- put read me in data folder to be able to pull the data."
   ]
  },
  {
   "cell_type": "code",
   "execution_count": 3,
   "id": "69ca1839-07e9-47be-b0be-04eec139ffe3",
   "metadata": {},
   "outputs": [],
   "source": [
    "import pandas as pd\n",
    "import numpy as np\n",
    "import matplotlib.pyplot as plt\n",
    "import seaborn as sns"
   ]
  },
  {
   "cell_type": "code",
   "execution_count": 4,
   "id": "798c137c-3ab8-4f73-ab2d-333a330a67ea",
   "metadata": {},
   "outputs": [
    {
     "data": {
      "text/html": [
       "<div>\n",
       "<style scoped>\n",
       "    .dataframe tbody tr th:only-of-type {\n",
       "        vertical-align: middle;\n",
       "    }\n",
       "\n",
       "    .dataframe tbody tr th {\n",
       "        vertical-align: top;\n",
       "    }\n",
       "\n",
       "    .dataframe thead th {\n",
       "        text-align: right;\n",
       "    }\n",
       "</style>\n",
       "<table border=\"1\" class=\"dataframe\">\n",
       "  <thead>\n",
       "    <tr style=\"text-align: right;\">\n",
       "      <th></th>\n",
       "      <th>type</th>\n",
       "      <th>id</th>\n",
       "      <th>subreddit.id</th>\n",
       "      <th>subreddit.name</th>\n",
       "      <th>subreddit.nsfw</th>\n",
       "      <th>created_utc</th>\n",
       "      <th>permalink</th>\n",
       "      <th>domain</th>\n",
       "      <th>url</th>\n",
       "      <th>selftext</th>\n",
       "      <th>title</th>\n",
       "      <th>score</th>\n",
       "    </tr>\n",
       "  </thead>\n",
       "  <tbody>\n",
       "    <tr>\n",
       "      <th>0</th>\n",
       "      <td>post</td>\n",
       "      <td>svw6x3</td>\n",
       "      <td>2y77d</td>\n",
       "      <td>antiwork</td>\n",
       "      <td>False</td>\n",
       "      <td>1645228719</td>\n",
       "      <td>https://old.reddit.com/r/antiwork/comments/svw...</td>\n",
       "      <td>self.antiwork</td>\n",
       "      <td>NaN</td>\n",
       "      <td>I was hired at the **Neon Museum** as a tour g...</td>\n",
       "      <td>Neon Museum Las Vegas took away our tips</td>\n",
       "      <td>15</td>\n",
       "    </tr>\n",
       "    <tr>\n",
       "      <th>1</th>\n",
       "      <td>post</td>\n",
       "      <td>svw6jv</td>\n",
       "      <td>2y77d</td>\n",
       "      <td>antiwork</td>\n",
       "      <td>False</td>\n",
       "      <td>1645228687</td>\n",
       "      <td>https://old.reddit.com/r/antiwork/comments/svw...</td>\n",
       "      <td>i.redd.it</td>\n",
       "      <td>https://i.redd.it/vuoctaq0koi81.png</td>\n",
       "      <td>NaN</td>\n",
       "      <td>Working</td>\n",
       "      <td>1887</td>\n",
       "    </tr>\n",
       "    <tr>\n",
       "      <th>2</th>\n",
       "      <td>post</td>\n",
       "      <td>svw5e8</td>\n",
       "      <td>2y77d</td>\n",
       "      <td>antiwork</td>\n",
       "      <td>False</td>\n",
       "      <td>1645228588</td>\n",
       "      <td>https://old.reddit.com/r/antiwork/comments/svw...</td>\n",
       "      <td>self.antiwork</td>\n",
       "      <td>NaN</td>\n",
       "      <td>So, I'm quite new to the jobs front then most ...</td>\n",
       "      <td>Kind of feel like screaming into the cyberspace</td>\n",
       "      <td>4</td>\n",
       "    </tr>\n",
       "    <tr>\n",
       "      <th>3</th>\n",
       "      <td>post</td>\n",
       "      <td>svw498</td>\n",
       "      <td>2y77d</td>\n",
       "      <td>antiwork</td>\n",
       "      <td>False</td>\n",
       "      <td>1645228495</td>\n",
       "      <td>https://old.reddit.com/r/antiwork/comments/svw...</td>\n",
       "      <td>i.redd.it</td>\n",
       "      <td>https://i.redd.it/1w1unxjfjoi81.png</td>\n",
       "      <td>NaN</td>\n",
       "      <td>Democracy is a lie, especially in the modern w...</td>\n",
       "      <td>14060</td>\n",
       "    </tr>\n",
       "    <tr>\n",
       "      <th>4</th>\n",
       "      <td>post</td>\n",
       "      <td>svw3qt</td>\n",
       "      <td>2y77d</td>\n",
       "      <td>antiwork</td>\n",
       "      <td>False</td>\n",
       "      <td>1645228450</td>\n",
       "      <td>https://old.reddit.com/r/antiwork/comments/svw...</td>\n",
       "      <td>self.antiwork</td>\n",
       "      <td>NaN</td>\n",
       "      <td>My boss asked me today what I plan on doing wh...</td>\n",
       "      <td>Master's Degree - No Pay Raise but OT</td>\n",
       "      <td>63</td>\n",
       "    </tr>\n",
       "  </tbody>\n",
       "</table>\n",
       "</div>"
      ],
      "text/plain": [
       "   type      id subreddit.id subreddit.name  subreddit.nsfw  created_utc  \\\n",
       "0  post  svw6x3        2y77d       antiwork           False   1645228719   \n",
       "1  post  svw6jv        2y77d       antiwork           False   1645228687   \n",
       "2  post  svw5e8        2y77d       antiwork           False   1645228588   \n",
       "3  post  svw498        2y77d       antiwork           False   1645228495   \n",
       "4  post  svw3qt        2y77d       antiwork           False   1645228450   \n",
       "\n",
       "                                           permalink         domain  \\\n",
       "0  https://old.reddit.com/r/antiwork/comments/svw...  self.antiwork   \n",
       "1  https://old.reddit.com/r/antiwork/comments/svw...      i.redd.it   \n",
       "2  https://old.reddit.com/r/antiwork/comments/svw...  self.antiwork   \n",
       "3  https://old.reddit.com/r/antiwork/comments/svw...      i.redd.it   \n",
       "4  https://old.reddit.com/r/antiwork/comments/svw...  self.antiwork   \n",
       "\n",
       "                                   url  \\\n",
       "0                                  NaN   \n",
       "1  https://i.redd.it/vuoctaq0koi81.png   \n",
       "2                                  NaN   \n",
       "3  https://i.redd.it/1w1unxjfjoi81.png   \n",
       "4                                  NaN   \n",
       "\n",
       "                                            selftext  \\\n",
       "0  I was hired at the **Neon Museum** as a tour g...   \n",
       "1                                                NaN   \n",
       "2  So, I'm quite new to the jobs front then most ...   \n",
       "3                                                NaN   \n",
       "4  My boss asked me today what I plan on doing wh...   \n",
       "\n",
       "                                               title  score  \n",
       "0           Neon Museum Las Vegas took away our tips     15  \n",
       "1                                            Working   1887  \n",
       "2    Kind of feel like screaming into the cyberspace      4  \n",
       "3  Democracy is a lie, especially in the modern w...  14060  \n",
       "4              Master's Degree - No Pay Raise but OT     63  "
      ]
     },
     "execution_count": 4,
     "metadata": {},
     "output_type": "execute_result"
    }
   ],
   "source": [
    "df = pd.read_csv('./data/the-antiwork-subreddit-dataset-posts.csv')\n",
    "df.head()"
   ]
  },
  {
   "cell_type": "code",
   "execution_count": 5,
   "id": "ba0cc61f-f352-4d53-9a0d-77c4a98dc674",
   "metadata": {},
   "outputs": [
    {
     "data": {
      "text/plain": [
       "(256279, 12)"
      ]
     },
     "execution_count": 5,
     "metadata": {},
     "output_type": "execute_result"
    }
   ],
   "source": [
    "df.shape\n",
    "#256,000 rows"
   ]
  },
  {
   "cell_type": "code",
   "execution_count": 7,
   "id": "a0344029-eca2-4111-8bd7-b03694fac52f",
   "metadata": {},
   "outputs": [
    {
     "data": {
      "text/plain": [
       "type                   1\n",
       "id                256279\n",
       "subreddit.id           1\n",
       "subreddit.name         1\n",
       "subreddit.nsfw         1\n",
       "created_utc       253907\n",
       "permalink         256279\n",
       "domain              5126\n",
       "url                93951\n",
       "selftext           83301\n",
       "title             238727\n",
       "score               7860\n",
       "dtype: int64"
      ]
     },
     "execution_count": 7,
     "metadata": {},
     "output_type": "execute_result"
    }
   ],
   "source": [
    "df.nunique()"
   ]
  },
  {
   "cell_type": "code",
   "execution_count": 9,
   "id": "853be597-63fc-4236-9c00-db2ee9d55d86",
   "metadata": {},
   "outputs": [],
   "source": [
    "df.drop(columns =['type', 'subreddit.id', 'subreddit.name','subreddit.nsfw'], inplace=True)"
   ]
  },
  {
   "cell_type": "code",
   "execution_count": 12,
   "id": "a8bdc15a-417e-43d3-a926-833024bf6bb8",
   "metadata": {},
   "outputs": [
    {
     "data": {
      "text/plain": [
       "id                  0\n",
       "created_utc         0\n",
       "permalink           0\n",
       "domain              0\n",
       "url            154390\n",
       "selftext       101889\n",
       "title               0\n",
       "score               0\n",
       "dtype: int64"
      ]
     },
     "execution_count": 12,
     "metadata": {},
     "output_type": "execute_result"
    }
   ],
   "source": [
    "df.isna().sum()"
   ]
  },
  {
   "cell_type": "code",
   "execution_count": 14,
   "id": "ca5ab9f0-eb76-4944-b690-e5bd66d1f3d1",
   "metadata": {},
   "outputs": [
    {
     "data": {
      "text/plain": [
       "0        1970-01-01 00:00:01.645228719\n",
       "1        1970-01-01 00:00:01.645228687\n",
       "2        1970-01-01 00:00:01.645228588\n",
       "3        1970-01-01 00:00:01.645228495\n",
       "4        1970-01-01 00:00:01.645228450\n",
       "                      ...             \n",
       "256274   1970-01-01 00:00:01.376487299\n",
       "256275   1970-01-01 00:00:01.376486914\n",
       "256276   1970-01-01 00:00:01.376486565\n",
       "256277   1970-01-01 00:00:01.376486406\n",
       "256278   1970-01-01 00:00:01.376486244\n",
       "Name: created_utc, Length: 256279, dtype: datetime64[ns]"
      ]
     },
     "execution_count": 14,
     "metadata": {},
     "output_type": "execute_result"
    }
   ],
   "source": [
    "pd.to_datetime(df['created_utc'])"
   ]
  },
  {
   "cell_type": "code",
   "execution_count": null,
   "id": "26183739-167e-4359-928c-71e2893b0dae",
   "metadata": {},
   "outputs": [],
   "source": []
  }
 ],
 "metadata": {
  "kernelspec": {
   "display_name": "Python 3 (ipykernel)",
   "language": "python",
   "name": "python3"
  },
  "language_info": {
   "codemirror_mode": {
    "name": "ipython",
    "version": 3
   },
   "file_extension": ".py",
   "mimetype": "text/x-python",
   "name": "python",
   "nbconvert_exporter": "python",
   "pygments_lexer": "ipython3",
   "version": "3.9.7"
  }
 },
 "nbformat": 4,
 "nbformat_minor": 5
}
